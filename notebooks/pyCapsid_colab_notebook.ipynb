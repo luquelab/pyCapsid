{
 "cells": [
  {
   "cell_type": "markdown",
   "id": "52f47755",
   "metadata": {
    "colab_type": "text",
    "id": "view-in-github"
   },
   "source": [
    "<a href=\"https://colab.research.google.com/github/luquelab/pyCapsid/blob/Colab/notebooks/pyCapsid_colab_notebook.ipynb\" target=\"_parent\"><img src=\"https://colab.research.google.com/assets/colab-badge.svg\" alt=\"Open In Colab\"/></a>"
   ]
  },
  {
   "cell_type": "markdown",
   "id": "Qy_uD5Y4oWfL",
   "metadata": {
    "id": "Qy_uD5Y4oWfL"
   },
   "source": [
    "# pyCapsid Colab\n",
    "\n",
    "\n"
   ]
  },
  {
   "cell_type": "markdown",
   "id": "gjlNc2nY8bIP",
   "metadata": {
    "id": "gjlNc2nY8bIP"
   },
   "source": [
    "## Description\n",
    "This Colab notebook contains a pipeline to predict the dynamics and quasi-rigid mechanical units of large protein complexes, with an emphasis on protein shells, like viral capsids. The protein complex and parameters are specified in the notebook's section [Input Structure and Parameters](#scrollTo=6MIuCLJbANGg). After specifying the desired options, it is recommended to execute the notebook by choosing the option `Run All` from the Colab menu `Runtime`.\n",
    "\n",
    "Expect small protein shells (up to \\~40,000 residues) to run in less than 10 minutes and medium shells (\\~80,000 residues) in 2 or more hours using the free Colab cloud service. To investigate capsids exceeding 8 GB of RAM (120,000+ residues), consider upgrading your [Colab plan](https://colab.research.google.com/signup) or installing pyCapsid locally via [GitHub](https://github.com/luquelab/pyCapsid), [PIP](https://pypi.org/project/pyCapsid/), or [Conda](https://anaconda.org/luque_lab/pycapsid), as detailed in its [online installation guide](https://luquelab.github.io/pyCapsid/installation/).\n",
    "\n",
    "This Colab notebook builds on the Python package [pyCapsid](https://luquelab.github.io/pyCapsid/), which combines elastic network models, normal mode analysis, and clustering methods to obtain the dynamics of protein complexes and analyze protein shells. For further technical details, please, check pyCapsid's [online documentation](https://luquelab.github.io/pyCapsid/)."
   ]
  },
  {
   "cell_type": "markdown",
   "id": "TW84O9VP8dKy",
   "metadata": {
    "id": "TW84O9VP8dKy"
   },
   "source": [
    "## Issues, support, and citation\n",
    "pyCapsid is licensed under the permissive free software license, MIT License. It is recommended to run the Colab notebook using [Google Chrome Browser](https://www.google.com/chrome/).\n",
    "\n",
    "+ If you encounter any problem using pyCapsid or required any additional functionalities, please, [open an issue on GitHub](https://github.com/luquelab/pyCapsid/issues).\n",
    "+ If you use pyCapsid and would like to help support its development further, please, [add a star to its GitHub repository](https://github.com/luquelab/pyCapsid).\n",
    "+ If you publish any work that included the use of pyCapsid, please, follow its [online citation guide](https://luquelab.github.io/pyCapsid/acknowledgements/)."
   ]
  },
  {
   "cell_type": "markdown",
   "id": "6MIuCLJbANGg",
   "metadata": {
    "id": "6MIuCLJbANGg"
   },
   "source": [
    "# Input structure and parameters"
   ]
  },
  {
   "cell_type": "markdown",
   "id": "Xa7lRUOFudr6",
   "metadata": {
    "id": "Xa7lRUOFudr6"
   },
   "source": [
    "## Protein complex\n",
    "pyCapsid requires the protein complex to be encoded in the [Protein Data Bank (PDB) format](https://pdb101.rcsb.org/learn/guide-to-understanding-pdb-data/introduction).\n",
    "\n",
    "### Source and structure\n",
    "Fill the variables in the block code below to specify the source and identifier for the structure. Follow these guides:\n",
    "+ `pdb_source` determines if the structure will be fetched from the Protein Data Bank (`'PDB'`) or uploaded (`'upload'`).\n",
    "+ `pdb_id` stores the PDBid to fetch the structure online.\n",
    "+ `pdbx` is true or false and determines whether the structure file is in the PDB or PDBx/mmcif format.\n",
    "\n",
    "If the option is `'upload'`, when executing the code cell below a prompt will appear to choose the file from the local directory. The maximum file size allowed in the standard Colab cloud-server is 2 GB."
   ]
  },
  {
   "cell_type": "code",
   "execution_count": null,
   "id": "_X0YggCBjwvr",
   "metadata": {
    "id": "_X0YggCBjwvr"
   },
   "outputs": [],
   "source": [
    "# Specify the PDB source\n",
    "pdb_source = 'PDB' #Values expected: 'PDB' or 'upload'\n",
    "\n",
    "# Specify the PDBid (if the structure has to be fetched online)\n",
    "pdb_id = '4oq8'\n",
    "\n",
    "pdbx = False\n",
    "\n",
    "# Print option\n",
    "if pdb_source == 'PDB':\n",
    "  print('The structure with PDBid ' + pdb_id + ' will be fetched from the Protein Data Bank.')\n",
    "\n",
    "elif pdb_source == 'upload':\n",
    "\n",
    "  from google.colab import files\n",
    "  uploaded = files.upload()\n",
    "  pdb_file_name = list(uploaded.keys())[0] # Extract PDB file name\n",
    "  print('The name of the PDB file is ' + pdb_file_name)\n",
    "\n",
    "else:\n",
    "  print('The value `'+ pdb_source +'` specifed in `pdb_source` is not valid. Choose from the expected options above.')"
   ]
  },
  {
   "cell_type": "markdown",
   "id": "0BTfEbp3uW8f",
   "metadata": {
    "id": "0BTfEbp3uW8f"
   },
   "source": [
    "## pyCapsid parameters\n",
    "\n",
    "Edit the variables in the block code below to specify the main options in the pyCapsid calculations. If you do not edit anything, the default values will be used. The list below describes the variables and their options:\n",
    "\n",
    "+ `ENM_model` specifies the elastic network model used to coarse-grained the protein complex. There are four different models that can be specified:\n",
    "  + `ANM`: Anisotropic network model with a default cutoff of 15Å and no distance weighting.\n",
    "  + `GNM`: Gaussian network model (no three-dimensional directionality) with a default cutoff of 7.5Å and no distance weighting.\n",
    "  + `U-ENM`: Unified elastic network Model with a default cutoff of 7.5Å and a default anisotropy parameter (f_anm) of 0.1. It is the **default** and **recommended** option.\n",
    "  + `bbENM`: Backbone-enhanced Elastic network model with a default cutoff of 7.5Å and no distance weighting.\n",
    "\n",
    "+ `n_modes` specifies the number of modes to be used in the calculation of the dynamics. The values accepted are typically from 'X' to 'Y'. The default values is 400 (?). However, using 200 models can yield good results. Increasing the number of modes often improved the results, but it requires longer computational times.\n",
    "\n",
    "+ `cluster_min` specifies the minimum number of clusters used in the clustering analysis to identify the optimal quasi-rigid mechanical units. A value of 1 implies that the whole protein complex is analyzed as a single domain. The default value is 2.\n",
    "\n",
    "+ `cluster_max` specifies the maximum number of clusters used in the clustering analysis to identify the optimal quasi-rigid mechanical units. The number of residues in the structure represent an upper value. The default value is 100. The recommended value should be at least the number of proteins in the structure. Ideally, the value should be the total number of proteins times the number of expected protein domains defining the protein fold.\n",
    "\n",
    "+ `cluster_delta` specifies the steps taken when exploring the range of clusters to determine the optimal quasi-rigid mechanical units. The default value is 2. It is recommended to refine the search in a sub region once a potential optimal result has been identified."
   ]
  },
  {
   "cell_type": "code",
   "execution_count": null,
   "id": "b_8gyJk1wLlV",
   "metadata": {
    "id": "b_8gyJk1wLlV"
   },
   "outputs": [],
   "source": [
    "# Specify values\n",
    "\n",
    "## Elastic network model\n",
    "ENM_model = 'U-ENM' # Values expected: 'ANM', 'GNM', 'U-ENM', and 'bbENM'.\n",
    "\n",
    "## Number of modes used in the dynamics\n",
    "n_modes = 50\n",
    "\n",
    "## Cluster range and step in the optimal analysis of quasi-rigid units.\n",
    "cluster_min = 4\n",
    "cluster_max = 100\n",
    "cluster_delta = 2\n",
    "\n",
    "# Double-check options\n",
    "\n",
    "## Elastic model\n",
    "valid_ENM = ['ANM','GNM','U-ENM']\n",
    "if ENM_model in valid_ENM:\n",
    "  print('The ENM model used for coarse-graining is ' + ENM_model + ' .')\n",
    "\n",
    "else:\n",
    "  print('The value `'+ ENM_model +'` specifed in `ENM_model` is not valid. Choose from the expected options above.')\n",
    "\n",
    "## Modes\n",
    "### Cast to non-negative integers\n",
    "n_modes = abs(int(n_modes))\n",
    "if n_modes > 0:\n",
    "  print('The number of modes in the dynamics will be ' + str(n_modes) + ' .')\n",
    "else:\n",
    "  print('WARNING: The values of `n_modes` should be both larger than zero.')\n",
    "\n",
    "## Clusters\n",
    "### Cast to non-negative integers\n",
    "cluster_min = abs(int(cluster_min))\n",
    "cluster_max = abs(int(cluster_max))\n",
    "cluster_delta = abs(int(cluster_delta))\n",
    "if ((cluster_min > 0) and (cluster_max > 0)):\n",
    "  if cluster_min <= cluster_max:\n",
    "    print('The lowest number of quasi-rigid units explored will be ' + str(cluster_min) + ' .')\n",
    "    print('The largest number of quasi-rigid units explored will be ' + str(cluster_max) + ' .')\n",
    "    print('The resolution of search for the optimal number of quasi-rigid units will be ' + str(cluster_delta) + ' .')\n",
    "\n",
    "  elif cluster_min > cluster_max:\n",
    "    print('WARNING: The value of `cluster_min` should be smaller or equal to `cluster_max`.')\n",
    "\n",
    "else:\n",
    "  print('WARNING: The values of `cluster_min` and `cluster_max` should be both larger than zero.')"
   ]
  },
  {
   "cell_type": "markdown",
   "id": "bnoh23CLWwul",
   "metadata": {
    "id": "bnoh23CLWwul"
   },
   "source": [
    "# Installation\n",
    "\n",
    "The following command installs pyCapsid and the necessary components for visualizing results in this notebook."
   ]
  },
  {
   "cell_type": "code",
   "execution_count": null,
   "id": "ScJyR3VXvJLP",
   "metadata": {
    "id": "ScJyR3VXvJLP"
   },
   "outputs": [],
   "source": [
    "!pip install --upgrade pyCapsid ipywidgets==7.7.2 nglview\n",
    "from google.colab import output\n",
    "output.enable_custom_widget_manager()"
   ]
  },
  {
   "cell_type": "markdown",
   "id": "Mwm3VhXfWSOL",
   "metadata": {
    "id": "Mwm3VhXfWSOL"
   },
   "source": [
    "# Execute the pyCapsid pipeline\n"
   ]
  },
  {
   "cell_type": "markdown",
   "id": "213836e7",
   "metadata": {
    "id": "213836e7"
   },
   "source": [
    "## Extract features from input structure\n",
    "This code loads the information from the input structure (PDB format) necessary for the calculations and validation in pyCapsid.\n",
    "\n"
   ]
  },
  {
   "cell_type": "code",
   "execution_count": null,
   "id": "dfdc9bd5",
   "metadata": {
    "id": "dfdc9bd5"
   },
   "outputs": [],
   "source": [
    "from pyCapsid.PDB import getCapsid\n",
    "\n",
    "if pdb_source == 'PDB':\n",
    "  # Extract the features fetching the PDB structure from the Protein Data Bank.\n",
    "  pdb = pdb_id\n",
    "  capsid, calphas, coords, bfactors, chain_starts, title = getCapsid(pdb)\n",
    "  print('The strucure ' + pdb + ' was fetched in the pyCapsid pipeline.')\n",
    "\n",
    "elif pdb_source == 'upload':\n",
    "  pdb = pdb_file_name\n",
    "  capsid, calphas, coords, bfactors, chain_starts, title = getCapsid(pdb, local = True)\n",
    "  print('The strucure in the file ' + pdb + ' was inputed in the pyCapsid pipeline.')\n",
    "else:\n",
    "  print('WARNING: The PDB structure is not available.')"
   ]
  },
  {
   "cell_type": "markdown",
   "id": "cf28904f",
   "metadata": {
    "id": "cf28904f"
   },
   "source": [
    "## Build the elastic network model (ENM)\n",
    "This step uses the function `buildENMPreset` in pyCapsid to specify the elastic network model and build the associated hessian matrix."
   ]
  },
  {
   "cell_type": "code",
   "execution_count": null,
   "id": "268834cd",
   "metadata": {
    "id": "268834cd"
   },
   "outputs": [],
   "source": [
    "from pyCapsid.CG import buildENMPreset\n",
    "kirch, hessian = buildENMPreset(coords, preset = ENM_model)"
   ]
  },
  {
   "cell_type": "markdown",
   "id": "fb441f9e",
   "metadata": {
    "id": "fb441f9e"
   },
   "source": [
    "## Perform the Normal Mode Analysis (NMA)\n",
    "\n",
    "This section obtains the dynamics of the protein complex based on the dominant normal modes activated by thermal energy."
   ]
  },
  {
   "cell_type": "markdown",
   "id": "joIThFhaqi1b",
   "metadata": {
    "id": "joIThFhaqi1b"
   },
   "source": [
    "### Calculate the low frequency modes\n",
    "This code obtains the number of low frequency modes specified by the variable `n_modes` in the [pyCapsid parameters section](#scrollTo=b_8gyJk1wLlV). The calculation relies on the eigenvalues and eigenvectors of the hessian matrix obtained in the [Build the elastic network model section](#scrollTo=cf28904f)."
   ]
  },
  {
   "cell_type": "code",
   "execution_count": null,
   "id": "f79a4f3a",
   "metadata": {
    "id": "f79a4f3a"
   },
   "outputs": [],
   "source": [
    "from pyCapsid.NMA import modeCalc\n",
    "evals, evecs = modeCalc(hessian, n_modes = n_modes)"
   ]
  },
  {
   "cell_type": "markdown",
   "id": "049afcd7-2c27-4709-9bde-fe62f0130c0f",
   "metadata": {
    "id": "049afcd7-2c27-4709-9bde-fe62f0130c0f"
   },
   "source": [
    "### Predict, scale, and validate the b-factors\n",
    "This code uses the resulting normal modes and frequencies to predict the b-factors of each alpha carbon, fits these results to experimental values from the pdb entry, and plots the results for comparison."
   ]
  },
  {
   "cell_type": "code",
   "execution_count": null,
   "id": "ce3ab0a5",
   "metadata": {
    "id": "ce3ab0a5"
   },
   "outputs": [],
   "source": [
    "from pyCapsid.NMA import fitCompareBfactors\n",
    "evals_scaled, evecs_scaled = fitCompareBfactors(evals, evecs, bfactors, pdb, fit_modes=False)"
   ]
  },
  {
   "cell_type": "markdown",
   "id": "643612c4-cf15-4c43-814a-2384e46029ec",
   "metadata": {
    "id": "643612c4-cf15-4c43-814a-2384e46029ec"
   },
   "source": [
    "## Perform the analysis of quasi-rigid clusters (QRC)"
   ]
  },
  {
   "cell_type": "code",
   "execution_count": null,
   "id": "3eedff83",
   "metadata": {
    "id": "3eedff83"
   },
   "outputs": [],
   "source": [
    "from pyCapsid.NMA import calcDistFlucts\n",
    "from pyCapsid.QRC import findQuasiRigidClusters\n",
    "\n",
    "dist_flucts = calcDistFlucts(evals_scaled, evecs_scaled, coords)\n",
    "\n",
    "cluster_start = cluster_min\n",
    "cluster_stop = cluster_max\n",
    "cluster_step = cluster_delta\n",
    "labels, score, residue_scores  = findQuasiRigidClusters(pdb, dist_flucts, cluster_start=cluster_start, cluster_stop=cluster_stop, cluster_step=cluster_step)"
   ]
  },
  {
   "cell_type": "markdown",
   "id": "2f1fe934-ac4a-40a5-896f-3c7c4aff7c94",
   "metadata": {
    "id": "2f1fe934-ac4a-40a5-896f-3c7c4aff7c94"
   },
   "source": [
    "## Visualize in jupyter notebook with nglview\n",
    "You can visualize the results in the notebook with nglview. The following function returns an nglview object with the results colored based on cluster. See the nglview documentation for further info (http://nglviewer.org/nglview/release/v2.7.7/index.html)"
   ]
  },
  {
   "cell_type": "code",
   "execution_count": null,
   "id": "28a63769",
   "metadata": {
    "id": "28a63769"
   },
   "outputs": [],
   "source": [
    "# This cell will create an standard view of the capsid, which the next cell will\n",
    "# modify to create the final result.\n",
    "from pyCapsid.VIS import createCapsidView\n",
    "view_clusters = createCapsidView(pdb, capsid)\n",
    "view_clusters"
   ]
  },
  {
   "cell_type": "code",
   "execution_count": null,
   "id": "DZ24IOQg0V0x",
   "metadata": {
    "id": "DZ24IOQg0V0x"
   },
   "outputs": [],
   "source": [
    "# If the above view doesn't change coloration, run this cell again.\n",
    "# In general do not run this cell until the above cell has finished rendering\n",
    "from pyCapsid.VIS import createClusterRepresentation\n",
    "createClusterRepresentation(pdb, labels, view_clusters)\n",
    "\n",
    "# Add rep_type='spacefill' to represent the atoms of the capsid as spheres. This provides less information regarding the proteins but makes it easier to identify the geometry of the clusters\n",
    "#createClusterRepresentation(pdb, labels, view_clusters, rep_type='spacefill')"
   ]
  },
  {
   "cell_type": "code",
   "execution_count": null,
   "id": "wVNLwXVpYlFa",
   "metadata": {
    "id": "wVNLwXVpYlFa"
   },
   "outputs": [],
   "source": [
    "# Once you've done this use this code to download the results\n",
    "view_clusters.center()\n",
    "view_clusters.download_image(factor=2)"
   ]
  },
  {
   "cell_type": "markdown",
   "id": "9a387312-4b3d-481b-9d84-5b26c64067ef",
   "metadata": {
    "id": "9a387312-4b3d-481b-9d84-5b26c64067ef"
   },
   "source": [
    "Running the same code but replacing labels with residue_scores and adding rwb_scale=True visualizes the quality score of each residue. This is a measure of how rigid each residue is with respect to its cluster. Blue residues make up the cores of rigid clusters, and red residues represent borders between clusters."
   ]
  },
  {
   "cell_type": "code",
   "execution_count": null,
   "id": "d9629ce6-fc8b-41f3-8a67-9758b1f576f1",
   "metadata": {
    "id": "d9629ce6-fc8b-41f3-8a67-9758b1f576f1"
   },
   "outputs": [],
   "source": [
    "# This code adds a colorbar based on the residue scores\n",
    "print('Each atom in this structure is colored according to the clustering quality score of its residue.')\n",
    "import matplotlib.colorbar as colorbar\n",
    "import matplotlib.pyplot as plt\n",
    "from pyCapsid.VIS import clusters_colormap_hexcolor\n",
    "import numpy as np\n",
    "hexcolor, cmap = clusters_colormap_hexcolor(residue_scores, rwb_scale=True)\n",
    "fig, ax = plt.subplots(figsize=(10, 0.5))\n",
    "cb = colorbar.ColorbarBase(ax, orientation='horizontal',\n",
    "                            cmap=cmap, norm=plt.Normalize(np.min(residue_scores), np.max(residue_scores)))\n",
    "plt.show()\n",
    "\n",
    "# This cell will create an empty view, which the next cell will\n",
    "# modify to create the final result.\n",
    "from pyCapsid.VIS import createCapsidView\n",
    "view_scores = createCapsidView(pdb, capsid)\n",
    "view_scores"
   ]
  },
  {
   "cell_type": "code",
   "execution_count": null,
   "id": "AqHoNTk00fo9",
   "metadata": {
    "id": "AqHoNTk00fo9"
   },
   "outputs": [],
   "source": [
    "from pyCapsid.VIS import createClusterRepresentation\n",
    "createClusterRepresentation(pdb, residue_scores, view_scores, rwb_scale=True)"
   ]
  },
  {
   "cell_type": "code",
   "execution_count": null,
   "id": "M_bAICfx6Xxw",
   "metadata": {
    "id": "M_bAICfx6Xxw"
   },
   "outputs": [],
   "source": [
    "# Once you've done this use this code to download the results\n",
    "view_scores.center()\n",
    "view_scores.download_image(factor=2)"
   ]
  },
  {
   "cell_type": "markdown",
   "id": "A_0CigBeZo51",
   "metadata": {
    "id": "A_0CigBeZo51"
   },
   "source": [
    "## Downloading Results\n",
    "Some results are saved automatically by pyCapsid, and can be downloaded from colab in the following manner."
   ]
  },
  {
   "cell_type": "code",
   "execution_count": null,
   "id": "x9bB6Y4SZBg4",
   "metadata": {
    "id": "x9bB6Y4SZBg4"
   },
   "outputs": [],
   "source": [
    "# Check what files are saved\n",
    "!dir"
   ]
  },
  {
   "cell_type": "code",
   "execution_count": null,
   "id": "4O6EITQxZY_9",
   "metadata": {
    "id": "4O6EITQxZY_9"
   },
   "outputs": [],
   "source": [
    "# Use the colab api to download the files\n",
    "# You may have to provide permission to download files via your browser\n",
    "from google.colab import files\n",
    "files.download('results_plot.svg')"
   ]
  },
  {
   "cell_type": "markdown",
   "id": "yRhJzMhRarYR",
   "metadata": {
    "id": "yRhJzMhRarYR"
   },
   "source": [
    "If a result you want isn't saved, you can save any of the arrays used in the notebook and download the file."
   ]
  },
  {
   "cell_type": "code",
   "execution_count": null,
   "id": "7joS1enya7jn",
   "metadata": {
    "id": "7joS1enya7jn"
   },
   "outputs": [],
   "source": [
    "import numpy as np\n",
    "filename = pdb + '_coords.txt'\n",
    "np.savetxt(filename, coords)\n",
    "from google.colab import files\n",
    "files.download(filename)"
   ]
  },
  {
   "cell_type": "markdown",
   "id": "fqmI8SfIe0-z",
   "metadata": {
    "id": "fqmI8SfIe0-z"
   },
   "source": [
    "# Visualizing saved results\n",
    "The numerical results are saved as compressed .npz files by default and can be opened and used to visualize the results afterwards. This includes the ability to visualize clusters that weren't the highest scoring cluster. In this example\n",
    "we visualize the results of clustering the capsid into 20 clusters."
   ]
  },
  {
   "cell_type": "code",
   "execution_count": null,
   "id": "85872koLfQxy",
   "metadata": {
    "id": "85872koLfQxy"
   },
   "outputs": [],
   "source": [
    "from pyCapsid.VIS import visualizeSavedResults\n",
    "results_file = f'{pdb}_final_results_full.npz' # Path of the saved results\n",
    "labels_20, view_clusters = visualizeSavedResults(pdb, results_file, n_cluster=20, method='nglview')\n",
    "view_clusters"
   ]
  },
  {
   "cell_type": "code",
   "execution_count": null,
   "id": "zDnyCMBpga7o",
   "metadata": {
    "id": "zDnyCMBpga7o"
   },
   "outputs": [],
   "source": [
    "# If the above view doesn't change coloration, run this cell again.\n",
    "# In general do not run this cell until the above cell has finished rendering\n",
    "from pyCapsid.VIS import createClusterRepresentation\n",
    "createClusterRepresentation(pdb, labels_20, view_clusters)\n",
    "\n",
    "# Add rep_type='spacefill' to represent the atoms of the capsid as spheres. This provides less information regarding the proteins but makes it easier to identify the geometry of the clusters\n",
    "#createClusterRepresentation(pdb, labels, view_clusters, rep_type='spacefill')"
   ]
  },
  {
   "cell_type": "code",
   "execution_count": null,
   "id": "tA8_f5txg2cw",
   "metadata": {
    "id": "tA8_f5txg2cw"
   },
   "outputs": [],
   "source": []
  }
 ],
 "metadata": {
  "colab": {
   "gpuType": "T4",
   "include_colab_link": true,
   "private_outputs": true,
   "provenance": [],
   "toc_visible": true
  },
  "kernelspec": {
   "display_name": "Python 3 (ipykernel)",
   "language": "python",
   "name": "python3"
  },
  "language_info": {
   "codemirror_mode": {
    "name": "ipython",
    "version": 3
   },
   "file_extension": ".py",
   "mimetype": "text/x-python",
   "name": "python",
   "nbconvert_exporter": "python",
   "pygments_lexer": "ipython3",
   "version": "3.10.11"
  }
 },
 "nbformat": 4,
 "nbformat_minor": 5
}
