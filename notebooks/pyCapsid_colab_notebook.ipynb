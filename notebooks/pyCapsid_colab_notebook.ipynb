{
  "cells": [
    {
      "cell_type": "markdown",
      "metadata": {
        "id": "Qy_uD5Y4oWfL"
      },
      "source": [
        "# pyCapsid Colab\n",
        "\n",
        "\n"
      ],
      "id": "Qy_uD5Y4oWfL"
    },
    {
      "cell_type": "markdown",
      "metadata": {
        "id": "gjlNc2nY8bIP"
      },
      "source": [
        "## Description\n",
        "This Colab notebook contains a pipeline to predict dominant dynamics and quasi-rigid mechanical units in large protein complexes. The outputs capture the molecular regions likely to be involved in structural transitions, including transitions triggering the disassembly of the protein complex.\n",
        "\n",
        "The notebook builds on the Python package [pyCapsid](https://luquelab.github.io/pyCapsid/), which combines elastic network models, normal mode analysis, and clustering methods. The current version is targeted towards protein shells, like viral capsids. Check pyCapsid's [online documentation](https://luquelab.github.io/pyCapsid/) for further technical details."
      ],
      "id": "gjlNc2nY8bIP"
    },
    {
      "cell_type": "markdown",
      "metadata": {
        "id": "Es0CHq_in4dz"
      },
      "source": [
        "## Quick-start guide\n",
        "If you are a first time user, we recommend you to test that your browser works well with the Colab notebook and that it can download the outputs expected by the default values. Click the `Runtime` menu on the navigation bar and select `Run all`. Read steps `4.` and `5.` from the list below to navigate and interpret the outputs. If your browser does not produce any outputs, test the the notebook on [Google Chrome](https://www.google.com/chrome/). If you encounter any problems when adapting the notebook to your specific structure, [open an issue in the pyCapsid repository](https://github.com/luquelab/pyCapsid/issues), and we will respond as soon as possible.\n",
        "\n",
        "If the test suggested above worked well in your browser, follow the steps described below to obtain the dominant dynamics and quasi-rigid units of the protein complex of your interest. To navigate this notebook, we recommend displaying the Colab notebook's Table of contents (open the `View` menu on the top bar and choose `Table of contents`):\n",
        "0. If you have an existing Colab runtime, go to the colab menu `Runtime` and select `Disconnect and delete runtime` for a clean start.\n",
        "1. Specify the structure to be analyzed in the [Input structure](#scrollTo=Input_structure) section. Run the code block to set the parameters and, if not fetching a remote structure, upload the structure file.\n",
        "2. Modify the default pyCapsid parameters if necessary in the [pyCapsid parameters](#scrollTo=pyCapsid_parameters) section. Run the code block to set the parameters.\n",
        "3. Execute the rest of the notebook by navigating the Colab menu `Runtime` and choosing the option `Run all` or `Run after` in the cell after the pyCapsid parameters. This will install pyCapsid, run the pipeline, and generate and download the results.\n",
        "  + The pipeline will automatically compress and download the outputs in two zip files. Your browser might prompt a request to allow the downloading process. `pyCapsid_report.zip` contains key results, a report summarizing them, and instructions for visualizing the results in ChimeraX. `pyCapsid_results.zip` contains all of the relevant data files created by pyCapsid and a readme describing their contents.  \n",
        "  + If you encounter any issues in the downloading process, check the section [Problems downloading results?](#scrollTo=Problems_downloading_results_)\n",
        "  + The execution time and maximum size of the protein complex depend on the computing power and memory of the Colab cloud service used, which depends on the user's Colab plan. The section [Estimate time and memory](#scrollTo=Estimate_time_and_memory) gives an estimate of the time and memory requirements based on the number of residues in the structure.\n",
        "4. Extract and read the downloaded report (`pyCapsid_report.*`) for a summary and interpretation of the main results. The report is available in three formats: Markdown, (`*.md`), Microsoft Word (`*.docx`), and Web page's HyperText Markup Language (`*.html`). The multi-formatted report aims to facilitate users adapting pyCapsid's results to their publication needs. Check the section [pyCapsid report](#scrollTo=pyCapsid_report) for further details.   \n",
        "   + Additional results (mostly print outputs) are displayed throughout the notebook cells in the [Run the pyCapsid pipeline](#scrollTo=Run_the_pyCapsid_pipeline) section. For further technical details look at the output of cells in this section of the notebook.\n",
        "5. The 3D images of the protein complex will be missing in `pyCapsid_report.*`. You will need to generate them using [ChimeraX](https://www.cgl.ucsf.edu/chimerax/). This will also generate interactive models that you may use to make custom visualizations.\n",
        "  + We recommend downloading and installing ChimeraX from [here](https://www.cgl.ucsf.edu/chimerax/download.html).\n",
        "  + To visualize the quasi-rigid domains obtained, open a new session in ChimeraX and run the following instruction in the command line to open a file browser in ChimeraX:\n",
        "```\n",
        "runscript browse\n",
        "```\n",
        "  + Then, inside the browser, navigate in the `pyCapsid_report/chimerax/` folder and open the script `chimerax_script_colab.py`.\n",
        "  + This will generate a 3D model of the protein complex coloring the quasi-rigid domains in ChimeraX and store snapshots in the folder `pyCapsid_report/figures/structures/` that will be visible in the `.html` and `.md` reports.\n",
        "  + To generate an animation of the dynamics of the lowest-frequency non-degenerate mode, start a new ChimeraX session and follow the same steps above, but opening instead the script `chimerax_script_animate_mode.py`.\n",
        "  + This will generate a movie in `mp4` format in the same folder as the images mentioned above.\n",
        "  + Only one mode may be visualized at a time. By default the lowest frequency non-degenerate mode is visualized, and only modes of that frequency and lower are included in the report. To visualize higher frequency modes, you may copy the `modes.npz` file from `pyCapsid_results.zip` to the `chimerax` folder of the report and rename it accordingly.\n",
        "  + The optional arguments of these scripts are described in the [ChimeraX visualization options](#scrollTo=ChimeraX_visualization_options) section.\n",
        "  + Both scripts can be modified to fit the users needs. To do this reference the ChimeraX commands (https://www.cgl.ucsf.edu/chimerax/docs/user/index.html) and the ChimeraX Python API (https://www.cgl.ucsf.edu/chimerax/docs/devel/index.html#).\n",
        "\n",
        "6. Optionally, read the section [Generate advanced analysis](#scrollTo=Generate_advanced_analysis) to learn how to obtain advanced analyses using results stored during the execution of the pyCapsid pipeline.\n"
      ],
      "id": "Es0CHq_in4dz"
    },
    {
      "cell_type": "markdown",
      "metadata": {
        "id": "TW84O9VP8dKy"
      },
      "source": [
        "## Issues, support, and citation\n",
        "pyCapsid is licensed under the permissive free software license, MIT License. It is recommended to run the Colab notebook using [Google Chrome Browser](https://www.google.com/chrome/).\n",
        "\n",
        "+ If you encounter any problem using pyCapsid or required any additional functionalities, please, [open an issue on GitHub](https://github.com/luquelab/pyCapsid/issues).\n",
        "+ If you use pyCapsid and would like to help support its development further, please, [add a star to its GitHub repository](https://github.com/luquelab/pyCapsid).\n",
        "+ If you publish any work that included the use of pyCapsid, please, follow its [online citation guide](https://luquelab.github.io/pyCapsid/acknowledgements/)."
      ],
      "id": "TW84O9VP8dKy"
    },
    {
      "cell_type": "markdown",
      "metadata": {
        "id": "6MIuCLJbANGg"
      },
      "source": [
        "# Input structure and parameters"
      ],
      "id": "6MIuCLJbANGg"
    },
    {
      "cell_type": "markdown",
      "metadata": {
        "id": "Xa7lRUOFudr6"
      },
      "source": [
        "## Input structure\n",
        "pyCapsid requires the protein complex to be encoded in the [Protein Data Bank (PDB) format](https://pdb101.rcsb.org/learn/guide-to-understanding-pdb-data/introduction).\n",
        "\n",
        "### Source and structure\n",
        "Fill the variables in the block code below to specify the source and identifier for the structure. Follow these guides:\n",
        "+ `pdb_source` determines if the structure will be fetched from the Protein Data Bank (`'PDB'`) or uploaded (`'upload'`).\n",
        "+ `pdb_id` stores the PDBid to fetch the structure online.\n",
        "+ `assembly_id` specifies the biological assembly. If not set it defaults to 1. If no assembly info is provided in the structures set this value to None.\n",
        "\n",
        "If the option is `'upload'`, when executing the code cell below a prompt will appear to choose the file from the local directory. The maximum file size allowed in the standard Colab cloud-server is 2 GB."
      ],
      "id": "Xa7lRUOFudr6"
    },
    {
      "cell_type": "code",
      "execution_count": null,
      "metadata": {
        "id": "_X0YggCBjwvr"
      },
      "outputs": [],
      "source": [
        "# Specify the PDB source\n",
        "pdb_source = 'PDB' #Values expected: 'PDB' or 'upload'\n",
        "\n",
        "# Specify the PDBid (if the structure has to be fetched online)\n",
        "pdb_id = '7s21'\n",
        "\n",
        "# Specify the biological assembly. If not set defaults to 1. If no assembly info is provided\n",
        "# for the structure set the value to None\n",
        "assembly_id = 1\n",
        "\n",
        "# Print option\n",
        "if pdb_source == 'PDB':\n",
        "  print('The structure with PDBid ' + pdb_id + ' will be fetched from the Protein Data Bank.')\n",
        "\n",
        "elif pdb_source == 'upload':\n",
        "\n",
        "  from google.colab import files\n",
        "  uploaded = files.upload()\n",
        "  pdb_file_name = list(uploaded.keys())[0] # Extract PDB file name\n",
        "  print('The name of the PDB file is ' + pdb_file_name)\n",
        "\n",
        "else:\n",
        "  print('The value `'+ pdb_source +'` specifed in `pdb_source` is not valid. Choose from the expected options above.')"
      ],
      "id": "_X0YggCBjwvr"
    },
    {
      "cell_type": "markdown",
      "metadata": {
        "id": "0BTfEbp3uW8f"
      },
      "source": [
        "## pyCapsid parameters\n",
        "\n",
        "Edit the variables in the block code below to specify the main options in the pyCapsid calculations. If you do not edit anything, the default values will be used. The list below describes the variables and their options:\n",
        "\n",
        "+ `ENM_model` specifies the elastic network model used to coarse-grained the protein complex. There are four different models that can be specified:\n",
        "  + `ANM`: Anisotropic network model with a default cutoff of 15Å and no distance weighting.\n",
        "  + `GNM`: Gaussian network model (no three-dimensional directionality) with a default cutoff of 7.5Å and no distance weighting.\n",
        "  + `U-ENM`: Unified elastic network Model with a default cutoff of 7.5Å and a default anisotropy parameter (f_anm) of 0.1. It is the **default** and **recommended** option.\n",
        "  + `bbENM`: Backbone-enhanced Elastic network model with a default cutoff of 7.5Å and no distance weighting.\n",
        "\n",
        "+ `n_modes` specifies the number of modes to be used to calculate the dynamics. Must be an integer. The default value is 200. However, while using 200 modes can yield good results, we recommend using more modes for larger structures. Increasing the number of modes often improves the accuracy but results in longer computational times. The `fit_modes` option described below can assist in selecting the optimal value for this parameter.\n",
        "\n",
        "+ `fit_modes` is True or False. If true pyCapsid will select the number of low-frequency modes used in further calculations by finding the number of modes (less than n_modes) that results in the best correlation with experimental B-factors. If true pyCapsid will also provide a plot showing how correlation with B-factors changes with the number of modes used. If false, all modes calculated will be used.\n",
        "\n",
        "+ `cluster_min` specifies the minimum number of clusters used in the clustering analysis to identify the optimal quasi-rigid mechanical units. The minimum value is 3.\n",
        "\n",
        "+ `cluster_max` specifies the maximum number of clusters used in the clustering analysis to identify the optimal quasi-rigid mechanical units. The number of residues in the structure represents an upper value. The default value is 100. The recommended value should be at least the number of proteins in the structure. Ideally, the value should be the number of proteins times the number of expected protein domains defining the protein fold.\n",
        "\n",
        "+ `cluster_delta` specifies the steps taken when exploring the range of clusters to determine the optimal quasi-rigid mechanical units. The default value is 2. It is recommended to refine the search in a sub-region once a potential optimal result has been identified.\n"
      ],
      "id": "0BTfEbp3uW8f"
    },
    {
      "cell_type": "code",
      "execution_count": null,
      "metadata": {
        "id": "b_8gyJk1wLlV"
      },
      "outputs": [],
      "source": [
        "# Specify values\n",
        "\n",
        "## Elastic network model\n",
        "ENM_model = 'U-ENM' # Values expected: 'ANM', 'GNM', 'U-ENM', and 'bbENM'.\n",
        "\n",
        "## Number of modes used in the dynamics\n",
        "n_modes = 200\n",
        "\n",
        "## Whether to use the number of modes that maximize CC\n",
        "fit_modes = True\n",
        "\n",
        "## Cluster range and step in the optimal analysis of quasi-rigid units.\n",
        "cluster_min = 4\n",
        "cluster_max = 130\n",
        "cluster_delta = 2\n",
        "\n",
        "## NGLView visualizations\n",
        "#visualize_nglview = 'none'\n",
        "\n",
        "# Double-check options\n",
        "\n",
        "## Elastic model\n",
        "valid_ENM = ['ANM','GNM','U-ENM', 'bbENM']\n",
        "if ENM_model in valid_ENM:\n",
        "  print('The ENM model used for coarse-graining is ' + ENM_model + ' .')\n",
        "else:\n",
        "  print('The value `'+ ENM_model +'` specifed in `ENM_model` is not valid. Choose from the expected options above.')\n",
        "\n",
        "if ENM_model == 'GNM':\n",
        "  is3d = False\n",
        "else:\n",
        "  is3d = True\n",
        "\n",
        "## Modes\n",
        "### Cast to non-negative integers\n",
        "n_modes = abs(int(n_modes))\n",
        "if n_modes > 0:\n",
        "  print('The number of modes in the dynamics will be ' + str(n_modes) + ' .')\n",
        "else:\n",
        "  print('WARNING: The values of `n_modes` should be both larger than zero.')\n",
        "\n",
        "## Clusters\n",
        "### Cast to non-negative integers\n",
        "cluster_min = abs(int(cluster_min))\n",
        "cluster_max = abs(int(cluster_max))\n",
        "cluster_delta = abs(int(cluster_delta))\n",
        "if ((cluster_min > 0) and (cluster_max > 0)):\n",
        "  if cluster_min <= cluster_max:\n",
        "    print('The lowest number of quasi-rigid units explored will be ' + str(cluster_min) + ' .')\n",
        "    print('The largest number of quasi-rigid units explored will be ' + str(cluster_max) + ' .')\n",
        "    print('The resolution of search for the optimal number of quasi-rigid units will be ' + str(cluster_delta) + ' .')\n",
        "\n",
        "  elif cluster_min > cluster_max:\n",
        "    print('WARNING: The value of `cluster_min` should be smaller or equal to `cluster_max`.')\n",
        "\n",
        "else:\n",
        "  print('WARNING: The values of `cluster_min` and `cluster_max` should be both larger than zero.')"
      ],
      "id": "b_8gyJk1wLlV"
    },
    {
      "cell_type": "markdown",
      "metadata": {
        "id": "LFbIcDwREwgC"
      },
      "source": [
        "## Estimate time and memory\n",
        "\n",
        "When using the free Colab cloud service expect small protein shells (up to \\~40,000 residues) to run in less than 10 minutes and medium shells (\\~80,000 residues) in 2 or more hours. To investigate capsids exceeding 8 GB of RAM (120,000+ residues), consider upgrading your [Colab plan](https://colab.research.google.com/signup) or installing pyCapsid locally via [GitHub](https://github.com/luquelab/pyCapsid), [PIP](https://pypi.org/project/pyCapsid/), or [Conda](https://anaconda.org/luque_lab/pycapsid), as detailed in its [online installation guide](https://luquelab.github.io/pyCapsid/installation/). Alternatively you may lower the number of modes calculated (n_modes parameter) or use the 'GNM' model at the cost of accuracy in the results. The 'GNM' model also does not allow for visualizing mode dynamics."
      ],
      "id": "LFbIcDwREwgC"
    },
    {
      "cell_type": "markdown",
      "metadata": {
        "id": "bnoh23CLWwul"
      },
      "source": [
        "# Installation\n",
        "\n",
        "The following command installs pyCapsid and the necessary components for visualizing results in this notebook."
      ],
      "id": "bnoh23CLWwul"
    },
    {
      "cell_type": "markdown",
      "metadata": {
        "id": "3SEY0tzxCmoA"
      },
      "source": [
        "## pyCapsid"
      ],
      "id": "3SEY0tzxCmoA"
    },
    {
      "cell_type": "code",
      "execution_count": null,
      "metadata": {
        "id": "ScJyR3VXvJLP"
      },
      "outputs": [],
      "source": [
        "!pip install --upgrade pyCapsid"
      ],
      "id": "ScJyR3VXvJLP"
    },
    {
      "cell_type": "markdown",
      "metadata": {
        "id": "RiN8B3NACrCk"
      },
      "source": [
        "## NGL viewer"
      ],
      "id": "RiN8B3NACrCk"
    },
    {
      "cell_type": "code",
      "execution_count": null,
      "metadata": {
        "id": "LfF5bq-Ciq_5"
      },
      "outputs": [],
      "source": [
        "#if visualize_nglview in ('full', 'calphas'):\n",
        "#  !pip install ipywidgets==7.7.2 nglview\n",
        "!pip install ipywidgets==7.7.2 nglview"
      ],
      "id": "LfF5bq-Ciq_5"
    },
    {
      "cell_type": "markdown",
      "metadata": {
        "id": "j3sfGGYifMWH"
      },
      "source": [
        "## Import packages"
      ],
      "id": "j3sfGGYifMWH"
    },
    {
      "cell_type": "code",
      "execution_count": null,
      "metadata": {
        "id": "pJITl1xveOV-"
      },
      "outputs": [],
      "source": [
        "# This import is required to handle files\n",
        "from google.colab import files"
      ],
      "id": "pJITl1xveOV-"
    },
    {
      "cell_type": "code",
      "execution_count": null,
      "metadata": {
        "id": "BMWumCloOGWG"
      },
      "outputs": [],
      "source": [
        "# This is required to use NGLView in google Colab. Colab will likely still warn\n",
        "# you about adding this line, despite it is already added. Ignore those warnings.\n",
        "from google.colab import output\n",
        "output.enable_custom_widget_manager()"
      ],
      "id": "BMWumCloOGWG"
    },
    {
      "cell_type": "code",
      "execution_count": null,
      "metadata": {
        "id": "z3-Nb2E2rbsl"
      },
      "outputs": [],
      "source": [
        "# This import are required for calculations and plots\n",
        "import numpy as np\n",
        "import matplotlib.colorbar as colorbar\n",
        "import matplotlib.pyplot as plt"
      ],
      "id": "z3-Nb2E2rbsl"
    },
    {
      "cell_type": "code",
      "execution_count": null,
      "metadata": {
        "id": "cs-bOE3vc_Yp"
      },
      "outputs": [],
      "source": [
        "# This imports are required to use NGL viewer as well as the capabilities of pyCapsid to generate structures.\n",
        "import nglview as ngl\n",
        "from nglview.adaptor import FileStructure\n",
        "import biotite.structure.io as strucio\n",
        "from pyCapsid.VIS import createCapsidView\n",
        "from pyCapsid.VIS import createClusterRepresentation\n",
        "from pyCapsid.VIS import clusters_colormap_hexcolor"
      ],
      "id": "cs-bOE3vc_Yp"
    },
    {
      "cell_type": "markdown",
      "metadata": {
        "id": "Mwm3VhXfWSOL"
      },
      "source": [
        "# Run the pyCapsid pipeline\n"
      ],
      "id": "Mwm3VhXfWSOL"
    },
    {
      "cell_type": "markdown",
      "metadata": {
        "id": "213836e7"
      },
      "source": [
        "## Extract features from input structure\n",
        "This code loads the information from the input structure (PDB format) necessary for the calculations and validation in pyCapsid.\n",
        "\n"
      ],
      "id": "213836e7"
    },
    {
      "cell_type": "code",
      "execution_count": null,
      "metadata": {
        "id": "dfdc9bd5"
      },
      "outputs": [],
      "source": [
        "from pyCapsid.PDB import getCapsid\n",
        "\n",
        "if pdb_source == 'PDB':\n",
        "  # Extract the features fetching the PDB structure from the Protein Data Bank.\n",
        "  pdb = pdb_id\n",
        "  capsid, calphas, asymmetric_unit, coords,  bfactors, chain_starts, title = getCapsid(pdb, save_full_pdb=True, assembly_id=assembly_id)\n",
        "  print('The strucure ' + pdb + ' was fetched in the pyCapsid pipeline.')\n",
        "\n",
        "elif pdb_source == 'upload':\n",
        "  pdb = pdb_file_name\n",
        "  capsid, calphas, asymmetric_unit, coords, bfactors, chain_starts, title = getCapsid(pdb, local = True, assembly_id=assembly_id)\n",
        "  print('The strucure in the file ' + pdb + ' was inputed in the pyCapsid pipeline.')\n",
        "else:\n",
        "  print('WARNING: The PDB structure is not available.')"
      ],
      "id": "dfdc9bd5"
    },
    {
      "cell_type": "markdown",
      "metadata": {
        "id": "cf28904f"
      },
      "source": [
        "## Build the elastic network model (ENM)\n",
        "This step uses the function `buildENMPreset` in pyCapsid to specify the elastic network model and build the associated hessian matrix."
      ],
      "id": "cf28904f"
    },
    {
      "cell_type": "code",
      "execution_count": null,
      "metadata": {
        "id": "268834cd"
      },
      "outputs": [],
      "source": [
        "from pyCapsid.CG import buildENMPreset\n",
        "kirch, hessian = buildENMPreset(coords, preset = ENM_model, chain_starts=chain_starts)"
      ],
      "id": "268834cd"
    },
    {
      "cell_type": "markdown",
      "metadata": {
        "id": "fb441f9e"
      },
      "source": [
        "## Perform the Normal Mode Analysis (NMA)\n",
        "\n",
        "This section obtains the dynamics of the protein complex based on the dominant normal modes activated by thermal energy."
      ],
      "id": "fb441f9e"
    },
    {
      "cell_type": "markdown",
      "metadata": {
        "id": "joIThFhaqi1b"
      },
      "source": [
        "### Calculate the low frequency modes\n",
        "This code obtains the number of low frequency modes specified by the variable `n_modes` in the [pyCapsid parameters section](#scrollTo=b_8gyJk1wLlV). The calculation relies on the eigenvalues and eigenvectors of the hessian matrix obtained in the [Build the elastic network model section](#scrollTo=cf28904f)."
      ],
      "id": "joIThFhaqi1b"
    },
    {
      "cell_type": "code",
      "execution_count": null,
      "metadata": {
        "id": "f79a4f3a"
      },
      "outputs": [],
      "source": [
        "from pyCapsid.NMA import modeCalc\n",
        "evals, evecs = modeCalc(hessian, n_modes = n_modes, is3d=is3d)"
      ],
      "id": "f79a4f3a"
    },
    {
      "cell_type": "markdown",
      "metadata": {
        "id": "049afcd7-2c27-4709-9bde-fe62f0130c0f"
      },
      "source": [
        "### Predict, scale, and validate the b-factors\n",
        "This code uses the resulting normal modes and frequencies to predict the b-factors of each alpha carbon, fits these results to experimental values from the pdb entry, and plots the results for comparison."
      ],
      "id": "049afcd7-2c27-4709-9bde-fe62f0130c0f"
    },
    {
      "cell_type": "code",
      "execution_count": null,
      "metadata": {
        "id": "ce3ab0a5"
      },
      "outputs": [],
      "source": [
        "from pyCapsid.NMA import fitCompareBfactors\n",
        "evals_scaled, evecs_scaled, cc, gamma, n_modes_best = fitCompareBfactors(evals, evecs, bfactors, pdb, fit_modes=fit_modes, is3d=is3d)"
      ],
      "id": "ce3ab0a5"
    },
    {
      "cell_type": "markdown",
      "metadata": {
        "id": "643612c4-cf15-4c43-814a-2384e46029ec"
      },
      "source": [
        "## Perform the analysis of quasi-rigid clusters (QRC)"
      ],
      "id": "643612c4-cf15-4c43-814a-2384e46029ec"
    },
    {
      "cell_type": "code",
      "execution_count": null,
      "metadata": {
        "id": "3eedff83"
      },
      "outputs": [],
      "source": [
        "from pyCapsid.NMA import calcDistFlucts\n",
        "from pyCapsid.QRC import findQuasiRigidClusters\n",
        "\n",
        "dist_flucts = calcDistFlucts(evals_scaled, evecs_scaled, coords, is3d=is3d)\n",
        "\n",
        "cluster_start = cluster_min\n",
        "cluster_stop = cluster_max\n",
        "cluster_step = cluster_delta\n",
        "labels, score, residue_scores  = findQuasiRigidClusters(pdb, dist_flucts, cluster_start=cluster_start, cluster_stop=cluster_stop, cluster_step=cluster_step)"
      ],
      "id": "3eedff83"
    },
    {
      "cell_type": "markdown",
      "metadata": {
        "id": "xjX_ErBMJjT1"
      },
      "source": [
        "# pyCapsid report\n",
        "\n",
        "The block code below generates a report with the key results in the analysis. The information is outputted in three formats:\n",
        "+ Markdown file included in the downloaded outputs.\n",
        "+ Pdf file included in the downloaded outputs.\n",
        "+ HTML file included in the downloaded outputs.\n",
        "\n"
      ],
      "id": "xjX_ErBMJjT1"
    },
    {
      "cell_type": "code",
      "execution_count": null,
      "metadata": {
        "id": "Yx3M1T4GkxwQ"
      },
      "outputs": [],
      "source": [
        "# Prepare file names\n",
        "file_name = 'pyCapsid_report'\n",
        "file_md = file_name+'.md' # Markdown\n",
        "file_html = file_name+'.html' # HTML\n",
        "file_docx = file_name+'.docx'"
      ],
      "id": "Yx3M1T4GkxwQ"
    },
    {
      "cell_type": "code",
      "execution_count": null,
      "metadata": {
        "id": "a6hRZnac7I72"
      },
      "outputs": [],
      "source": [
        "# Include libraries to generate plots\n",
        "import matplotlib.pyplot as plt\n",
        "import seaborn as sns\n",
        "import pandas as pd\n",
        "import numpy as np"
      ],
      "id": "a6hRZnac7I72"
    },
    {
      "cell_type": "code",
      "execution_count": null,
      "metadata": {
        "id": "eox4qcvnNOOX"
      },
      "outputs": [],
      "source": [
        "# Generate separate folder for the report\n",
        "import os\n",
        "\n",
        "parent_dir = os.getcwd()\n",
        "report_dir_name = f'{pdb}_pyCapsid_report'\n",
        "report_dir = parent_dir + '/' + report_dir_name\n",
        "\n",
        "if not os.path.exists(report_dir):\n",
        "  os.mkdir(report_dir)"
      ],
      "id": "eox4qcvnNOOX"
    },
    {
      "cell_type": "code",
      "execution_count": null,
      "metadata": {
        "id": "KeEc_ZKxWHQ4"
      },
      "outputs": [],
      "source": [
        "# Generate figures folder\n",
        "figures_dir_name = 'figures'\n",
        "figures_dir = report_dir + '/' + figures_dir_name\n",
        "\n",
        "if not os.path.exists(figures_dir):\n",
        "  os.mkdir(figures_dir)"
      ],
      "id": "KeEc_ZKxWHQ4"
    },
    {
      "cell_type": "code",
      "execution_count": null,
      "metadata": {
        "id": "IDsooEis7khb"
      },
      "outputs": [],
      "source": [
        "# Output files (quantiative plots)\n",
        "\n",
        "# Correlation coefficients (CC) across modes\n",
        "cc_modes_name_out = 'cc_modes'\n",
        "cc_modes_fig_png = cc_modes_name_out + '.png'\n",
        "cc_modes_fig_svg = cc_modes_name_out + '.svg'\n",
        "cc_modes_fig_eps = cc_modes_name_out + '.eps'\n",
        "cc_modes_fig_pdf = cc_modes_name_out + '.pdf'\n",
        "cc_modes_data_csv = cc_modes_name_out + '.csv'\n",
        "cc_modes_dir = figures_dir + '/' + cc_modes_name_out\n",
        "if not os.path.exists(cc_modes_dir):\n",
        "  os.mkdir(cc_modes_dir)\n",
        "\n",
        "# b-factors\n",
        "b_factors_name_out = 'b_factors'\n",
        "b_factors_fig_png = b_factors_name_out + '.png'\n",
        "b_factors_fig_svg = b_factors_name_out + '.svg'\n",
        "b_factors_fig_eps = b_factors_name_out + '.eps'\n",
        "b_factors_fig_pdf = b_factors_name_out + '.pdf'\n",
        "\n",
        "b_factors_fit_name_out = 'b_factors_fit'\n",
        "b_factors_fit_fig_png = b_factors_fit_name_out + '.png'\n",
        "b_factors_fit_fig_svg = b_factors_fit_name_out + '.svg'\n",
        "b_factors_fit_fig_eps = b_factors_fit_name_out + '.eps'\n",
        "b_factors_fit_fig_pdf = b_factors_fit_name_out + '.pdf'\n",
        "\n",
        "b_factors_data_csv = b_factors_name_out + '.csv'\n",
        "b_factors_dir = figures_dir + '/' + b_factors_name_out\n",
        "if not os.path.exists(b_factors_dir):\n",
        "  os.mkdir(b_factors_dir)\n",
        "\n",
        "# Cluster quality score (CQS)\n",
        "cluster_quality_name_out = 'cluster_quality'\n",
        "cluster_quality_fig_png = cluster_quality_name_out + '.png'\n",
        "cluster_quality_fig_svg = cluster_quality_name_out + '.svg'\n",
        "cluster_quality_fig_eps = cluster_quality_name_out + '.eps'\n",
        "cluster_quality_fig_pdf = cluster_quality_name_out + '.pdf'\n",
        "cluster_quality_data_csv = cluster_quality_name_out + '.csv'\n",
        "cluster_quality_dir = figures_dir + '/' + cluster_quality_name_out\n",
        "if not os.path.exists(cluster_quality_dir):\n",
        "  os.mkdir(cluster_quality_dir)\n",
        "\n",
        "# Cluster quality score colorbar\n",
        "cluster_quality_colorbar_name_out = 'quality_score_colorbar'\n",
        "cluster_quality_colorbar_fig_svg = cluster_quality_colorbar_name_out + '.svg'\n",
        "cluster_quality_colorbar_fig_png = cluster_quality_colorbar_name_out + '.png'\n"
      ],
      "id": "IDsooEis7khb"
    },
    {
      "cell_type": "code",
      "execution_count": null,
      "metadata": {
        "id": "JpARayiJDnLw"
      },
      "outputs": [],
      "source": [
        "# Generate correlation coefficients dataframe and plots\n",
        "\n",
        "## Upload and store file\n",
        "dir_loc = parent_dir\n",
        "file_name = 'CC_by_mode.npz'\n",
        "path_target = dir_loc + '/' + file_name\n",
        "cc_modes = np.load(path_target)\n",
        "\n",
        "## Generate and save data frame\n",
        "dir_loc = cc_modes_dir\n",
        "file_name = cc_modes_data_csv\n",
        "path_target = dir_loc + '/' + file_name\n",
        "\n",
        "npz = cc_modes\n",
        "df = pd.DataFrame(data = [npz['mode_indices'],npz['data']]).T\n",
        "df.columns = ['Modes','CC']\n",
        "df_cc_modes = df\n",
        "df_cc_modes.to_csv(path_target, index = False)\n",
        "cc_best = df_cc_modes[df_cc_modes['Modes'] == n_modes_best]['CC'].values[0]\n",
        "\n",
        "## Generate plots\n",
        "plt.ioff() # Comment this command to display figure in the notebook\n",
        "sns.set_style('darkgrid')\n",
        "fig, ax = plt.subplots(1,1)\n",
        "sns.lineplot(ax = ax, x = 'Modes', y = 'CC', data = df_cc_modes)\n",
        "ax.set_title('Agreement between predicted and empirical B-factors')\n",
        "ax.set_xlabel('Number of modes')\n",
        "ax.set_ylabel('Correlation coefficient (CC)')\n",
        "ax.vlines(x = n_modes_best, ymin = 0, ymax = cc_best, color = 'black')\n",
        "#plt.show(fig) ## Comment out to display figure in notebook\n",
        "\n",
        "## Save plots\n",
        "dir_loc = cc_modes_dir\n",
        "### PNG\n",
        "file_name = cc_modes_fig_png\n",
        "path_target = dir_loc + '/' + file_name\n",
        "fig.savefig(path_target,format='png',dpi=300)\n",
        "### EPS\n",
        "file_name = cc_modes_fig_eps\n",
        "path_target = dir_loc + '/' + file_name\n",
        "fig.savefig(path_target,format='eps',bbox_inches='tight')\n",
        "### SVG\n",
        "file_name = cc_modes_fig_svg\n",
        "path_target = dir_loc + '/' + file_name\n",
        "fig.savefig(path_target,format='svg')\n",
        "### PDF\n",
        "file_name = cc_modes_fig_pdf\n",
        "path_target = dir_loc + '/' + file_name\n",
        "fig.savefig(path_target,format='pdf')\n",
        "\n",
        "## Generate caption\n",
        "text = '**Figure: Selection of the best number of modes** (below). Correlation coefficient obtained comparing the experimental B-factors with respect the B-factors predicted an increasing number of low frequency modes. The black line higlights the number of modes that yield the optimal correlation coefficient with the empirical B-factors.'\n",
        "caption_cc_modes = text"
      ],
      "id": "JpARayiJDnLw"
    },
    {
      "cell_type": "code",
      "execution_count": null,
      "metadata": {
        "id": "uMCunSC906Mn"
      },
      "outputs": [],
      "source": [
        "# Generate b-factors dataframe and plots\n",
        "\n",
        "## Upload and store file\n",
        "dir_loc = parent_dir\n",
        "file_name = 'b_factors.npz'\n",
        "path_target = dir_loc + '/' + file_name\n",
        "b_factors = np.load(path_target)\n",
        "\n",
        "## Generate and save data frame\n",
        "## (!! revise method for residues in asymmetric unit)\n",
        "dir_loc = b_factors_dir\n",
        "file_name = b_factors_data_csv\n",
        "path_target = dir_loc + '/' + file_name\n",
        "\n",
        "npz = b_factors\n",
        "k = npz['k']\n",
        "unscaled = npz['bfactors_predicted']/k\n",
        "x_range = np.arange(unscaled.min(), unscaled.max(), 0.01)\n",
        "y_line = x_range*k\n",
        "df_bfactors = pd.DataFrame(data = [npz['residue_numbers'],npz['bfactors_experimental'],npz['bfactors_predicted'], unscaled, x_range, y_line]).T\n",
        "df_bfactors.columns = ['Residue','Experimental','Predicted', 'Unscaled', 'x_line', 'y_line']\n",
        "n_res_asym = int(len(df_bfactors)/60) #! residues in asymmetric unit (refactor)\n",
        "df_bfactors_asym = df_bfactors[0:n_res_asym]\n",
        "#len(df_bfactors_asym)\n",
        "df_bfactors_asym.to_csv(path_target, index = False)\n",
        "\n",
        "## Generate plots\n",
        "df = df_bfactors_asym\n",
        "plt.ioff() # Comment this command to display figure in the notebook\n",
        "sns.set_style('darkgrid')\n",
        "fig, ax = plt.subplots(1, 1, figsize=(6, 4), sharex=False)\n",
        "\n",
        "# b-factor profile\n",
        "sns.lineplot(ax = ax, x = 'Residue', y = 'Predicted', data = df, label = 'Predicted')\n",
        "sns.lineplot(ax = ax, x = 'Residue', y = 'Experimental', data = df, label = 'Experimental')\n",
        "ax.set_title('Protein complex\\'s vibration profile (asymmetric unit)')\n",
        "ax.set_xlabel('Residue number')\n",
        "ax.set_ylabel(r\"B-factor ($\\AA^2$)\")\n",
        "ax.legend(frameon=False)\n",
        "\n",
        "\n",
        "#plt.show(fig) ## Comment out to display figure in notebook\n",
        "\n",
        "## Save plots\n",
        "dir_loc = b_factors_dir\n",
        "### PNG\n",
        "file_name = b_factors_fig_png\n",
        "path_target = dir_loc + '/' + file_name\n",
        "fig.savefig(path_target,format='png',dpi=300)\n",
        "### EPS\n",
        "file_name = b_factors_fig_eps\n",
        "path_target = dir_loc + '/' + file_name\n",
        "fig.savefig(path_target,format='eps',bbox_inches='tight')\n",
        "### SVG\n",
        "file_name = b_factors_fig_svg\n",
        "path_target = dir_loc + '/' + file_name\n",
        "fig.savefig(path_target,format='svg')\n",
        "### PDF\n",
        "file_name = b_factors_fig_pdf\n",
        "path_target = dir_loc + '/' + file_name\n",
        "fig.savefig(path_target,format='pdf')\n",
        "\n",
        "## Generate caption\n",
        "text = '**Figure: Correlation of B-factors** (below). Empirical (blue) and predicted (orange) B-factors for each residue in the asymmetric unit.'\n",
        "caption_bfactors = text"
      ],
      "id": "uMCunSC906Mn"
    },
    {
      "cell_type": "code",
      "execution_count": null,
      "metadata": {
        "id": "lh_2zKg4TSD-"
      },
      "outputs": [],
      "source": [
        "# Generate b-factors dataframe and plots\n",
        "\n",
        "## Upload and store file\n",
        "dir_loc = parent_dir\n",
        "file_name = 'b_factors.npz'\n",
        "path_target = dir_loc + '/' + file_name\n",
        "b_factors = np.load(path_target)\n",
        "\n",
        "## Generate and save data frame\n",
        "## (!! revise method for residues in asymmetric unit)\n",
        "dir_loc = b_factors_dir\n",
        "file_name = b_factors_data_csv\n",
        "path_target = dir_loc + '/' + file_name\n",
        "\n",
        "npz = b_factors\n",
        "k = npz['k']\n",
        "unscaled = npz['bfactors_predicted']/k\n",
        "x_range = np.arange(unscaled.min(), unscaled.max(), 0.01)\n",
        "y_line = x_range*k\n",
        "df_bfactors = pd.DataFrame(data = [npz['residue_numbers'],npz['bfactors_experimental'],npz['bfactors_predicted'], unscaled, x_range, y_line]).T\n",
        "df_bfactors.columns = ['Residue','Experimental','Predicted', 'Unscaled', 'x_line', 'y_line']\n",
        "n_res_asym = int(len(df_bfactors)/60) #! residues in asymmetric unit (refactor)\n",
        "df_bfactors_asym = df_bfactors[0:n_res_asym]\n",
        "#len(df_bfactors_asym)\n",
        "df_bfactors_asym.to_csv(path_target, index = False)\n",
        "\n",
        "## Generate plots\n",
        "df = df_bfactors_asym\n",
        "plt.ioff() # Comment this command to display figure in the notebook\n",
        "sns.set_style('darkgrid')\n",
        "fig, ax = plt.subplots(1, 1, figsize=(6, 4.5))\n",
        "\n",
        "# b-factor fit\n",
        "sns.scatterplot(ax = ax, x = 'Unscaled', y = 'Experimental', data = df, label = 'Scatter')\n",
        "sns.lineplot(ax = ax, x = 'x_line', y = 'y_line', data = df, label = 'Linear Fit')\n",
        "ax.set_title('ENM Calibration (linear fit)')\n",
        "ax.set_xlabel('Predicted squared fluctuations for $\\gamma  = 1$ ($\\AA^2$)')\n",
        "ax.set_ylabel(r\"B-factor ($\\AA^2$)\")\n",
        "ax.legend(frameon=False)\n",
        "\n",
        "\n",
        "#plt.show(fig) ## Comment out to display figure in notebook\n",
        "\n",
        "## Save plots\n",
        "dir_loc = b_factors_dir\n",
        "### PNG\n",
        "file_name = b_factors_fit_fig_png\n",
        "path_target = dir_loc + '/' + file_name\n",
        "fig.savefig(path_target,format='png',dpi=300)\n",
        "### EPS\n",
        "file_name = b_factors_fit_fig_eps\n",
        "path_target = dir_loc + '/' + file_name\n",
        "fig.savefig(path_target,format='eps',bbox_inches='tight')\n",
        "### SVG\n",
        "file_name = b_factors_fit_fig_svg\n",
        "path_target = dir_loc + '/' + file_name\n",
        "fig.savefig(path_target,format='svg')\n",
        "### PDF\n",
        "file_name = b_factors_fit_fig_pdf\n",
        "path_target = dir_loc + '/' + file_name\n",
        "fig.savefig(path_target,format='pdf')\n",
        "\n",
        "## Generate caption\n",
        "text = '**Figure: Model calibration** (below). The empirical B-factors are plotted against the predicted fluctuations. A regression line was fitted. From the slope (a), the calibration constant (gamma) was obtained using the formula: *gamma = (8π^2)/(3a)*.'\n",
        "caption_bfactors_fit = text"
      ],
      "id": "lh_2zKg4TSD-"
    },
    {
      "cell_type": "code",
      "execution_count": null,
      "metadata": {
        "id": "NLCA3W_xQsPw"
      },
      "outputs": [],
      "source": [
        "# Generate quality score dataframe and plots\n",
        "\n",
        "## Obtain optimal number of clusters\n",
        "dir_loc = parent_dir\n",
        "file_name = str(pdb) + '_final_results.npz'\n",
        "path_target = dir_loc + '/' + file_name\n",
        "npz_loaded = np.load(path_target)\n",
        "nc = int(npz_loaded['nc'])\n",
        "\n",
        "## Upload and store quality score file\n",
        "dir_loc = parent_dir\n",
        "file_name = str(pdb) + '_final_results_full.npz'\n",
        "path_target = dir_loc + '/' + file_name\n",
        "npz_loaded = np.load(path_target)\n",
        "\n",
        "## Generate and save data frame\n",
        "dir_loc = cluster_quality_dir\n",
        "file_name = cluster_quality_data_csv\n",
        "path_target = dir_loc + '/' + file_name\n",
        "\n",
        "df = pd.DataFrame(data = [npz_loaded['nc_range'],npz_loaded['score'],npz_loaded['numtypes']]).T\n",
        "df.columns = ['Clusters','Quality score','Unique']\n",
        "df.to_csv(path_target, index = False)\n",
        "\n",
        "# Obtain score and unique clustering for optimal number of clusters (nc)\n",
        "ii = df[df['Clusters'] == nc].index[0]\n",
        "score = df['Quality score'].iloc[ii]\n",
        "unique = df['Unique'].iloc[ii]\n",
        "\n",
        "## Generate and save plots\n",
        "plt.ioff() # Comment this command to display figure in the notebook\n",
        "sns.set_style('darkgrid')\n",
        "fig, ax = plt.subplots(2, 1, figsize=(6, 3), sharex=True)\n",
        "fig.suptitle('Cluster quality score analysis')\n",
        "sns.lineplot(ax = ax[0], x = 'Clusters', y = 'Quality score', data = df)\n",
        "sns.lineplot(ax = ax[1], x = 'Clusters', y = 'Unique', data = df)\n",
        "ax[1].set_xlabel('Number of clusters')\n",
        "ax[0].set_ylabel('Quality score')\n",
        "ax[1].set_ylabel('Unique clusters')\n",
        "ax[0].vlines(x = nc, ymin = 0, ymax = score, color = 'black')\n",
        "ymax = ax[1].get_ylim()[1]\n",
        "ax[1].vlines(x = nc, ymin = unique, ymax = ymax, color = 'black')\n",
        "fig.tight_layout()\n",
        "#plt.show(fig) ## Comment out to display figure in notebook\n",
        "\n",
        "## Save plots\n",
        "dir_loc = cluster_quality_dir\n",
        "### PNG\n",
        "file_name = cluster_quality_fig_png\n",
        "path_target = dir_loc + '/' + file_name\n",
        "fig.savefig(path_target,format='png',dpi=300)\n",
        "### EPS\n",
        "file_name = cluster_quality_fig_eps\n",
        "path_target = dir_loc + '/' + file_name\n",
        "fig.savefig(path_target,format='eps',bbox_inches='tight')\n",
        "### SVG\n",
        "file_name = cluster_quality_fig_svg\n",
        "path_target = dir_loc + '/' + file_name\n",
        "fig.savefig(path_target,format='svg')\n",
        "### PDF\n",
        "file_name = cluster_quality_fig_pdf\n",
        "path_target = dir_loc + '/' + file_name\n",
        "fig.savefig(path_target,format='pdf')\n",
        "\n",
        "## Generate caption\n",
        "text = '**Figure: Optimal clustering selection** (below). Quality score (top) and number of unique clusters (bottom) obtained as a function of the number of clusters tested. The black lines in each plot higlight the quality score and number of unique clusters for the optimal number of clusters identified.'\n",
        "caption_cluster_quality = text\n"
      ],
      "id": "NLCA3W_xQsPw"
    },
    {
      "cell_type": "code",
      "execution_count": null,
      "metadata": {
        "id": "qU96V20d9Aqm"
      },
      "outputs": [],
      "source": [
        "# Quality score colorbar figure\n",
        "import matplotlib.colorbar as colorbar\n",
        "import matplotlib.pyplot as plt\n",
        "from pyCapsid.VIS import clusters_colormap_hexcolor\n",
        "import numpy as np\n",
        "hexcolor, cmap = clusters_colormap_hexcolor(residue_scores, rwb_scale=True)\n",
        "fig, ax = plt.subplots(figsize=(10, 1))\n",
        "cb = colorbar.ColorbarBase(ax, orientation='horizontal',\n",
        "                            cmap=cmap, norm=plt.Normalize(np.min(residue_scores), np.max(residue_scores)))\n",
        "#plt.show()\n",
        "fig.suptitle('Clustering quality scores ranging from low (red) to high (blue)', y=-0.02)\n",
        "fig.tight_layout()\n",
        "fig.savefig(cluster_quality_colorbar_fig_svg)\n",
        "fig.savefig(f'{cluster_quality_dir}/{cluster_quality_colorbar_fig_svg}')"
      ],
      "id": "qU96V20d9Aqm"
    },
    {
      "cell_type": "markdown",
      "metadata": {
        "id": "VhYoHGoCnf7Y"
      },
      "source": [
        "## Structures folder"
      ],
      "id": "VhYoHGoCnf7Y"
    },
    {
      "cell_type": "code",
      "execution_count": null,
      "metadata": {
        "id": "FSzoGSWbnf7m"
      },
      "outputs": [],
      "source": [
        "# Generate folder\n",
        "structures_dir = figures_dir + '/' + 'structures'\n",
        "if not os.path.exists(structures_dir):\n",
        "  os.mkdir(structures_dir)\n",
        "\n",
        "# Set name files for structures (add files post pyCapsid execution)\n",
        "\n",
        "## Asymmetric unit\n",
        "asym_unit_name_out = f'{pdb}_asymmetric_unit'\n",
        "asym_unit_fig_png = asym_unit_name_out + '.png'\n",
        "\n",
        "## Capsid structure\n",
        "capsid_name_out = f'{pdb}_full_capsid'\n",
        "capsid_fig_png = capsid_name_out + '.png'\n",
        "\n",
        "## Capsid scores\n",
        "capsid_scores_name_out = f'{pdb}_residue_cluster_scores'\n",
        "capsid_scores_fig_png = capsid_scores_name_out + '.png'\n",
        "\n",
        "## Capsid clusters\n",
        "capsid_clusters_name_out = f'{pdb}_highest_quality_clusters'\n",
        "capsid_clusters_fig_png = capsid_clusters_name_out + '.png'\n",
        "\n",
        "# Generate folder\n",
        "structures_dir = figures_dir + '/' + 'structures'\n",
        "if not os.path.exists(structures_dir):\n",
        "  os.mkdir(structures_dir)"
      ],
      "id": "FSzoGSWbnf7m"
    },
    {
      "cell_type": "markdown",
      "metadata": {
        "id": "6KGZ_b21kaEX"
      },
      "source": [
        "## ChimeraX visualization script"
      ],
      "id": "6KGZ_b21kaEX"
    },
    {
      "cell_type": "markdown",
      "metadata": {
        "id": "0ff56608-b78a-4c29-8c65-c9a9d647e188"
      },
      "source": [
        "To visualize the clustering results in ChimeraX we provide a python script in the pyCapsid report folder. To use this script, after extracting the pyCapsid_report folder, open ChimeraX and run the following command:\n",
        "\n",
        "```\n",
        "runscript \"path/to/pyCapsid_report/chimerax/chimerax_script_colab.py\"\n",
        "```\n",
        "Alternatively you can use the following command, which will open a window and  prompt you to find and select the script:\n",
        "```\n",
        "runscript browse\n",
        "```\n",
        "This will create the 4 images in the pyCapsid_report/figures/structures/ folder which will be displayed in the .html and .md reports.\n",
        "\n",
        "The user may also visualize motion of the structure along a given normal mode using a separate script in a similar manner:\n",
        "```\n",
        "runscript \"path/to/pyCapsid_report/chimerax/chimerax_script_animate_mode.py\"\n",
        "```\n",
        "```\n",
        "runscript browse\n",
        "```\n",
        "This will create an .mp4 file in the figures/structures folder of the report.\n",
        "\n",
        "Only one mode may be visualized at a time. By default the lowest frequency non-degenerate mode is visualized, and only modes of that frequency and lower are included in the report. To visualize higher frequency modes, you may copy the `modes.npz` file from `pyCapsid_results.zip` to the `chimerax` folder of the report and rename it accordingly.\n",
        "\n",
        "Both scripts can be modified to fit the users needs. To do this reference the ChimeraX commands (https://www.cgl.ucsf.edu/chimerax/docs/user/index.html) and the ChimeraX Python API (https://www.cgl.ucsf.edu/chimerax/docs/devel/index.html#)."
      ],
      "id": "0ff56608-b78a-4c29-8c65-c9a9d647e188"
    },
    {
      "cell_type": "code",
      "execution_count": null,
      "metadata": {
        "id": "9d03938e-2c30-4e26-9d57-3ed76d9eb4b6"
      },
      "outputs": [],
      "source": [
        "# Todo: add the above explanation into the report\n",
        "chimerax_dir = report_dir + \"/chimerax/\"\n",
        "if not os.path.exists(chimerax_dir):\n",
        "  os.mkdir(chimerax_dir)"
      ],
      "id": "9d03938e-2c30-4e26-9d57-3ed76d9eb4b6"
    },
    {
      "cell_type": "code",
      "execution_count": null,
      "metadata": {
        "id": "b928a451-5995-47d9-bdd0-fecdb99d7466"
      },
      "outputs": [],
      "source": [
        "import pyCapsid.scripts as scpath\n",
        "import os\n",
        "import shutil\n",
        "\n",
        "script_path = os.path.abspath(scpath.__file__)\n",
        "script_path_1 = script_path.replace('__init__', 'chimerax_script_colab')\n",
        "script_path_2 = script_path.replace('__init__', 'chimerax_script_animate_mode')\n",
        "shutil.copy(script_path_1, chimerax_dir)\n",
        "shutil.copy(script_path_2, chimerax_dir)\n",
        "shutil.copy(f'{pdb}_final_results_full.npz', chimerax_dir)\n",
        "shutil.copy(f'{pdb}_final_results.npz', chimerax_dir)\n",
        "#shutil.copy('modes.npz', chimerax_dir + f'{pdb}_modes.npz')\n",
        "if pdb_source == 'upload':\n",
        "  shutil.copy(pdb_file_name, chimerax_dir)"
      ],
      "id": "b928a451-5995-47d9-bdd0-fecdb99d7466"
    },
    {
      "cell_type": "code",
      "execution_count": null,
      "metadata": {
        "id": "Ylpu8LMuzjKq"
      },
      "outputs": [],
      "source": [
        "# Include only the first non-degenerate eigenmode in the chimerax folder\n",
        "modes_saved = np.load('modes.npz')\n",
        "evals_saved = modes_saved['eigen_vals']\n",
        "uniques, inds, counts = np.unique(evals_saved.round(decimals=8), return_index=True, return_counts=True)\n",
        "icoEvalInds = inds[counts == 1]\n",
        "print('Indices of non-degenerate eigenmodes: ', icoEvalInds)\n",
        "\n",
        "if len(icoEvalInds) == 0:\n",
        "    print('No non-degenerate modes found, including lowest-frequency mode for visualization')\n",
        "    n_mode = 0\n",
        "else:\n",
        "    print('Including modes up to lowest frequency non-degenerate mode for visualization')\n",
        "    n_mode=icoEvalInds[0] + 1\n",
        "\n",
        "np.savez_compressed(chimerax_dir + f'{pdb}_modes.npz', eigen_vals=evals_saved[:n_mode], eigen_vecs = evecs[:, :n_mode])"
      ],
      "id": "Ylpu8LMuzjKq"
    },
    {
      "cell_type": "code",
      "execution_count": null,
      "metadata": {
        "id": "ZAuoa5DLNuzZ"
      },
      "outputs": [],
      "source": [
        "with open(chimerax_dir + \"readme_chimerax.md\", 'w') as file:\n",
        "  line  = \"# ChimeraX visualization script\"\n",
        "  file.write('\\n' + line)\n",
        "  line = 'To visualize the clustering results in ChimeraX we provide a python script in the pyCapsid report folder. To use this script, after extracting the pyCapsid_report folder, open ChimeraX and run the following command:'\n",
        "  file.write('\\n' + line)\n",
        "  line = f'``` \\n runscript \"path/to/pyCapsid_report/chimerax/chimerax_script_colab.py\" \\n ```'\n",
        "  file.write('\\n' + line)\n",
        "  line = f'``` Alternatively you can use the following command, which will open a window and  prompt you to find and select the script:'\n",
        "  file.write('\\n' + line)\n",
        "  line = f'``` \\n runscript browse \\n ```'\n",
        "  file.write('\\n' + line)\n",
        "  line = 'This will create the 4 images in the pyCapsid_report/figures/structures/ folder which will be displayed in the report.'\n",
        "  file.write('\\n' + line)\n",
        "  line = 'The user may also visualize motion of the structure along a given normal mode using a separate script in a similar manner:'\n",
        "  file.write('\\n' + line)\n",
        "  line = f'``` \\n runscript \"path/to/pyCapsid_report/chimerax/chimerax_script_animate_mode.py\" \\n ```'\n",
        "  file.write('\\n' + line)\n",
        "  line = f'``` \\n runscript browse \\n ```'\n",
        "  file.write('\\n' + line)\n",
        "  line = f'This will create an .mp4 file in the figures/structures folder of the report.'\n",
        "  file.write('\\n' + line)\n",
        "  line = f'Only one mode may be visualized at a time. By default the lowest frequency non-degenerate mode is visualized, and only modes of that frequency and lower are included in the report. To visualize higher frequency modes, you may copy the `modes.npz` file from `pyCapsid_results` to the `chimerax` folder of the report and rename it accordingly.'\n",
        "  file.write('\\n' + line)\n",
        "  line = f'Both scripts can be modified to fit the users needs. To do this reference the ChimeraX commands (https://www.cgl.ucsf.edu/chimerax/docs/user/index.html) and the ChimeraX Python API (https://www.cgl.ucsf.edu/chimerax/docs/devel/index.html#).'\n",
        "  file.write('\\n' + line)\n",
        "\n",
        "  line = '## Script visualization options'\n",
        "  file.write('\\n' + line)\n",
        "  line = '### `chimerax_script_colab.py`'\n",
        "  file.write('\\n' + line)\n",
        "  line = '+ `-report_dir` Location of `pyCapsid_report/chimerax` directory. Only needed if the script is in a separate directory from the report.'\n",
        "  file.write('\\n' + line)\n",
        "  line = '+ `-nc` Integer. Number of clusters in the corresponding results you want to visualize.'\n",
        "  file.write('\\n' + line)\n",
        "  line = '+ `-remote` True/False. Whether to use a remote structure from the PDB database or a local structure.'\n",
        "  file.write('\\n' + line)\n",
        "  line = '+ `-pdb` String. If remote is True or None, PDBID of the target structure. Otherwise, the local filename of the target structure.'\n",
        "  file.write('\\n' + line)\n",
        "  line = '+ `-mode` String. Options are: `cluster`, `score`, `both`. Whether to end on the cluster coloring or score clustering (`cluster` or `score`), or create a duplicate model for each coloring for further visualization (`both`).'\n",
        "  file.write('\\n' + line)\n",
        "  line = '+ `-allClusters` True/False. Whether to create an individual snapshot of each cluster.'\n",
        "  file.write('\\n' + line)\n",
        "  line = '+ `-addClusterIDs` True/False. If True assigns a cluster id to each residue as a custom attribute in chimerax. This can be referenced in chimerax commands. For example: `show ::cluster_id=100 target mc only` hides everything but residues with the cluster_id 100.'\n",
        "  file.write('\\n' + line)\n",
        "  line = '### `chimerax_script_animate_mode.py`'\n",
        "  file.write('\\n' + line)\n",
        "  line = '+ `-report_dir` Location of `pyCapsid_report/chimerax` directory. Only needed if the script is in a separate directory from the report.'\n",
        "  file.write('\\n' + line)\n",
        "  line = '+ `-nmode` Integer. Index of normal mode to visualize'\n",
        "  file.write('\\n' + line)\n",
        "  line = '+ `-remote` True/False. Whether to use a remote structure from the PDB database or a local structure.'\n",
        "  file.write('\\n' + line)\n",
        "  line = '+ `-pdb` String. If remote is True or None, PDBID of the target structure. Otherwise, the local filename of the target structure'\n",
        "  file.write('\\n' + line)\n",
        "  line = '+ `-amplitude` Float. Maximum amplitude of motion along the mode for visualization purposes.'\n",
        "  file.write('\\n' + line)\n",
        "  line = '+ `-frames` Integer. Number of frames to generate for the animation.'\n",
        "  file.write('\\n' + line)\n",
        "  line = '+ `-save_frames` True/False. Whether to save the individual frames used to create the image.'\n",
        "  file.write('\\n' + line)"
      ],
      "id": "ZAuoa5DLNuzZ"
    },
    {
      "cell_type": "markdown",
      "metadata": {
        "id": "C2B2n4wbl8g5"
      },
      "source": [
        "## Report files"
      ],
      "id": "C2B2n4wbl8g5"
    },
    {
      "cell_type": "code",
      "execution_count": null,
      "metadata": {
        "id": "d1X_HWHgks9O"
      },
      "outputs": [],
      "source": [
        "# Generate markdown output file\n",
        "dir_loc = report_dir\n",
        "file_name = file_md\n",
        "path_target = dir_loc + '/' + file_name\n",
        "f = open(path_target,'w')\n",
        "\n",
        "# Load data needed\n",
        "from datetime import date\n",
        "today = date.today()\n",
        "\n",
        "# HEADING\n",
        "text = '# pyCapsid Report'\n",
        "f.write('\\n'+text)\n",
        "\n",
        "text = today.strftime(\"%B %d, %Y\")\n",
        "f.write('\\n'+text)\n",
        "\n",
        "# INPUT STRUCTURE\n",
        "f.write('\\n')\n",
        "text = '## Input structure'\n",
        "f.write('\\n'+text)\n",
        "\n",
        "text = 'Identifier: ' + str(pdb)\n",
        "f.write('\\n'+text)\n",
        "\n",
        "f.write('\\n')\n",
        "import biotite.structure as struc\n",
        "n_asym_residues = struc.get_residue_count(asymmetric_unit)\n",
        "text = 'Number of residues in the asymmetric unit: ' + str(n_asym_residues)\n",
        "f.write('\\n'+text)\n",
        "\n",
        "f.write('\\n')\n",
        "n_asym_chains = struc.get_chain_count(asymmetric_unit)\n",
        "text = 'Number of protein chains in the asymmetric unit: ' + str(n_asym_chains)\n",
        "f.write('\\n'+text)\n",
        "\n",
        "f.write('\\n')\n",
        "n_full_residues = len(calphas)\n",
        "asym_factor = int(n_full_residues/n_asym_residues)\n",
        "text = 'Multiplying factor to generate the complete protein complex: ' + str(asym_factor)\n",
        "f.write('\\n'+text)\n",
        "\n",
        "f.write('\\n')\n",
        "text = '+ If the multiplying factor is one (*m = 1*), the protein complex and the asymmetric unit are the same.'\n",
        "f.write('\\n'+text)\n",
        "\n",
        "f.write('\\n')\n",
        "text = '+ If the multiplying factor is larger than one (*m > 1*), the protein complex is *m* times the asymmetric unit.'\n",
        "f.write('\\n'+text)\n",
        "\n",
        "f.write('\\n')\n",
        "text = 'Number of residues in the protein complex: ' + str(n_full_residues)\n",
        "f.write('\\n'+text)\n",
        "\n",
        "f.write('\\n')\n",
        "n_full_chains = int(asym_factor * n_asym_chains)\n",
        "text = 'Number of protein chains in the protein complex: ' + str(n_full_chains)\n",
        "f.write('\\n'+text)\n",
        "\n",
        "## Asymmetric unit\n",
        "f.write('\\n')\n",
        "text = '***'\n",
        "f.write('\\n'+text)\n",
        "f.write('\\n')\n",
        "text = '**Figure: Asymmetric unit** (below). Ribbon diagram of the protein complex\\'s asymmetric unit.'\n",
        "f.write('\\n'+text)\n",
        "f.write('\\n')\n",
        "text = '![Asymmetric unit]('+ './figures/structures/' + asym_unit_fig_png + ')'\n",
        "f.write('\\n'+text)\n",
        "\n",
        "\n",
        "## Full structure\n",
        "f.write('\\n')\n",
        "text = '***'\n",
        "f.write('\\n'+text)\n",
        "f.write('\\n')\n",
        "text = '**Figure: Full protein complex** (below). Ribbon diagram of the full protein complex.'\n",
        "f.write('\\n'+text)\n",
        "f.write('\\n')\n",
        "text = '![Full protein complex]('+ './figures/structures/' + capsid_fig_png + ')'\n",
        "f.write('\\n'+text)\n",
        "f.write('\\n')\n",
        "text = '***'\n",
        "f.write('\\n'+text)\n",
        "\n",
        "# Elastic network model\n",
        "f.write('\\n')\n",
        "text = '## Elastic network model'\n",
        "f.write('\\n'+text)\n",
        "\n",
        "f.write('\\n')\n",
        "text = 'Elastic model used: ' + str(ENM_model)\n",
        "f.write('\\n'+text)\n",
        "\n",
        "f.write('\\n')\n",
        "text = 'Calibrated stiffness constant (gamma): ' + str(round(gamma,2))\n",
        "f.write('\\n'+text)\n",
        "f.write('\\n')\n",
        "text = '+ This constant was fitted to scale the model to the structure, assuming a linear relationship between the residues fluctuations and B-factors.'\n",
        "f.write('\\n'+text)\n",
        "\n",
        "f.write('\\n')\n",
        "text = '***'\n",
        "f.write('\\n'+text)\n",
        "f.write('\\n')\n",
        "text = caption_bfactors_fit\n",
        "f.write('\\n'+text)\n",
        "f.write('\\n')\n",
        "### Path to render figure by user locally in markdown\n",
        "subdir_sep = b_factors_dir.split(sep='/')[::-1][0:2][::-1]\n",
        "subdir = './' + subdir_sep[0]+ '/' + subdir_sep[1]\n",
        "text = '![Model calibration]('+ subdir +'/'+ b_factors_fit_fig_svg + ')'\n",
        "f.write('\\n'+text)\n",
        "### Path to render figure by pypandoc in Colab\n",
        "dir_loc = b_factors_dir\n",
        "file_name = b_factors_fit_fig_svg\n",
        "path_target = dir_loc + '/' + file_name\n",
        "text = '![]('+ path_target + ')'\n",
        "f.write('\\n'+text)\n",
        "\n",
        "# Normal modes and B-factors\n",
        "CC = float(b_factors['CC'])\n",
        "\n",
        "f.write('\\n')\n",
        "text = '## Normal mode analysis (NMA)'\n",
        "f.write('\\n'+text)\n",
        "\n",
        "f.write('\\n')\n",
        "text = 'Optimal number of modes reproducing B-factors: '+ str(n_modes_best)\n",
        "f.write('\\n'+text)\n",
        "\n",
        "f.write('\\n')\n",
        "text = 'Correlation between empirical and predicted B-factors: ' + str(round(CC,2))\n",
        "f.write('\\n'+text)\n",
        "\n",
        "## CC vs number of modes figure\n",
        "f.write('\\n')\n",
        "text = '***'\n",
        "f.write('\\n'+text)\n",
        "f.write('\\n')\n",
        "text = caption_cc_modes\n",
        "f.write('\\n'+text)\n",
        "f.write('\\n')\n",
        "### Path to render figure by user locally in markdown\n",
        "subdir_sep = cc_modes_dir.split(sep='/')[::-1][0:2][::-1]\n",
        "subdir = './' + subdir_sep[0]+ '/' + subdir_sep[1]\n",
        "text = '![Selection of the best number of modes]('+ subdir +'/'+ cc_modes_fig_svg + ')'\n",
        "f.write('\\n'+text)\n",
        "### Path to render figure by pypandoc in Colab\n",
        "dir_loc = cc_modes_dir\n",
        "file_name = cc_modes_fig_svg\n",
        "path_target = dir_loc + '/' + file_name\n",
        "text = '![]('+ path_target + ')'\n",
        "f.write('\\n'+text)\n",
        "\n",
        "## B-factors figure\n",
        "f.write('\\n')\n",
        "text = caption_bfactors\n",
        "f.write('\\n'+text)\n",
        "\n",
        "f.write('\\n')\n",
        "### Path to render figure by user locally in markdown\n",
        "subdir_sep = b_factors_dir.split(sep='/')[::-1][0:2][::-1]\n",
        "subdir = './' + subdir_sep[0]+ '/' + subdir_sep[1]\n",
        "text = '![Correlation of B-factors]('+ subdir +'/'+ b_factors_fig_svg + ')'\n",
        "f.write('\\n'+text)\n",
        "### Path to render figure by pypandoc in Colab\n",
        "dir_loc = b_factors_dir\n",
        "file_name = b_factors_fig_svg\n",
        "path_target = dir_loc + '/' + file_name\n",
        "text = '![]('+ path_target + ')'\n",
        "f.write('\\n'+text)\n",
        "\n",
        "\n",
        "f.write('\\n')\n",
        "text = '***'\n",
        "f.write('\\n'+text)\n",
        "\n",
        "# Quasi-rigid units\n",
        "## Upload and store file\n",
        "dir_loc = parent_dir\n",
        "file_name = str(pdb) + '_final_results.npz'\n",
        "path_target = dir_loc + '/' + file_name\n",
        "npz_loaded = np.load(path_target)\n",
        "nc = int(npz_loaded['nc'])\n",
        "\n",
        "f.write('\\n')\n",
        "text = '## Quasi-rigid mechanical units'\n",
        "f.write('\\n'+text)\n",
        "\n",
        "f.write('\\n')\n",
        "text = 'Number of optimal quasi-rigid mechanical units identified: ' + str(nc)\n",
        "f.write('\\n'+text)\n",
        "\n",
        "# f.write('\\n')\n",
        "# text = '!!! Add figure plotting the quality score and number of unique clusters as a function of the number of selected clusters. Include captions following standard publication style.'\n",
        "# f.write('\\n'+text)\n",
        "\n",
        "## Cluster quality figure\n",
        "f.write('\\n')\n",
        "\n",
        "f.write('\\n')\n",
        "text = caption_cluster_quality\n",
        "f.write('\\n'+text)\n",
        "\n",
        "### Path to render figure by user locally in markdown\n",
        "subdir_sep = cluster_quality_dir.split(sep='/')[::-1][0:2][::-1]\n",
        "subdir = './' + subdir_sep[0]+ '/' + subdir_sep[1]\n",
        "text = '![]('+ subdir +'/'+ cluster_quality_fig_svg + ')'\n",
        "f.write('\\n'+text)\n",
        "### Path to render figure by pypandoc in Colab\n",
        "dir_loc = cluster_quality_dir\n",
        "file_name = cluster_quality_fig_svg\n",
        "path_target = dir_loc + '/' + file_name\n",
        "text = '![]('+ path_target + ')'\n",
        "f.write('\\n'+text)\n",
        "\n",
        "\n",
        "\n",
        "f.write('\\n')\n",
        "text = '***'\n",
        "f.write('\\n'+text)\n",
        "f.write('\\n')\n",
        "text = '**Figure: Quasi-rigid clusters** (below). Ribbon representation of the complete structure, with each residue colored according to its cluster membership. Residues with the same color are members of the same quasi-rigid cluster.'\n",
        "f.write('\\n'+text)\n",
        "f.write('\\n')\n",
        "text = '![]('+ './figures/structures/' + capsid_clusters_fig_png + ')'\n",
        "f.write('\\n'+text)\n",
        "\n",
        "# f.write('\\n')\n",
        "# text = '!!! Add figure displaying a representative of each unique cluster. Include caption following standard publication style.'\n",
        "# f.write('\\n'+text)\n",
        "\n",
        "f.write('\\n')\n",
        "text = '**Figure: Residue cluster quality score** (below). Ribbon representation of the complete structure, with each residue colored according to its cluster quality score.  This is a measure of how rigid each residue is with respect to its cluster. Blue residues make up the cores of rigid clusters, and red residues represent borders between clusters.'\n",
        "f.write('\\n'+text)\n",
        "\n",
        "## clusters\n",
        "f.write('\\n')\n",
        "text = '![]('+ './figures/structures/' + capsid_scores_fig_png + ')'\n",
        "f.write('\\n'+text)\n",
        "\n",
        "# colorbar\n",
        "f.write('\\n')\n",
        "text = '![]('+ './figures/cluster_quality/' + cluster_quality_colorbar_fig_svg + ')'\n",
        "f.write('\\n'+text)\n",
        "\n",
        "# f.write('\\n')\n",
        "# text = '!!! Add figure displaying the quality score of each residue in the representative unique clusters. Include caption following standard publication style.'\n",
        "# f.write('\\n'+text)\n",
        "\n",
        "\n",
        "f.write('\\n')\n",
        "text = \"# Missing images in the report? \\n \"\n",
        "f.write('\\n'+text)\n",
        "\n",
        "f.write('\\n')\n",
        "text = \"To render the missing images locally using ChimeraX, check the 'chimerax' folder of the report, and follow the instructions provided in the readme file. This will automatically place the images in the .md and .html versions. For the word document, copy and paste the relevant images directly into the document.\"\n",
        "f.write('\\n'+text)\n",
        "\n",
        "f.write('\\n')\n",
        "text = \"If you were visualizing the results using NGLView, you should have several images downloaded corresponding to the relevant images. After extracting \\\"pyCapsid_report.zip\\\", place the corresponding images from your download folder into \\\"pyCapsid_report/figures/structures/\\\" replacing the empty images in that folder. This will fix the issue for the .md and .html versions. For the word document, copy and paste the relevant images directly into the document.\"\n",
        "f.write('\\n'+text)\n",
        "\n",
        "# Close ouptut file\n",
        "f.close()"
      ],
      "id": "d1X_HWHgks9O"
    },
    {
      "cell_type": "code",
      "execution_count": null,
      "metadata": {
        "id": "_MinpUX466YP"
      },
      "outputs": [],
      "source": [
        "# Generate HTML version\n",
        "dir_loc = report_dir\n",
        "file_name = file_md\n",
        "path_in = dir_loc + '/' + file_name\n",
        "file_name = file_html\n",
        "path_out = dir_loc + '/' + file_name\n",
        "\n",
        "!python -m markdown $path_in -f $path_out"
      ],
      "id": "_MinpUX466YP"
    },
    {
      "cell_type": "code",
      "execution_count": null,
      "metadata": {
        "id": "McNRoWZLh--_"
      },
      "outputs": [],
      "source": [
        "# Generate docx version\n",
        "!pip install pypandoc\n",
        "\n",
        "import pypandoc\n",
        "\n",
        "dir_loc = report_dir\n",
        "file_name = file_md\n",
        "path_in = dir_loc + '/' + file_name\n",
        "file_name = file_docx\n",
        "path_out = dir_loc + '/' + file_name\n",
        "\n",
        "pypandoc.convert_file(path_in, 'docx', outputfile=path_out)"
      ],
      "id": "McNRoWZLh--_"
    },
    {
      "cell_type": "code",
      "execution_count": null,
      "metadata": {
        "id": "zsGD95Y3B7Rk"
      },
      "outputs": [],
      "source": [
        "print(report_dir)"
      ],
      "id": "zsGD95Y3B7Rk"
    },
    {
      "cell_type": "markdown",
      "metadata": {
        "id": "A_0CigBeZo51"
      },
      "source": [
        "# Download results\n",
        "The files containing results are compressed (ZIP format) and downloaded to the default Download folder associated with the browser where the current Colab notebook."
      ],
      "id": "A_0CigBeZo51"
    },
    {
      "cell_type": "code",
      "execution_count": null,
      "metadata": {
        "id": "yMTSDCKFAC8F"
      },
      "outputs": [],
      "source": [
        "# Generate readme file for pyCapsid outputs\n",
        "f = open('README_OUTPUTS.md','w')\n",
        "\n",
        "## Intro\n",
        "text = '# pyCapsid outputs\\n'\n",
        "f.write(text)\n",
        "\n",
        "text = 'This file describes the content of the outputted files generated by pyCapsid.\\n\\n'\n",
        "f.write(text)\n",
        "\n",
        "text = 'The term PDBid should be replaced by the id from the structure imported in pyCapsid. For example, if the structure''s imported id is 4oq8, then, the file listed as `PDBid.pdb` corresponds in the list of output as `4oq8.pdb`. The same applies for the other files.\\n\\n'\n",
        "f.write(text)\n",
        "\n",
        "## Ouptu files\n",
        "text ='**Output files**\\n'\n",
        "f.write(text)\n",
        "\n",
        "### PDBid.pdb\n",
        "text = '+ `PDBid.pdb`: File containing input protein complex in PDB format.\\n'\n",
        "f.write(text)\n",
        "\n",
        "### PDBid_capsid.pdb\n",
        "text = '\\n+ `PDBid_capsid.pdb`: File containing the atom coordinates of the complete protein complex. It does not include meta information in the preamble. If the protein complex in `PDBid.pdb` encodes symmetries and an asymmetric unit, the atoms will be the generated structure after applying the symmetries, and the size of the file will increase accordingly. Otherwise, the number of atoms will coincide with those in the input `PDBid.pdb`.\\n'\n",
        "f.write(text)\n",
        "\n",
        "### b_factors.svg\n",
        "text = '\\n+ `b_factors.svg`: Vectorial file plotting the B-factors with units of Angstrom squared (Å^2), on the y-axis as a function of the residue number in the x-axis. It graphs the empirical B-factors obtained from the input `PDBid.pdb` structure (blue) and the B-factors generated using the (selected or optimal) number of modes (orange). The title of the figure includes the fitted elastic constant, gamma (mean value +/- standard deviation), used to scale the predicted results and the correlation-coefficient (CC) comparing the empirical and computational results.\\n'\n",
        "f.write(text)\n",
        "\n",
        "### results_plot.svg\n",
        "text = '\\n+ `results_plot.svg`: Vectorial file plotting the Quality score (top panel) and Number of unique clusters (bottom panel) as a function of the Number of clusters sampled (x-axis). The black line selects the number of clusters that maximizes the quality score using a limited number of unique clusters.\\n'\n",
        "f.write(text)\n",
        "\n",
        "### modes.npz\n",
        "text = '+ `modes.npz`: Compressed numpy file containing two arrays with information about the normal modes:\\n'\n",
        "f.write(text)\n",
        "\n",
        "#### Array 'eigen_vals'\n",
        "text = '    + `eigen_vals`: Numpy array containing the eigenvalues obtained from normal mode analysis for gamma=1 and the mass of each residue=1. Multiply each eigenvalue by gamma and divide by the mass for the value in Hz^-2. It contains maximum number of modes requested in the input. The eigenvalue are ordered from lowest frequency (largest amplitide), to highest frequency (smallest amplitude).\\n'\n",
        "f.write(text)\n",
        "\n",
        "#### Array 'eigen_vecs'\n",
        "text = '    + `eigen_vecs`: Numpy array containing the normalized eigenvectors obtained from normal mode analysis (Å). It contains n amplitudes of vibration for each mode, where n is the number of residues in the protein complex.\\n'\n",
        "f.write(text)\n",
        "\n",
        "### PDBid_final_results.npz\n",
        "text = '\\n+ `PDBid_final_results.npz`: Compressed numpy file containing arrays with information about clustering for the residues in the asymmetric unit of the protein complex:\\n'\n",
        "f.write(text)\n",
        "\n",
        "#### Array: 'labels'\n",
        "text = '    + `labels`: Numpy array containing the cluster assigned to each label. The cluster number starts at zero. If there are 10 clusters, the label for the first cluster is 0 and the last cluster is 9.\\n'\n",
        "f.write(text)\n",
        "\n",
        "#### Array: 'score'\n",
        "text = '    + `score`: Quality score of the clustering.\\n'\n",
        "f.write(text)\n",
        "\n",
        "#### Array: 'nc'\n",
        "text = '    + `nc`: Number of clusters.\\n'\n",
        "f.write(text)\n",
        "\n",
        "#### Array: 'cluster_method'\n",
        "text = '    + `cluster_method`: Cluster method.\\n'\n",
        "f.write(text)\n",
        "\n",
        "#### Array: 'final_full_score'\n",
        "text = '    + `final_full_score`: One-dimensional array containing the quality clustering score of each residue.\\n'\n",
        "f.write(text)\n",
        "\n",
        "### PDBid_final_results.npz\n",
        "text = '\\n+ `PDBid_final_results_full.npz`: This file is equivalent to the file `PDBid_final_results.npz` described above, but it extends the results to all cluster numbers investigated.'\n",
        "f.write(text)\n",
        "\n",
        "\n",
        "# Close file\n",
        "f.close()"
      ],
      "id": "yMTSDCKFAC8F"
    },
    {
      "cell_type": "code",
      "execution_count": null,
      "metadata": {
        "id": "gKOV73W6iYUa"
      },
      "outputs": [],
      "source": [
        "# Remove the Colab generated sample_data directory\n",
        "sample = !ls | grep 'sample_data'\n",
        "if len(sample) != 0:\n",
        "  name = sample.get_list()[0]\n",
        "  !rm -r $name\n",
        "\n",
        "# Zip and download the files with results\n",
        "zip_file = str(pdb) + '_pyCapsid_results.zip'\n",
        "! zip \"$zip_file\" *.*\n",
        "files.download(zip_file)"
      ],
      "id": "gKOV73W6iYUa"
    },
    {
      "cell_type": "code",
      "execution_count": null,
      "metadata": {
        "id": "hqqJXwmau3Lt"
      },
      "outputs": [],
      "source": [
        "# Download pyCapsid report\n",
        "\n",
        "## Compress the report\n",
        "zip_file_report = str(pdb) + '_pyCapsid_report.zip'\n",
        "! zip -r $zip_file_report $report_dir_name\n",
        "\n",
        "## Download file\n",
        "files.download(zip_file_report)"
      ],
      "id": "hqqJXwmau3Lt"
    },
    {
      "cell_type": "code",
      "execution_count": null,
      "metadata": {
        "id": "bRxu6I2lvPFR"
      },
      "outputs": [],
      "source": [
        "report_dir_name"
      ],
      "id": "bRxu6I2lvPFR"
    },
    {
      "cell_type": "code",
      "execution_count": null,
      "metadata": {
        "id": "WgTOXuWScLL1"
      },
      "outputs": [],
      "source": [
        "results_folder = str(pdb) + '_pyCapsid_results/'\n",
        "if not os.path.isdir(results_folder):\n",
        "  os.mkdir(results_folder)\n",
        "\n",
        "file_names = os.listdir('./')\n",
        "print(file_names)\n",
        "\n",
        "for file_name in file_names:\n",
        "#  if file_name.endswith(('.md', '.npz','.svg', '.pdb', '.cif', '.md', '.csv'))\n",
        "  if file_name not in ['.config', '.config', zip_file_report, report_dir_name, results_folder]:\n",
        "    if not file_name.endswith('.zip'):\n",
        "      shutil.move('./' + file_name, results_folder)"
      ],
      "id": "WgTOXuWScLL1"
    },
    {
      "cell_type": "markdown",
      "metadata": {
        "id": "yRhJzMhRarYR"
      },
      "source": [
        "## Problems downloading results?\n",
        "If you allow your browser to download the results but do not find the output results in your folder, check first the downloading progress in the [downloading code cell display](#scrollTo=gKOV73W6iYUa&line=1&uniqifier=1). The size of the files can be substantial depending on the protein complex, so the downloading process can take a while.\n",
        "\n",
        "If you are having problems downloading the results, try downloading them directly from the `Files` panel available on the Colab side bar.\n",
        "\n",
        "If the problems persist, generate an [issue on pyCapsid's repository](https://github.com/luquelab/pyCapsid/issues). Use the subject `Colab: Downloading issue`.\n"
      ],
      "id": "yRhJzMhRarYR"
    },
    {
      "cell_type": "code",
      "execution_count": null,
      "metadata": {
        "id": "7joS1enya7jn"
      },
      "outputs": [],
      "source": [
        "# import numpy as np\n",
        "# filename = pdb + '_coords.txt'\n",
        "# np.savetxt(filename, coords)\n",
        "# from google.colab import files\n",
        "# files.download(filename)"
      ],
      "id": "7joS1enya7jn"
    },
    {
      "cell_type": "markdown",
      "metadata": {
        "id": "tpR1y1IRETVS"
      },
      "source": [
        "## Missing images in the report?\n",
        "To render the missing images locally using ChimeraX, check the 'chimerax' folder of the report, and follow the instructions provided in the readme file. This will automatically place the images in the .md and .html versions. For the word document, copy and paste the relevant images directly into the document.\n",
        "\n",
        "When using NGLView in the Colab notebook the results often don't finish rendering in Colab before the report is downloaded. For this reason, the images are also downloaded directly through your browser. After extracting \"pyCapsid_report.zip\", place the corresponding images from your download folder into \"pyCapsid_report/figures/structures/\" replacing the empty images in that folder."
      ],
      "id": "tpR1y1IRETVS"
    },
    {
      "cell_type": "markdown",
      "metadata": {
        "id": "2f1fe934-ac4a-40a5-896f-3c7c4aff7c94"
      },
      "source": [
        "# Visualize structures (NGL Viewer)\n",
        "You can visualize the results in the notebook with nglview. The following function returns an nglview object with the results colored based on cluster. See the nglview documentation for further info (http://nglviewer.org/nglview/release/v2.7.7/index.html)"
      ],
      "id": "2f1fe934-ac4a-40a5-896f-3c7c4aff7c94"
    },
    {
      "cell_type": "markdown",
      "metadata": {
        "id": "_B_OOwO3ZeBg"
      },
      "source": [
        "## Input options\n",
        "\n",
        "+ `visualize_nglview` specifies if and how to visualize and render the results in the colab notebook using NGLView.  This allows for convenient visualization in you browser, but is only recommended for smaller structures. Otherwise we recommend downloading the results and using the provided ChimeraX script to visualize the results in ChimeraX.\n",
        "  + `full`: Visualizes all-atom models in the notebook using NGLView, this is only recommended for capsids with less than ~20,000 residues when using the free version of Colab.\n",
        "  + `calphas`: Visualizes alpha-carbon only models in the notebook using NGLView, this is recommended for capsids with more than ~20,000 residues but less than ~60,000 residues when using the free version of Colab.\n",
        "  + `none`: Do not visualize the results in the notebook. You will instead be able to visualize the results on your local machine in ChimeraX using the provided python script."
      ],
      "id": "_B_OOwO3ZeBg"
    },
    {
      "cell_type": "code",
      "execution_count": null,
      "metadata": {
        "id": "68QyFoIbZalr"
      },
      "outputs": [],
      "source": [
        "## NGLView visualizations\n",
        "visualize_nglview = 'full' ### Three options: 'none', 'calphas', 'full'\n",
        "import nglview as ngl"
      ],
      "id": "68QyFoIbZalr"
    },
    {
      "cell_type": "code",
      "execution_count": null,
      "metadata": {
        "id": "Bol9dQLCywCF"
      },
      "outputs": [],
      "source": [
        "## Load base structure using NGLView adaptor\n",
        "def createCapsidStructure(pdb, capsid=None):\n",
        "\n",
        "    if capsid is None:\n",
        "        print('No capsid structure provided, getting capsid.')\n",
        "        from pyCapsid.PDB import getCapsid\n",
        "        capsid, _, _, _, _, _, _ = getCapsid(pdb)\n",
        "\n",
        "    import biotite.structure.io as strucio\n",
        "    strucio.save_structure(pdb + '_capsid.pdb', capsid, hybrid36=True)\n",
        "\n",
        "    from nglview.adaptor import FileStructure\n",
        "\n",
        "    capsid_ngl = FileStructure(pdb + '_capsid.pdb')\n",
        "    return capsid_ngl\n",
        "\n",
        "if visualize_nglview == 'full':\n",
        "  capsid_ngl = createCapsidStructure(pdb, capsid=capsid)\n",
        "elif visualize_nglview == 'calphas':\n",
        "  capsid_ngl = createCapsidStructure(pdb, capsid=calphas)\n",
        "elif visualize_nglview == 'none':\n",
        "  print('Not visualizing results')\n",
        "else:\n",
        "  print('Incorrect value of visualize_nglview')"
      ],
      "id": "Bol9dQLCywCF"
    },
    {
      "cell_type": "markdown",
      "metadata": {
        "id": "2QU11lpb7w8Y"
      },
      "source": [
        "## Snapshot of capsid"
      ],
      "id": "2QU11lpb7w8Y"
    },
    {
      "cell_type": "code",
      "execution_count": null,
      "metadata": {
        "id": "7_j7qAcd7w8e"
      },
      "outputs": [],
      "source": [
        "if visualize_nglview == 'full':\n",
        "  # This cell will create an standard view of the capsid, which the next cell will\n",
        "  # modify to create the final result.\n",
        "  view_capsid = ngl.NGLWidget(capsid_ngl)\n",
        "elif visualize_nglview == 'calphas':\n",
        "  view_capsid = ngl.NGLWidget(capsid_ngl)\n",
        "elif visualize_nglview == 'none':\n",
        "  print('Not visualizing results')\n",
        "  view_capsid = 0\n",
        "else:\n",
        "  view_capsid = 0\n",
        "  print('Incorrect value of visualize_nglview')\n",
        "view_capsid"
      ],
      "id": "7_j7qAcd7w8e"
    },
    {
      "cell_type": "code",
      "execution_count": null,
      "metadata": {
        "id": "qJy35dVD7w8e"
      },
      "outputs": [],
      "source": [
        "# Once you've done this use this code to download the results\n",
        "if visualize_nglview in ('full', 'calphas'):\n",
        "  view_capsid._remote_call(\"setSize\", target='Widget', args=['800px', '800px'])\n",
        "  view_capsid.center()\n",
        "  view_capsid.download_image(f'{pdb}_full_capsid',factor=2)\n",
        "  #img_capsid = view_capsid.render_image(factor = 1, trim=True)"
      ],
      "id": "qJy35dVD7w8e"
    },
    {
      "cell_type": "markdown",
      "metadata": {
        "id": "UEjKiXyHDyNy"
      },
      "source": [
        "## Visualize clustering results"
      ],
      "id": "UEjKiXyHDyNy"
    },
    {
      "cell_type": "code",
      "execution_count": null,
      "metadata": {
        "colab": {
          "background_save": true,
          "base_uri": "https://localhost:8080/",
          "height": 317,
          "referenced_widgets": [
            "c3d76bb282154494af592850126a0868"
          ]
        },
        "id": "28a63769",
        "outputId": "802631ab-9c4f-4626-98ea-e53e828dadba"
      },
      "outputs": [
        {
          "data": {
            "application/vnd.jupyter.widget-view+json": {
              "model_id": "c3d76bb282154494af592850126a0868",
              "version_major": 2,
              "version_minor": 0
            },
            "text/plain": [
              "NGLWidget()"
            ]
          },
          "metadata": {
            "application/vnd.jupyter.widget-view+json": {
              "colab": {
                "custom_widget_manager": {
                  "url": "https://ssl.gstatic.com/colaboratory-static/widgets/colab-cdn-widget-manager/b3e629b1971e1542/manager.min.js"
                }
              }
            }
          },
          "output_type": "display_data"
        }
      ],
      "source": [
        "if visualize_nglview == 'full':\n",
        "  # This cell will create an standard view of the capsid, which the next cell will\n",
        "  # modify to create the final result.\n",
        "  view_clusters = ngl.NGLWidget(capsid_ngl)\n",
        "elif visualize_nglview == 'calphas':\n",
        "  view_clusters = ngl.NGLWidget(capsid_ngl)\n",
        "elif visualize_nglview == 'none':\n",
        "  print('Not visualizing results')\n",
        "  view_clusters = 0\n",
        "else:\n",
        "  view_clusters = 0\n",
        "  print('Incorrect value of visualize_nglview')\n",
        "view_clusters"
      ],
      "id": "28a63769"
    },
    {
      "cell_type": "code",
      "execution_count": null,
      "metadata": {
        "colab": {
          "background_save": true
        },
        "id": "DZ24IOQg0V0x",
        "outputId": "bbb9fee9-89e5-4de4-e19d-942682b8fbae"
      },
      "outputs": [
        {
          "name": "stdout",
          "output_type": "stream",
          "text": [
            "Each atom in this structure has the same color as other atoms in the same cluster.\n",
            "rendering\n"
          ]
        }
      ],
      "source": [
        "if visualize_nglview == 'full':\n",
        "  # If the above view doesn't change coloration, run this cell again.\n",
        "  for i in range(view_clusters.n_components):\n",
        "    view_clusters.clear_representations(component=i)\n",
        "  createClusterRepresentation(pdb, labels, view_clusters)\n",
        "  # Add rep_type='spacefill' to represent the atoms of the capsid as spheres. This provides less information regarding the proteins but makes it easier to identify the geometry of the clusters\n",
        "  #createClusterRepresentation(pdb, labels, view_clusters, rep_type='spacefill')\n",
        "elif visualize_nglview == 'calphas':\n",
        "  for i in range(view_clusters.n_components):\n",
        "    view_clusters.clear_representations(component=i)\n",
        "  # If the above view doesn't change coloration, run this cell again.\n",
        "  createClusterRepresentation(pdb, labels, view_clusters, rep_type='spacefill')\n",
        "  # Add rep_type='spacefill' to represent the atoms of the capsid as spheres. This provides less information regarding the proteins but makes it easier to identify the geometry of the clusters\n",
        "  #createClusterRepresentation(pdb, labels, view_clusters, rep_type='spacefill')\n",
        "else:\n",
        "  pass"
      ],
      "id": "DZ24IOQg0V0x"
    },
    {
      "cell_type": "code",
      "execution_count": null,
      "metadata": {
        "id": "wVNLwXVpYlFa"
      },
      "outputs": [],
      "source": [
        "# Once you've done this use this code to download the results\n",
        "if visualize_nglview in ('full', 'calphas'):\n",
        "  view_clusters.center()\n",
        "  view_clusters.download_image(f'{pdb}_highest_quality_clusters.png',factor=2)\n",
        "  #img_clusters = view_clusters.render_image(factor = 1, trim=True)"
      ],
      "id": "wVNLwXVpYlFa"
    },
    {
      "cell_type": "markdown",
      "metadata": {
        "id": "9a387312-4b3d-481b-9d84-5b26c64067ef"
      },
      "source": [
        "## Visualize residue cluster quality scores\n",
        "Running the same code but replacing labels with residue_scores and adding rwb_scale=True visualizes the quality score of each residue. This is a measure of how rigid each residue is with respect to its cluster. Blue residues make up the cores of rigid clusters, and red residues represent borders between clusters."
      ],
      "id": "9a387312-4b3d-481b-9d84-5b26c64067ef"
    },
    {
      "cell_type": "code",
      "execution_count": null,
      "metadata": {
        "id": "d9629ce6-fc8b-41f3-8a67-9758b1f576f1"
      },
      "outputs": [],
      "source": [
        "if visualize_nglview in ('full', 'calphas'):\n",
        "  # This code adds a colorbar based on the residue scores\n",
        "  print('Each atom in this structure is colored according to the clustering quality score of its residue.')\n",
        "  hexcolor, cmap = clusters_colormap_hexcolor(residue_scores, rwb_scale=True)\n",
        "  fig, ax = plt.subplots(figsize=(10, 0.5))\n",
        "  cb = colorbar.ColorbarBase(ax, orientation='horizontal',\n",
        "                              cmap=cmap, norm=plt.Normalize(np.min(residue_scores), np.max(residue_scores)))\n",
        "  #plt.show()\n",
        "\n",
        "# This cell will create an empty view, which the next cell will\n",
        "# modify to create the final result.\n",
        "if visualize_nglview == 'full':\n",
        "  # This cell will create an standard view of the capsid, which the next cell will\n",
        "  # modify to create the final result.\n",
        "  view_scores = ngl.NGLWidget()\n",
        "  view_scores.add_component(capsid_ngl)\n",
        "elif visualize_nglview == 'calphas':\n",
        "  view_scores = ngl.NGLWidget()\n",
        "  view_scores.add_component(capsid_ngl)\n",
        "elif visualize_nglview == 'none':\n",
        "  print('Not visualizing results')\n",
        "  view_scores = 0\n",
        "else:\n",
        "  view_scores = 0\n",
        "  print('Incorrect value of visualize_nglview')\n",
        "view_scores"
      ],
      "id": "d9629ce6-fc8b-41f3-8a67-9758b1f576f1"
    },
    {
      "cell_type": "code",
      "execution_count": null,
      "metadata": {
        "colab": {
          "background_save": true
        },
        "id": "AqHoNTk00fo9",
        "outputId": "49d459d2-fff1-4a3b-8f0a-5e5c94de3dc5"
      },
      "outputs": [
        {
          "name": "stdout",
          "output_type": "stream",
          "text": [
            "Each atom in this structure is colored according to the clustering quality score of its residue.\n"
          ]
        },
        {
          "data": {
            "image/png": "[encoded data removed]",
            "text/plain": [
              "<Figure size 640x480 with 1 Axes>"
            ]
          },
          "metadata": {},
          "output_type": "display_data"
        },
        {
          "data": {
            "image/png": "[encoded data removed]",
            "text/plain": [
              "<Figure size 600x400 with 1 Axes>"
            ]
          },
          "metadata": {},
          "output_type": "display_data"
        },
        {
          "data": {
            "image/png": "[encoded data removed]",
            "text/plain": [
              "<Figure size 600x450 with 1 Axes>"
            ]
          },
          "metadata": {},
          "output_type": "display_data"
        },
        {
          "data": {
            "image/png": "[encoded data removed]",
            "text/plain": [
              "<Figure size 600x300 with 2 Axes>"
            ]
          },
          "metadata": {},
          "output_type": "display_data"
        },
        {
          "data": {
            "image/png": "[encoded data removed]",
            "text/plain": [
              "<Figure size 1000x100 with 1 Axes>"
            ]
          },
          "metadata": {},
          "output_type": "display_data"
        },
        {
          "data": {
            "image/png": "[encoded data removed]",
            "text/plain": [
              "<Figure size 1000x50 with 1 Axes>"
            ]
          },
          "metadata": {},
          "output_type": "display_data"
        },
        {
          "data": {
            "image/png": "[encoded data removed]",
            "text/plain": [
              "<Figure size 1000x50 with 1 Axes>"
            ]
          },
          "metadata": {},
          "output_type": "display_data"
        },
        {
          "name": "stdout",
          "output_type": "stream",
          "text": [
            "rendering\n"
          ]
        }
      ],
      "source": [
        "if visualize_nglview == 'full':\n",
        "  # If the above view doesn't change coloration, run this cell again.\n",
        "  for i in range(view_scores.n_components):\n",
        "    view_scores.clear_representations(component=i)\n",
        "  createClusterRepresentation(pdb, residue_scores, view_scores, rwb_scale=True)\n",
        "elif visualize_nglview == 'calphas':\n",
        "  for i in range(view_scores.n_components):\n",
        "    view_scores.clear_representations(component=i)\n",
        "  # If the above view doesn't change coloration, run this cell again.\n",
        "  createClusterRepresentation(pdb, residue_scores, view_scores, rep_type='spacefill', rwb_scale=True)\n",
        "  # Add rep_type='spacefill' to represent the atoms of the capsid as spheres. This provides less information regarding the proteins but makes it easier to identify the geometry of the clusters\n",
        "  #createClusterRepresentation(pdb, labels, view_clusters, rep_type='spacefill')\n",
        "else:\n",
        "  pass"
      ],
      "id": "AqHoNTk00fo9"
    },
    {
      "cell_type": "code",
      "execution_count": null,
      "metadata": {
        "id": "M_bAICfx6Xxw"
      },
      "outputs": [],
      "source": [
        "# Once you've done this use this code to download the results\n",
        "if visualize_nglview in ('full', 'calphas'):\n",
        "  view_scores.center()\n",
        "  view_scores.download_image(f'{pdb}_residue_cluster_scores',factor=2)\n",
        "  #img_scores = view_scores.render_image(factor = 1, trim=True)"
      ],
      "id": "M_bAICfx6Xxw"
    },
    {
      "cell_type": "markdown",
      "metadata": {
        "id": "604bae20-5522-4940-a020-a162bdc99a91"
      },
      "source": [
        "## Snapshot of capsid"
      ],
      "id": "604bae20-5522-4940-a020-a162bdc99a91"
    },
    {
      "cell_type": "code",
      "execution_count": null,
      "metadata": {
        "id": "66355cb7-611a-41d7-95b0-2383075ac32f"
      },
      "outputs": [],
      "source": [
        "if visualize_nglview == 'full':\n",
        "  # This cell will create an standard view of the capsid, which the next cell will\n",
        "  # modify to create the final result.\n",
        "  view_capsid = createCapsidView(pdb, capsid)\n",
        "elif visualize_nglview == 'calphas':\n",
        "  view_capsid = createCapsidView(pdb, calphas)\n",
        "elif visualize_nglview == 'none':\n",
        "  print('Not visualizing results')\n",
        "  view_capsid = 0\n",
        "else:\n",
        "  view_capsid = 0\n",
        "  print('Incorrect value of visualize_nglview')\n",
        "view_capsid"
      ],
      "id": "66355cb7-611a-41d7-95b0-2383075ac32f"
    },
    {
      "cell_type": "code",
      "execution_count": null,
      "metadata": {
        "id": "b5c3b0ec-441b-4fb4-a5be-05d6895fec95"
      },
      "outputs": [],
      "source": [
        "# Once you've done this use this code to download the results\n",
        "if visualize_nglview in ('full', 'calphas'):\n",
        "  view_capsid._remote_call(\"setSize\", target='Widget', args=['800px', '800px'])\n",
        "  view_capsid.center()\n",
        "  view_capsid.download_image(f'{pdb}_full_capsid',factor=2)\n",
        "  #img_capsid = view_capsid.render_image(factor = 1, trim=True)"
      ],
      "id": "b5c3b0ec-441b-4fb4-a5be-05d6895fec95"
    },
    {
      "cell_type": "markdown",
      "metadata": {
        "id": "8cVEs82JD-YG"
      },
      "source": [
        "## Snapshot of asymmetric unit"
      ],
      "id": "8cVEs82JD-YG"
    },
    {
      "cell_type": "code",
      "execution_count": null,
      "metadata": {
        "id": "bf93bd21"
      },
      "outputs": [],
      "source": [
        "if visualize_nglview =='full':\n",
        "  strucio.save_structure(pdb + '_asym.pdb', asymmetric_unit, hybrid36=True)\n",
        "elif visualize_nglview == 'calphas':\n",
        "  strucio.save_structure(pdb + '_asym.pdb', asymmetric_unit[asymmetric_unit.atom_name == 'CA'], hybrid36=True)\n",
        "\n",
        "if visualize_nglview in ('full', 'calphas'):\n",
        "  view_asym = ngl.NGLWidget()\n",
        "  view_asym.add_component(FileStructure(pdb + '_asym.pdb'))\n",
        "else:\n",
        "  view_asym=0\n",
        "view_asym"
      ],
      "id": "bf93bd21"
    },
    {
      "cell_type": "code",
      "execution_count": null,
      "metadata": {
        "id": "ff76d2e9"
      },
      "outputs": [],
      "source": [
        "if visualize_nglview in ('full', 'calphas'):\n",
        "  view_asym._remote_call(\"setSize\", target='Widget', args=['800px', '800px'])\n",
        "  view_asym.center()\n",
        "  view_asym.download_image(f'{pdb}_asymmetric_unit',factor=2)\n",
        "  #img_asym = view_asym.render_image(factor = 1, trim=True)"
      ],
      "id": "ff76d2e9"
    },
    {
      "cell_type": "markdown",
      "metadata": {
        "id": "DlJOyQJ_i6_k"
      },
      "source": [
        "## Structures folder"
      ],
      "id": "DlJOyQJ_i6_k"
    },
    {
      "cell_type": "code",
      "execution_count": null,
      "metadata": {
        "id": "VBvZ83g9gyBY"
      },
      "outputs": [],
      "source": [
        "# Generate folder\n",
        "structures_dir = figures_dir + '/' + 'structures'\n",
        "if not os.path.exists(structures_dir):\n",
        "  os.mkdir(structures_dir)"
      ],
      "id": "VBvZ83g9gyBY"
    },
    {
      "cell_type": "markdown",
      "metadata": {
        "id": "fSj9PMuOjF6W"
      },
      "source": [
        "### Asymmetric unit"
      ],
      "id": "fSj9PMuOjF6W"
    },
    {
      "cell_type": "code",
      "execution_count": null,
      "metadata": {
        "id": "4R59pmrjiiJa"
      },
      "outputs": [],
      "source": [
        "# Save image\n",
        "dir_loc = structures_dir\n",
        "file_name = asym_unit_fig_png\n",
        "path_target = dir_loc + '/' + file_name\n",
        "\n",
        "\n",
        "if visualize_nglview in ('full', 'calphas'):\n",
        "  f = open(path_target,'wb')\n",
        "  f.write(img_asym.value)\n",
        "  f.close()\n",
        "else:\n",
        "  from PIL import Image\n",
        "  image = Image.new('RGB', (20, 20))\n",
        "  image.save(path_target)"
      ],
      "id": "4R59pmrjiiJa"
    },
    {
      "cell_type": "markdown",
      "metadata": {
        "id": "eROIX5u4mF84"
      },
      "source": [
        "### Capsid structure"
      ],
      "id": "eROIX5u4mF84"
    },
    {
      "cell_type": "code",
      "execution_count": null,
      "metadata": {
        "id": "BKUDUd6kmun4"
      },
      "outputs": [],
      "source": [
        "# Save image\n",
        "dir_loc = structures_dir\n",
        "file_name = capsid_fig_png\n",
        "path_target = dir_loc + '/' + file_name\n",
        "\n",
        "if visualize_nglview in ('full', 'calphas'):\n",
        "  f = open(path_target,'wb')\n",
        "  f.write(img_capsid.value)\n",
        "  f.close()\n",
        "else:\n",
        "  from PIL import Image\n",
        "  image = Image.new('RGB', (20, 20))\n",
        "  image.save(path_target)"
      ],
      "id": "BKUDUd6kmun4"
    },
    {
      "cell_type": "markdown",
      "metadata": {
        "id": "-BegX-wonG3X"
      },
      "source": [
        "### Capsid scores"
      ],
      "id": "-BegX-wonG3X"
    },
    {
      "cell_type": "code",
      "execution_count": null,
      "metadata": {
        "id": "wlbUcKe_naL6"
      },
      "outputs": [],
      "source": [
        "# Save image\n",
        "dir_loc = structures_dir\n",
        "file_name = capsid_scores_fig_png\n",
        "path_target = dir_loc + '/' + file_name\n",
        "\n",
        "\n",
        "if visualize_nglview in ('full', 'calphas'):\n",
        "  f = open(path_target,'wb')\n",
        "  f.write(img_scores.value)\n",
        "  f.close()\n",
        "else:\n",
        "  from PIL import Image\n",
        "  image = Image.new('RGB', (20, 20))\n",
        "  image.save(path_target)"
      ],
      "id": "wlbUcKe_naL6"
    },
    {
      "cell_type": "markdown",
      "metadata": {
        "id": "szeiljcVotTS"
      },
      "source": [
        "### Capsid clusters"
      ],
      "id": "szeiljcVotTS"
    },
    {
      "cell_type": "code",
      "execution_count": null,
      "metadata": {
        "id": "OLO1coLxo7zu"
      },
      "outputs": [],
      "source": [
        "# Save image\n",
        "dir_loc = structures_dir\n",
        "file_name = capsid_clusters_fig_png\n",
        "path_target = dir_loc + '/' + file_name\n",
        "\n",
        "if visualize_nglview in ('full', 'calphas'):\n",
        "  f = open(path_target,'wb')\n",
        "  f.write(img_clusters.value)\n",
        "  f.close()\n",
        "else:\n",
        "  from PIL import Image\n",
        "  image = Image.new('RGB', (20, 20))\n",
        "  image.save(path_target)"
      ],
      "id": "OLO1coLxo7zu"
    },
    {
      "cell_type": "markdown",
      "metadata": {
        "id": "fqmI8SfIe0-z"
      },
      "source": [
        "# Generate advanced analysis\n",
        "Adapt this section to offer users the opportunity to go deeper than the initial results to refine their interpretation or explore alternative outputs."
      ],
      "id": "fqmI8SfIe0-z"
    },
    {
      "cell_type": "markdown",
      "metadata": {
        "id": "jF0kQu1O8Gcn"
      },
      "source": [
        "## ChimeraX visualization options\n",
        "### `chimerax_script_colab.py`\n",
        "+ `-report_dir` Location of `pyCapsid_report/chimerax` directory. Only needed if the script is in a separate directory from the report.\n",
        "\n",
        "+ `-nc` Integer. Number of clusters in the corresponding results you want to visualize.\n",
        "+ `-remote` True/False. Whether to use a remote structure from the PDB database or a local structure.\n",
        "+ `-pdb` String. If remote is True or None, PDBID of the target structure. Otherwise, the local filename of the target structure\n",
        "+ `-mode` String. Options are: `cluster`, `score`, `both`. Whether to end on the cluster coloring or score clustering (`cluster` or `score`), or create a duplicate model for each coloring for further visualization (`both`).\n",
        "+ `-allClusters` True/False. Whether to create an individual snapshot of each cluster.\n",
        "+ `-addClusterIDs` True/False. If True assigns a cluster id to each residue as a custom attribute in chimerax. This can be referenced in chimerax commands. For example: `show ::cluster_id=100 target mc only` hides everything but residues with the cluster_id 100.\n",
        "\n",
        "### `chimerax_script_animate_mode.py`\n",
        "+ `-report_dir` Location of `pyCapsid_report/chimerax` directory. Only needed if the script is in a separate directory from the report.\n",
        "+ `-nmode` Integer. Index of normal mode to visualize\n",
        "+ `-remote` True/False. Whether to use a remote structure from the PDB database or a local structure.\n",
        "+ `-pdb` String. If remote is True or None, PDBID of the target structure. Otherwise, the local filename of the target structure\n",
        "+ `-amplitude` Float. Maximum amplitude of motion along the mode for visualization purposes.\n",
        "+ `-frames` Integer. Number of frames to generate for the animation.\n",
        "+ `-save_frames` True/False. Whether to save the individual frames used to create the image"
      ],
      "id": "jF0kQu1O8Gcn"
    },
    {
      "cell_type": "markdown",
      "metadata": {
        "id": "QSVVowgiaACq"
      },
      "source": [
        "## Visualizing alternate results\n",
        "The numerical results are saved as compressed .npz files by default and can be opened and used to visualize the results afterwards. This includes the ability to visualize clusters that weren't the highest scoring cluster. In this example\n",
        "we visualize the results of clustering the capsid into 20 clusters.\n",
        "\n",
        "To do this using ChimeraX, add the '-nc' optional parameter when running chimerax_colab_script.py\n",
        "```\n",
        "runscript \"path/to/pyCapsid_report/chimerax/chimerax_script_colab.py\" -nc 20\n",
        "```\n",
        "```\n",
        "runscript browse -nc 20\n",
        "```"
      ],
      "id": "QSVVowgiaACq"
    },
    {
      "cell_type": "markdown",
      "metadata": {
        "id": "eFDGgjQ-Knmy"
      },
      "source": [
        "To visualize saved results in the notebook using NGLView, modify and run the following code blocks."
      ],
      "id": "eFDGgjQ-Knmy"
    },
    {
      "cell_type": "code",
      "execution_count": null,
      "metadata": {
        "id": "85872koLfQxy"
      },
      "outputs": [],
      "source": [
        "# from pyCapsid.VIS import visualizeSavedResults\n",
        "# results_file = f'{pdb}_final_results_full.npz' # Path of the saved results\n",
        "# labels_20, view_clusters = visualizeSavedResults(pdb, results_file, n_cluster=20, method='nglview')\n",
        "# view_clusters"
      ],
      "id": "85872koLfQxy"
    },
    {
      "cell_type": "code",
      "execution_count": null,
      "metadata": {
        "id": "zDnyCMBpga7o"
      },
      "outputs": [],
      "source": [
        "# If the above view doesn't change coloration, run this cell again.\n",
        "# In general do not run this cell until the above cell has finished rendering\n",
        "# from pyCapsid.VIS import createClusterRepresentation\n",
        "# createClusterRepresentation(pdb, labels_20, view_clusters)\n",
        "\n",
        "# Add rep_type='spacefill' to represent the atoms of the capsid as spheres. This provides less information regarding the proteins but makes it easier to identify the geometry of the clusters\n",
        "#createClusterRepresentation(pdb, labels, view_clusters, rep_type='spacefill')"
      ],
      "id": "zDnyCMBpga7o"
    },
    {
      "cell_type": "markdown",
      "metadata": {
        "id": "7b5d0713-f1a7-4fdc-b9ce-9a265a779d07"
      },
      "source": [
        "## Visualizing mode dynamics\n",
        "The user may visualize motion of the structure along a given normal mode using a script provided in the pyCapsid_report folder using one of the following commands:\n",
        "```\n",
        "runscript \"path/to/pyCapsid_report/chimerax/chimerax_script_animate_mode.py\" -nmode 8 -amplitude 5 -frames 60\n",
        "```\n",
        "```\n",
        "runscript browse -nmode 8 -amplitude 5 -frames 60\n",
        "```\n",
        "This will create an .mp4 file in the figures/structures folder of the report."
      ],
      "id": "7b5d0713-f1a7-4fdc-b9ce-9a265a779d07"
    },
    {
      "cell_type": "markdown",
      "metadata": {
        "id": "NIyIXIPwLoPE"
      },
      "source": [
        "This code creates the same animation using NGLView (only recommended when analyzing small structures or using a high performance CPU). Uncomment the code in this section to visualize motion along a given mode (n_mode). This code will download a series of images rendered in NGLView that can be used to create an animation. It can also download a multistructure PDB file that can be used to create an animation using ChimeraX's mseries command."
      ],
      "id": "NIyIXIPwLoPE"
    },
    {
      "cell_type": "code",
      "execution_count": null,
      "metadata": {
        "id": "08639ea2-f464-4ece-af8b-1d35f6a508d8"
      },
      "outputs": [],
      "source": [
        "# n_frames = 10 # number of frames to generate\n",
        "# n_mode = 8 # mode to visualize\n",
        "# max_amplitude = 3 # Angstroms, scale at which to visualize the mode.\n",
        "# import numpy as np\n",
        "# def generateTrajFromModes(calphas, capsid, modes, n_mode=0, max_amplitude=1, n_frames = 60):\n",
        "#     import biotite.structure as struc\n",
        "#     mode_vec = modes[:,  n_mode].reshape((-1,3))\n",
        "\n",
        "#     vector_lengths = np.sqrt(np.sum(mode_vec**2, axis=-1))\n",
        "#     scale = max_amplitude / np.max(vector_lengths)\n",
        "#     mode_vec *= scale\n",
        "\n",
        "#     time = np.linspace(0, 2*np.pi, n_frames, endpoint=False)\n",
        "#     deviation = np.sin(time)[:, np.newaxis, np.newaxis] * mode_vec\n",
        "#     print(deviation.shape)\n",
        "#     oscillation = np.zeros((n_frames, len(capsid), 3))\n",
        "\n",
        "#     residue_starts = struc.get_residue_starts(\n",
        "#     capsid,\n",
        "#     add_exclusive_stop=True)\n",
        "#     print(residue_starts)\n",
        "#     for i in range(len(residue_starts)-1):\n",
        "#         res_start = residue_starts[i]\n",
        "#         res_stop = residue_starts[i+1]\n",
        "#         dev = deviation[:,i:i+1,:]\n",
        "#         #print(res_stop)\n",
        "#         oscillation[:,res_start:res_stop,:] = capsid.coord[res_start:res_stop,:] + dev\n",
        "#     return oscillation"
      ],
      "id": "08639ea2-f464-4ece-af8b-1d35f6a508d8"
    },
    {
      "cell_type": "code",
      "execution_count": null,
      "metadata": {
        "id": "28178fbe-661a-4ce5-a25b-2c338947bc74"
      },
      "outputs": [],
      "source": [
        "# osc = generateTrajFromModes(calphas, capsid, evecs, n_mode=n_mode, max_amplitude=max_amplitude, n_frames=n_frames)"
      ],
      "id": "28178fbe-661a-4ce5-a25b-2c338947bc74"
    },
    {
      "cell_type": "code",
      "execution_count": null,
      "metadata": {
        "id": "66ef4e0e-32e1-4e30-b80d-34c05db979a6"
      },
      "outputs": [],
      "source": [
        "# This code saves a PDB ensemble which can be visualized in ChimeraX using the\n",
        "# mseries command\n",
        "# import biotite.structure as struc\n",
        "# oscillating_structure = struc.from_template(capsid, osc)\n",
        "# import biotite.structure.io as strucio\n",
        "# strucio.save_structure(f'{pdb}_oscillation.pdb', oscillating_structure)"
      ],
      "id": "66ef4e0e-32e1-4e30-b80d-34c05db979a6"
    },
    {
      "cell_type": "code",
      "execution_count": null,
      "metadata": {
        "id": "bb2f0233-554c-4d3e-92c9-d76b3ef61a37"
      },
      "outputs": [],
      "source": [
        "# from pyCapsid.VIS import createCapsidView\n",
        "# view_modes = createCapsidView(pdb, capsid)\n",
        "# view_modes"
      ],
      "id": "bb2f0233-554c-4d3e-92c9-d76b3ef61a37"
    },
    {
      "cell_type": "code",
      "execution_count": null,
      "metadata": {
        "id": "8b759637-398d-475c-a2ec-99148cab97b9"
      },
      "outputs": [],
      "source": [
        "#view_modes._remote_call(\"setSize\", target='Widget', args=['800px', '800px'])"
      ],
      "id": "8b759637-398d-475c-a2ec-99148cab97b9"
    },
    {
      "cell_type": "code",
      "execution_count": null,
      "metadata": {
        "id": "5c7b4c74-3691-466a-b472-e14f71ece5a0"
      },
      "outputs": [],
      "source": [
        "# from time import sleep\n",
        "# cycles = 1\n",
        "# for i in range(cycles*n_frames):\n",
        "#     f = i % n_frames\n",
        "#     view_modes.set_coordinates({0: osc[f,:,:]})\n",
        "#     view_modes.set_coordinates({1: osc[f,:,:]})\n",
        "#     sleep(2.0)\n",
        "#     view_modes.download_image(f'{pdb}_mode_{n_mode}_animation_frame_{i}',factor=1)"
      ],
      "id": "5c7b4c74-3691-466a-b472-e14f71ece5a0"
    }
  ],
  "metadata": {
    "colab": {
      "provenance": [],
      "toc_visible": true
    },
    "kernelspec": {
      "display_name": "Python 3",
      "name": "python3"
    },
    "language_info": {
      "codemirror_mode": {
        "name": "ipython",
        "version": 3
      },
      "file_extension": ".py",
      "mimetype": "text/x-python",
      "name": "python",
      "nbconvert_exporter": "python",
      "pygments_lexer": "ipython3",
      "version": "3.10.11"
    },
    "widgets": {
      "application/vnd.jupyter.widget-state+json": {}
    }
  },
  "nbformat": 4,
  "nbformat_minor": 5
}