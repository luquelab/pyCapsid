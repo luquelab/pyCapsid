{
 "cells": [
  {
   "cell_type": "markdown",
   "id": "b7cf0bfb",
   "metadata": {
    "colab_type": "text",
    "id": "view-in-github"
   },
   "source": [
    "<a href=\"https://colab.research.google.com/github/luquelab/pyCapsid/blob/Colab/notebooks/pyCapsid_colab_notebook.ipynb\" target=\"_parent\"><img src=\"https://colab.research.google.com/assets/colab-badge.svg\" alt=\"Open In Colab\"/></a>"
   ]
  },
  {
   "cell_type": "markdown",
   "id": "Qy_uD5Y4oWfL",
   "metadata": {
    "id": "Qy_uD5Y4oWfL"
   },
   "source": [
    "# pyCapsid Colab\n",
    "\n",
    "\n"
   ]
  },
  {
   "cell_type": "markdown",
   "id": "gjlNc2nY8bIP",
   "metadata": {
    "id": "gjlNc2nY8bIP"
   },
   "source": [
    "## Description\n",
    "This Colab notebook contains a pipeline to predict dominant dynamics and quasi-rigid mechanical units in large protein complexes. The outputs capture the molecular regions likely to be involved in structural transitions, including transitions triggering the disassembly of the protein complex.\n",
    "\n",
    "The notebook builds on the Python package [pyCapsid](https://luquelab.github.io/pyCapsid/), which combines elastic network models, normal mode analysis, and clustering methods. The current version includes options to refine the resolution of the results for protein shells, like viral capsids. Check pyCapsid's [online documentation](https://luquelab.github.io/pyCapsid/) for further technical details."
   ]
  },
  {
   "cell_type": "markdown",
   "id": "Es0CHq_in4dz",
   "metadata": {
    "id": "Es0CHq_in4dz"
   },
   "source": [
    "## Quick-start guide\n",
    "Follow the steps described below to obtain the dominant dynamics and quasi-rigid units of a protein complex. To help navigate the guide, we recommend displaying the Colab notebook's Table of contents of Colab notebook (open the `View` menu on the top bar and choose `Table of contents`):\n",
    "1. Specify the structure to be analyzed in the [Input structure](#scrollTo=Input_structure) section. Run the code block to import the structure to pyCapsid Colab.\n",
    "2. Modify the default pyCapsid parameters if necessary in the [pyCapsid parameters](#scrollTo=pyCapsid_parameters) section. Run the code block to import the parameters to pyCapsid Colab.\n",
    "3. Exectute the rest of the notebook, for example, navigating the Colab menu `Runtime` and choosing the option `Run all`. This will install pyCapsid, run the pipeline, and generate and store the results.\n",
    "  + The pipeline will automatically compressed the results in a zip file and download it. Your browser might prompt a request to allow the downloading process.\n",
    "  + If you encounter any issues in the downloading process, check the section [Problems downloading results?](#scrollTo=Problems_downloading_results_)\n",
    "  + The execution time and maximum size of the protein complex depend on the computing power and memory of the Colab cloud service used, which depends on the user's Colab plan. The section [Estimate time and memory](#scrollTo=Estimate_time_and_memory) contains a code block to estimate the execution time and memeory requirement for the input structure and parameters.\n",
    "4. Check the downloaded report (`pyCapsid_report.*`) for a summary and interpretation of the main results. The report is available in three formats: Markdown, `*.md`, Microsoft Word (`*.docx`), and Web page's HyperText Markup Language (`*.html`). The multi-formatted report aims to facilitate users adapting pyCapsid's results to their publication needs. Check the section [pyCapsid report](#scrollTo=pyCapsid_report) for further details.   \n",
    "   + Additional results are displayed throughout the different subsections in the [Run the pyCapsid pipeline](#scrollTo=Run_the_pyCapsid_pipeline)'s section.\n",
    "5. Modify and re-run the section [Generate advanced analysis](#scrollTo=Generate_advanced_analysis) to obtain advanced analyses using results stored during the execution of the pyCapsid pipeline.\n"
   ]
  },
  {
   "cell_type": "markdown",
   "id": "TW84O9VP8dKy",
   "metadata": {
    "id": "TW84O9VP8dKy"
   },
   "source": [
    "## Issues, support, and citation\n",
    "pyCapsid is licensed under the permissive free software license, MIT License. It is recommended to run the Colab notebook using [Google Chrome Browser](https://www.google.com/chrome/).\n",
    "\n",
    "+ If you encounter any problem using pyCapsid or required any additional functionalities, please, [open an issue on GitHub](https://github.com/luquelab/pyCapsid/issues).\n",
    "+ If you use pyCapsid and would like to help support its development further, please, [add a star to its GitHub repository](https://github.com/luquelab/pyCapsid).\n",
    "+ If you publish any work that included the use of pyCapsid, please, follow its [online citation guide](https://luquelab.github.io/pyCapsid/acknowledgements/)."
   ]
  },
  {
   "cell_type": "markdown",
   "id": "6MIuCLJbANGg",
   "metadata": {
    "id": "6MIuCLJbANGg"
   },
   "source": [
    "# Input structure and parameters"
   ]
  },
  {
   "cell_type": "markdown",
   "id": "Xa7lRUOFudr6",
   "metadata": {
    "id": "Xa7lRUOFudr6"
   },
   "source": [
    "## Input structure\n",
    "pyCapsid requires the protein complex to be encoded in the [Protein Data Bank (PDB) format](https://pdb101.rcsb.org/learn/guide-to-understanding-pdb-data/introduction).\n",
    "\n",
    "### Source and structure\n",
    "Fill the variables in the block code below to specify the source and identifier for the structure. Follow these guides:\n",
    "+ `pdb_source` determines if the structure will be fetched from the Protein Data Bank (`'PDB'`) or uploaded (`'upload'`).\n",
    "+ `pdb_id` stores the PDBid to fetch the structure online.\n",
    "\n",
    "If the option is `'upload'`, when executing the code cell below a prompt will appear to choose the file from the local directory. The maximum file size allowed in the standard Colab cloud-server is 2 GB."
   ]
  },
  {
   "cell_type": "code",
   "execution_count": null,
   "id": "_X0YggCBjwvr",
   "metadata": {
    "id": "_X0YggCBjwvr"
   },
   "outputs": [],
   "source": [
    "# Specify the PDB source\n",
    "pdb_source = 'PDB' #Values expected: 'PDB' or 'upload'\n",
    "\n",
    "# Specify the PDBid (if the structure has to be fetched online)\n",
    "pdb_id = '4oq8'\n",
    "\n",
    "# Print option\n",
    "if pdb_source == 'PDB':\n",
    "  print('The structure with PDBid ' + pdb_id + ' will be fetched from the Protein Data Bank.')\n",
    "\n",
    "elif pdb_source == 'upload':\n",
    "\n",
    "  from google.colab import files\n",
    "  uploaded = files.upload()\n",
    "  pdb_file_name = list(uploaded.keys())[0] # Extract PDB file name\n",
    "  print('The name of the PDB file is ' + pdb_file_name)\n",
    "\n",
    "else:\n",
    "  print('The value `'+ pdb_source +'` specifed in `pdb_source` is not valid. Choose from the expected options above.')"
   ]
  },
  {
   "cell_type": "markdown",
   "id": "0BTfEbp3uW8f",
   "metadata": {
    "id": "0BTfEbp3uW8f"
   },
   "source": [
    "## pyCapsid parameters\n",
    "\n",
    "Edit the variables in the block code below to specify the main options in the pyCapsid calculations. If you do not edit anything, the default values will be used. The list below describes the variables and their options:\n",
    "\n",
    "+ `ENM_model` specifies the elastic network model used to coarse-grained the protein complex. There are four different models that can be specified:\n",
    "  + `ANM`: Anisotropic network model with a default cutoff of 15Å and no distance weighting.\n",
    "  + `GNM`: Gaussian network model (no three-dimensional directionality) with a default cutoff of 7.5Å and no distance weighting.\n",
    "  + `U-ENM`: Unified elastic network Model with a default cutoff of 7.5Å and a default anisotropy parameter (f_anm) of 0.1. It is the **default** and **recommended** option.\n",
    "  + `bbENM`: Backbone-enhanced Elastic network model with a default cutoff of 7.5Å and no distance weighting.\n",
    "\n",
    "+ `n_modes` specifies the number of modes to be used to calculate the dynamics. Must be an integer. The default value is 200. However, while using 200 modes can yield good results, we recommend using more modes for larger structures. Increasing the number of modes often improves the accuracy but results in longer computational times. The `fit_modes` option described below can assist in selecting the optimal value for this parameter.\n",
    "\n",
    "+ `fit_modes` is True or False. If true pyCapsid will select the number of low-frequency modes used in further calculations by finding the number of modes (less than n_modes) that results in the best correlation with experimental B-factors. If true pyCapsid will also provide a plot showing how correlation with B-factors changes with the number of modes used. If false, all modes calculated will be used.\n",
    "\n",
    "+ `cluster_min` specifies the minimum number of clusters used in the clustering analysis to identify the optimal quasi-rigid mechanical units. The minimum value is 3.\n",
    "\n",
    "+ `cluster_max` specifies the maximum number of clusters used in the clustering analysis to identify the optimal quasi-rigid mechanical units. The number of residues in the structure represents an upper value. The default value is 100. The recommended value should be at least the number of proteins in the structure. Ideally, the value should be the number of proteins times the number of expected protein domains defining the protein fold.\n",
    "\n",
    "+ `cluster_delta` specifies the steps taken when exploring the range of clusters to determine the optimal quasi-rigid mechanical units. The default value is 2. It is recommended to refine the search in a sub-region once a potential optimal result has been identified."
   ]
  },
  {
   "cell_type": "code",
   "execution_count": null,
   "id": "b_8gyJk1wLlV",
   "metadata": {
    "id": "b_8gyJk1wLlV"
   },
   "outputs": [],
   "source": [
    "# Specify values\n",
    "\n",
    "## Elastic network model\n",
    "ENM_model = 'U-ENM' # Values expected: 'ANM', 'GNM', 'U-ENM', and 'bbENM'.\n",
    "\n",
    "## Number of modes used in the dynamics\n",
    "n_modes = 100\n",
    "\n",
    "## Whether to use the number of modes that maximize CC\n",
    "fit_modes = True\n",
    "\n",
    "## Cluster range and step in the optimal analysis of quasi-rigid units.\n",
    "cluster_min = 4\n",
    "cluster_max = 100\n",
    "cluster_delta = 2\n",
    "\n",
    "# Double-check options\n",
    "\n",
    "## Elastic model\n",
    "valid_ENM = ['ANM','GNM','U-ENM']\n",
    "if ENM_model in valid_ENM:\n",
    "  print('The ENM model used for coarse-graining is ' + ENM_model + ' .')\n",
    "\n",
    "else:\n",
    "  print('The value `'+ ENM_model +'` specifed in `ENM_model` is not valid. Choose from the expected options above.')\n",
    "\n",
    "## Modes\n",
    "### Cast to non-negative integers\n",
    "n_modes = abs(int(n_modes))\n",
    "if n_modes > 0:\n",
    "  print('The number of modes in the dynamics will be ' + str(n_modes) + ' .')\n",
    "else:\n",
    "  print('WARNING: The values of `n_modes` should be both larger than zero.')\n",
    "\n",
    "## Clusters\n",
    "### Cast to non-negative integers\n",
    "cluster_min = abs(int(cluster_min))\n",
    "cluster_max = abs(int(cluster_max))\n",
    "cluster_delta = abs(int(cluster_delta))\n",
    "if ((cluster_min > 0) and (cluster_max > 0)):\n",
    "  if cluster_min <= cluster_max:\n",
    "    print('The lowest number of quasi-rigid units explored will be ' + str(cluster_min) + ' .')\n",
    "    print('The largest number of quasi-rigid units explored will be ' + str(cluster_max) + ' .')\n",
    "    print('The resolution of search for the optimal number of quasi-rigid units will be ' + str(cluster_delta) + ' .')\n",
    "\n",
    "  elif cluster_min > cluster_max:\n",
    "    print('WARNING: The value of `cluster_min` should be smaller or equal to `cluster_max`.')\n",
    "\n",
    "else:\n",
    "  print('WARNING: The values of `cluster_min` and `cluster_max` should be both larger than zero.')"
   ]
  },
  {
   "cell_type": "markdown",
   "id": "LFbIcDwREwgC",
   "metadata": {
    "id": "LFbIcDwREwgC"
   },
   "source": [
    "## Estimate time and memory\n",
    "\n",
    "Expect small protein shells (up to \\~40,000 residues) to run in less than 10 minutes and medium shells (\\~80,000 residues) in 2 or more hours using the free Colab cloud service. To investigate capsids exceeding 8 GB of RAM (120,000+ residues), consider upgrading your [Colab plan](https://colab.research.google.com/signup) or installing pyCapsid locally via [GitHub](https://github.com/luquelab/pyCapsid), [PIP](https://pypi.org/project/pyCapsid/), or [Conda](https://anaconda.org/luque_lab/pycapsid), as detailed in its [online installation guide](https://luquelab.github.io/pyCapsid/installation/)."
   ]
  },
  {
   "cell_type": "markdown",
   "id": "bnoh23CLWwul",
   "metadata": {
    "id": "bnoh23CLWwul"
   },
   "source": [
    "# Installation\n",
    "\n",
    "The following command installs pyCapsid and the necessary components for visualizing results in this notebook."
   ]
  },
  {
   "cell_type": "code",
   "execution_count": null,
   "id": "ScJyR3VXvJLP",
   "metadata": {
    "id": "ScJyR3VXvJLP"
   },
   "outputs": [],
   "source": [
    "!pip install --upgrade pyCapsid ipywidgets==7.7.2 nglview\n",
    "from google.colab import output\n",
    "output.enable_custom_widget_manager()"
   ]
  },
  {
   "cell_type": "markdown",
   "id": "Mwm3VhXfWSOL",
   "metadata": {
    "id": "Mwm3VhXfWSOL"
   },
   "source": [
    "# Run the pyCapsid pipeline\n"
   ]
  },
  {
   "cell_type": "markdown",
   "id": "213836e7",
   "metadata": {
    "id": "213836e7"
   },
   "source": [
    "## Extract features from input structure\n",
    "This code loads the information from the input structure (PDB format) necessary for the calculations and validation in pyCapsid.\n",
    "\n"
   ]
  },
  {
   "cell_type": "code",
   "execution_count": null,
   "id": "dfdc9bd5",
   "metadata": {
    "id": "dfdc9bd5"
   },
   "outputs": [],
   "source": [
    "from pyCapsid.PDB import getCapsid\n",
    "\n",
    "if pdb_source == 'PDB':\n",
    "  # Extract the features fetching the PDB structure from the Protein Data Bank.\n",
    "  pdb = pdb_id\n",
    "  capsid, calphas, asymmetric_unit, coords,  bfactors, chain_starts, title = getCapsid(pdb)\n",
    "  print('The strucure ' + pdb + ' was fetched in the pyCapsid pipeline.')\n",
    "\n",
    "elif pdb_source == 'upload':\n",
    "  pdb = pdb_file_name\n",
    "  capsid, calphas, asymmetric_unit,  coords,bfactors, chain_starts, title = getCapsid(pdb, local = True)\n",
    "  print('The strucure in the file ' + pdb + ' was inputed in the pyCapsid pipeline.')\n",
    "else:\n",
    "  print('WARNING: The PDB structure is not available.')"
   ]
  },
  {
   "cell_type": "markdown",
   "id": "cf28904f",
   "metadata": {
    "id": "cf28904f"
   },
   "source": [
    "## Build the elastic network model (ENM)\n",
    "This step uses the function `buildENMPreset` in pyCapsid to specify the elastic network model and build the associated hessian matrix."
   ]
  },
  {
   "cell_type": "code",
   "execution_count": null,
   "id": "268834cd",
   "metadata": {
    "id": "268834cd"
   },
   "outputs": [],
   "source": [
    "from pyCapsid.CG import buildENMPreset\n",
    "kirch, hessian = buildENMPreset(coords, preset = ENM_model)"
   ]
  },
  {
   "cell_type": "markdown",
   "id": "fb441f9e",
   "metadata": {
    "id": "fb441f9e"
   },
   "source": [
    "## Perform the Normal Mode Analysis (NMA)\n",
    "\n",
    "This section obtains the dynamics of the protein complex based on the dominant normal modes activated by thermal energy."
   ]
  },
  {
   "cell_type": "markdown",
   "id": "joIThFhaqi1b",
   "metadata": {
    "id": "joIThFhaqi1b"
   },
   "source": [
    "### Calculate the low frequency modes\n",
    "This code obtains the number of low frequency modes specified by the variable `n_modes` in the [pyCapsid parameters section](#scrollTo=b_8gyJk1wLlV). The calculation relies on the eigenvalues and eigenvectors of the hessian matrix obtained in the [Build the elastic network model section](#scrollTo=cf28904f)."
   ]
  },
  {
   "cell_type": "code",
   "execution_count": null,
   "id": "f79a4f3a",
   "metadata": {
    "id": "f79a4f3a"
   },
   "outputs": [],
   "source": [
    "from pyCapsid.NMA import modeCalc\n",
    "evals, evecs = modeCalc(hessian, n_modes = n_modes)"
   ]
  },
  {
   "cell_type": "markdown",
   "id": "049afcd7-2c27-4709-9bde-fe62f0130c0f",
   "metadata": {
    "id": "049afcd7-2c27-4709-9bde-fe62f0130c0f"
   },
   "source": [
    "### Predict, scale, and validate the b-factors\n",
    "This code uses the resulting normal modes and frequencies to predict the b-factors of each alpha carbon, fits these results to experimental values from the pdb entry, and plots the results for comparison."
   ]
  },
  {
   "cell_type": "code",
   "execution_count": null,
   "id": "ce3ab0a5",
   "metadata": {
    "id": "ce3ab0a5"
   },
   "outputs": [],
   "source": [
    "from pyCapsid.NMA import fitCompareBfactors\n",
    "evals_scaled, evecs_scaled, cc, gamma, n_modes_best = fitCompareBfactors(evals, evecs, bfactors, pdb, fit_modes=fit_modes)"
   ]
  },
  {
   "cell_type": "markdown",
   "id": "643612c4-cf15-4c43-814a-2384e46029ec",
   "metadata": {
    "id": "643612c4-cf15-4c43-814a-2384e46029ec"
   },
   "source": [
    "## Perform the analysis of quasi-rigid clusters (QRC)"
   ]
  },
  {
   "cell_type": "code",
   "execution_count": null,
   "id": "3eedff83",
   "metadata": {
    "id": "3eedff83"
   },
   "outputs": [],
   "source": [
    "from pyCapsid.NMA import calcDistFlucts\n",
    "from pyCapsid.QRC import findQuasiRigidClusters\n",
    "\n",
    "dist_flucts = calcDistFlucts(evals_scaled, evecs_scaled, coords)\n",
    "\n",
    "cluster_start = cluster_min\n",
    "cluster_stop = cluster_max\n",
    "cluster_step = cluster_delta\n",
    "labels, score, residue_scores  = findQuasiRigidClusters(pdb, dist_flucts, cluster_start=cluster_start, cluster_stop=cluster_stop, cluster_step=cluster_step)"
   ]
  },
  {
   "cell_type": "markdown",
   "id": "2f1fe934-ac4a-40a5-896f-3c7c4aff7c94",
   "metadata": {
    "id": "2f1fe934-ac4a-40a5-896f-3c7c4aff7c94"
   },
   "source": [
    "## Visualize in jupyter notebook with nglview\n",
    "You can visualize the results in the notebook with nglview. The following function returns an nglview object with the results colored based on cluster. See the nglview documentation for further info (http://nglviewer.org/nglview/release/v2.7.7/index.html)"
   ]
  },
  {
   "cell_type": "code",
   "execution_count": null,
   "id": "28a63769",
   "metadata": {
    "id": "28a63769"
   },
   "outputs": [],
   "source": [
    "# This cell will create an standard view of the capsid, which the next cell will\n",
    "# modify to create the final result.\n",
    "from pyCapsid.VIS import createCapsidView\n",
    "view_clusters = createCapsidView(pdb, capsid)\n",
    "view_clusters"
   ]
  },
  {
   "cell_type": "code",
   "execution_count": null,
   "id": "DZ24IOQg0V0x",
   "metadata": {
    "id": "DZ24IOQg0V0x"
   },
   "outputs": [],
   "source": [
    "# If the above view doesn't change coloration, run this cell again.\n",
    "# In general do not run this cell until the above cell has finished rendering\n",
    "from pyCapsid.VIS import createClusterRepresentation\n",
    "createClusterRepresentation(pdb, labels, view_clusters)\n",
    "\n",
    "# Add rep_type='spacefill' to represent the atoms of the capsid as spheres. This provides less information regarding the proteins but makes it easier to identify the geometry of the clusters\n",
    "#createClusterRepresentation(pdb, labels, view_clusters, rep_type='spacefill')"
   ]
  },
  {
   "cell_type": "code",
   "execution_count": null,
   "id": "wVNLwXVpYlFa",
   "metadata": {
    "id": "wVNLwXVpYlFa"
   },
   "outputs": [],
   "source": [
    "# Once you've done this use this code to download the results\n",
    "view_clusters.center()\n",
    "view_clusters.download_image(f'{pdb}_highest_quality_clusters.png',factor=2)"
   ]
  },
  {
   "cell_type": "markdown",
   "id": "9a387312-4b3d-481b-9d84-5b26c64067ef",
   "metadata": {
    "id": "9a387312-4b3d-481b-9d84-5b26c64067ef"
   },
   "source": [
    "Running the same code but replacing labels with residue_scores and adding rwb_scale=True visualizes the quality score of each residue. This is a measure of how rigid each residue is with respect to its cluster. Blue residues make up the cores of rigid clusters, and red residues represent borders between clusters."
   ]
  },
  {
   "cell_type": "code",
   "execution_count": null,
   "id": "d9629ce6-fc8b-41f3-8a67-9758b1f576f1",
   "metadata": {
    "id": "d9629ce6-fc8b-41f3-8a67-9758b1f576f1"
   },
   "outputs": [],
   "source": [
    "# This code adds a colorbar based on the residue scores\n",
    "print('Each atom in this structure is colored according to the clustering quality score of its residue.')\n",
    "import matplotlib.colorbar as colorbar\n",
    "import matplotlib.pyplot as plt\n",
    "from pyCapsid.VIS import clusters_colormap_hexcolor\n",
    "import numpy as np\n",
    "hexcolor, cmap = clusters_colormap_hexcolor(residue_scores, rwb_scale=True)\n",
    "fig, ax = plt.subplots(figsize=(10, 0.5))\n",
    "cb = colorbar.ColorbarBase(ax, orientation='horizontal',\n",
    "                            cmap=cmap, norm=plt.Normalize(np.min(residue_scores), np.max(residue_scores)))\n",
    "plt.show()\n",
    "\n",
    "# This cell will create an empty view, which the next cell will\n",
    "# modify to create the final result.\n",
    "from pyCapsid.VIS import createCapsidView\n",
    "view_scores = createCapsidView(pdb, capsid)\n",
    "view_scores"
   ]
  },
  {
   "cell_type": "code",
   "execution_count": null,
   "id": "AqHoNTk00fo9",
   "metadata": {
    "id": "AqHoNTk00fo9"
   },
   "outputs": [],
   "source": [
    "from pyCapsid.VIS import createClusterRepresentation\n",
    "createClusterRepresentation(pdb, residue_scores, view_scores, rwb_scale=True)"
   ]
  },
  {
   "cell_type": "code",
   "execution_count": null,
   "id": "mlZg_Mk0pbew",
   "metadata": {
    "id": "mlZg_Mk0pbew"
   },
   "outputs": [],
   "source": [
    "from google.colab import output\n",
    "output.enable_custom_widget_manager()"
   ]
  },
  {
   "cell_type": "code",
   "execution_count": null,
   "id": "M_bAICfx6Xxw",
   "metadata": {
    "id": "M_bAICfx6Xxw"
   },
   "outputs": [],
   "source": [
    "# Once you've done this use this code to download the results\n",
    "view_scores.center()\n",
    "view_scores.download_image(f'{pdb}_residue_cluster_scores',factor=2)"
   ]
  },
  {
   "cell_type": "markdown",
   "id": "604bae20-5522-4940-a020-a162bdc99a91",
   "metadata": {},
   "source": [
    "### Snapshot of capsid and asymmetric unit"
   ]
  },
  {
   "cell_type": "code",
   "execution_count": null,
   "id": "66355cb7-611a-41d7-95b0-2383075ac32f",
   "metadata": {},
   "outputs": [],
   "source": [
    "from pyCapsid.VIS import createCapsidView\n",
    "view_capsid = createCapsidView(pdb, capsid)\n",
    "view_capsid"
   ]
  },
  {
   "cell_type": "code",
   "execution_count": null,
   "id": "b5c3b0ec-441b-4fb4-a5be-05d6895fec95",
   "metadata": {
    "id": "M_bAICfx6Xxw"
   },
   "outputs": [],
   "source": [
    "# Once you've done this use this code to download the results\n",
    "view_capsid.center()\n",
    "view_capsid.download_image(f'{pdb}_full_capsid',factor=2)"
   ]
  },
  {
   "cell_type": "code",
   "execution_count": null,
   "id": "62cf5522",
   "metadata": {},
   "outputs": [],
   "source": [
    "from pyCapsid.VIS import createCapsidView\n",
    "import biotite.structure.io as strucio\n",
    "strucio.save_structure(pdb + '_asym.pdb', asymmetric_unit, hybrid36=True)\n",
    "\n",
    "import nglview as ngl\n",
    "view_asym = ngl.NGLWidget()\n",
    "from nglview.adaptor import FileStructure\n",
    "\n",
    "view_asym.add_component(FileStructure(pdb + '_asym.pdb'))\n",
    "view_asym"
   ]
  },
  {
   "cell_type": "code",
   "execution_count": null,
   "id": "5e45e46a",
   "metadata": {
    "id": "M_bAICfx6Xxw"
   },
   "outputs": [],
   "source": [
    "# Once you've done this use this code to download the results\n",
    "view_asym.center()\n",
    "view_asym.download_image(f'{pdb}_asymmetric_unit',factor=2)"
   ]
  },
  {
   "cell_type": "markdown",
   "id": "xjX_ErBMJjT1",
   "metadata": {
    "id": "xjX_ErBMJjT1"
   },
   "source": [
    "# pyCapsid report\n",
    "\n",
    "The block code below generates a report with the key results in the analysis. The information is outputted in three formats:\n",
    "+ Markdown file included in the downloaded outputs.\n",
    "+ Pdf file included in the downloaded outputs.\n",
    "+ HTML file included in the downloaded outputs.\n",
    "\n"
   ]
  },
  {
   "cell_type": "code",
   "execution_count": null,
   "id": "Yx3M1T4GkxwQ",
   "metadata": {
    "id": "Yx3M1T4GkxwQ"
   },
   "outputs": [],
   "source": [
    "# Prepare file names\n",
    "file_name = 'pyCapsid_report'\n",
    "file_md = file_name+'.md' # Markdown\n",
    "file_html = file_name+'.html' # HTML\n",
    "file_docx = file_name+'.docx'"
   ]
  },
  {
   "cell_type": "code",
   "execution_count": null,
   "id": "a6hRZnac7I72",
   "metadata": {
    "id": "a6hRZnac7I72"
   },
   "outputs": [],
   "source": [
    "# Include libraries to generate plots\n",
    "import matplotlib.pyplot as plt\n",
    "import seaborn as sns\n",
    "import pandas as pd\n",
    "import numpy as np"
   ]
  },
  {
   "cell_type": "code",
   "execution_count": null,
   "id": "eox4qcvnNOOX",
   "metadata": {
    "id": "eox4qcvnNOOX"
   },
   "outputs": [],
   "source": [
    "# Generate separate folder for the report\n",
    "import os\n",
    "\n",
    "parent_dir = os.getcwd()\n",
    "report_dir_name = 'pyCapsid_report'\n",
    "report_dir = parent_dir + '/' + report_dir_name\n",
    "\n",
    "os.mkdir(report_dir)\n",
    "os.chdir(report_dir)\n",
    "os.getcwd()\n"
   ]
  },
  {
   "cell_type": "code",
   "execution_count": null,
   "id": "KeEc_ZKxWHQ4",
   "metadata": {
    "id": "KeEc_ZKxWHQ4"
   },
   "outputs": [],
   "source": [
    "# Generate figures folder\n",
    "figures_dir_name = 'figures'\n",
    "figures_dir = report_dir + '/' + figures_dir_name\n",
    "os.mkdir(figures_dir)\n",
    "os.chdir(figures_dir)\n",
    "os.getcwd()"
   ]
  },
  {
   "cell_type": "code",
   "execution_count": null,
   "id": "uMCunSC906Mn",
   "metadata": {
    "id": "uMCunSC906Mn"
   },
   "outputs": [],
   "source": [
    "# Generate b-factors dataframe and plot\n",
    "\n",
    "## Upload and store file\n",
    "os.chdir(parent_dir)\n",
    "file_bfactors = 'b_factors.npz'\n",
    "b_factors = np.load(file_bfactors)\n",
    "os.chdir(figures_dir)\n",
    "os.getcwd()\n",
    "\n",
    "## Generate data frame\n",
    "## (!! revise method for residues in asymmetric unit)\n",
    "npz = b_factors\n",
    "df_bfactors = pd.DataFrame(data = [b_factors['residue_numbers'],b_factors['bfactors_experimental'],b_factors['bfactors_predicted']]).T\n",
    "df_bfactors.columns = ['Residue','Experimental','Predicted']\n",
    "n_res_asym = int(len(df_bfactors)/60) #! residues in asymmetric unit (refactor)\n",
    "df_bfactors_asym = df_bfactors[0:n_res_asym]\n",
    "len(df_bfactors_asym)\n",
    "\n",
    "## Generate and save plot\n",
    "sns.set_style('darkgrid')\n",
    "plt.ioff() # Comment out this command to display figure in the notebook\n",
    "g = sns.lineplot(x = 'Residue', y = 'Experimental', data = df_bfactors_asym, label = 'Experimental')\n",
    "g = sns.lineplot(x = 'Residue', y = 'Predicted', data = df_bfactors_asym, label = 'Predicted')\n",
    "g.set(xlabel = 'Residue number', ylabel = r\"B-factor ($\\AA^2$)\")\n",
    "g.set(title='Protein complex\\'s vibration profile (asymmetric unit)')\n",
    "g.legend(frameon=False)\n",
    "plt.savefig(\"b_factors_report.png\",dpi=300)\n",
    "plt.savefig(\"b_factors_report.pdf\")\n",
    "plt.savefig(\"b_factors_report.eps\",bbox_inches='tight')\n",
    "plt.savefig(\"b_factors_report.svg\")\n",
    "\n",
    "## Generate caption\n",
    "text = 'Figure NMA.1. Empirical (blue) and predicted (orange) B-factors for each residue in the asymmetric unit.'\n",
    "caption_bfactors = text"
   ]
  },
  {
   "cell_type": "code",
   "execution_count": null,
   "id": "d1X_HWHgks9O",
   "metadata": {
    "id": "d1X_HWHgks9O"
   },
   "outputs": [],
   "source": [
    "# Generate markdown output file\n",
    "os.chdir(report_dir)\n",
    "os.getcwd()\n",
    "file = open(file_md,'w')\n",
    "figures_subdir = './' + figures_dir.split('/')[-1]\n",
    "print(figures_subdir)\n",
    "\n",
    "# Load data needed\n",
    "from datetime import date\n",
    "today = date.today()\n",
    "\n",
    "# HEADING\n",
    "text = '# pyCapsid Report'\n",
    "file.write('\\n'+text)\n",
    "\n",
    "text = today.strftime(\"%B %d, %Y\")\n",
    "file.write('\\n'+text)\n",
    "\n",
    "# INPUT STRUCTURE\n",
    "file.write('\\n')\n",
    "text = '## Input structure'\n",
    "file.write('\\n'+text)\n",
    "\n",
    "text = 'Identifier: ' + str(pdb)\n",
    "file.write('\\n'+text)\n",
    "\n",
    "file.write('\\n')\n",
    "import biotite.structure as struc\n",
    "n_asym_residues = struc.get_residue_count(asymmetric_unit)\n",
    "text = 'Number of residues in the asymmetric unit: ' + str(n_asym_residues)\n",
    "file.write('\\n'+text)\n",
    "\n",
    "file.write('\\n')\n",
    "n_asym_chains = struc.get_chain_count(asymmetric_unit)\n",
    "text = 'Number of protein chains in the asymmetric unit: ' + str(n_asym_chains)\n",
    "file.write('\\n'+text)\n",
    "\n",
    "file.write('\\n')\n",
    "n_full_residues = len(calphas)\n",
    "text = 'Number of residues in the full structure: ' + str(n_full_residues)\n",
    "file.write('\\n'+text)\n",
    "\n",
    "file.write('\\n')\n",
    "asym_factor = int(n_full_residues/n_asym_residues)\n",
    "text = 'Multiplying factor to interpret full structure: ' + str(asym_factor)\n",
    "file.write('\\n'+text)\n",
    "\n",
    "file.write('\\n')\n",
    "text = '+ If the multiplying factor is 1, the asymmetric units and full structure are the same.'\n",
    "file.write('\\n'+text)\n",
    "\n",
    "file.write('\\n')\n",
    "text = '!!! Add snapshots of the asymmetric unit and full structure. Include captions for standard publication style.'\n",
    "file.write('\\n'+text)\n",
    "\n",
    "\n",
    "# Elastic network model\n",
    "file.write('\\n')\n",
    "text = '## Elastic network model'\n",
    "file.write('\\n'+text)\n",
    "\n",
    "file.write('\\n')\n",
    "text = 'Elastic model used: ' + str(ENM_model)\n",
    "file.write('\\n'+text)\n",
    "file.write('\\n')\n",
    "text = '+ This model implies {Include here the dictionary value of the model}'\n",
    "file.write('\\n'+text)\n",
    "file.write('\\n')\n",
    "text = '!!! Add snapshot of the model approximations. Include captions following standard publication style.'\n",
    "file.write('\\n'+text)\n",
    "\n",
    "\n",
    "file.write('\\n')\n",
    "text = 'Calibrated stiffness constant: ' + str(gamma)\n",
    "file.write('\\n'+text)\n",
    "file.write('\\n')\n",
    "text = '+ This constant was fitted to scale the model to the structure, assuming a linear relationship between the residues fluctuations and B-factors.'\n",
    "file.write('\\n'+text)\n",
    "\n",
    "file.write('\\n')\n",
    "text = '!!! Add snapshots of the elastic model for the asymmetric unit and full structure. Include captions following standard publication style.'\n",
    "file.write('\\n'+text)\n",
    "\n",
    "# Normal modes and B-factors\n",
    "CC = float(b_factors['CC'])\n",
    "\n",
    "file.write('\\n')\n",
    "text = '## Normal mode analysis (NMA)'\n",
    "file.write('\\n'+text)\n",
    "\n",
    "file.write('\\n')\n",
    "text = 'Optimal number of modes reproducing B-factors: '+ str(n_modes_best)\n",
    "file.write('\\n'+text)\n",
    "\n",
    "file.write('\\n')\n",
    "text = '!!! Add figure plotting CC versus number of modes. Include captions following standard publication style.'\n",
    "file.write('\\n'+text)\n",
    "\n",
    "\n",
    "file.write('\\n')\n",
    "text = 'Correlation between empirical and predicted B-factors: ' + str(round(CC,2))\n",
    "file.write('\\n'+text)\n",
    "\n",
    "file.write('\\n')\n",
    "text = '!!! Add figure plotting B-factors (experimental and predicted) versus number of residues in the assymmetric unit. Include caption following standard publication style.'\n",
    "file.write('\\n'+text)\n",
    "\n",
    "## B-factors figure\n",
    "file.write('\\n')\n",
    "text = '![]('+ figures_subdir +'/b_factors_report.svg)'\n",
    "file.write('\\n'+text)\n",
    "\n",
    "file.write('\\n')\n",
    "text = caption_bfactors\n",
    "file.write('\\n'+text)\n",
    "\n",
    "\n",
    "file.write('\\n')\n",
    "text = '!!! Add some info (snapshots of min and max amplitude? movie?) regarding the dynamics.'\n",
    "file.write('\\n'+text)\n",
    "\n",
    "\n",
    "# Quasi-rigid units\n",
    "## Upload and store file\n",
    "os.chdir(parent_dir)\n",
    "file_cluster_results = str(pdb) + '_final_results.npz'\n",
    "cluster_results = np.load(file_cluster_results)\n",
    "nc = int(cluster_results['nc'])\n",
    "os.chdir(report_dir)\n",
    "\n",
    "file.write('\\n')\n",
    "text = '## Quasi-rigid mechanical units'\n",
    "file.write('\\n'+text)\n",
    "\n",
    "file.write('\\n')\n",
    "text = 'Number of optimal quasi-rigid mechanical units identified: ' + str(nc)\n",
    "file.write('\\n'+text)\n",
    "\n",
    "file.write('\\n')\n",
    "text = '!!! Add figure plotting the quality score and number of unique clusters as a function of the number of selected clusters. Include captions following standard publication style.'\n",
    "file.write('\\n'+text)\n",
    "\n",
    "file.write('\\n')\n",
    "text = '!!! Add figure displaying a snapshot of the capsid coloring the different clusters. Include caption following standard publication style.'\n",
    "file.write('\\n'+text)\n",
    "\n",
    "file.write('\\n')\n",
    "text = '!!! Add figure displaying a representative of each unique cluster. Include caption following standard publication style.'\n",
    "file.write('\\n'+text)\n",
    "\n",
    "file.write('\\n')\n",
    "text = '!!! Add figure displaying the quality score of each residue in the full structure. Include caption following standard publication style.'\n",
    "file.write('\\n'+text)\n",
    "\n",
    "file.write('\\n')\n",
    "text = '!!! Add figure displaying the quality score of each residue in the representative unique clusters. Include caption following standard publication style.'\n",
    "file.write('\\n'+text)\n",
    "\n",
    "# Close ouptut file\n",
    "file.close()\n"
   ]
  },
  {
   "cell_type": "code",
   "execution_count": null,
   "id": "_MinpUX466YP",
   "metadata": {
    "id": "_MinpUX466YP"
   },
   "outputs": [],
   "source": [
    "# Generate HTML version\n",
    "!python -m markdown $file_md -f $file_html"
   ]
  },
  {
   "cell_type": "code",
   "execution_count": null,
   "id": "McNRoWZLh--_",
   "metadata": {
    "id": "McNRoWZLh--_"
   },
   "outputs": [],
   "source": [
    "# Generate docx version\n",
    "!pip install pypandoc\n",
    "\n",
    "import pypandoc\n",
    "\n",
    "pypandoc.convert_file(file_md, 'docx', outputfile=file_docx)\n",
    "print(file_docx)"
   ]
  },
  {
   "cell_type": "code",
   "execution_count": null,
   "id": "1sHapH58SWCF",
   "metadata": {
    "id": "1sHapH58SWCF"
   },
   "outputs": [],
   "source": [
    "# Return to parent directory\n",
    "os.chdir(parent_dir)"
   ]
  },
  {
   "cell_type": "code",
   "execution_count": null,
   "id": "Mkg3b7d-oCwc",
   "metadata": {
    "id": "Mkg3b7d-oCwc"
   },
   "outputs": [],
   "source": [
    "from google.colab import output\n",
    "output.disable_custom_widget_manager()"
   ]
  },
  {
   "cell_type": "markdown",
   "id": "A_0CigBeZo51",
   "metadata": {
    "id": "A_0CigBeZo51"
   },
   "source": [
    "# Download results\n",
    "The files containing results are compressed (ZIP format) and downloaded to the default Download folder associated with the browser where the current Colab notebook."
   ]
  },
  {
   "cell_type": "code",
   "execution_count": null,
   "id": "yMTSDCKFAC8F",
   "metadata": {
    "id": "yMTSDCKFAC8F"
   },
   "outputs": [],
   "source": [
    "# Generate readme file for pyCapsid outputs\n",
    "file = open('README_OUTPUTS.md','w')\n",
    "\n",
    "## Intro\n",
    "text = '# pyCapsid outputs\\n'\n",
    "file.write(text)\n",
    "\n",
    "text = 'This file describes the content of the outputted files generated by pyCapsid.\\n\\n'\n",
    "file.write(text)\n",
    "\n",
    "text = 'The term PDBid should be replaced by the id from the structure imported in pyCapsid. For example, if the structure''s imported id is 4oq8, then, the file listed as `PDBid.pdb` corresponds in the list of output as `4oq8.pdb`. The same applies for the other files.\\n\\n'\n",
    "file.write(text)\n",
    "\n",
    "## Ouptu files\n",
    "text ='**Output files**\\n'\n",
    "file.write(text)\n",
    "\n",
    "### PDBid.pdb\n",
    "text = '+ `PDBid.pdb`: File containing input protein complex in PDB format.\\n'\n",
    "file.write(text)\n",
    "\n",
    "### PDBid_capsid.pdb\n",
    "text = '\\n+ `PDBid_capsid.pdb`: File containing the atom coordinates of the complete protein complex. It does not include meta information in the preamble. If the protein complex in `PDBid.pdb` encodes symmetries and an asymmetric unit, the atoms will be the generated structure after applying the symmetries, and the size of the file will increase accordingly. Otherwise, the number of atoms will coincide with those in the input `PDBid.pdb` file.\\n'\n",
    "file.write(text)\n",
    "\n",
    "### b_factors.svg\n",
    "text = '\\n+ `b_factors.svg`: Vectorial file plotting the B-factors with units of Angstrom squared (Å^2), on the y-axis as a function of the residue number in the x-axis. It graphs the empirical B-factors obtained from the input `PDBid.pdb` structure (blue) and the B-factors generated using the (selected or optimal) number of modes (orange). The title of the figure includes the fitted elastic constant, gamma (mean value +/- standard deviation), used to scale the predicted results and the correlation-coefficient (CC) comparing the empirical and computational results.\\n'\n",
    "file.write(text)\n",
    "\n",
    "### results_plot.svg\n",
    "text = '\\n+ `results_plot.svg`: Vectorial file plotting the Quality score (top panel) and Number of unique clusters (bottom panel) as a function of the Number of clusters sampled (x-axis). The black line selects the number of clusters that maximizes the quality score using a limited number of unique clusters.\\n'\n",
    "file.write(text)\n",
    "\n",
    "### modes.npz\n",
    "text = '+ `modes.npz`: Compressed numpy file containing two arrays with information about the normal modes:\\n'\n",
    "file.write(text)\n",
    "\n",
    "#### Array 'eigen_vals'\n",
    "text = '    + `eigen_vals`: Numpy array containing the eigenvalues (units??? stiffness/mass??? N/m*1/kg = 1/s^2 = Hz^2 ???) obtained in the normal mode analysis. It contains maximum number of modes requested in the input. (Why the eigenvalues are ordered from small to large??)\\n'\n",
    "file.write(text)\n",
    "\n",
    "#### Array 'eigen_vecs'\n",
    "text = '    + `eigen_vecs`: Numpy array containing the eigenvectors obtained in the normal mode analysis (units??? Å???). It contains n amplitudes of vibration for each mode, where n is the number of residues in the protein complex.\\n'\n",
    "file.write(text)\n",
    "\n",
    "### PDBid_final_results.npz\n",
    "text = '\\n+ `PDBid_final_results.npz`: Compressed numpy file containing arrays with information about clustering for the residues in the asymmetric unit of the protein complex:\\n'\n",
    "file.write(text)\n",
    "\n",
    "#### Array: 'labels'\n",
    "text = '    + `labels`: Numpy array containing the cluster assigned to each label. The cluster number starts at zero. If there are 10 clusters, the label for the first cluster is 0 and the last cluster is 9.\\n'\n",
    "file.write(text)\n",
    "\n",
    "#### Array: 'score'\n",
    "text = '    + `score`: Quality score of the clustering.\\n'\n",
    "file.write(text)\n",
    "\n",
    "#### Array: 'nc'\n",
    "text = '    + `nc`: Number of clusters.\\n'\n",
    "file.write(text)\n",
    "\n",
    "#### Array: 'cluster_method'\n",
    "text = '    + `cluster_method`: Cluster method.\\n'\n",
    "file.write(text)\n",
    "\n",
    "#### Array: 'final_full_score'\n",
    "text = '    + `final_full_score`: One-dimensional array containing the quality clustering score of each residue.\\n'\n",
    "file.write(text)\n",
    "\n",
    "### PDBid_final_results.npz\n",
    "text = '\\n+ `PDBid_final_results_full.npz`: This file is equivalent to the file `PDBid_final_results.npz` described above, but it extends the results to all cluster numbers investigated.'\n",
    "file.write(text)\n",
    "\n",
    "\n",
    "# Close file\n",
    "file.close()"
   ]
  },
  {
   "cell_type": "code",
   "execution_count": null,
   "id": "gKOV73W6iYUa",
   "metadata": {
    "id": "gKOV73W6iYUa"
   },
   "outputs": [],
   "source": [
    "# Remove the Colab generated sample_data directory\n",
    "sample = !ls | grep 'sample_data'\n",
    "if len(sample) != 0:\n",
    "  name = sample.get_list()[0]\n",
    "  !rm -r $name\n",
    "\n",
    "# Zip and download the files with results\n",
    "zip_file = str(pdb) + '_pyCapsid_results.zip'\n",
    "! zip \"$zip_file\" *.*\n",
    "\n",
    "zip_file_report = str(pdb) + '_pyCapsid_report.zip'\n",
    "! zip -r $zip_file_report $report_dir\n",
    "\n",
    "from google.colab import files\n",
    "files.download(zip_file)\n",
    "files.download(zip_file_report)"
   ]
  },
  {
   "cell_type": "markdown",
   "id": "yRhJzMhRarYR",
   "metadata": {
    "id": "yRhJzMhRarYR"
   },
   "source": [
    "## Problems downloading results?\n",
    "If you allow your browser to download the results but do not find the output results in your folder, check first the downloading progress in the [downloading code cell display](#scrollTo=gKOV73W6iYUa&line=1&uniqifier=1). The size of the files can be substantial depending on the protein complex, so the downloading process can take a while.\n",
    "\n",
    "If you are having problems downloading the results, try downloading them directly from the `Files` panel available on the Colab side bar.\n",
    "\n",
    "If the problems persist, generate an [issue on pyCapsid's repository](https://github.com/luquelab/pyCapsid/issues). Use the subject `Colab: Downloading issue`.\n"
   ]
  },
  {
   "cell_type": "code",
   "execution_count": null,
   "id": "7joS1enya7jn",
   "metadata": {
    "id": "7joS1enya7jn"
   },
   "outputs": [],
   "source": [
    "import numpy as np\n",
    "filename = pdb + '_coords.txt'\n",
    "np.savetxt(filename, coords)\n",
    "from google.colab import files\n",
    "files.download(filename)"
   ]
  },
  {
   "cell_type": "markdown",
   "id": "fqmI8SfIe0-z",
   "metadata": {
    "id": "fqmI8SfIe0-z"
   },
   "source": [
    "# Generate advanced analysis\n",
    "Adapt this section to offer users the opportunity to go dipper in the initial results to refine their interpretation or explore alternatie outputs.\n",
    "\n",
    "\n",
    "The numerical results are saved as compressed .npz files by default and can be opened and used to visualize the results afterwards. This includes the ability to visualize clusters that weren't the highest scoring cluster. In this example\n",
    "we visualize the results of clustering the capsid into 20 clusters."
   ]
  },
  {
   "cell_type": "code",
   "execution_count": null,
   "id": "85872koLfQxy",
   "metadata": {
    "id": "85872koLfQxy"
   },
   "outputs": [],
   "source": [
    "from pyCapsid.VIS import visualizeSavedResults\n",
    "results_file = f'{pdb}_final_results_full.npz' # Path of the saved results\n",
    "labels_20, view_clusters = visualizeSavedResults(pdb, results_file, n_cluster=20, method='nglview')\n",
    "view_clusters"
   ]
  },
  {
   "cell_type": "code",
   "execution_count": null,
   "id": "zDnyCMBpga7o",
   "metadata": {
    "id": "zDnyCMBpga7o"
   },
   "outputs": [],
   "source": [
    "# If the above view doesn't change coloration, run this cell again.\n",
    "# In general do not run this cell until the above cell has finished rendering\n",
    "from pyCapsid.VIS import createClusterRepresentation\n",
    "createClusterRepresentation(pdb, labels_20, view_clusters)\n",
    "\n",
    "# Add rep_type='spacefill' to represent the atoms of the capsid as spheres. This provides less information regarding the proteins but makes it easier to identify the geometry of the clusters\n",
    "#createClusterRepresentation(pdb, labels, view_clusters, rep_type='spacefill')"
   ]
  }
 ],
 "metadata": {
  "colab": {
   "gpuType": "T4",
   "include_colab_link": true,
   "private_outputs": true,
   "provenance": [],
   "toc_visible": true
  },
  "kernelspec": {
   "display_name": "Python 3 (ipykernel)",
   "language": "python",
   "name": "python3"
  },
  "language_info": {
   "codemirror_mode": {
    "name": "ipython",
    "version": 3
   },
   "file_extension": ".py",
   "mimetype": "text/x-python",
   "name": "python",
   "nbconvert_exporter": "python",
   "pygments_lexer": "ipython3",
   "version": "3.10.11"
  }
 },
 "nbformat": 4,
 "nbformat_minor": 5
}
