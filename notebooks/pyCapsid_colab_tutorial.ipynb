{
 "cells": [
  {
   "cell_type": "markdown",
   "id": "bnoh23CLWwul",
   "metadata": {
    "id": "bnoh23CLWwul"
   },
   "source": [
    "# Installation\n",
    "The following command installs pyCapsid and other necessary components for visualizing results in this notebook."
   ]
  },
  {
   "cell_type": "code",
   "execution_count": null,
   "id": "ScJyR3VXvJLP",
   "metadata": {
    "id": "ScJyR3VXvJLP"
   },
   "outputs": [],
   "source": [
    "!pip install --upgrade pyCapsid ipywidgets==7.7.2 nglview\n",
    "from google.colab import output\n",
    "output.enable_custom_widget_manager()"
   ]
  },
  {
   "cell_type": "markdown",
   "id": "Mwm3VhXfWSOL",
   "metadata": {
    "id": "Mwm3VhXfWSOL"
   },
   "source": [
    "# Running pyCapsid on PDB Entry 4oq8 for the Satellite Tobacco Mosaic Virus\n",
    "For the things to work the best we recommend going to runtime and selecting \"Run All.\""
   ]
  },
  {
   "cell_type": "markdown",
   "id": "213836e7",
   "metadata": {
    "id": "213836e7"
   },
   "source": [
    "## Fetch and load PDB\n",
    "This code acquires the pdb file from the RCSB databank, loads the necessary information, and saves copies for possible use in visualization in other software."
   ]
  },
  {
   "cell_type": "code",
   "execution_count": null,
   "id": "dfdc9bd5",
   "metadata": {
    "id": "dfdc9bd5"
   },
   "outputs": [],
   "source": [
    "from pyCapsid.PDB import getCapsid\n",
    "pdb = '4oq8'\n",
    "capsid, calphas, coords, bfactors, chain_starts, title = getCapsid(pdb)"
   ]
  },
  {
   "cell_type": "markdown",
   "id": "cf28904f",
   "metadata": {
    "id": "cf28904f"
   },
   "source": [
    "## Build ENM Hessian\n",
    "This code builds a hessian matrix using an elastic network model defined by the given parameters. The types of model and the meaning of the parameters are provided in the documentation."
   ]
  },
  {
   "cell_type": "code",
   "execution_count": null,
   "id": "268834cd",
   "metadata": {
    "id": "268834cd"
   },
   "outputs": [],
   "source": [
    "from pyCapsid.CG import buildENMPreset\n",
    "kirch, hessian = buildENMPreset(coords, preset='U-ENM')"
   ]
  },
  {
   "cell_type": "markdown",
   "id": "fb441f9e",
   "metadata": {
    "id": "fb441f9e"
   },
   "source": [
    "## Perform NMA\n",
    "### Calculate low frequency modes\n",
    "This code calculates the n lowest frequency modes of the system by calculating the eigenvalues and eigenvectors of the hessian matrix."
   ]
  },
  {
   "cell_type": "code",
   "execution_count": null,
   "id": "f79a4f3a",
   "metadata": {
    "id": "f79a4f3a"
   },
   "outputs": [],
   "source": [
    "from pyCapsid.NMA import modeCalc\n",
    "evals, evecs = modeCalc(hessian)"
   ]
  },
  {
   "cell_type": "markdown",
   "id": "049afcd7-2c27-4709-9bde-fe62f0130c0f",
   "metadata": {
    "id": "049afcd7-2c27-4709-9bde-fe62f0130c0f"
   },
   "source": [
    "### Predict, fit, and compare b-factors\n",
    "This code uses the resulting normal modes and frequencies to predict the b-factors of each alpha carbon, fits these results to experimental values from the pdb entry, and plots the results for comparison."
   ]
  },
  {
   "cell_type": "code",
   "execution_count": null,
   "id": "ce3ab0a5",
   "metadata": {
    "id": "ce3ab0a5"
   },
   "outputs": [],
   "source": [
    "from pyCapsid.NMA import fitCompareBfactors\n",
    "evals_scaled, evecs_scaled = fitCompareBfactors(evals, evecs, bfactors, pdb, fit_modes=False)"
   ]
  },
  {
   "cell_type": "markdown",
   "id": "643612c4-cf15-4c43-814a-2384e46029ec",
   "metadata": {
    "id": "643612c4-cf15-4c43-814a-2384e46029ec"
   },
   "source": [
    "## Perform quasi-rigid cluster identification (QRC)"
   ]
  },
  {
   "cell_type": "code",
   "execution_count": null,
   "id": "3eedff83",
   "metadata": {
    "id": "3eedff83"
   },
   "outputs": [],
   "source": [
    "from pyCapsid.NMA import calcDistFlucts\n",
    "from pyCapsid.QRC import findQuasiRigidClusters\n",
    "\n",
    "dist_flucts = calcDistFlucts(evals_scaled, evecs_scaled, coords)\n",
    "\n",
    "cluster_start = 4\n",
    "cluster_stop = 100\n",
    "cluster_step = 2\n",
    "labels, score, residue_scores  = findQuasiRigidClusters(pdb, dist_flucts, cluster_start=cluster_start, cluster_stop=cluster_stop, cluster_step=cluster_step)"
   ]
  },
  {
   "cell_type": "markdown",
   "id": "2f1fe934-ac4a-40a5-896f-3c7c4aff7c94",
   "metadata": {
    "id": "2f1fe934-ac4a-40a5-896f-3c7c4aff7c94"
   },
   "source": [
    "## Visualize in jupyter notebook with nglview\n",
    "You can visualize the results in the notebook with nglview. The following function returns an nglview object with the results colored based on cluster. See the nglview documentation for further info (http://nglviewer.org/nglview/release/v2.7.7/index.html)"
   ]
  },
  {
   "cell_type": "code",
   "execution_count": null,
   "id": "28a63769",
   "metadata": {
    "id": "28a63769"
   },
   "outputs": [],
   "source": [
    "# This cell will create an standard view of the capsid, which the next cell will\n",
    "# modify to create the final result.\n",
    "from pyCapsid.VIS import createCapsidView\n",
    "view_clusters = createCapsidView(pdb, capsid)\n",
    "view_clusters"
   ]
  },
  {
   "cell_type": "code",
   "execution_count": null,
   "id": "DZ24IOQg0V0x",
   "metadata": {
    "id": "DZ24IOQg0V0x"
   },
   "outputs": [],
   "source": [
    "# If the above view doesn't change coloration, run this cell again.\n",
    "# In general do not run this cell until the above cell has finished rendering\n",
    "from pyCapsid.VIS import createClusterRepresentation\n",
    "createClusterRepresentation(pdb, labels, view_clusters)\n",
    "\n",
    "# Add rep_type='spacefill' to represent the atoms of the capsid as spheres. This provides less information regarding the proteins but makes it easier to identify the geometry of the clusters\n",
    "#createClusterRepresentation(pdb, labels, view_clusters, rep_type='spacefill')"
   ]
  },
  {
   "cell_type": "code",
   "execution_count": null,
   "id": "wVNLwXVpYlFa",
   "metadata": {
    "id": "wVNLwXVpYlFa"
   },
   "outputs": [],
   "source": [
    "# Once you've done this use this code to download the results\n",
    "view_clusters.center()\n",
    "view_clusters.download_image(factor=2)"
   ]
  },
  {
   "cell_type": "markdown",
   "id": "9a387312-4b3d-481b-9d84-5b26c64067ef",
   "metadata": {
    "id": "9a387312-4b3d-481b-9d84-5b26c64067ef"
   },
   "source": [
    "Running the same code but replacing labels with residue_scores and adding rwb_scale=True visualizes the quality score of each residue. This is a measure of how rigid each residue is with respect to its cluster. Blue residues make up the cores of rigid clusters, and red residues represent borders between clusters."
   ]
  },
  {
   "cell_type": "code",
   "execution_count": null,
   "id": "d9629ce6-fc8b-41f3-8a67-9758b1f576f1",
   "metadata": {
    "id": "d9629ce6-fc8b-41f3-8a67-9758b1f576f1"
   },
   "outputs": [],
   "source": [
    "# This code adds a colorbar based on the residue scores\n",
    "print('Each atom in this structure is colored according to the clustering quality score of its residue.')\n",
    "import matplotlib.colorbar as colorbar\n",
    "import matplotlib.pyplot as plt\n",
    "from pyCapsid.VIS import clusters_colormap_hexcolor\n",
    "import numpy as np\n",
    "hexcolor, cmap = clusters_colormap_hexcolor(residue_scores, rwb_scale=True)\n",
    "fig, ax = plt.subplots(figsize=(10, 0.5))\n",
    "cb = colorbar.ColorbarBase(ax, orientation='horizontal',\n",
    "                            cmap=cmap, norm=plt.Normalize(np.min(residue_scores), np.max(residue_scores)))\n",
    "plt.show()\n",
    "\n",
    "# This cell will create an empty view, which the next cell will\n",
    "# modify to create the final result.\n",
    "from pyCapsid.VIS import createCapsidView\n",
    "view_scores = createCapsidView(pdb, capsid)\n",
    "view_scores"
   ]
  },
  {
   "cell_type": "code",
   "execution_count": null,
   "id": "AqHoNTk00fo9",
   "metadata": {
    "id": "AqHoNTk00fo9"
   },
   "outputs": [],
   "source": [
    "from pyCapsid.VIS import createClusterRepresentation\n",
    "createClusterRepresentation(pdb, residue_scores, view_scores, rwb_scale=True)"
   ]
  },
  {
   "cell_type": "code",
   "execution_count": null,
   "id": "M_bAICfx6Xxw",
   "metadata": {
    "id": "M_bAICfx6Xxw"
   },
   "outputs": [],
   "source": [
    "# Once you've done this use this code to download the results\n",
    "view_scores.center()\n",
    "view_scores.download_image(factor=2)"
   ]
  },
  {
   "cell_type": "markdown",
   "id": "A_0CigBeZo51",
   "metadata": {
    "id": "A_0CigBeZo51"
   },
   "source": [
    "## Downloading Results\n",
    "Some results are saved automatically by pyCapsid, and can be downloaded from colab in the following manner."
   ]
  },
  {
   "cell_type": "code",
   "execution_count": null,
   "id": "x9bB6Y4SZBg4",
   "metadata": {
    "id": "x9bB6Y4SZBg4"
   },
   "outputs": [],
   "source": [
    "# Check what files are saved\n",
    "!dir"
   ]
  },
  {
   "cell_type": "code",
   "execution_count": null,
   "id": "4O6EITQxZY_9",
   "metadata": {
    "id": "4O6EITQxZY_9"
   },
   "outputs": [],
   "source": [
    "# Use the colab api to download the files\n",
    "# You may have to provide permission to download files via your browser\n",
    "from google.colab import files\n",
    "files.download('results_plot.svg')"
   ]
  },
  {
   "cell_type": "markdown",
   "id": "yRhJzMhRarYR",
   "metadata": {
    "id": "yRhJzMhRarYR"
   },
   "source": [
    "If a result you want isn't saved, you can save any of the arrays used in the notebook and download the file."
   ]
  },
  {
   "cell_type": "code",
   "execution_count": null,
   "id": "7joS1enya7jn",
   "metadata": {
    "id": "7joS1enya7jn"
   },
   "outputs": [],
   "source": [
    "import numpy as np\n",
    "filename = pdb + '_coords.txt'\n",
    "np.savetxt(filename, coords)\n",
    "from google.colab import files\n",
    "files.download(filename)"
   ]
  },
  {
   "cell_type": "markdown",
   "id": "fqmI8SfIe0-z",
   "metadata": {
    "id": "fqmI8SfIe0-z"
   },
   "source": [
    "# Visualizing saved results\n",
    "The numerical results are saved as compressed .npz files by default and can be opened and used to visualize the results afterwards. This includes the ability to visualize clusters that weren't the highest scoring cluster. In this example\n",
    "we visualize the results of clustering the capsid into 20 clusters."
   ]
  },
  {
   "cell_type": "code",
   "execution_count": null,
   "id": "85872koLfQxy",
   "metadata": {
    "id": "85872koLfQxy"
   },
   "outputs": [],
   "source": [
    "from pyCapsid.VIS import visualizeSavedResults\n",
    "results_file = f'{pdb}_final_results_full.npz' # Path of the saved results\n",
    "labels_20, view_clusters = visualizeSavedResults(pdb, results_file, n_cluster=20, method='nglview')\n",
    "view_clusters"
   ]
  },
  {
   "cell_type": "code",
   "execution_count": null,
   "id": "zDnyCMBpga7o",
   "metadata": {
    "id": "zDnyCMBpga7o"
   },
   "outputs": [],
   "source": [
    "# If the above view doesn't change coloration, run this cell again.\n",
    "# In general do not run this cell until the above cell has finished rendering\n",
    "from pyCapsid.VIS import createClusterRepresentation\n",
    "createClusterRepresentation(pdb, labels_20, view_clusters)\n",
    "\n",
    "# Add rep_type='spacefill' to represent the atoms of the capsid as spheres. This provides less information regarding the proteins but makes it easier to identify the geometry of the clusters\n",
    "#createClusterRepresentation(pdb, labels, view_clusters, rep_type='spacefill')"
   ]
  },
  {
   "cell_type": "code",
   "execution_count": null,
   "id": "tA8_f5txg2cw",
   "metadata": {
    "id": "tA8_f5txg2cw"
   },
   "outputs": [],
   "source": []
  }
 ],
 "metadata": {
  "accelerator": "GPU",
  "colab": {
   "gpuType": "T4",
   "private_outputs": true,
   "provenance": []
  },
  "kernelspec": {
   "display_name": "Python 3 (ipykernel)",
   "language": "python",
   "name": "python3"
  },
  "language_info": {
   "codemirror_mode": {
    "name": "ipython",
    "version": 3
   },
   "file_extension": ".py",
   "mimetype": "text/x-python",
   "name": "python",
   "nbconvert_exporter": "python",
   "pygments_lexer": "ipython3",
   "version": "3.10.11"
  }
 },
 "nbformat": 4,
 "nbformat_minor": 5
}
