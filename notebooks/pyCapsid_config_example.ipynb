{
 "cells": [
  {
   "cell_type": "markdown",
   "metadata": {
    "id": "qI8uIeVz9R77",
    "pycharm": {
     "name": "#%% md\n"
    }
   },
   "source": [
    "# Running pyCapsid using a config.toml file"
   ]
  },
  {
   "cell_type": "markdown",
   "metadata": {
    "id": "F-ROwM0q9cih",
    "pycharm": {
     "name": "#%% md\n"
    }
   },
   "source": [
    "## Example config.toml\n",
    "```toml\n",
    "[PDB]\n",
    "pdb = '4oq8' # PDB ID of structure\n",
    "save_all_path = './4oq8/' # where to save the results\n",
    "\n",
    "[CG]\n",
    "preset = 'U-ENM' # Model Preset To Use\n",
    "save_hessian = true # Whether to save the hessian matrix\n",
    "\n",
    "[NMA]\n",
    "n_modes = 200 # Number of low frequency modes to calculate\n",
    "eigen_method = 'eigsh' # eigen method to use\n",
    "\n",
    "[b_factors]\n",
    "fit_modes = true # Whether to select the number of modes used to maximize correlation\n",
    "\n",
    "[QRC]\n",
    "\n",
    "[VIS]\n",
    "method = 'nglview'\n",
    "\n",
    "[plotting]\n",
    "\n",
    "```"
   ]
  },
  {
   "cell_type": "markdown",
   "metadata": {
    "id": "vN22X51k9f-q",
    "pycharm": {
     "name": "#%% md\n"
    }
   },
   "source": [
    "## Generating a dummy .toml\n",
    "Here we use python to generate the above .toml file to test in this notebook. You can also create a toml file and save it using any text editor."
   ]
  },
  {
   "cell_type": "code",
   "execution_count": null,
   "metadata": {
    "id": "XruVUGF49Txo",
    "pycharm": {
     "name": "#%%\n"
    }
   },
   "outputs": [],
   "source": [
    "config = {\n",
    "    \"PDB\": {\n",
    "    \"pdb\": \"4oq8\",\n",
    "    \"save_all_path\": './4oq8/',\n",
    "    },\n",
    "    \"CG\": {\n",
    "    \"preset\": \"U-ENM\",\n",
    "    \"save_hessian\": True,\n",
    "    },\n",
    "    \"NMA\": {\n",
    "    \"n_modes\": 200,\n",
    "    \"eigen_method\": 'eigsh',\n",
    "    } ,\n",
    "    \"b_factors\": {\n",
    "    \"fit_modes\": True\n",
    "    } ,\n",
    "    \"QRC\": {\n",
    "    },\n",
    "    \"VIS\": {\n",
    "    \"method\": \"nglview\",\n",
    "    },\n",
    "    \"plotting\": {\n",
    "    }\n",
    "}\n",
    "import toml\n",
    "\n",
    "toml_string = toml.dumps(config)  # Output to a string\n",
    "\n",
    "output_file_name = \"config.toml\"\n",
    "with open(output_file_name, \"w\") as toml_file:\n",
    "    toml.dump(config, toml_file)"
   ]
  },
  {
   "cell_type": "code",
   "execution_count": null,
   "metadata": {
    "id": "5QQaRJa69Vdu",
    "pycharm": {
     "name": "#%%\n"
    }
   },
   "outputs": [],
   "source": [
    "# If using nglview you must return the view and show it in the notebook\n",
    "# Nothing is returned if using chimerax\n",
    "from pyCapsid import run_capsid\n",
    "pdb, labels, view_clusters = run_capsid('config.toml')"
   ]
  },
  {
   "cell_type": "code",
   "execution_count": null,
   "metadata": {
    "id": "bdBghG379k8j",
    "pycharm": {
     "name": "#%%\n"
    }
   },
   "outputs": [],
   "source": [
    "view_clusters"
   ]
  },
  {
   "cell_type": "code",
   "execution_count": null,
   "metadata": {
    "id": "cwX0-eS6GmZy",
    "pycharm": {
     "name": "#%%\n"
    }
   },
   "outputs": [],
   "source": [
    "from pyCapsid.VIS import createClusterRepresentation\n",
    "createClusterRepresentation(pdb, labels, view_clusters, rep_type='cartoon')"
   ]
  }
 ],
 "metadata": {
  "colab": {
   "private_outputs": true,
   "provenance": []
  },
  "kernelspec": {
   "display_name": "Python 3 (ipykernel)",
   "language": "python",
   "name": "python3"
  },
  "language_info": {
   "codemirror_mode": {
    "name": "ipython",
    "version": 3
   },
   "file_extension": ".py",
   "mimetype": "text/x-python",
   "name": "python",
   "nbconvert_exporter": "python",
   "pygments_lexer": "ipython3",
   "version": "3.10.11"
  }
 },
 "nbformat": 4,
 "nbformat_minor": 4
}
