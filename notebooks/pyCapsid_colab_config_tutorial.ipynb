{
  "nbformat": 4,
  "nbformat_minor": 0,
  "metadata": {
    "colab": {
      "private_outputs": true,
      "provenance": []
    },
    "kernelspec": {
      "name": "python3",
      "display_name": "Python 3"
    },
    "language_info": {
      "name": "python"
    }
  },
  "cells": [
    {
      "cell_type": "code",
      "execution_count": null,
      "metadata": {
        "id": "d6OlPxWv9Hcc"
      },
      "outputs": [],
      "source": [
        "!pip install --upgrade pyCapsid ipywidgets==7.7.2 nglview\n",
        "from google.colab import output\n",
        "output.enable_custom_widget_manager()"
      ]
    },
    {
      "cell_type": "markdown",
      "source": [
        "# Running pyCapsid using a config.toml file"
      ],
      "metadata": {
        "id": "qI8uIeVz9R77"
      }
    },
    {
      "cell_type": "markdown",
      "source": [
        "## Example config.toml\n",
        "```toml\n",
        "[PDB]\n",
        "pdb = '4oq8' # PDB ID of structure\n",
        "save_all_path = './4oq8/' # where to save the results\n",
        "\n",
        "[CG]\n",
        "preset = 'U-ENM' # Model Preset To Use\n",
        "save_hessian = true # Whether to save the hessian matrix\n",
        "\n",
        "[NMA]\n",
        "n_modes = 200 # Number of low frequency modes to calculate\n",
        "eigen_method = 'eigsh' # eigen method to use\n",
        "\n",
        "[b_factors]\n",
        "fit_modes = true # Whether to select the number of modes used to maximize correlation\n",
        "\n",
        "[QRC]\n",
        "\n",
        "[VIS]\n",
        "method = 'nglview'\n",
        "\n",
        "[plotting]\n",
        "\n",
        "```"
      ],
      "metadata": {
        "id": "F-ROwM0q9cih"
      }
    },
    {
      "cell_type": "markdown",
      "source": [
        "## Generating a dummy .toml\n",
        "Here we use python to generate the above .toml file to test in this notebook."
      ],
      "metadata": {
        "id": "vN22X51k9f-q"
      }
    },
    {
      "cell_type": "code",
      "source": [
        "config = {\n",
        "    \"PDB\": {\n",
        "    \"pdb\": \"4oq8\",\n",
        "    \"save_all_path\": './4oq8/',\n",
        "    },\n",
        "    \"CG\": {\n",
        "    \"preset\": \"U-ENM\",\n",
        "    \"save_hessian\": True,\n",
        "    },\n",
        "    \"NMA\": {\n",
        "    \"n_modes\": 200,\n",
        "    \"eigen_method\": 'eigsh',\n",
        "    } ,\n",
        "    \"b_factors\": {\n",
        "    \"fit_modes\": True\n",
        "    } ,\n",
        "    \"QRC\": {\n",
        "    },\n",
        "    \"VIS\": {\n",
        "    \"method\": \"nglview\",\n",
        "    },\n",
        "    \"plotting\": {\n",
        "    }\n",
        "}\n",
        "import toml\n",
        "\n",
        "toml_string = toml.dumps(config)  # Output to a string\n",
        "\n",
        "output_file_name = \"config.toml\"\n",
        "with open(output_file_name, \"w\") as toml_file:\n",
        "    toml.dump(config, toml_file)"
      ],
      "metadata": {
        "id": "XruVUGF49Txo"
      },
      "execution_count": null,
      "outputs": []
    },
    {
      "cell_type": "code",
      "source": [
        "# If using nglview you must return the view and show it in the notebook\n",
        "# Nothing is returned if using chimerax\n",
        "from pyCapsid import run_capsid\n",
        "pdb, labels, view_clusters = run_capsid('config.toml')"
      ],
      "metadata": {
        "id": "5QQaRJa69Vdu"
      },
      "execution_count": null,
      "outputs": []
    },
    {
      "cell_type": "code",
      "source": [
        "view_clusters"
      ],
      "metadata": {
        "id": "bdBghG379k8j"
      },
      "execution_count": null,
      "outputs": []
    },
    {
      "cell_type": "code",
      "source": [
        "from pyCapsid.VIS import createClusterRepresentation\n",
        "createClusterRepresentation(pdb, labels, view_clusters, rep_type='cartoon')"
      ],
      "metadata": {
        "id": "cwX0-eS6GmZy"
      },
      "execution_count": null,
      "outputs": []
    },
    {
      "cell_type": "markdown",
      "metadata": {
        "id": "A_0CigBeZo51"
      },
      "source": [
        "## Downloading Results\n",
        "Some results are saved automatically by pyCapsid, and can be downloaded from colab in the following manner."
      ]
    },
    {
      "cell_type": "code",
      "execution_count": null,
      "metadata": {
        "id": "x9bB6Y4SZBg4"
      },
      "outputs": [],
      "source": [
        "# Check what files are saved\n",
        "!dir"
      ]
    },
    {
      "cell_type": "code",
      "execution_count": null,
      "metadata": {
        "id": "4O6EITQxZY_9"
      },
      "outputs": [],
      "source": [
        "# Use the colab api to download the files\n",
        "# You may have to provide permission to download files via your browser\n",
        "from google.colab import files\n",
        "files.download('results_plot.svg')"
      ]
    },
    {
      "cell_type": "markdown",
      "metadata": {
        "id": "yRhJzMhRarYR"
      },
      "source": [
        "If a result you want isn't saved, you can save any of the arrays used in the notebook and download the file."
      ]
    },
    {
      "cell_type": "code",
      "execution_count": null,
      "metadata": {
        "id": "7joS1enya7jn"
      },
      "outputs": [],
      "source": [
        "import numpy as np\n",
        "filename = pdb + '_coords.txt'\n",
        "np.savetxt(filename, coords)\n",
        "from google.colab import files\n",
        "files.download(filename)"
      ]
    }
  ]
}