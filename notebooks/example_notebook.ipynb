{
 "cells": [
  {
   "cell_type": "markdown",
   "id": "213836e7",
   "metadata": {
    "pycharm": {
     "name": "#%% md\n"
    }
   },
   "source": [
    "# Fetch and load PDB\n",
    "This code acquires the pdb file from the RCSB databank, loads the necessary information, and saves copies for possible use in visualization in other software."
   ]
  },
  {
   "cell_type": "code",
   "execution_count": null,
   "outputs": [],
   "source": [
    "from pyCapsid.PDB import getCapsid\n",
    "pdb = '4oq8'\n",
    "capsid, calphas, asymmetric_unit, coords, bfactors, chain_starts, title = getCapsid(pdb)"
   ],
   "metadata": {
    "collapsed": false,
    "pycharm": {
     "name": "#%%\n"
    }
   }
  },
  {
   "cell_type": "markdown",
   "source": [
    "# Build ENM Hessian\n",
    "This code builds a hessian matrix using an elastic network model defined by the given parameters. The types of model and the meaning of the parameters are provided in the documentation."
   ],
   "metadata": {
    "collapsed": false,
    "pycharm": {
     "name": "#%% md\n"
    }
   }
  },
  {
   "cell_type": "code",
   "execution_count": null,
   "outputs": [],
   "source": [
    "from pyCapsid.CG import buildENMPreset\n",
    "kirch, hessian = buildENMPreset(coords, preset='U-ENM')"
   ],
   "metadata": {
    "collapsed": false,
    "pycharm": {
     "name": "#%%\n"
    }
   }
  },
  {
   "cell_type": "markdown",
   "source": [
    "# Perform NMA\n",
    "## Calculate low frequency modes\n",
    "This code calculates the n lowest frequency modes of the system by calculating the eigenvalues and eigenvectors of the hessian matrix."
   ],
   "metadata": {
    "collapsed": false,
    "pycharm": {
     "name": "#%% md\n"
    }
   }
  },
  {
   "cell_type": "code",
   "execution_count": null,
   "outputs": [],
   "source": [
    "from pyCapsid.NMA import modeCalc\n",
    "evals, evecs = modeCalc(hessian)"
   ],
   "metadata": {
    "collapsed": false,
    "pycharm": {
     "name": "#%%\n"
    }
   }
  },
  {
   "cell_type": "markdown",
   "source": [
    "## Predict, fit, and compare b-factors\n",
    "This code uses the resulting normal modes and frequencies to predict the b-factors of each alpha carbon, fits these results to experimental values from the pdb entry, and plots the results for comparison."
   ],
   "metadata": {
    "collapsed": false,
    "pycharm": {
     "name": "#%% md\n"
    }
   }
  },
  {
   "cell_type": "code",
   "execution_count": null,
   "outputs": [],
   "source": [
    "from pyCapsid.NMA import fitCompareBfactors\n",
    "evals_scaled, evecs_scaled, cc, gamma, n_modes = fitCompareBfactors(evals, evecs, bfactors, pdb)"
   ],
   "metadata": {
    "collapsed": false,
    "pycharm": {
     "name": "#%%\n"
    }
   }
  },
  {
   "cell_type": "markdown",
   "source": [
    "# Perform quasi-rigid cluster identification (QRC)"
   ],
   "metadata": {
    "collapsed": false,
    "pycharm": {
     "name": "#%% md\n"
    }
   }
  },
  {
   "cell_type": "code",
   "execution_count": null,
   "outputs": [],
   "source": [
    "from pyCapsid.NMA import calcDistFlucts\n",
    "from pyCapsid.QRC import findQuasiRigidClusters\n",
    "\n",
    "dist_flucts = calcDistFlucts(evals_scaled, evecs_scaled, coords)\n",
    "\n",
    "cluster_start = 4\n",
    "cluster_stop = 130\n",
    "cluster_step = 2\n",
    "labels, score, residue_scores  = findQuasiRigidClusters(pdb, dist_flucts, cluster_start=cluster_start, cluster_stop=cluster_stop, cluster_step=cluster_step)"
   ],
   "metadata": {
    "collapsed": false,
    "pycharm": {
     "name": "#%%\n"
    }
   }
  },
  {
   "cell_type": "markdown",
   "source": [
    "## Visualize in jupyter notebook with nglview\n",
    "You can visualize the results in the notebook with nglview. The following function returns an nglview object with the results colored based on cluster. See the nglview documentation for further info (http://nglviewer.org/nglview/release/v2.7.7/index.html)"
   ],
   "metadata": {
    "collapsed": false,
    "pycharm": {
     "name": "#%% md\n"
    }
   }
  },
  {
   "cell_type": "code",
   "execution_count": null,
   "outputs": [],
   "source": [
    "# This cell will create an standard view of the capsid, which the next cell will \n",
    "# modify to create the final result.\n",
    "from pyCapsid.VIS import createCapsidView\n",
    "view_clusters = createCapsidView(pdb, capsid)\n",
    "view_clusters"
   ],
   "metadata": {
    "collapsed": false,
    "pycharm": {
     "name": "#%%\n"
    }
   }
  },
  {
   "cell_type": "code",
   "execution_count": null,
   "outputs": [],
   "source": [
    "# If the above view doesn't change coloration, run this cell again.\n",
    "# In general do not run this cell until the above cell has finished rendering\n",
    "from pyCapsid.VIS import createClusterRepresentation\n",
    "createClusterRepresentation(pdb, labels, view_clusters)\n",
    "\n",
    "# Add rep_type='spacefill' to represent the atoms of the capsid as spheres. This provides less information regarding the proteins but makes it easier to identify the geometry of the clusters\n",
    "#createClusterRepresentation(pdb, labels, view_clusters, rep_type='spacefill')"
   ],
   "metadata": {
    "collapsed": false,
    "pycharm": {
     "name": "#%%\n"
    }
   }
  },
  {
   "cell_type": "code",
   "execution_count": null,
   "outputs": [],
   "source": [
    "# Once you've done this use this code to download the results\n",
    "view_clusters.center()\n",
    "view_clusters.download_image(factor=2)"
   ],
   "metadata": {
    "collapsed": false,
    "pycharm": {
     "name": "#%%\n"
    }
   }
  },
  {
   "cell_type": "markdown",
   "source": [
    "Running the same code but replacing labels with residue_scores and adding rwb_scale=True visualizes the quality score of each residue. This is a measure of how rigid each residue is with respect to its cluster. Blue residues make up the cores of rigid clusters, and red residues represent borders between clusters. "
   ],
   "metadata": {
    "collapsed": false,
    "pycharm": {
     "name": "#%% md\n"
    }
   }
  },
  {
   "cell_type": "code",
   "execution_count": null,
   "outputs": [],
   "source": [
    "# This code adds a colorbar based on the residue scores\n",
    "print('Each atom in this structure is colored according to the clustering quality score of its residue.')\n",
    "import matplotlib.colorbar as colorbar\n",
    "import matplotlib.pyplot as plt\n",
    "from pyCapsid.VIS import clusters_colormap_hexcolor\n",
    "import numpy as np\n",
    "hexcolor, cmap = clusters_colormap_hexcolor(residue_scores, rwb_scale=True)\n",
    "fig, ax = plt.subplots(figsize=(10, 0.5))\n",
    "cb = colorbar.ColorbarBase(ax, orientation='horizontal',\n",
    "                            cmap=cmap, norm=plt.Normalize(np.min(residue_scores), np.max(residue_scores)))\n",
    "plt.show()\n",
    "\n",
    "# This cell will create an empty view, which the next cell will \n",
    "# modify to create the final result.\n",
    "from pyCapsid.VIS import createCapsidView\n",
    "view_scores = createCapsidView(pdb, capsid)\n",
    "view_scores"
   ],
   "metadata": {
    "collapsed": false,
    "pycharm": {
     "name": "#%%\n"
    }
   }
  },
  {
   "cell_type": "code",
   "execution_count": null,
   "outputs": [],
   "source": [
    "from pyCapsid.VIS import createClusterRepresentation\n",
    "createClusterRepresentation(pdb, residue_scores, view_scores, rwb_scale=True)"
   ],
   "metadata": {
    "collapsed": false,
    "pycharm": {
     "name": "#%%\n"
    }
   }
  },
  {
   "cell_type": "code",
   "execution_count": null,
   "outputs": [],
   "source": [
    "# Once you've done this use this code to download the results\n",
    "view_scores.center()\n",
    "view_scores.download_image(factor=2)"
   ],
   "metadata": {
    "collapsed": false,
    "pycharm": {
     "name": "#%%\n"
    }
   }
  },
  {
   "cell_type": "markdown",
   "source": [
    "## Visualize in ChimeraX\n",
    "If ChimeraX (https://www.cgl.ucsf.edu/chimerax/download.html) is installed you may provide a path to the chimerax executable file to automatically visualize the results in chimerax. This is done using the runscript command in chimerax and this python script: (https://github.com/luquelab/pyCapsid/blob/main/src/pyCapsid/scripts/chimerax_script.py)."
   ],
   "metadata": {
    "collapsed": false,
    "pycharm": {
     "name": "#%% md\n"
    }
   }
  },
  {
   "cell_type": "markdown",
   "id": "87bf38a6-1630-48e5-8ef6-e0f8643e6263",
   "metadata": {
    "pycharm": {
     "name": "#%% md\n"
    }
   },
   "source": [
    "Running the same code but replacing labels with residue_scores and adding rwb_scale=True visualizes the quality score of each residue. This is a measure of how rigid each residue is with respec to its cluster. Blue residues make up the cores of rigid clusters, and red residues represent borders between clusters. "
   ]
  },
  {
   "cell_type": "code",
   "execution_count": null,
   "id": "acf2203c-5448-433b-9695-3ce0924e6e09",
   "metadata": {
    "pycharm": {
     "name": "#%%\n"
    }
   },
   "outputs": [],
   "source": [
    "from pyCapsid.VIS import chimeraxViz\n",
    "chimeraxViz(residue_scores, pdb, chimerax_path='C:\\\\Program Files\\\\ChimeraX\\\\bin\\\\chimerax.exe', rwb_scale=True)"
   ]
  },
  {
   "cell_type": "markdown",
   "id": "5d22bb38-63f9-4a3e-99ab-7bfc26b5cf32",
   "metadata": {
    "pycharm": {
     "name": "#%% md\n"
    }
   },
   "source": [
    "# Visualizing saved results\n",
    "The numerical results are saved as compressed .npz files by default and can be opened and used to visualize the results afterwards. This includes the ability to visualize clusters that weren't the highest scoring cluster. In this example\n",
    "we visualize the results of clustering the capsid into 20 clusters."
   ]
  },
  {
   "cell_type": "code",
   "execution_count": null,
   "id": "41927cfb-5950-41f2-bfd1-16495f14f3b5",
   "metadata": {
    "pycharm": {
     "name": "#%%\n"
    }
   },
   "outputs": [],
   "source": [
    "from pyCapsid.VIS import visualizeSavedResults\n",
    "results_file = f'{pdb}_final_results_full.npz' # Path of the saved results\n",
    "labels_20, view_clusters = visualizeSavedResults(pdb, results_file, n_cluster=20, method='nglview')\n",
    "view_clusters"
   ]
  },
  {
   "cell_type": "code",
   "execution_count": null,
   "id": "415ff3fc-c541-42d8-8805-734ef4bdea68",
   "metadata": {
    "pycharm": {
     "name": "#%%\n"
    }
   },
   "outputs": [],
   "source": [
    "# If the above view doesn't change coloration, run this cell again.\n",
    "# In general do not run this cell until the above cell has finished rendering\n",
    "from pyCapsid.VIS import createClusterRepresentation\n",
    "createClusterRepresentation(pdb, labels_20, view_clusters)\n",
    "\n",
    "# Add rep_type='spacefill' to represent the atoms of the capsid as spheres. This provides less information regarding the proteins but makes it easier to identify the geometry of the clusters\n",
    "#createClusterRepresentation(pdb, labels, view_clusters, rep_type='spacefill')"
   ]
  },
  {
   "cell_type": "markdown",
   "id": "e62f4271-a439-4f09-82a7-cd53696889a0",
   "metadata": {
    "pycharm": {
     "name": "#%% md\n"
    }
   },
   "source": [
    "In Chimerax"
   ]
  },
  {
   "cell_type": "code",
   "execution_count": null,
   "id": "01bf6425-9deb-4d85-bd52-f0e24fc290d4",
   "metadata": {
    "pycharm": {
     "name": "#%%\n"
    }
   },
   "outputs": [],
   "source": [
    "visualizeSavedResults(pdb, results_file, n_cluster=20, method='chimerax')"
   ]
  }
 ],
 "metadata": {
  "kernelspec": {
   "display_name": "Python 3 (ipykernel)",
   "language": "python",
   "name": "python3"
  },
  "language_info": {
   "codemirror_mode": {
    "name": "ipython",
    "version": 3
   },
   "file_extension": ".py",
   "mimetype": "text/x-python",
   "name": "python",
   "nbconvert_exporter": "python",
   "pygments_lexer": "ipython3",
   "version": "3.10.11"
  }
 },
 "nbformat": 4,
 "nbformat_minor": 5
}