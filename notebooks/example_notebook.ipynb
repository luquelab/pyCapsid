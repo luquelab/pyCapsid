{
 "cells": [
  {
   "cell_type": "markdown",
   "id": "213836e7",
   "metadata": {
    "pycharm": {
     "name": "#%% md\n"
    }
   },
   "source": [
    "# Fetch and load PDB\n",
    "This code acquires the pdb file from the RCSB databank, loads the necessary information, and saves copies for possible use in visualization in other software."
   ]
  },
  {
   "cell_type": "code",
   "execution_count": null,
   "id": "dfdc9bd5",
   "metadata": {
    "collapsed": false,
    "jupyter": {
     "outputs_hidden": false
    },
    "pycharm": {
     "name": "#%%\n"
    },
    "tags": []
   },
   "outputs": [],
   "source": [
    "from pyCapsid.PDB import getCapsid\n",
    "pdb = '4oq8'\n",
    "capsid, calphas, coords, bfactors, chain_starts, title = getCapsid(pdb)"
   ]
  },
  {
   "cell_type": "markdown",
   "id": "cf28904f",
   "metadata": {
    "pycharm": {
     "name": "#%% md\n"
    }
   },
   "source": [
    "# Build ENM Hessian\n",
    "This code builds a hessian matrix using an elastic network model defined by the given parameters. The types of model and the meaning of the parameters are provided in the documentation."
   ]
  },
  {
   "cell_type": "code",
   "execution_count": null,
   "id": "268834cd",
   "metadata": {
    "pycharm": {
     "name": "#%%\n"
    },
    "tags": []
   },
   "outputs": [],
   "source": [
    "from pyCapsid.CG import buildENMPreset\n",
    "kirch, hessian = buildENMPreset(coords, preset='U-ENM')"
   ]
  },
  {
   "cell_type": "markdown",
   "id": "fb441f9e",
   "metadata": {
    "pycharm": {
     "name": "#%% md\n"
    }
   },
   "source": [
    "# Perform NMA\n",
    "## Calculate low frequency modes\n",
    "This code calculates the n lowest frequency modes of the system by calculating the eigenvalues and eigenvectors of the hessian matrix."
   ]
  },
  {
   "cell_type": "code",
   "execution_count": null,
   "id": "f79a4f3a",
   "metadata": {
    "collapsed": false,
    "jupyter": {
     "outputs_hidden": false
    },
    "pycharm": {
     "name": "#%%\n"
    },
    "tags": []
   },
   "outputs": [],
   "source": [
    "from pyCapsid.NMA import modeCalc\n",
    "evals, evecs = modeCalc(hessian)"
   ]
  },
  {
   "cell_type": "markdown",
   "id": "049afcd7-2c27-4709-9bde-fe62f0130c0f",
   "metadata": {
    "pycharm": {
     "name": "#%% md\n"
    }
   },
   "source": [
    "## Predict, fit, and compare b-factors\n",
    "This code uses the resulting normal modes and frequencies to predict the b-factors of each alpha carbon, fits these results to experimental values from the pdb entry, and plots the results for comparison."
   ]
  },
  {
   "cell_type": "code",
   "execution_count": null,
   "id": "ce3ab0a5",
   "metadata": {
    "collapsed": false,
    "jupyter": {
     "outputs_hidden": false
    },
    "pycharm": {
     "name": "#%%\n"
    },
    "tags": []
   },
   "outputs": [],
   "source": [
    "from pyCapsid.NMA import fitCompareBfactors\n",
    "evals_scaled, evecs_scaled = fitCompareBfactors(evals, evecs, bfactors, pdb)"
   ]
  },
  {
   "cell_type": "markdown",
   "id": "643612c4-cf15-4c43-814a-2384e46029ec",
   "metadata": {
    "pycharm": {
     "name": "#%% md\n"
    }
   },
   "source": [
    "# Perform quasi-rigid cluster identification (QRC)"
   ]
  },
  {
   "cell_type": "code",
   "execution_count": null,
   "id": "3eedff83",
   "metadata": {
    "collapsed": false,
    "jupyter": {
     "outputs_hidden": false
    },
    "pycharm": {
     "name": "#%%\n"
    },
    "tags": []
   },
   "outputs": [],
   "source": [
    "from pyCapsid.NMA import calcDistFlucts\n",
    "from pyCapsid.QRC import findQuasiRigidClusters\n",
    "\n",
    "dist_flucts = calcDistFlucts(evals, evecs, coords)\n",
    "\n",
    "cluster_start = 4\n",
    "cluster_stop = 130\n",
    "cluster_step = 2\n",
    "labels, score, residue_scores  = findQuasiRigidClusters(pdb, dist_flucts, cluster_start=cluster_start, cluster_stop=cluster_stop, cluster_step=cluster_step)"
   ]
  },
  {
   "cell_type": "markdown",
   "id": "2f1fe934-ac4a-40a5-896f-3c7c4aff7c94",
   "metadata": {},
   "source": [
    "## Visualize in jupyter notebook with nglview\n",
    "You can visualize the results in the notebook with nglview. The following function returns an nglview object with the results colored based on cluster. See the nglview documentation for further info (http://nglviewer.org/nglview/release/v2.7.7/index.html)"
   ]
  },
  {
   "cell_type": "code",
   "execution_count": null,
   "id": "28a63769",
   "metadata": {
    "pycharm": {
     "name": "#%%\n"
    },
    "tags": []
   },
   "outputs": [],
   "source": [
    "from pyCapsid.VIS import view_pdb_ngl\n",
    "view = view_pdb_ngl(pdb, capsid, labels)\n",
    "view.download_image()\n",
    "view"
   ]
  },
  {
   "cell_type": "markdown",
   "id": "9a387312-4b3d-481b-9d84-5b26c64067ef",
   "metadata": {},
   "source": [
    "Running the same code but replacing labels with residue_scores and adding rwb_scale=True visualizes the quality score of each residue. This is a measure of how rigid each residue is with respect to its cluster. Blue residues make up the cores of rigid clusters, and red residues represent borders between clusters. "
   ]
  },
  {
   "cell_type": "code",
   "execution_count": null,
   "id": "d9629ce6-fc8b-41f3-8a67-9758b1f576f1",
   "metadata": {
    "tags": []
   },
   "outputs": [],
   "source": [
    "from pyCapsid.VIS import view_pdb_ngl\n",
    "view = view_pdb_ngl(pdb, capsid, residue_scores, rwb_scale=True)\n",
    "view.download_image()\n",
    "view"
   ]
  },
  {
   "cell_type": "markdown",
   "id": "e267a51c-68f8-4a9b-929e-a4ea157de1e4",
   "metadata": {},
   "source": [
    "## Visualize in ChimeraX\n",
    "If ChimeraX (https://www.cgl.ucsf.edu/chimerax/download.html) is installed you may provide a path to the chimerax executable file to automatically visualize the results in chimerax. This is done using the runscript command in chimerax and this python script: (https://github.com/luquelab/pyCapsid/blob/main/src/pyCapsid/scripts/chimerax_script.py)."
   ]
  },
  {
   "cell_type": "code",
   "execution_count": null,
   "id": "081cd6ff-7c87-4a0f-a2e7-2bf075dcdc3a",
   "metadata": {
    "pycharm": {
     "name": "#%%\n"
    },
    "tags": []
   },
   "outputs": [],
   "source": [
    "from pyCapsid.VIS import chimeraxViz\n",
    "chimeraxViz(labels, pdb, chimerax_path='C:\\\\Program Files\\\\ChimeraX\\\\bin')"
   ]
  },
  {
   "cell_type": "markdown",
   "id": "87bf38a6-1630-48e5-8ef6-e0f8643e6263",
   "metadata": {},
   "source": [
    "Running the same code but replacing labels with residue_scores and adding rwb_scale=True visualizes the quality score of each residue. This is a measure of how rigid each residue is with respec to its cluster. Blue residues make up the cores of rigid clusters, and red residues represent borders between clusters. "
   ]
  },
  {
   "cell_type": "code",
   "execution_count": null,
   "id": "acf2203c-5448-433b-9695-3ce0924e6e09",
   "metadata": {},
   "outputs": [],
   "source": [
    "from pyCapsid.VIS import chimeraxViz\n",
    "chimeraxViz(residue_scores, pdb, chimerax_path='C:\\\\Program Files\\\\ChimeraX\\\\bin', rwb_scale=True)"
   ]
  }
 ],
 "metadata": {
  "kernelspec": {
   "display_name": "Python 3 (ipykernel)",
   "language": "python",
   "name": "python3"
  },
  "language_info": {
   "codemirror_mode": {
    "name": "ipython",
    "version": 3
   },
   "file_extension": ".py",
   "mimetype": "text/x-python",
   "name": "python",
   "nbconvert_exporter": "python",
   "pygments_lexer": "ipython3",
   "version": "3.10.11"
  }
 },
 "nbformat": 4,
 "nbformat_minor": 5
}
