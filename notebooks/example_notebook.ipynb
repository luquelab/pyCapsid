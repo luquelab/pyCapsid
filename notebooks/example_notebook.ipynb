{
 "cells": [
  {
   "cell_type": "markdown",
   "id": "213836e7",
   "metadata": {
    "pycharm": {
     "name": "#%% md\n"
    }
   },
   "source": [
    "# Fetch and load PDB\n",
    "This code acquires the pdb file from the RCSB databank, loads the necessary information, and saves copies for possible use in visualization in other software."
   ]
  },
  {
   "cell_type": "code",
   "execution_count": null,
   "id": "dfdc9bd5",
   "metadata": {
    "collapsed": false,
    "jupyter": {
     "outputs_hidden": false
    },
    "pycharm": {
     "name": "#%%\n"
    },
    "tags": []
   },
   "outputs": [],
   "source": [
    "from pyCapsid.PDB import getCapsid\n",
    "pdb = '4oq8'\n",
    "capsid, calphas, coords, bfactors, chain_starts, title = getCapsid(pdb)"
   ]
  },
  {
   "cell_type": "markdown",
   "id": "cf28904f",
   "metadata": {
    "pycharm": {
     "name": "#%% md\n"
    }
   },
   "source": [
    "# Build ENM Hessian\n",
    "This code builds a hessian matrix using an elastic network model defined by the given parameters. The types of model and the meaning of the parameters are provided in the documentation."
   ]
  },
  {
   "cell_type": "code",
   "execution_count": null,
   "id": "268834cd",
   "metadata": {
    "pycharm": {
     "name": "#%%\n"
    },
    "tags": []
   },
   "outputs": [],
   "source": [
    "from pyCapsid.CG import buildENMPreset\n",
    "kirch, hessian = buildENMPreset(coords, preset='U-ENM')"
   ]
  },
  {
   "cell_type": "markdown",
   "id": "fb441f9e",
   "metadata": {
    "pycharm": {
     "name": "#%% md\n"
    }
   },
   "source": [
    "# Perform NMA\n",
    "## Calculate low frequency modes\n",
    "This code calculates the n lowest frequency modes of the system by calculating the eigenvalues and eigenvectors of the hessian matrix."
   ]
  },
  {
   "cell_type": "code",
   "execution_count": null,
   "id": "f79a4f3a",
   "metadata": {
    "collapsed": false,
    "jupyter": {
     "outputs_hidden": false
    },
    "pycharm": {
     "name": "#%%\n"
    },
    "tags": []
   },
   "outputs": [],
   "source": [
    "from pyCapsid.NMA import modeCalc\n",
    "evals, evecs = modeCalc(hessian)"
   ]
  },
  {
   "cell_type": "markdown",
   "id": "049afcd7-2c27-4709-9bde-fe62f0130c0f",
   "metadata": {
    "pycharm": {
     "name": "#%% md\n"
    }
   },
   "source": [
    "## Predict, fit, and compare b-factors\n",
    "This code uses the resulting normal modes and frequencies to predict the b-factors of each alpha carbon, fits these results to experimental values from the pdb entry, and plots the results for comparison."
   ]
  },
  {
   "cell_type": "code",
   "execution_count": null,
   "id": "ce3ab0a5",
   "metadata": {
    "collapsed": false,
    "jupyter": {
     "outputs_hidden": false
    },
    "pycharm": {
     "name": "#%%\n"
    },
    "tags": []
   },
   "outputs": [],
   "source": [
    "from pyCapsid.NMA import fitCompareBfactors\n",
    "evals_scaled, evecs_scaled, cc, gamma, n_modes = fitCompareBfactors(evals, evecs, bfactors, pdb)"
   ]
  },
  {
   "cell_type": "markdown",
   "id": "643612c4-cf15-4c43-814a-2384e46029ec",
   "metadata": {
    "pycharm": {
     "name": "#%% md\n"
    }
   },
   "source": [
    "# Perform quasi-rigid cluster identification (QRC)"
   ]
  },
  {
   "cell_type": "code",
   "execution_count": null,
   "id": "3eedff83",
   "metadata": {
    "collapsed": false,
    "jupyter": {
     "outputs_hidden": false
    },
    "pycharm": {
     "name": "#%%\n"
    },
    "tags": []
   },
   "outputs": [],
   "source": [
    "from pyCapsid.NMA import calcDistFlucts\n",
    "from pyCapsid.QRC import findQuasiRigidClusters\n",
    "\n",
    "dist_flucts = calcDistFlucts(evals_scaled, evecs_scaled, coords)\n",
    "\n",
    "cluster_start = 4\n",
    "cluster_stop = 100\n",
    "cluster_step = 2\n",
    "labels, score, residue_scores  = findQuasiRigidClusters(pdb, dist_flucts, cluster_start=cluster_start, cluster_stop=cluster_stop, cluster_step=cluster_step)"
   ]
  },
  {
   "cell_type": "markdown",
   "id": "2f1fe934-ac4a-40a5-896f-3c7c4aff7c94",
   "metadata": {},
   "source": [
    "## Visualize in jupyter notebook with nglview\n",
    "You can visualize the results in the notebook with nglview. The following function returns an nglview object with the results colored based on cluster. See the nglview documentation for further info (http://nglviewer.org/nglview/release/v2.7.7/index.html)"
   ]
  },
  {
   "cell_type": "code",
   "execution_count": null,
   "id": "28a63769",
   "metadata": {
    "pycharm": {
     "name": "#%%\n"
    },
    "tags": []
   },
   "outputs": [],
   "source": [
    "# This cell will create an standard view of the capsid, which the next cell will \n",
    "# modify to create the final result.\n",
    "from pyCapsid.VIS import createCapsidView\n",
    "view_clusters = createCapsidView(pdb, capsid)\n",
    "view_clusters"
   ]
  },
  {
   "cell_type": "code",
   "execution_count": null,
   "id": "190a3b3a-ad6a-4252-88e6-a0335ee09a91",
   "metadata": {},
   "outputs": [],
   "source": [
    "# If the above view doesn't change coloration, run this cell again.\n",
    "# In general do not run this cell until the above cell has finished rendering\n",
    "from pyCapsid.VIS import createClusterRepresentation\n",
    "createClusterRepresentation(pdb, labels, view_clusters)\n",
    "\n",
    "# Add rep_type='spacefill' to represent the atoms of the capsid as spheres. This provides less information regarding the proteins but makes it easier to identify the geometry of the clusters\n",
    "#createClusterRepresentation(pdb, labels, view_clusters, rep_type='spacefill')"
   ]
  },
  {
   "cell_type": "code",
   "execution_count": null,
   "id": "22a01712-e2ae-4ac6-9d3a-9cd8adc288e6",
   "metadata": {},
   "outputs": [],
   "source": [
    "# Once you've done this use this code to download the results\n",
    "view_clusters.center()\n",
    "view_clusters.download_image(factor=2)"
   ]
  },
  {
   "cell_type": "markdown",
   "id": "9a387312-4b3d-481b-9d84-5b26c64067ef",
   "metadata": {},
   "source": [
    "Running the same code but replacing labels with residue_scores and adding rwb_scale=True visualizes the quality score of each residue. This is a measure of how rigid each residue is with respect to its cluster. Blue residues make up the cores of rigid clusters, and red residues represent borders between clusters. "
   ]
  },
  {
   "cell_type": "code",
   "execution_count": null,
   "id": "d9629ce6-fc8b-41f3-8a67-9758b1f576f1",
   "metadata": {
    "tags": []
   },
   "outputs": [],
   "source": [
    "# This code adds a colorbar based on the residue scores\n",
    "print('Each atom in this structure is colored according to the clustering quality score of its residue.')\n",
    "import matplotlib.colorbar as colorbar\n",
    "import matplotlib.pyplot as plt\n",
    "from pyCapsid.VIS import clusters_colormap_hexcolor\n",
    "import numpy as np\n",
    "hexcolor, cmap = clusters_colormap_hexcolor(residue_scores, rwb_scale=True)\n",
    "fig, ax = plt.subplots(figsize=(10, 0.5))\n",
    "cb = colorbar.ColorbarBase(ax, orientation='horizontal',\n",
    "                            cmap=cmap, norm=plt.Normalize(np.min(residue_scores), np.max(residue_scores)))\n",
    "plt.show()\n",
    "\n",
    "# This cell will create an empty view, which the next cell will \n",
    "# modify to create the final result.\n",
    "from pyCapsid.VIS import createCapsidView\n",
    "view_scores = createCapsidView(pdb, capsid)\n",
    "view_scores"
   ]
  },
  {
   "cell_type": "code",
   "execution_count": null,
   "id": "80bfd9ee-1453-45eb-8de7-9cd1487423f0",
   "metadata": {},
   "outputs": [],
   "source": [
    "from pyCapsid.VIS import createClusterRepresentation\n",
    "createClusterRepresentation(pdb, residue_scores, view_scores, rwb_scale=True)"
   ]
  },
  {
   "cell_type": "code",
   "execution_count": null,
   "id": "c52b5694-43dc-4bdc-90db-fce17499b4fd",
   "metadata": {},
   "outputs": [],
   "source": [
    "# Once you've done this use this code to download the results\n",
    "view_scores.center()\n",
    "view_scores.download_image(factor=2)"
   ]
  },
  {
   "cell_type": "markdown",
   "id": "e267a51c-68f8-4a9b-929e-a4ea157de1e4",
   "metadata": {},
   "source": [
    "## Visualize in ChimeraX\n",
    "If ChimeraX (https://www.cgl.ucsf.edu/chimerax/download.html) is installed you may provide a path to the chimerax executable file to automatically visualize the results in chimerax. This is done using the runscript command in chimerax and this python script: (https://github.com/luquelab/pyCapsid/blob/main/src/pyCapsid/scripts/chimerax_script.py)."
   ]
  },
  {
   "cell_type": "code",
   "execution_count": null,
   "id": "3ab9bd4e-ccb1-4741-9ae3-202bc7cc91a7",
   "metadata": {},
   "outputs": [],
   "source": [
    "%load_ext autoreload\n",
    "%autoreload 2"
   ]
  },
  {
   "cell_type": "code",
   "execution_count": null,
   "id": "081cd6ff-7c87-4a0f-a2e7-2bf075dcdc3a",
   "metadata": {
    "pycharm": {
     "name": "#%%\n"
    },
    "tags": []
   },
   "outputs": [],
   "source": [
    "from pyCapsid.VIS import chimeraxViz\n",
    "chimeraxViz(labels, pdb, chimerax_path='C:\\\\Program Files\\\\ChimeraX\\\\bin\\\\ChimeraX.exe')"
   ]
  },
  {
   "cell_type": "markdown",
   "id": "87bf38a6-1630-48e5-8ef6-e0f8643e6263",
   "metadata": {},
   "source": [
    "Running the same code but replacing labels with residue_scores and adding rwb_scale=True visualizes the quality score of each residue. This is a measure of how rigid each residue is with respec to its cluster. Blue residues make up the cores of rigid clusters, and red residues represent borders between clusters. "
   ]
  },
  {
   "cell_type": "code",
   "execution_count": null,
   "id": "acf2203c-5448-433b-9695-3ce0924e6e09",
   "metadata": {},
   "outputs": [],
   "source": [
    "from pyCapsid.VIS import chimeraxViz\n",
    "chimeraxViz(residue_scores, pdb, chimerax_path='C:\\\\Program Files\\\\ChimeraX\\\\bin\\\\chimerax.exe', rwb_scale=True)"
   ]
  },
  {
   "cell_type": "markdown",
   "id": "5d22bb38-63f9-4a3e-99ab-7bfc26b5cf32",
   "metadata": {},
   "source": [
    "# Visualizing saved results\r\n",
    "The numerical results are saved as compressed .npz files by default and can be opened and used to visualize the results afterwards. This includes the ability to visualize clusters that weren't the highest scoring cluster. In this example\r\n",
    "we visualize the results of clustering the capsid into 20 clusters."
   ]
  },
  {
   "cell_type": "code",
   "execution_count": null,
   "id": "41927cfb-5950-41f2-bfd1-16495f14f3b5",
   "metadata": {},
   "outputs": [],
   "source": [
    "from pyCapsid.VIS import visualizeSavedResults\n",
    "results_file = f'{pdb}_final_results_full.npz' # Path of the saved results\n",
    "labels_20, view_clusters = visualizeSavedResults(pdb, results_file, n_cluster=20, method='nglview')\n",
    "view_clusters"
   ]
  },
  {
   "cell_type": "code",
   "execution_count": null,
   "id": "415ff3fc-c541-42d8-8805-734ef4bdea68",
   "metadata": {},
   "outputs": [],
   "source": [
    "# If the above view doesn't change coloration, run this cell again.\n",
    "# In general do not run this cell until the above cell has finished rendering\n",
    "from pyCapsid.VIS import createClusterRepresentation\n",
    "createClusterRepresentation(pdb, labels_20, view_clusters)\n",
    "\n",
    "# Add rep_type='spacefill' to represent the atoms of the capsid as spheres. This provides less information regarding the proteins but makes it easier to identify the geometry of the clusters\n",
    "#createClusterRepresentation(pdb, labels, view_clusters, rep_type='spacefill')"
   ]
  },
  {
   "cell_type": "markdown",
   "id": "e62f4271-a439-4f09-82a7-cd53696889a0",
   "metadata": {},
   "source": [
    "In Chimerax"
   ]
  },
  {
   "cell_type": "code",
   "execution_count": null,
   "id": "01bf6425-9deb-4d85-bd52-f0e24fc290d4",
   "metadata": {},
   "outputs": [],
   "source": [
    "visualizeSavedResults(pdb, results_file, n_cluster=20, method='chimerax')"
   ]
  }
 ],
 "metadata": {
  "kernelspec": {
   "display_name": "Python 3 (ipykernel)",
   "language": "python",
   "name": "python3"
  },
  "language_info": {
   "codemirror_mode": {
    "name": "ipython",
    "version": 3
   },
   "file_extension": ".py",
   "mimetype": "text/x-python",
   "name": "python",
   "nbconvert_exporter": "python",
   "pygments_lexer": "ipython3",
   "version": "3.10.11"
  }
 },
 "nbformat": 4,
 "nbformat_minor": 5
}
