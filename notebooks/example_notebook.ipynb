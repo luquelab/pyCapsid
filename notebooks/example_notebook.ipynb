{
 "cells": [
  {
   "cell_type": "markdown",
   "id": "213836e7",
   "metadata": {
    "pycharm": {
     "name": "#%% md\n"
    }
   },
   "source": [
    "# Fetch and load PDB\n",
    "This code acquires the pdb file from the RCSB databank, loads the necessary information, and saves copies for possible use in visualization in other software."
   ]
  },
  {
   "cell_type": "code",
   "execution_count": null,
   "id": "dfdc9bd5",
   "metadata": {
    "collapsed": false,
    "jupyter": {
     "outputs_hidden": false
    },
    "pycharm": {
     "name": "#%%\n"
    }
   },
   "outputs": [],
   "source": [
    "from pyCapsid.PDB import getCapsid\n",
    "pdb = '4oq8'\n",
    "capsid, calphas, coords, bfactors, chain_starts, title = getCapsid(pdb. save=True)"
   ]
  },
  {
   "cell_type": "markdown",
   "id": "cf28904f",
   "metadata": {
    "pycharm": {
     "name": "#%% md\n"
    }
   },
   "source": [
    "# Build ENM Hessian\n",
    "This code builds a hessian matrix using an elastic network model defined by the given parameters. The types of model and the meaning of the parameters are provided in the documentation."
   ]
  },
  {
   "cell_type": "code",
   "execution_count": null,
   "id": "268834cd",
   "metadata": {
    "collapsed": false,
    "jupyter": {
     "outputs_hidden": false
    },
    "pycharm": {
     "name": "#%%\n"
    }
   },
   "outputs": [],
   "source": [
    "from pyCapsid.ENM import buildENM\n",
    "kirch, hessian = buildENM(coords, cutoff=7.5, gnm=False, fanm=0.1)"
   ]
  },
  {
   "cell_type": "markdown",
   "id": "fb441f9e",
   "metadata": {
    "pycharm": {
     "name": "#%% md\n"
    }
   },
   "source": [
    "# Perform NMA\n",
    "## Calculate low frequency modes\n",
    "This code calculates the n lowest frequency modes of the system by calculating the eigenvalues and eigenvectors of the hessian matrix."
   ]
  },
  {
   "cell_type": "code",
   "execution_count": null,
   "id": "f79a4f3a",
   "metadata": {
    "collapsed": false,
    "jupyter": {
     "outputs_hidden": false
    },
    "pycharm": {
     "name": "#%%\n"
    }
   },
   "outputs": [],
   "source": [
    "from pyCapsid.NMA import modeCalc\n",
    "n_modes = 200\n",
    "eigmethod = 'eigsh'\n",
    "\n",
    "evals, evecs = modeCalc(hessian, kirch, n_modes, eigmethod=eigmethod, gnm=False)"
   ]
  },
  {
   "cell_type": "markdown",
   "id": "049afcd7-2c27-4709-9bde-fe62f0130c0f",
   "metadata": {
    "pycharm": {
     "name": "#%% md\n"
    }
   },
   "source": [
    "## Predict, fit, and compare b-factors\n",
    "This code uses the resulting normal modes and frequencies to predict the b-factors of each alpha carbon, fits these results to experimental values from the pdb entry, and plots the results for comparison."
   ]
  },
  {
   "cell_type": "code",
   "execution_count": null,
   "id": "ce3ab0a5",
   "metadata": {
    "collapsed": false,
    "jupyter": {
     "outputs_hidden": false
    },
    "pycharm": {
     "name": "#%%\n"
    }
   },
   "outputs": [],
   "source": [
    "from pyCapsid.bfactorfit import plotBfactors\n",
    "plotBfactors(evals, evecs, bfactors, pdb, is3d=True, fitModes=True, plotModes=True, forceIco=False, icotol=0.002)"
   ]
  },
  {
   "cell_type": "markdown",
   "id": "643612c4-cf15-4c43-814a-2384e46029ec",
   "metadata": {
    "pycharm": {
     "name": "#%% md\n"
    }
   },
   "source": [
    "# Perform quasi-rigid cluster identification (QRC)\n",
    "## Build weighted graph based on distance fluctuations\n",
    "This code calculates the distance fluctuations between residues within a cutoff distance from each other and transforms those distance fluctuations into a similarity matrix representing a sparse weighted graph."
   ]
  },
  {
   "cell_type": "code",
   "execution_count": null,
   "id": "3eedff83",
   "metadata": {
    "collapsed": false,
    "jupyter": {
     "outputs_hidden": false
    },
    "pycharm": {
     "name": "#%%\n"
    }
   },
   "outputs": [],
   "source": [
    "from pyCapsid.NMA import calcCovMat, calcDistFlucts\n",
    "n_modes = 200\n",
    "fluct_cutoff = 10\n",
    "covariance = calcCovMat(evals, evecs, n_modes, coords, fluct_cutoff, is3d=True)\n",
    "print(covariance.data)\n",
    "dist_flucts = calcDistFlucts(evals, evecs, n_modes, coords, fluct_cutoff, is3d=True)\n",
    "print(dist_flucts.data)\n",
    "\n",
    "from pyCapsid.NMA import fluctToSims\n",
    "sims = fluctToSims(dist_flucts.copy())\n",
    "sims.eliminate_zeros()"
   ]
  },
  {
   "cell_type": "markdown",
   "id": "bdf8fdf6-4209-4191-a30f-e638ab0ff286",
   "metadata": {
    "pycharm": {
     "name": "#%% md\n"
    }
   },
   "source": [
    "## Calculate the spectral embedding of the graph\n",
    "This code calculates the spectral embedding (eigenvectors) of the sparse weighted graph."
   ]
  },
  {
   "cell_type": "code",
   "execution_count": null,
   "id": "047d011c",
   "metadata": {
    "pycharm": {
     "name": "#%%\n"
    },
    "tags": []
   },
   "outputs": [],
   "source": [
    "from pyCapsid.QRC import calcEmbedding, cluster_embedding\n",
    "from pyCapsid import clustering_util\n",
    "import numpy as np\n",
    "\n",
    "n_cluster_max = 130\n",
    "embedding = calcEmbedding(sims, n_cluster_max)"
   ]
  },
  {
   "cell_type": "markdown",
   "id": "9b8e999f-827a-4a3e-9eac-5abdb7a3c12e",
   "metadata": {
    "pycharm": {
     "name": "#%% md\n"
    }
   },
   "source": [
    "## Cluster the embedded points\n",
    "This code performs clustering for a set of # of clusters "
   ]
  },
  {
   "cell_type": "code",
   "execution_count": null,
   "id": "3955483e-f5a4-4a9f-b0cd-7a14b3f49106",
   "metadata": {
    "tags": []
   },
   "outputs": [],
   "source": [
    "n_range = np.arange(4, n_cluster_max, 2)\n",
    "\n",
    "labels, scores, variances, numtypes = cluster_embedding(n_range, embedding, method='discretize')"
   ]
  },
  {
   "cell_type": "code",
   "execution_count": null,
   "id": "f1252048",
   "metadata": {
    "collapsed": false,
    "jupyter": {
     "outputs_hidden": false
    },
    "pycharm": {
     "name": "#%%\n"
    }
   },
   "outputs": [],
   "source": [
    "from pyCapsid.clustering_util import plotScores\n",
    "plotScores(pdb, n_range, scores, variances, numtypes)\n",
    "clusters = labels[np.argmax(scores)]"
   ]
  },
  {
   "cell_type": "code",
   "execution_count": null,
   "id": "28a63769",
   "metadata": {
    "collapsed": false,
    "jupyter": {
     "outputs_hidden": false
    },
    "pycharm": {
     "name": "#%%\n"
    }
   },
   "outputs": [],
   "source": [
    "# Adapted from py3dmol tutorial\n",
    "# https://william-dawson.github.io/using-py3dmol.html\n",
    "class Atom(dict):\n",
    "    def __init__(self, line):\n",
    "        self[\"type\"] = line[0:6].strip()\n",
    "        self[\"idx\"] = line[6:11].strip()\n",
    "        self[\"name\"] = line[12:16].strip()\n",
    "        self[\"resname\"] = line[17:20].strip()\n",
    "        self[\"resid\"] = int(int(line[22:26]))\n",
    "        self[\"x\"] = float(line[30:38])\n",
    "        self[\"y\"] = float(line[38:46])\n",
    "        self[\"z\"] = float(line[46:54])\n",
    "        self[\"sym\"] = line[76:78].strip()\n",
    "\n",
    "    def __str__(self):\n",
    "        line = list(\" \" * 80)\n",
    "\n",
    "        line[0:6] = self[\"type\"].ljust(6)\n",
    "        line[6:11] = self[\"idx\"].ljust(5)\n",
    "        line[12:16] = self[\"name\"].ljust(4)\n",
    "        line[17:20] = self[\"resname\"].ljust(3)\n",
    "        line[22:26] = str(self[\"resid\"]).ljust(4)\n",
    "        line[30:38] = str(self[\"x\"]).rjust(8)\n",
    "        line[38:46] = str(self[\"y\"]).rjust(8)\n",
    "        line[46:54] = str(self[\"z\"]).rjust(8)\n",
    "        line[76:78] = self[\"sym\"].rjust(2)\n",
    "        return \"\".join(line) + \"\\n\"\n",
    "    \n",
    "class Molecule(list):\n",
    "    def __init__(self, file):\n",
    "        for line in file:\n",
    "            if \"ATOM\" in line or \"HETATM\" in line:\n",
    "                self.append(Atom(line))\n",
    "\n",
    "    def __str__(self):\n",
    "        outstr = \"\"\n",
    "        for at in self:\n",
    "            outstr += str(at)\n",
    "\n",
    "        return outstr\n",
    "    \n",
    "# Colormap generation taken from stackexchange\n",
    "# https://stackoverflow.com/questions/42697933/colormap-with-maximum-distinguishable-colours\n",
    "def generate_colormap(number_of_distinct_colors: int = 80):\n",
    "    import math\n",
    "\n",
    "    import numpy as np\n",
    "    from matplotlib.colors import ListedColormap\n",
    "    from matplotlib.cm import hsv\n",
    "\n",
    "    if number_of_distinct_colors == 0:\n",
    "        number_of_distinct_colors = 80\n",
    "\n",
    "    number_of_shades = 7\n",
    "    number_of_distinct_colors_with_multiply_of_shades = int(math.ceil(number_of_distinct_colors / number_of_shades) * number_of_shades)\n",
    "\n",
    "    # Create an array with uniformly drawn floats taken from <0, 1) partition\n",
    "    linearly_distributed_nums = np.arange(number_of_distinct_colors_with_multiply_of_shades) / number_of_distinct_colors_with_multiply_of_shades\n",
    "\n",
    "    # We are going to reorganise monotonically growing numbers in such way that there will be single array with saw-like pattern\n",
    "    #     but each saw tooth is slightly higher than the one before\n",
    "    # First divide linearly_distributed_nums into number_of_shades sub-arrays containing linearly distributed numbers\n",
    "    arr_by_shade_rows = linearly_distributed_nums.reshape(number_of_shades, number_of_distinct_colors_with_multiply_of_shades // number_of_shades)\n",
    "\n",
    "    # Transpose the above matrix (columns become rows) - as a result each row contains saw tooth with values slightly higher than row above\n",
    "    arr_by_shade_columns = arr_by_shade_rows.T\n",
    "\n",
    "    # Keep number of saw teeth for later\n",
    "    number_of_partitions = arr_by_shade_columns.shape[0]\n",
    "\n",
    "    # Flatten the above matrix - join each row into single array\n",
    "    nums_distributed_like_rising_saw = arr_by_shade_columns.reshape(-1)\n",
    "\n",
    "    # HSV colour map is cyclic (https://matplotlib.org/tutorials/colors/colormaps.html#cyclic), we'll use this property\n",
    "    initial_cm = hsv(nums_distributed_like_rising_saw)\n",
    "\n",
    "    lower_partitions_half = number_of_partitions // 2\n",
    "    upper_partitions_half = number_of_partitions - lower_partitions_half\n",
    "\n",
    "    # Modify lower half in such way that colours towards beginning of partition are darker\n",
    "    # First colours are affected more, colours closer to the middle are affected less\n",
    "    lower_half = lower_partitions_half * number_of_shades\n",
    "    for i in range(3):\n",
    "        initial_cm[0:lower_half, i] *= np.arange(0.2, 1, 0.8/lower_half)\n",
    "\n",
    "    # Modify second half in such way that colours towards end of partition are less intense and brighter\n",
    "    # Colours closer to the middle are affected less, colours closer to the end are affected more\n",
    "    for i in range(3):\n",
    "        for j in range(upper_partitions_half):\n",
    "            modifier = np.ones(number_of_shades) - initial_cm[lower_half + j * number_of_shades: lower_half + (j + 1) * number_of_shades, i]\n",
    "            modifier = j * modifier / upper_partitions_half\n",
    "            initial_cm[lower_half + j * number_of_shades: lower_half + (j + 1) * number_of_shades, i] += modifier\n",
    "\n",
    "    return ListedColormap(initial_cm)"
   ]
  },
  {
   "cell_type": "code",
   "execution_count": null,
   "id": "1e3e25ef",
   "metadata": {
    "collapsed": false,
    "jupyter": {
     "outputs_hidden": false
    },
    "pycharm": {
     "name": "#%%\n"
    }
   },
   "outputs": [],
   "source": [
    "with open(pdb + \"_capsid.pdb\") as ifile:\n",
    "    mol = Molecule(ifile)"
   ]
  },
  {
   "cell_type": "code",
   "execution_count": null,
   "id": "7e17fe55",
   "metadata": {
    "collapsed": false,
    "jupyter": {
     "outputs_hidden": false
    },
    "pycharm": {
     "name": "#%%\n"
    }
   },
   "outputs": [],
   "source": [
    "import numpy as np\n",
    "print(np.min(clusters))\n",
    "print('labels: ', clusters.shape)"
   ]
  },
  {
   "cell_type": "code",
   "execution_count": null,
   "id": "bf7df7ce",
   "metadata": {
    "collapsed": false,
    "jupyter": {
     "outputs_hidden": false
    },
    "pycharm": {
     "name": "#%%\n"
    }
   },
   "outputs": [],
   "source": [
    "import matplotlib as mpl\n",
    "norm = mpl.colors.Normalize(vmin=np.min(clusters), vmax=np.max(clusters))\n",
    "cmap = generate_colormap(int(np.max(clusters)))\n",
    "print(cmap)\n",
    "rgba = cmap(norm(clusters))\n",
    "print(rgba*255)\n",
    "hexcolor = []\n",
    "for c in rgba:\n",
    "    hexcolor.append(mpl.colors.rgb2hex(c))"
   ]
  },
  {
   "cell_type": "code",
   "execution_count": null,
   "id": "a52ac3bf",
   "metadata": {
    "collapsed": false,
    "jupyter": {
     "outputs_hidden": false
    },
    "pycharm": {
     "name": "#%%\n"
    }
   },
   "outputs": [],
   "source": [
    "r0 = mol[0]['resid']\n",
    "c0 = hexcolor[0]\n",
    "#l0 = clusters[0]\n",
    "#fullcolors = []\n",
    "clust_scheme = []\n",
    "select = '@'\n",
    "print(r0, c0)\n",
    "i = 1\n",
    "j = 0\n",
    "for at in mol:\n",
    "    r = at['resid']\n",
    "    if r == r0:\n",
    "        select += str(i) + ','\n",
    "        i += 1\n",
    "    else:\n",
    "        clust_scheme.append([c0, select[:-1]])\n",
    "        select = '@' + str(i) + ','\n",
    "        r0 = r\n",
    "        j +=1\n",
    "        i +=1\n",
    "        c0 = hexcolor[j]\n",
    "        l0 = clusters[j]\n",
    "clust_scheme.append([c0, select[:-1]])"
   ]
  },
  {
   "cell_type": "code",
   "execution_count": null,
   "id": "269d6334",
   "metadata": {
    "collapsed": false,
    "jupyter": {
     "outputs_hidden": false
    },
    "pycharm": {
     "name": "#%%\n"
    }
   },
   "outputs": [],
   "source": [
    "import nglview as ngl\n",
    "file = pdb + '_capsid.pdb'\n",
    "color_scheme = ngl.color._ColorScheme(clust_scheme, label=\"scheme_regions\")\n",
    "view = ngl.show_prody(capsid, gui=False)\n",
    "view.clear_representations()\n",
    "\n",
    "\n",
    "view.add_representation(\"spacefill\",  color=color_scheme)\n",
    "view._remote_call(\"setSize\", target='Widget', args=['1000px','1000px'])\n",
    "view"
   ]
  },
  {
   "cell_type": "code",
   "execution_count": null,
   "id": "92cb1759-2e59-49cb-a97a-19d93dfe478e",
   "metadata": {},
   "outputs": [],
   "source": []
  }
 ],
 "metadata": {
  "kernelspec": {
   "display_name": "Python 3 (ipykernel)",
   "language": "python",
   "name": "python3"
  },
  "language_info": {
   "codemirror_mode": {
    "name": "ipython",
    "version": 3
   },
   "file_extension": ".py",
   "mimetype": "text/x-python",
   "name": "python",
   "nbconvert_exporter": "python",
   "pygments_lexer": "ipython3",
   "version": "3.10.9"
  }
 },
 "nbformat": 4,
 "nbformat_minor": 5
}
