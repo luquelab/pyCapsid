{
 "cells": [
  {
   "cell_type": "markdown",
   "id": "88c50513",
   "metadata": {},
   "source": [
    "# Notebook description\n",
    "This Jupyter notebook analyses the performance of pyCapsid for a range of protein shells"
   ]
  },
  {
   "cell_type": "code",
   "execution_count": 1,
   "id": "5094dd2b",
   "metadata": {},
   "outputs": [],
   "source": [
    "# Libraries\n",
    "import pandas as pd\n",
    "import matplotlib.pyplot as plt\n",
    "import seaborn as sns\n",
    "import numpy as np\n",
    "from scipy import stats"
   ]
  },
  {
   "cell_type": "code",
   "execution_count": 2,
   "id": "31c6e125",
   "metadata": {},
   "outputs": [],
   "source": [
    "# Set defaults\n",
    "#sns.set_theme(style = 'darkgrid')\n",
    "plt.style.use('ggplot')\n",
    "%matplotlib inline"
   ]
  },
  {
   "cell_type": "code",
   "execution_count": 3,
   "id": "77c09297",
   "metadata": {},
   "outputs": [],
   "source": [
    "# Load data\n",
    "df_data = pd.read_csv('pyCapsid_performance_data.csv')"
   ]
  },
  {
   "cell_type": "code",
   "execution_count": 4,
   "id": "90e717ce",
   "metadata": {},
   "outputs": [],
   "source": [
    "# Add Memory usage in Megabtyes\n",
    "conversion = 1.048576 # 1 Mebibyte is 2^20 / 10^6 Megabytes \n",
    "df_data['Memory_MB'] = df_data['Memory'].apply(lambda x:x*conversion)"
   ]
  },
  {
   "cell_type": "code",
   "execution_count": 5,
   "id": "8652b777",
   "metadata": {},
   "outputs": [
    {
     "data": {
      "text/html": [
       "<div>\n",
       "<style scoped>\n",
       "    .dataframe tbody tr th:only-of-type {\n",
       "        vertical-align: middle;\n",
       "    }\n",
       "\n",
       "    .dataframe tbody tr th {\n",
       "        vertical-align: top;\n",
       "    }\n",
       "\n",
       "    .dataframe thead th {\n",
       "        text-align: right;\n",
       "    }\n",
       "</style>\n",
       "<table border=\"1\" class=\"dataframe\">\n",
       "  <thead>\n",
       "    <tr style=\"text-align: right;\">\n",
       "      <th></th>\n",
       "      <th>PDB</th>\n",
       "      <th>Capsid</th>\n",
       "      <th>Abbreviation</th>\n",
       "      <th>Residues</th>\n",
       "      <th>MCPs</th>\n",
       "      <th>CPs</th>\n",
       "      <th>Reinforcement</th>\n",
       "      <th>Resolution</th>\n",
       "      <th>T-number</th>\n",
       "      <th>Spring_constant</th>\n",
       "      <th>...</th>\n",
       "      <th>CC_ANM</th>\n",
       "      <th>Clusters</th>\n",
       "      <th>Outliers</th>\n",
       "      <th>CQS</th>\n",
       "      <th>Icos_class</th>\n",
       "      <th>Memory</th>\n",
       "      <th>Runtime</th>\n",
       "      <th>pyCap_bench</th>\n",
       "      <th>ProDy_bench</th>\n",
       "      <th>Memory_MB</th>\n",
       "    </tr>\n",
       "  </thead>\n",
       "  <tbody>\n",
       "    <tr>\n",
       "      <th>0</th>\n",
       "      <td>7kq5</td>\n",
       "      <td>Thermatoga maritima encapsulin</td>\n",
       "      <td>T marit enc</td>\n",
       "      <td>15900</td>\n",
       "      <td>60</td>\n",
       "      <td>60</td>\n",
       "      <td>NaN</td>\n",
       "      <td>2.00</td>\n",
       "      <td>1</td>\n",
       "      <td>2.00</td>\n",
       "      <td>...</td>\n",
       "      <td>0.088</td>\n",
       "      <td>120</td>\n",
       "      <td>NaN</td>\n",
       "      <td>4.9</td>\n",
       "      <td>1 H</td>\n",
       "      <td>840.0</td>\n",
       "      <td>120.0</td>\n",
       "      <td>109.0</td>\n",
       "      <td>231.0</td>\n",
       "      <td>880.80384</td>\n",
       "    </tr>\n",
       "    <tr>\n",
       "      <th>1</th>\n",
       "      <td>7s21</td>\n",
       "      <td>Myxococcus xanthus encapsulin 2</td>\n",
       "      <td>M xant enc 2</td>\n",
       "      <td>15900</td>\n",
       "      <td>60</td>\n",
       "      <td>60</td>\n",
       "      <td>NaN</td>\n",
       "      <td>3.40</td>\n",
       "      <td>1</td>\n",
       "      <td>0.38</td>\n",
       "      <td>...</td>\n",
       "      <td>NaN</td>\n",
       "      <td>120</td>\n",
       "      <td>NaN</td>\n",
       "      <td>5.0</td>\n",
       "      <td>1 H</td>\n",
       "      <td>760.0</td>\n",
       "      <td>140.0</td>\n",
       "      <td>NaN</td>\n",
       "      <td>NaN</td>\n",
       "      <td>796.91776</td>\n",
       "    </tr>\n",
       "    <tr>\n",
       "      <th>2</th>\n",
       "      <td>2e0z</td>\n",
       "      <td>Pyrococcus furiosus VLP</td>\n",
       "      <td>P furio enc</td>\n",
       "      <td>42000</td>\n",
       "      <td>180</td>\n",
       "      <td>180</td>\n",
       "      <td>NaN</td>\n",
       "      <td>3.60</td>\n",
       "      <td>3</td>\n",
       "      <td>0.64</td>\n",
       "      <td>...</td>\n",
       "      <td>0.700</td>\n",
       "      <td>32</td>\n",
       "      <td>NaN</td>\n",
       "      <td>350.0</td>\n",
       "      <td>3 H</td>\n",
       "      <td>1880.0</td>\n",
       "      <td>400.0</td>\n",
       "      <td>182.0</td>\n",
       "      <td>904.0</td>\n",
       "      <td>1971.32288</td>\n",
       "    </tr>\n",
       "    <tr>\n",
       "      <th>3</th>\n",
       "      <td>7s20</td>\n",
       "      <td>Myxococcus xanthus encapsulin 1</td>\n",
       "      <td>M xant enc 1</td>\n",
       "      <td>49860</td>\n",
       "      <td>180</td>\n",
       "      <td>180</td>\n",
       "      <td>NaN</td>\n",
       "      <td>3.40</td>\n",
       "      <td>3</td>\n",
       "      <td>0.34</td>\n",
       "      <td>...</td>\n",
       "      <td>NaN</td>\n",
       "      <td>12</td>\n",
       "      <td>NaN</td>\n",
       "      <td>4.4</td>\n",
       "      <td>1*</td>\n",
       "      <td>3200.0</td>\n",
       "      <td>1100.0</td>\n",
       "      <td>NaN</td>\n",
       "      <td>NaN</td>\n",
       "      <td>3355.44320</td>\n",
       "    </tr>\n",
       "    <tr>\n",
       "      <th>4</th>\n",
       "      <td>6nj8</td>\n",
       "      <td>Quasibacillus thermotolerans encapsulin</td>\n",
       "      <td>Q thermo enc</td>\n",
       "      <td>67740</td>\n",
       "      <td>240</td>\n",
       "      <td>240</td>\n",
       "      <td>NaN</td>\n",
       "      <td>3.85</td>\n",
       "      <td>4</td>\n",
       "      <td>0.47</td>\n",
       "      <td>...</td>\n",
       "      <td>0.280</td>\n",
       "      <td>42</td>\n",
       "      <td>NaN</td>\n",
       "      <td>6.7</td>\n",
       "      <td>4 H</td>\n",
       "      <td>4317.5</td>\n",
       "      <td>1180.0</td>\n",
       "      <td>624.0</td>\n",
       "      <td>1712.0</td>\n",
       "      <td>4527.22688</td>\n",
       "    </tr>\n",
       "  </tbody>\n",
       "</table>\n",
       "<p>5 rows × 24 columns</p>\n",
       "</div>"
      ],
      "text/plain": [
       "    PDB                                   Capsid  Abbreviation  Residues  \\\n",
       "0  7kq5           Thermatoga maritima encapsulin   T marit enc     15900   \n",
       "1  7s21          Myxococcus xanthus encapsulin 2  M xant enc 2     15900   \n",
       "2  2e0z                  Pyrococcus furiosus VLP   P furio enc     42000   \n",
       "3  7s20          Myxococcus xanthus encapsulin 1  M xant enc 1     49860   \n",
       "4  6nj8  Quasibacillus thermotolerans encapsulin  Q thermo enc     67740   \n",
       "\n",
       "   MCPs  CPs Reinforcement  Resolution  T-number  Spring_constant  ...  \\\n",
       "0    60   60           NaN        2.00         1             2.00  ...   \n",
       "1    60   60           NaN        3.40         1             0.38  ...   \n",
       "2   180  180           NaN        3.60         3             0.64  ...   \n",
       "3   180  180           NaN        3.40         3             0.34  ...   \n",
       "4   240  240           NaN        3.85         4             0.47  ...   \n",
       "\n",
       "   CC_ANM  Clusters  Outliers    CQS  Icos_class  Memory  Runtime  \\\n",
       "0   0.088       120       NaN    4.9         1 H   840.0    120.0   \n",
       "1     NaN       120       NaN    5.0         1 H   760.0    140.0   \n",
       "2   0.700        32       NaN  350.0         3 H  1880.0    400.0   \n",
       "3     NaN        12       NaN    4.4          1*  3200.0   1100.0   \n",
       "4   0.280        42       NaN    6.7         4 H  4317.5   1180.0   \n",
       "\n",
       "   pyCap_bench ProDy_bench   Memory_MB  \n",
       "0        109.0       231.0   880.80384  \n",
       "1          NaN         NaN   796.91776  \n",
       "2        182.0       904.0  1971.32288  \n",
       "3          NaN         NaN  3355.44320  \n",
       "4        624.0      1712.0  4527.22688  \n",
       "\n",
       "[5 rows x 24 columns]"
      ]
     },
     "execution_count": 5,
     "metadata": {},
     "output_type": "execute_result"
    }
   ],
   "source": [
    "# Data inspection\n",
    "df_data.head()"
   ]
  },
  {
   "cell_type": "code",
   "execution_count": 6,
   "id": "77722063",
   "metadata": {},
   "outputs": [
    {
     "name": "stdout",
     "output_type": "stream",
     "text": [
      "<class 'pandas.core.frame.DataFrame'>\n",
      "RangeIndex: 26 entries, 0 to 25\n",
      "Data columns (total 24 columns):\n",
      " #   Column           Non-Null Count  Dtype  \n",
      "---  ------           --------------  -----  \n",
      " 0   PDB              26 non-null     object \n",
      " 1   Capsid           26 non-null     object \n",
      " 2   Abbreviation     26 non-null     object \n",
      " 3   Residues         26 non-null     int64  \n",
      " 4   MCPs             26 non-null     int64  \n",
      " 5   CPs              26 non-null     int64  \n",
      " 6   Reinforcement    12 non-null     object \n",
      " 7   Resolution       26 non-null     float64\n",
      " 8   T-number         26 non-null     int64  \n",
      " 9   Spring_constant  25 non-null     float64\n",
      " 10  Spring_stderr    25 non-null     float64\n",
      " 11  Spring_R^2       6 non-null      float64\n",
      " 12  CC_uENM          26 non-null     float64\n",
      " 13  CC_bGNM          5 non-null      float64\n",
      " 14  CC_ANM           12 non-null     float64\n",
      " 15  Clusters         26 non-null     int64  \n",
      " 16  Outliers         3 non-null      float64\n",
      " 17  CQS              26 non-null     float64\n",
      " 18  Icos_class       16 non-null     object \n",
      " 19  Memory           25 non-null     float64\n",
      " 20  Runtime          25 non-null     float64\n",
      " 21  pyCap_bench      4 non-null      float64\n",
      " 22  ProDy_bench      4 non-null      float64\n",
      " 23  Memory_MB        25 non-null     float64\n",
      "dtypes: float64(14), int64(5), object(5)\n",
      "memory usage: 5.0+ KB\n"
     ]
    }
   ],
   "source": [
    "df_data.info()"
   ]
  },
  {
   "cell_type": "code",
   "execution_count": 7,
   "id": "42970979",
   "metadata": {},
   "outputs": [],
   "source": [
    "# Set the id column (PDB) column as the data frame's index\n",
    "df_data.set_index('PDB', inplace=True)\n",
    "#df_data"
   ]
  },
  {
   "cell_type": "code",
   "execution_count": 8,
   "id": "886bc7b0",
   "metadata": {},
   "outputs": [
    {
     "data": {
      "text/html": [
       "<div>\n",
       "<style scoped>\n",
       "    .dataframe tbody tr th:only-of-type {\n",
       "        vertical-align: middle;\n",
       "    }\n",
       "\n",
       "    .dataframe tbody tr th {\n",
       "        vertical-align: top;\n",
       "    }\n",
       "\n",
       "    .dataframe thead th {\n",
       "        text-align: right;\n",
       "    }\n",
       "</style>\n",
       "<table border=\"1\" class=\"dataframe\">\n",
       "  <thead>\n",
       "    <tr style=\"text-align: right;\">\n",
       "      <th></th>\n",
       "      <th>Residues</th>\n",
       "      <th>MCPs</th>\n",
       "      <th>CPs</th>\n",
       "      <th>Resolution</th>\n",
       "      <th>T-number</th>\n",
       "      <th>Spring_constant</th>\n",
       "      <th>Spring_stderr</th>\n",
       "      <th>Spring_R^2</th>\n",
       "      <th>CC_uENM</th>\n",
       "      <th>CC_bGNM</th>\n",
       "      <th>CC_ANM</th>\n",
       "      <th>Clusters</th>\n",
       "      <th>Outliers</th>\n",
       "      <th>CQS</th>\n",
       "      <th>Memory</th>\n",
       "      <th>Runtime</th>\n",
       "      <th>pyCap_bench</th>\n",
       "      <th>ProDy_bench</th>\n",
       "      <th>Memory_MB</th>\n",
       "    </tr>\n",
       "  </thead>\n",
       "  <tbody>\n",
       "    <tr>\n",
       "      <th>count</th>\n",
       "      <td>2.600000e+01</td>\n",
       "      <td>26.000000</td>\n",
       "      <td>26.000000</td>\n",
       "      <td>26.000000</td>\n",
       "      <td>26.000000</td>\n",
       "      <td>25.000000</td>\n",
       "      <td>25.000000</td>\n",
       "      <td>6.000000</td>\n",
       "      <td>26.000000</td>\n",
       "      <td>5.000000</td>\n",
       "      <td>12.000000</td>\n",
       "      <td>26.000000</td>\n",
       "      <td>3.0</td>\n",
       "      <td>26.000000</td>\n",
       "      <td>25.000000</td>\n",
       "      <td>25.000000</td>\n",
       "      <td>4.000000</td>\n",
       "      <td>4.000000</td>\n",
       "      <td>25.000000</td>\n",
       "    </tr>\n",
       "    <tr>\n",
       "      <th>mean</th>\n",
       "      <td>2.262185e+05</td>\n",
       "      <td>415.384615</td>\n",
       "      <td>683.076923</td>\n",
       "      <td>3.470000</td>\n",
       "      <td>6.923077</td>\n",
       "      <td>5.729600</td>\n",
       "      <td>0.221760</td>\n",
       "      <td>0.968167</td>\n",
       "      <td>0.517000</td>\n",
       "      <td>0.641200</td>\n",
       "      <td>0.347083</td>\n",
       "      <td>205.230769</td>\n",
       "      <td>60.0</td>\n",
       "      <td>20.553846</td>\n",
       "      <td>22866.260000</td>\n",
       "      <td>26553.880000</td>\n",
       "      <td>385.000000</td>\n",
       "      <td>1621.500000</td>\n",
       "      <td>23977.011446</td>\n",
       "    </tr>\n",
       "    <tr>\n",
       "      <th>std</th>\n",
       "      <td>3.134523e+05</td>\n",
       "      <td>206.402147</td>\n",
       "      <td>496.828093</td>\n",
       "      <td>0.657565</td>\n",
       "      <td>3.440036</td>\n",
       "      <td>5.918578</td>\n",
       "      <td>0.193539</td>\n",
       "      <td>0.010108</td>\n",
       "      <td>0.211278</td>\n",
       "      <td>0.103282</td>\n",
       "      <td>0.200302</td>\n",
       "      <td>158.563630</td>\n",
       "      <td>0.0</td>\n",
       "      <td>67.366135</td>\n",
       "      <td>20343.841162</td>\n",
       "      <td>29674.202517</td>\n",
       "      <td>278.152236</td>\n",
       "      <td>1474.990734</td>\n",
       "      <td>21332.063590</td>\n",
       "    </tr>\n",
       "    <tr>\n",
       "      <th>min</th>\n",
       "      <td>1.590000e+04</td>\n",
       "      <td>60.000000</td>\n",
       "      <td>60.000000</td>\n",
       "      <td>2.000000</td>\n",
       "      <td>1.000000</td>\n",
       "      <td>0.110000</td>\n",
       "      <td>0.004000</td>\n",
       "      <td>0.954000</td>\n",
       "      <td>0.100000</td>\n",
       "      <td>0.540000</td>\n",
       "      <td>-0.060000</td>\n",
       "      <td>12.000000</td>\n",
       "      <td>60.0</td>\n",
       "      <td>3.300000</td>\n",
       "      <td>760.000000</td>\n",
       "      <td>120.000000</td>\n",
       "      <td>109.000000</td>\n",
       "      <td>231.000000</td>\n",
       "      <td>796.917760</td>\n",
       "    </tr>\n",
       "    <tr>\n",
       "      <th>25%</th>\n",
       "      <td>1.073550e+05</td>\n",
       "      <td>285.000000</td>\n",
       "      <td>285.000000</td>\n",
       "      <td>3.215000</td>\n",
       "      <td>4.750000</td>\n",
       "      <td>0.650000</td>\n",
       "      <td>0.060000</td>\n",
       "      <td>0.961250</td>\n",
       "      <td>0.360000</td>\n",
       "      <td>0.560000</td>\n",
       "      <td>0.267250</td>\n",
       "      <td>72.000000</td>\n",
       "      <td>60.0</td>\n",
       "      <td>4.500000</td>\n",
       "      <td>7700.000000</td>\n",
       "      <td>4343.000000</td>\n",
       "      <td>163.750000</td>\n",
       "      <td>735.750000</td>\n",
       "      <td>8074.035200</td>\n",
       "    </tr>\n",
       "    <tr>\n",
       "      <th>50%</th>\n",
       "      <td>1.839600e+05</td>\n",
       "      <td>420.000000</td>\n",
       "      <td>480.000000</td>\n",
       "      <td>3.400000</td>\n",
       "      <td>7.000000</td>\n",
       "      <td>4.150000</td>\n",
       "      <td>0.170000</td>\n",
       "      <td>0.970000</td>\n",
       "      <td>0.468000</td>\n",
       "      <td>0.640000</td>\n",
       "      <td>0.389000</td>\n",
       "      <td>175.000000</td>\n",
       "      <td>60.0</td>\n",
       "      <td>6.100000</td>\n",
       "      <td>19626.000000</td>\n",
       "      <td>20304.000000</td>\n",
       "      <td>403.000000</td>\n",
       "      <td>1308.000000</td>\n",
       "      <td>20579.352576</td>\n",
       "    </tr>\n",
       "    <tr>\n",
       "      <th>75%</th>\n",
       "      <td>2.278500e+05</td>\n",
       "      <td>420.000000</td>\n",
       "      <td>840.000000</td>\n",
       "      <td>3.785000</td>\n",
       "      <td>7.000000</td>\n",
       "      <td>7.400000</td>\n",
       "      <td>0.300000</td>\n",
       "      <td>0.975000</td>\n",
       "      <td>0.673000</td>\n",
       "      <td>0.666000</td>\n",
       "      <td>0.449250</td>\n",
       "      <td>272.000000</td>\n",
       "      <td>60.0</td>\n",
       "      <td>8.350000</td>\n",
       "      <td>38300.000000</td>\n",
       "      <td>32662.000000</td>\n",
       "      <td>624.250000</td>\n",
       "      <td>2193.750000</td>\n",
       "      <td>40160.460800</td>\n",
       "    </tr>\n",
       "    <tr>\n",
       "      <th>max</th>\n",
       "      <td>1.687980e+06</td>\n",
       "      <td>960.000000</td>\n",
       "      <td>1920.000000</td>\n",
       "      <td>5.200000</td>\n",
       "      <td>16.000000</td>\n",
       "      <td>19.700000</td>\n",
       "      <td>0.700000</td>\n",
       "      <td>0.980000</td>\n",
       "      <td>0.875000</td>\n",
       "      <td>0.800000</td>\n",
       "      <td>0.700000</td>\n",
       "      <td>540.000000</td>\n",
       "      <td>60.0</td>\n",
       "      <td>350.000000</td>\n",
       "      <td>84000.000000</td>\n",
       "      <td>128000.000000</td>\n",
       "      <td>625.000000</td>\n",
       "      <td>3639.000000</td>\n",
       "      <td>88080.384000</td>\n",
       "    </tr>\n",
       "  </tbody>\n",
       "</table>\n",
       "</div>"
      ],
      "text/plain": [
       "           Residues        MCPs          CPs  Resolution   T-number  \\\n",
       "count  2.600000e+01   26.000000    26.000000   26.000000  26.000000   \n",
       "mean   2.262185e+05  415.384615   683.076923    3.470000   6.923077   \n",
       "std    3.134523e+05  206.402147   496.828093    0.657565   3.440036   \n",
       "min    1.590000e+04   60.000000    60.000000    2.000000   1.000000   \n",
       "25%    1.073550e+05  285.000000   285.000000    3.215000   4.750000   \n",
       "50%    1.839600e+05  420.000000   480.000000    3.400000   7.000000   \n",
       "75%    2.278500e+05  420.000000   840.000000    3.785000   7.000000   \n",
       "max    1.687980e+06  960.000000  1920.000000    5.200000  16.000000   \n",
       "\n",
       "       Spring_constant  Spring_stderr  Spring_R^2    CC_uENM   CC_bGNM  \\\n",
       "count        25.000000      25.000000    6.000000  26.000000  5.000000   \n",
       "mean          5.729600       0.221760    0.968167   0.517000  0.641200   \n",
       "std           5.918578       0.193539    0.010108   0.211278  0.103282   \n",
       "min           0.110000       0.004000    0.954000   0.100000  0.540000   \n",
       "25%           0.650000       0.060000    0.961250   0.360000  0.560000   \n",
       "50%           4.150000       0.170000    0.970000   0.468000  0.640000   \n",
       "75%           7.400000       0.300000    0.975000   0.673000  0.666000   \n",
       "max          19.700000       0.700000    0.980000   0.875000  0.800000   \n",
       "\n",
       "          CC_ANM    Clusters  Outliers         CQS        Memory  \\\n",
       "count  12.000000   26.000000       3.0   26.000000     25.000000   \n",
       "mean    0.347083  205.230769      60.0   20.553846  22866.260000   \n",
       "std     0.200302  158.563630       0.0   67.366135  20343.841162   \n",
       "min    -0.060000   12.000000      60.0    3.300000    760.000000   \n",
       "25%     0.267250   72.000000      60.0    4.500000   7700.000000   \n",
       "50%     0.389000  175.000000      60.0    6.100000  19626.000000   \n",
       "75%     0.449250  272.000000      60.0    8.350000  38300.000000   \n",
       "max     0.700000  540.000000      60.0  350.000000  84000.000000   \n",
       "\n",
       "             Runtime  pyCap_bench  ProDy_bench     Memory_MB  \n",
       "count      25.000000     4.000000     4.000000     25.000000  \n",
       "mean    26553.880000   385.000000  1621.500000  23977.011446  \n",
       "std     29674.202517   278.152236  1474.990734  21332.063590  \n",
       "min       120.000000   109.000000   231.000000    796.917760  \n",
       "25%      4343.000000   163.750000   735.750000   8074.035200  \n",
       "50%     20304.000000   403.000000  1308.000000  20579.352576  \n",
       "75%     32662.000000   624.250000  2193.750000  40160.460800  \n",
       "max    128000.000000   625.000000  3639.000000  88080.384000  "
      ]
     },
     "execution_count": 8,
     "metadata": {},
     "output_type": "execute_result"
    }
   ],
   "source": [
    "# Overall statistical description\n",
    "df_data.describe()"
   ]
  },
  {
   "cell_type": "markdown",
   "id": "45a4c77a",
   "metadata": {},
   "source": [
    "## Range of capsids analyzed"
   ]
  },
  {
   "cell_type": "code",
   "execution_count": 9,
   "id": "05b5093c",
   "metadata": {},
   "outputs": [
    {
     "data": {
      "text/plain": [
       "Text(0, 0.5, 'Number of residues')"
      ]
     },
     "execution_count": 9,
     "metadata": {},
     "output_type": "execute_result"
    },
    {
     "data": {
      "image/png": "[encoded data removed]",
      "text/plain": [
       "<Figure size 432x288 with 1 Axes>"
      ]
     },
     "metadata": {
      "needs_background": "light"
     },
     "output_type": "display_data"
    }
   ],
   "source": [
    "# Plot number of residues for each capsid\n",
    "data = df_data\n",
    "sns.barplot(data = df_data, x = 'Abbreviation', y = 'Residues', order = df_data.sort_values('Residues').Abbreviation)\n",
    "plt.yscale('log')\n",
    "plt.ylim(1E4,5E6)\n",
    "plt.xticks(rotation = 45, fontsize = 7.5, ha = 'right')\n",
    "plt.title('Size of analyzed capsids')\n",
    "plt.xlabel('Capsid name')\n",
    "plt.ylabel('Number of residues')"
   ]
  },
  {
   "cell_type": "code",
   "execution_count": 10,
   "id": "d590601a",
   "metadata": {},
   "outputs": [
    {
     "data": {
      "text/plain": [
       "count    2.600000e+01\n",
       "mean     2.262185e+05\n",
       "std      3.134523e+05\n",
       "min      1.590000e+04\n",
       "25%      1.073550e+05\n",
       "50%      1.839600e+05\n",
       "75%      2.278500e+05\n",
       "max      1.687980e+06\n",
       "Name: Residues, dtype: float64"
      ]
     },
     "execution_count": 10,
     "metadata": {},
     "output_type": "execute_result"
    }
   ],
   "source": [
    "## Descriptive statistics for the number of residues in the capsids\n",
    "df_data['Residues'].describe()"
   ]
  },
  {
   "cell_type": "code",
   "execution_count": 11,
   "id": "cb9def5b",
   "metadata": {},
   "outputs": [],
   "source": [
    "# Pair plot\n",
    "#sns.pairplot(df_data)"
   ]
  },
  {
   "cell_type": "markdown",
   "id": "462db3c0",
   "metadata": {},
   "source": [
    "## Memory usage versus protein shell size\n",
    "The screening of the memory usage as a function of the protein shell size indicated a power law relationship (linear trend when plotting variables in a log-log plot).\n",
    "\n",
    "Below we first calculate the linear regression model in the log-log space and then plot the data and the model."
   ]
  },
  {
   "cell_type": "code",
   "execution_count": 12,
   "id": "db1232dd",
   "metadata": {},
   "outputs": [],
   "source": [
    "# Exploratory plots"
   ]
  },
  {
   "cell_type": "code",
   "execution_count": 13,
   "id": "cc8e8600",
   "metadata": {},
   "outputs": [
    {
     "data": {
      "text/plain": [
       "Text(0, 0.5, 'Memory usage (MB)')"
      ]
     },
     "execution_count": 13,
     "metadata": {},
     "output_type": "execute_result"
    },
    {
     "data": {
      "image/png": "[encoded data removed]",
      "text/plain": [
       "<Figure size 432x288 with 1 Axes>"
      ]
     },
     "metadata": {
      "needs_background": "light"
     },
     "output_type": "display_data"
    }
   ],
   "source": [
    "## Scatter in normal space\n",
    "sns.scatterplot(data = df_data, x = 'Residues', y = 'Memory_MB')\n",
    "plt.title('Memory performance')\n",
    "plt.xlabel('Number of residues')\n",
    "plt.ylabel('Memory usage (MB)')"
   ]
  },
  {
   "cell_type": "code",
   "execution_count": 14,
   "id": "a3f9e2d8",
   "metadata": {},
   "outputs": [
    {
     "data": {
      "image/png": "[encoded data removed]",
      "text/plain": [
       "<Figure size 432x288 with 1 Axes>"
      ]
     },
     "metadata": {
      "needs_background": "light"
     },
     "output_type": "display_data"
    }
   ],
   "source": [
    "## Scatter plot in log-y space\n",
    "sns.scatterplot(data = df_data, x = 'Residues', y = 'Memory_MB')\n",
    "plt.title('Memory performance')\n",
    "plt.xlabel('Number of residues')\n",
    "plt.ylabel('Memory usage (MB)')\n",
    "plt.yscale('log')"
   ]
  },
  {
   "cell_type": "code",
   "execution_count": 15,
   "id": "c3130528",
   "metadata": {},
   "outputs": [
    {
     "data": {
      "image/png": "[encoded data removed]",
      "text/plain": [
       "<Figure size 432x288 with 1 Axes>"
      ]
     },
     "metadata": {
      "needs_background": "light"
     },
     "output_type": "display_data"
    }
   ],
   "source": [
    "## Scatter plot in log-log space\n",
    "sns.scatterplot(data = df_data, x = 'Residues', y = 'Memory_MB')\n",
    "plt.title('Memory performance')\n",
    "plt.xlabel('Number of residues')\n",
    "plt.ylabel('Memory usage (MB)')\n",
    "plt.yscale('log')\n",
    "plt.xscale('log')"
   ]
  },
  {
   "cell_type": "code",
   "execution_count": 16,
   "id": "09c47ea2",
   "metadata": {},
   "outputs": [],
   "source": [
    "# Statistical model for Memory versus residues"
   ]
  },
  {
   "cell_type": "code",
   "execution_count": 17,
   "id": "7e423891",
   "metadata": {},
   "outputs": [
    {
     "name": "stdout",
     "output_type": "stream",
     "text": [
      "Index(['5zap'], dtype='object', name='PDB')\n"
     ]
    }
   ],
   "source": [
    "## Check if the Memory value is missing for any of the entries\n",
    "ID_no_memory = df_data[df_data['Memory_MB'].isnull()].index\n",
    "print(ID_no_memory)"
   ]
  },
  {
   "cell_type": "code",
   "execution_count": 18,
   "id": "7f403252",
   "metadata": {},
   "outputs": [
    {
     "data": {
      "text/plain": [
       "25"
      ]
     },
     "execution_count": 18,
     "metadata": {},
     "output_type": "execute_result"
    }
   ],
   "source": [
    "## Generate data frame excluding rows missing Memory estimate\n",
    "df_data_memory_curated = df_data.drop(ID_no_memory)\n",
    "len(df_data_memory_curated) # Number of valid data points"
   ]
  },
  {
   "cell_type": "code",
   "execution_count": 19,
   "id": "08e91123",
   "metadata": {},
   "outputs": [
    {
     "name": "stdout",
     "output_type": "stream",
     "text": [
      "LinregressResult(slope=1.458408919713472, intercept=-3.3126284496332934, rvalue=0.9830891442578471, pvalue=1.847154369498616e-18, stderr=0.05664693342483889, intercept_stderr=0.29049321453556975)\n"
     ]
    }
   ],
   "source": [
    "## Analyze regression \n",
    "data = df_data_memory_curated\n",
    "xcol = 'Residues'\n",
    "ycol = 'Memory_MB'\n",
    "x = np.log10(data[xcol])\n",
    "y = np.log10(data[ycol])\n",
    "#slope, intercept, r_value, p_value, std_err = stats.linregress(x,y)\n",
    "model = stats.linregress(x,y)\n",
    "print(model)"
   ]
  },
  {
   "cell_type": "code",
   "execution_count": 20,
   "id": "c7747e4d",
   "metadata": {},
   "outputs": [],
   "source": [
    "### Generate points to represent the regression in normal space\n",
    "slope = model.slope\n",
    "intercept = model.intercept\n",
    "x_min = data[xcol].min()\n",
    "x_max = data[xcol].max()\n",
    "logx = np.linspace(np.log10(x_min),np.log10(x_max),10)\n",
    "logy = slope*logx + intercept\n",
    "x_model = 10**logx\n",
    "y_model = 10**logy"
   ]
  },
  {
   "cell_type": "code",
   "execution_count": 21,
   "id": "c8f8d4a8",
   "metadata": {},
   "outputs": [
    {
     "data": {
      "text/plain": [
       "[<matplotlib.lines.Line2D at 0x7fceb4651820>]"
      ]
     },
     "execution_count": 21,
     "metadata": {},
     "output_type": "execute_result"
    },
    {
     "data": {
      "image/png": "[encoded data removed]",
      "text/plain": [
       "<Figure size 432x288 with 1 Axes>"
      ]
     },
     "metadata": {
      "needs_background": "light"
     },
     "output_type": "display_data"
    }
   ],
   "source": [
    "## Plot memory versus number of residues after analysis\n",
    "sns.scatterplot(data = df_data, x = 'Residues', y = 'Memory_MB')\n",
    "plt.title('Memory performance')\n",
    "plt.xlabel('Number of residues')\n",
    "plt.ylabel('Memory usage (MB)')\n",
    "plt.yscale('log')\n",
    "plt.xscale('log')\n",
    "plt.xlim(1E4,1E6)\n",
    "plt.ylim(5E2,2E5)\n",
    "plt.plot(x_model,y_model,'k', alpha =0.5)"
   ]
  },
  {
   "cell_type": "markdown",
   "id": "3debef8f",
   "metadata": {},
   "source": [
    "## Runtime versus number of residues"
   ]
  },
  {
   "cell_type": "markdown",
   "id": "e19413d4",
   "metadata": {},
   "source": [
    "### General check of runtime data"
   ]
  },
  {
   "cell_type": "code",
   "execution_count": 22,
   "id": "da4d22d4",
   "metadata": {},
   "outputs": [
    {
     "name": "stdout",
     "output_type": "stream",
     "text": [
      "Index(['5zap'], dtype='object', name='PDB')\n"
     ]
    }
   ],
   "source": [
    "# Missing values\n",
    "ID_no_memory = df_data[df_data['Runtime'].isnull()].index\n",
    "print(ID_no_memory)"
   ]
  },
  {
   "cell_type": "code",
   "execution_count": 23,
   "id": "28510662",
   "metadata": {},
   "outputs": [],
   "source": [
    "# Remove missing values\n",
    "df_data_curated = df_data.drop(ID_no_memory)"
   ]
  },
  {
   "cell_type": "code",
   "execution_count": 24,
   "id": "633caaef",
   "metadata": {},
   "outputs": [
    {
     "data": {
      "text/plain": [
       "count        25.000000\n",
       "mean      26553.880000\n",
       "std       29674.202517\n",
       "min         120.000000\n",
       "25%        4343.000000\n",
       "50%       20304.000000\n",
       "75%       32662.000000\n",
       "max      128000.000000\n",
       "Name: Runtime, dtype: float64"
      ]
     },
     "execution_count": 24,
     "metadata": {},
     "output_type": "execute_result"
    }
   ],
   "source": [
    "# Description of Runtime\n",
    "df_data_curated['Runtime'].describe()"
   ]
  },
  {
   "cell_type": "markdown",
   "id": "71699f92",
   "metadata": {},
   "source": [
    "### Exploratory plots"
   ]
  },
  {
   "cell_type": "code",
   "execution_count": 25,
   "id": "de5ccbfc",
   "metadata": {},
   "outputs": [
    {
     "data": {
      "text/plain": [
       "Text(0, 0.5, 'Runtime (sec)')"
      ]
     },
     "execution_count": 25,
     "metadata": {},
     "output_type": "execute_result"
    },
    {
     "data": {
      "image/png": "[encoded data removed]",
      "text/plain": [
       "<Figure size 432x288 with 1 Axes>"
      ]
     },
     "metadata": {
      "needs_background": "light"
     },
     "output_type": "display_data"
    }
   ],
   "source": [
    "# Scatter plot\n",
    "sns.scatterplot(data = df_data_curated, x = 'Residues', y = 'Runtime')\n",
    "plt.title('Computational time')\n",
    "plt.xlabel('Number of residues')\n",
    "plt.ylabel('Runtime (sec)')"
   ]
  },
  {
   "cell_type": "markdown",
   "id": "66ddec37",
   "metadata": {},
   "source": [
    "**Assessment**\n",
    "+ Runtime seems to increase with a power law or exponential.\n",
    "+ A scaling analyis is most likely to lead to a power law.\n",
    "+ However, let's check first the exponential case by plotting the data in the log-y versus x space."
   ]
  },
  {
   "cell_type": "code",
   "execution_count": 26,
   "id": "363ca3bf",
   "metadata": {},
   "outputs": [
    {
     "data": {
      "image/png": "[encoded data removed]",
      "text/plain": [
       "<Figure size 432x288 with 1 Axes>"
      ]
     },
     "metadata": {
      "needs_background": "light"
     },
     "output_type": "display_data"
    }
   ],
   "source": [
    "# Scatter plot (log-y versus x)\n",
    "sns.scatterplot(data = df_data_curated, x = 'Residues', y = 'Runtime')\n",
    "plt.title('Computational time')\n",
    "plt.xlabel('Number of residues')\n",
    "plt.ylabel('Runtime (sec)')\n",
    "plt.yscale('log')"
   ]
  },
  {
   "cell_type": "markdown",
   "id": "c4edec84",
   "metadata": {},
   "source": [
    "** Assessment:**\n",
    "+ The data tends to flatten. This indicates a non-exponential trend in the original data."
   ]
  },
  {
   "cell_type": "code",
   "execution_count": 27,
   "id": "ef0d99af",
   "metadata": {},
   "outputs": [
    {
     "data": {
      "image/png": "[encoded data removed]",
      "text/plain": [
       "<Figure size 432x288 with 1 Axes>"
      ]
     },
     "metadata": {
      "needs_background": "light"
     },
     "output_type": "display_data"
    }
   ],
   "source": [
    "# Scatter plot (log-y versus log-x)\n",
    "sns.scatterplot(data = df_data_curated, x = 'Residues', y = 'Runtime')\n",
    "plt.title('Computational time')\n",
    "plt.xlabel('Number of residues')\n",
    "plt.ylabel('Runtime (sec)')\n",
    "plt.yscale('log')\n",
    "plt.xscale('log')"
   ]
  },
  {
   "cell_type": "markdown",
   "id": "aa5ea4f6",
   "metadata": {},
   "source": [
    "**Assessment:**\n",
    "+ The data displays an approximated linear trend in the log-log space.\n",
    "+ This implies that the runtime follows a **power law**, which increases as the number of residues is larger.\n",
    "+ A linear regerssion in the log-log space will yield the parameters."
   ]
  },
  {
   "cell_type": "markdown",
   "id": "c23fdabd",
   "metadata": {},
   "source": [
    "### Statistical analysis"
   ]
  },
  {
   "cell_type": "code",
   "execution_count": 28,
   "id": "b3c6c21a",
   "metadata": {},
   "outputs": [
    {
     "name": "stdout",
     "output_type": "stream",
     "text": [
      "LinregressResult(slope=2.196376620323567, intercept=-7.223094573131158, rvalue=0.976439700033712, pvalue=8.102281685747642e-17, stderr=0.10121145253708062, intercept_stderr=0.519026157599888)\n"
     ]
    }
   ],
   "source": [
    "# Linear regression \n",
    "data = df_data_curated\n",
    "xcol = 'Residues'\n",
    "ycol = 'Runtime'\n",
    "x = np.log10(data[xcol])\n",
    "y = np.log10(data[ycol])\n",
    "model = stats.linregress(x,y)\n",
    "print(model)"
   ]
  },
  {
   "cell_type": "code",
   "execution_count": 29,
   "id": "8ac8a524",
   "metadata": {},
   "outputs": [],
   "source": [
    "# Generate points to represent the regression in normal space\n",
    "slope = model.slope\n",
    "intercept = model.intercept\n",
    "x_min = data[xcol].min()\n",
    "x_max = data[xcol].max()\n",
    "logx = np.linspace(np.log10(x_min),np.log10(x_max),10)\n",
    "logy = slope*logx + intercept\n",
    "x_model = 10**logx\n",
    "y_model = 10**logy"
   ]
  },
  {
   "cell_type": "code",
   "execution_count": 30,
   "id": "8a376472",
   "metadata": {},
   "outputs": [
    {
     "data": {
      "text/plain": [
       "[<matplotlib.lines.Line2D at 0x7fceb4f29c40>]"
      ]
     },
     "execution_count": 30,
     "metadata": {},
     "output_type": "execute_result"
    },
    {
     "data": {
      "image/png": "[encoded data removed]",
      "text/plain": [
       "<Figure size 432x288 with 1 Axes>"
      ]
     },
     "metadata": {
      "needs_background": "light"
     },
     "output_type": "display_data"
    }
   ],
   "source": [
    "# Log-log scatter plot including the linear regression\n",
    "sns.scatterplot(data = df_data_curated, x = 'Residues', y = 'Runtime')\n",
    "plt.title('Computational time')\n",
    "plt.xlabel('Number of residues')\n",
    "plt.ylabel('Runtime (sec)')\n",
    "plt.yscale('log')\n",
    "plt.xscale('log')\n",
    "plt.plot(x_model,y_model,'k', alpha =0.5)"
   ]
  },
  {
   "cell_type": "markdown",
   "id": "d57f8430",
   "metadata": {},
   "source": [
    "## Accuracy analysis\n",
    "Each generated coarse-grained model simulation was compared with the experimental model. More specifically, the thermal fluctuations (captured by the B-factors) were compared using the correlation coefficient as a metric. Here we analyze how the correlation coefficient changed as a function of the protein shell size and the resolution of the experimental data. We focus on the results from the unified elastic network model (uENM), which is the default in pyCapsid."
   ]
  },
  {
   "cell_type": "code",
   "execution_count": 31,
   "id": "6b36c675",
   "metadata": {},
   "outputs": [
    {
     "data": {
      "text/plain": [
       "count    26.000000\n",
       "mean      0.517000\n",
       "std       0.211278\n",
       "min       0.100000\n",
       "25%       0.360000\n",
       "50%       0.468000\n",
       "75%       0.673000\n",
       "max       0.875000\n",
       "Name: CC_uENM, dtype: float64"
      ]
     },
     "execution_count": 31,
     "metadata": {},
     "output_type": "execute_result"
    }
   ],
   "source": [
    "# Correlation coefficient (CC) overall description\n",
    "df_data['CC_uENM'].describe()"
   ]
  },
  {
   "cell_type": "markdown",
   "id": "f2a066a7",
   "metadata": {},
   "source": [
    "### Impact of capsid size"
   ]
  },
  {
   "cell_type": "code",
   "execution_count": 32,
   "id": "7d2ddb4d",
   "metadata": {},
   "outputs": [
    {
     "data": {
      "text/plain": [
       "(0.0, 1.0)"
      ]
     },
     "execution_count": 32,
     "metadata": {},
     "output_type": "execute_result"
    },
    {
     "data": {
      "image/png": "[encoded data removed]",
      "text/plain": [
       "<Figure size 432x288 with 1 Axes>"
      ]
     },
     "metadata": {
      "needs_background": "light"
     },
     "output_type": "display_data"
    }
   ],
   "source": [
    "# Plot CC versus number of residues\n",
    "sns.scatterplot(data = df_data, x = 'Residues', y = 'CC_uENM')\n",
    "plt.title('Impact of capsid size on accuracy')\n",
    "plt.xlabel('Number of residues')\n",
    "plt.ylabel('Correlation coefficient, CC')\n",
    "plt.xscale('log')\n",
    "plt.xlim(1E4,5E6)\n",
    "plt.ylim(0,1)"
   ]
  },
  {
   "cell_type": "markdown",
   "id": "bde5c79f",
   "metadata": {},
   "source": [
    "**Evaluation:**\n",
    "+ The correlation coefficients seem to be quite scattered across number of residues.\n",
    "+ If any correlation, it looks like it might be slightly negative, that is, lower CC values for larger capsids.\n",
    "+ We will analyze the correlation between CC and number of residues to quantify if they are not correlated."
   ]
  },
  {
   "cell_type": "code",
   "execution_count": 33,
   "id": "c2341ff2",
   "metadata": {},
   "outputs": [
    {
     "name": "stdout",
     "output_type": "stream",
     "text": [
      "SpearmanrResult(correlation=-0.08982037111235272, pvalue=0.6625792351169228)\n"
     ]
    }
   ],
   "source": [
    "# Spearman's correlation\n",
    "arr1 = np.array(df_data['Residues'])\n",
    "arr2 = np.array(df_data['CC_uENM'])\n",
    "result = stats.spearmanr(arr1,arr2)\n",
    "print(result)"
   ]
  },
  {
   "cell_type": "code",
   "execution_count": 34,
   "id": "ed4a8ea4",
   "metadata": {},
   "outputs": [
    {
     "name": "stdout",
     "output_type": "stream",
     "text": [
      "(-0.08377179853316177, 0.6841089196641801)\n"
     ]
    }
   ],
   "source": [
    "# Pearson's correlation\n",
    "result = stats.pearsonr(arr1,arr2)\n",
    "print(result)"
   ]
  },
  {
   "cell_type": "code",
   "execution_count": 35,
   "id": "02f38a0d",
   "metadata": {},
   "outputs": [
    {
     "name": "stdout",
     "output_type": "stream",
     "text": [
      "(-0.25918293885864885, 0.20105063233221238)\n"
     ]
    }
   ],
   "source": [
    "# Pearson's correlation using log-x (logarithm of the number of residues)\n",
    "result = stats.pearsonr(np.log10(arr1),arr2)\n",
    "print(result)"
   ]
  },
  {
   "cell_type": "markdown",
   "id": "5f93e887",
   "metadata": {},
   "source": [
    "**Evaluation:**\n",
    "+ The three tests performed indicate that there is no statistical correlation between CC and the number of residues.\n",
    "+ Thus, **capsid size does not impact the accuracy of pyCapsid**."
   ]
  },
  {
   "cell_type": "markdown",
   "id": "f0ae5abe",
   "metadata": {},
   "source": [
    "### Impact of the empirical resolution of the capsid reconstruction"
   ]
  },
  {
   "cell_type": "code",
   "execution_count": 36,
   "id": "b0499d67",
   "metadata": {},
   "outputs": [
    {
     "data": {
      "text/plain": [
       "count    26.000000\n",
       "mean      3.470000\n",
       "std       0.657565\n",
       "min       2.000000\n",
       "25%       3.215000\n",
       "50%       3.400000\n",
       "75%       3.785000\n",
       "max       5.200000\n",
       "Name: Resolution, dtype: float64"
      ]
     },
     "execution_count": 36,
     "metadata": {},
     "output_type": "execute_result"
    }
   ],
   "source": [
    "# Overal description of the capsid resolutions\n",
    "df_data['Resolution'].describe()"
   ]
  },
  {
   "cell_type": "code",
   "execution_count": 37,
   "id": "cad38c4b",
   "metadata": {},
   "outputs": [
    {
     "data": {
      "text/plain": [
       "(0.0, 1.0)"
      ]
     },
     "execution_count": 37,
     "metadata": {},
     "output_type": "execute_result"
    },
    {
     "data": {
      "image/png": "[encoded data removed]",
      "text/plain": [
       "<Figure size 432x288 with 1 Axes>"
      ]
     },
     "metadata": {
      "needs_background": "light"
     },
     "output_type": "display_data"
    }
   ],
   "source": [
    "# Plot CC versus capsid resolution\n",
    "fig = sns.scatterplot(data = df_data, x = 'Resolution', y = 'CC_uENM')\n",
    "plt.title('Impact of capsid resolution on accuracy')\n",
    "plt.xlabel('Resolution (Å)')\n",
    "plt.ylabel('Correlation coefficient, CC')\n",
    "plt.xlim(1,6)\n",
    "plt.ylim(0,1)"
   ]
  },
  {
   "cell_type": "markdown",
   "id": "d8d1a6ce",
   "metadata": {},
   "source": [
    "**Evaluation:**\n",
    "+ There seems to be a pronounced trend where CC decreases as the resolution worsens (larger values).\n",
    "+ Let's quantify it with a linear regression analysis."
   ]
  },
  {
   "cell_type": "code",
   "execution_count": 38,
   "id": "3f8e73f5",
   "metadata": {},
   "outputs": [
    {
     "name": "stdout",
     "output_type": "stream",
     "text": [
      "LinregressResult(slope=-0.20416103905715183, intercept=1.2254388055283167, rvalue=-0.6354160214639314, pvalue=0.0004867591310473059, stderr=0.050643300255344074, intercept_stderr=0.17874044367810663)\n"
     ]
    }
   ],
   "source": [
    "# Linear regression\n",
    "x = df_data['Resolution']\n",
    "y = df_data['CC_uENM']\n",
    "model = stats.linregress(x,y)\n",
    "print(model)"
   ]
  },
  {
   "cell_type": "code",
   "execution_count": 39,
   "id": "8b7a5d02",
   "metadata": {},
   "outputs": [
    {
     "name": "stdout",
     "output_type": "stream",
     "text": [
      "0.40375352033305134\n"
     ]
    }
   ],
   "source": [
    "# Coefficient of determination (R^2)\n",
    "R2 = model.rvalue**2\n",
    "print(R2)"
   ]
  },
  {
   "cell_type": "code",
   "execution_count": 40,
   "id": "938a82d5",
   "metadata": {},
   "outputs": [
    {
     "data": {
      "text/plain": [
       "(0.0, 1.0)"
      ]
     },
     "execution_count": 40,
     "metadata": {},
     "output_type": "execute_result"
    },
    {
     "data": {
      "image/png": "[encoded data removed]",
      "text/plain": [
       "<Figure size 432x288 with 1 Axes>"
      ]
     },
     "metadata": {
      "needs_background": "light"
     },
     "output_type": "display_data"
    }
   ],
   "source": [
    "# Plot data including linear regression\n",
    "sns.regplot(data = df_data, x = x, y = y)\n",
    "plt.title('Impact of capsid resolution on accuracy')\n",
    "plt.xlabel('Resolution (Å)')\n",
    "plt.ylabel('Correlation coefficient, CC')\n",
    "plt.xlim(1,6)\n",
    "plt.ylim(0,1)"
   ]
  },
  {
   "cell_type": "markdown",
   "id": "be9c572f",
   "metadata": {},
   "source": [
    "**Evaluation:**\n",
    "+ There is a **strong negative correlation between the correlation coefficients as the resolution worsens**.\n",
    "+ The slope is -0.20±0.05 1/Å (p-value = 0.0005 and R^2 = 0.40).\n",
    "+ The intercept is 1.22±0.18, that is, **at perfect resolution (0 Å), one would expect pyCapsid to give B-factors perfectly consistent with the empirical results**."
   ]
  },
  {
   "cell_type": "markdown",
   "id": "477bda60",
   "metadata": {},
   "source": [
    "## Benchmark with ProDy"
   ]
  },
  {
   "cell_type": "markdown",
   "id": "72dc28c3",
   "metadata": {},
   "source": [
    "+ To assees the improvement in the analysis of protein shells, we compared the runtime of pyCapsid with the gold standard in the field, ProDy.\n",
    "+ Given the limitations of ProDy in handling protei shells with multiple chains, the results focus on relatively small capsids."
   ]
  },
  {
   "cell_type": "code",
   "execution_count": 41,
   "id": "b5cfbdab",
   "metadata": {},
   "outputs": [
    {
     "data": {
      "text/html": [
       "<div>\n",
       "<style scoped>\n",
       "    .dataframe tbody tr th:only-of-type {\n",
       "        vertical-align: middle;\n",
       "    }\n",
       "\n",
       "    .dataframe tbody tr th {\n",
       "        vertical-align: top;\n",
       "    }\n",
       "\n",
       "    .dataframe thead th {\n",
       "        text-align: right;\n",
       "    }\n",
       "</style>\n",
       "<table border=\"1\" class=\"dataframe\">\n",
       "  <thead>\n",
       "    <tr style=\"text-align: right;\">\n",
       "      <th></th>\n",
       "      <th>Capsid</th>\n",
       "      <th>Abbreviation</th>\n",
       "      <th>Residues</th>\n",
       "      <th>MCPs</th>\n",
       "      <th>CPs</th>\n",
       "      <th>Reinforcement</th>\n",
       "      <th>Resolution</th>\n",
       "      <th>T-number</th>\n",
       "      <th>Spring_constant</th>\n",
       "      <th>Spring_stderr</th>\n",
       "      <th>...</th>\n",
       "      <th>CC_ANM</th>\n",
       "      <th>Clusters</th>\n",
       "      <th>Outliers</th>\n",
       "      <th>CQS</th>\n",
       "      <th>Icos_class</th>\n",
       "      <th>Memory</th>\n",
       "      <th>Runtime</th>\n",
       "      <th>pyCap_bench</th>\n",
       "      <th>ProDy_bench</th>\n",
       "      <th>Memory_MB</th>\n",
       "    </tr>\n",
       "    <tr>\n",
       "      <th>PDB</th>\n",
       "      <th></th>\n",
       "      <th></th>\n",
       "      <th></th>\n",
       "      <th></th>\n",
       "      <th></th>\n",
       "      <th></th>\n",
       "      <th></th>\n",
       "      <th></th>\n",
       "      <th></th>\n",
       "      <th></th>\n",
       "      <th></th>\n",
       "      <th></th>\n",
       "      <th></th>\n",
       "      <th></th>\n",
       "      <th></th>\n",
       "      <th></th>\n",
       "      <th></th>\n",
       "      <th></th>\n",
       "      <th></th>\n",
       "      <th></th>\n",
       "      <th></th>\n",
       "    </tr>\n",
       "  </thead>\n",
       "  <tbody>\n",
       "    <tr>\n",
       "      <th>7kq5</th>\n",
       "      <td>Thermatoga maritima encapsulin</td>\n",
       "      <td>T marit enc</td>\n",
       "      <td>15900</td>\n",
       "      <td>60</td>\n",
       "      <td>60</td>\n",
       "      <td>NaN</td>\n",
       "      <td>2.00</td>\n",
       "      <td>1</td>\n",
       "      <td>2.00</td>\n",
       "      <td>0.30</td>\n",
       "      <td>...</td>\n",
       "      <td>0.088</td>\n",
       "      <td>120</td>\n",
       "      <td>NaN</td>\n",
       "      <td>4.9</td>\n",
       "      <td>1 H</td>\n",
       "      <td>840.0</td>\n",
       "      <td>120.0</td>\n",
       "      <td>109.0</td>\n",
       "      <td>231.0</td>\n",
       "      <td>880.803840</td>\n",
       "    </tr>\n",
       "    <tr>\n",
       "      <th>2e0z</th>\n",
       "      <td>Pyrococcus furiosus VLP</td>\n",
       "      <td>P furio enc</td>\n",
       "      <td>42000</td>\n",
       "      <td>180</td>\n",
       "      <td>180</td>\n",
       "      <td>NaN</td>\n",
       "      <td>3.60</td>\n",
       "      <td>3</td>\n",
       "      <td>0.64</td>\n",
       "      <td>0.08</td>\n",
       "      <td>...</td>\n",
       "      <td>0.700</td>\n",
       "      <td>32</td>\n",
       "      <td>NaN</td>\n",
       "      <td>350.0</td>\n",
       "      <td>3 H</td>\n",
       "      <td>1880.0</td>\n",
       "      <td>400.0</td>\n",
       "      <td>182.0</td>\n",
       "      <td>904.0</td>\n",
       "      <td>1971.322880</td>\n",
       "    </tr>\n",
       "    <tr>\n",
       "      <th>6nj8</th>\n",
       "      <td>Quasibacillus thermotolerans encapsulin</td>\n",
       "      <td>Q thermo enc</td>\n",
       "      <td>67740</td>\n",
       "      <td>240</td>\n",
       "      <td>240</td>\n",
       "      <td>NaN</td>\n",
       "      <td>3.85</td>\n",
       "      <td>4</td>\n",
       "      <td>0.47</td>\n",
       "      <td>0.06</td>\n",
       "      <td>...</td>\n",
       "      <td>0.280</td>\n",
       "      <td>42</td>\n",
       "      <td>NaN</td>\n",
       "      <td>6.7</td>\n",
       "      <td>4 H</td>\n",
       "      <td>4317.5</td>\n",
       "      <td>1180.0</td>\n",
       "      <td>624.0</td>\n",
       "      <td>1712.0</td>\n",
       "      <td>4527.226880</td>\n",
       "    </tr>\n",
       "    <tr>\n",
       "      <th>6b23</th>\n",
       "      <td>Staphylococcus aureus pathogenicity island 1 p...</td>\n",
       "      <td>SaPI1 procap</td>\n",
       "      <td>73920</td>\n",
       "      <td>240</td>\n",
       "      <td>240</td>\n",
       "      <td>NaN</td>\n",
       "      <td>3.80</td>\n",
       "      <td>4</td>\n",
       "      <td>6.10</td>\n",
       "      <td>0.70</td>\n",
       "      <td>...</td>\n",
       "      <td>NaN</td>\n",
       "      <td>240</td>\n",
       "      <td>60.0</td>\n",
       "      <td>26.4</td>\n",
       "      <td>NaN</td>\n",
       "      <td>6181.0</td>\n",
       "      <td>4343.0</td>\n",
       "      <td>625.0</td>\n",
       "      <td>3639.0</td>\n",
       "      <td>6481.248256</td>\n",
       "    </tr>\n",
       "  </tbody>\n",
       "</table>\n",
       "<p>4 rows × 23 columns</p>\n",
       "</div>"
      ],
      "text/plain": [
       "                                                 Capsid  Abbreviation  \\\n",
       "PDB                                                                     \n",
       "7kq5                     Thermatoga maritima encapsulin   T marit enc   \n",
       "2e0z                            Pyrococcus furiosus VLP   P furio enc   \n",
       "6nj8            Quasibacillus thermotolerans encapsulin  Q thermo enc   \n",
       "6b23  Staphylococcus aureus pathogenicity island 1 p...  SaPI1 procap   \n",
       "\n",
       "      Residues  MCPs  CPs Reinforcement  Resolution  T-number  \\\n",
       "PDB                                                             \n",
       "7kq5     15900    60   60           NaN        2.00         1   \n",
       "2e0z     42000   180  180           NaN        3.60         3   \n",
       "6nj8     67740   240  240           NaN        3.85         4   \n",
       "6b23     73920   240  240           NaN        3.80         4   \n",
       "\n",
       "      Spring_constant  Spring_stderr  ...  CC_ANM  Clusters  Outliers    CQS  \\\n",
       "PDB                                   ...                                      \n",
       "7kq5             2.00           0.30  ...   0.088       120       NaN    4.9   \n",
       "2e0z             0.64           0.08  ...   0.700        32       NaN  350.0   \n",
       "6nj8             0.47           0.06  ...   0.280        42       NaN    6.7   \n",
       "6b23             6.10           0.70  ...     NaN       240      60.0   26.4   \n",
       "\n",
       "      Icos_class  Memory  Runtime pyCap_bench  ProDy_bench    Memory_MB  \n",
       "PDB                                                                      \n",
       "7kq5         1 H   840.0    120.0       109.0        231.0   880.803840  \n",
       "2e0z         3 H  1880.0    400.0       182.0        904.0  1971.322880  \n",
       "6nj8         4 H  4317.5   1180.0       624.0       1712.0  4527.226880  \n",
       "6b23         NaN  6181.0   4343.0       625.0       3639.0  6481.248256  \n",
       "\n",
       "[4 rows x 23 columns]"
      ]
     },
     "execution_count": 41,
     "metadata": {},
     "output_type": "execute_result"
    }
   ],
   "source": [
    "# Capsids used in the benchmarking analysis\n",
    "df_data_bench = df_data[df_data['pyCap_bench'].notnull()]\n",
    "df_data_bench"
   ]
  },
  {
   "cell_type": "code",
   "execution_count": 42,
   "id": "cff08843",
   "metadata": {},
   "outputs": [
    {
     "data": {
      "text/plain": [
       "(-100.0, 4000.0)"
      ]
     },
     "execution_count": 42,
     "metadata": {},
     "output_type": "execute_result"
    },
    {
     "data": {
      "image/png": "[encoded data removed]",
      "text/plain": [
       "<Figure size 432x288 with 1 Axes>"
      ]
     },
     "metadata": {
      "needs_background": "light"
     },
     "output_type": "display_data"
    }
   ],
   "source": [
    "# Plot benchmarking as a function of the number of residues\n",
    "sns.scatterplot(data = df_data_bench, x = 'Residues', y ='pyCap_bench')\n",
    "plt.scatter(x = df_data['Residues'], y = df_data['ProDy_bench'])\n",
    "plt.title('Runtime benchmarking')\n",
    "plt.xlabel('Number of residues')\n",
    "plt.ylabel('Runtime??? (sec???)')\n",
    "plt.legend(['pyCapsid','ProDy'])\n",
    "#plt.yscale('log')\n",
    "#plt.xscale('log')\n",
    "plt.xlim(10000,80000)\n",
    "plt.ylim(-100,4000)"
   ]
  },
  {
   "cell_type": "markdown",
   "id": "231f63ae",
   "metadata": {},
   "source": [
    "**Assessment:**\n",
    "+ The ProDy's runtime is larger than pyCapsid's runtime.\n",
    "+ The increase in runtime for ProDy is particularly pronounced for the larger capsids used for benchmarking (~70,000 residues).\n",
    "+ Analyze below the the ratio of runtime improvement for pyCapsid.\n",
    "+ <span style = \"color: red\"> **Question: Do we have a similar benchmarking for memory? Isn't that the main bottleneck?** </span>"
   ]
  },
  {
   "cell_type": "code",
   "execution_count": 43,
   "id": "ad1f771a",
   "metadata": {},
   "outputs": [
    {
     "name": "stderr",
     "output_type": "stream",
     "text": [
      "/var/folders/zj/kj2j_txx7lg33sf1jkzpp97c0000gs/T/ipykernel_30248/2680212879.py:3: SettingWithCopyWarning: \n",
      "A value is trying to be set on a copy of a slice from a DataFrame.\n",
      "Try using .loc[row_indexer,col_indexer] = value instead\n",
      "\n",
      "See the caveats in the documentation: https://pandas.pydata.org/pandas-docs/stable/user_guide/indexing.html#returning-a-view-versus-a-copy\n",
      "  df_data_bench['Relative_speed'] = df_data_bench.apply(lambda row: row['ProDy_bench']/row['pyCap_bench'], axis = 1)\n"
     ]
    }
   ],
   "source": [
    "# Obtain runtime improvement\n",
    "# Defined as runtime_Prody/runtime_pyCapsid = how much slower is ProDy = how much faster is pyCapsid\n",
    "df_data_bench['Relative_speed'] = df_data_bench.apply(lambda row: row['ProDy_bench']/row['pyCap_bench'], axis = 1)"
   ]
  },
  {
   "cell_type": "code",
   "execution_count": 44,
   "id": "e29d58f9",
   "metadata": {},
   "outputs": [
    {
     "data": {
      "text/html": [
       "<div>\n",
       "<style scoped>\n",
       "    .dataframe tbody tr th:only-of-type {\n",
       "        vertical-align: middle;\n",
       "    }\n",
       "\n",
       "    .dataframe tbody tr th {\n",
       "        vertical-align: top;\n",
       "    }\n",
       "\n",
       "    .dataframe thead th {\n",
       "        text-align: right;\n",
       "    }\n",
       "</style>\n",
       "<table border=\"1\" class=\"dataframe\">\n",
       "  <thead>\n",
       "    <tr style=\"text-align: right;\">\n",
       "      <th></th>\n",
       "      <th>Capsid</th>\n",
       "      <th>Abbreviation</th>\n",
       "      <th>Residues</th>\n",
       "      <th>MCPs</th>\n",
       "      <th>CPs</th>\n",
       "      <th>Reinforcement</th>\n",
       "      <th>Resolution</th>\n",
       "      <th>T-number</th>\n",
       "      <th>Spring_constant</th>\n",
       "      <th>Spring_stderr</th>\n",
       "      <th>...</th>\n",
       "      <th>Clusters</th>\n",
       "      <th>Outliers</th>\n",
       "      <th>CQS</th>\n",
       "      <th>Icos_class</th>\n",
       "      <th>Memory</th>\n",
       "      <th>Runtime</th>\n",
       "      <th>pyCap_bench</th>\n",
       "      <th>ProDy_bench</th>\n",
       "      <th>Memory_MB</th>\n",
       "      <th>Relative_speed</th>\n",
       "    </tr>\n",
       "    <tr>\n",
       "      <th>PDB</th>\n",
       "      <th></th>\n",
       "      <th></th>\n",
       "      <th></th>\n",
       "      <th></th>\n",
       "      <th></th>\n",
       "      <th></th>\n",
       "      <th></th>\n",
       "      <th></th>\n",
       "      <th></th>\n",
       "      <th></th>\n",
       "      <th></th>\n",
       "      <th></th>\n",
       "      <th></th>\n",
       "      <th></th>\n",
       "      <th></th>\n",
       "      <th></th>\n",
       "      <th></th>\n",
       "      <th></th>\n",
       "      <th></th>\n",
       "      <th></th>\n",
       "      <th></th>\n",
       "    </tr>\n",
       "  </thead>\n",
       "  <tbody>\n",
       "    <tr>\n",
       "      <th>7kq5</th>\n",
       "      <td>Thermatoga maritima encapsulin</td>\n",
       "      <td>T marit enc</td>\n",
       "      <td>15900</td>\n",
       "      <td>60</td>\n",
       "      <td>60</td>\n",
       "      <td>NaN</td>\n",
       "      <td>2.00</td>\n",
       "      <td>1</td>\n",
       "      <td>2.00</td>\n",
       "      <td>0.30</td>\n",
       "      <td>...</td>\n",
       "      <td>120</td>\n",
       "      <td>NaN</td>\n",
       "      <td>4.9</td>\n",
       "      <td>1 H</td>\n",
       "      <td>840.0</td>\n",
       "      <td>120.0</td>\n",
       "      <td>109.0</td>\n",
       "      <td>231.0</td>\n",
       "      <td>880.803840</td>\n",
       "      <td>2.119266</td>\n",
       "    </tr>\n",
       "    <tr>\n",
       "      <th>2e0z</th>\n",
       "      <td>Pyrococcus furiosus VLP</td>\n",
       "      <td>P furio enc</td>\n",
       "      <td>42000</td>\n",
       "      <td>180</td>\n",
       "      <td>180</td>\n",
       "      <td>NaN</td>\n",
       "      <td>3.60</td>\n",
       "      <td>3</td>\n",
       "      <td>0.64</td>\n",
       "      <td>0.08</td>\n",
       "      <td>...</td>\n",
       "      <td>32</td>\n",
       "      <td>NaN</td>\n",
       "      <td>350.0</td>\n",
       "      <td>3 H</td>\n",
       "      <td>1880.0</td>\n",
       "      <td>400.0</td>\n",
       "      <td>182.0</td>\n",
       "      <td>904.0</td>\n",
       "      <td>1971.322880</td>\n",
       "      <td>4.967033</td>\n",
       "    </tr>\n",
       "    <tr>\n",
       "      <th>6nj8</th>\n",
       "      <td>Quasibacillus thermotolerans encapsulin</td>\n",
       "      <td>Q thermo enc</td>\n",
       "      <td>67740</td>\n",
       "      <td>240</td>\n",
       "      <td>240</td>\n",
       "      <td>NaN</td>\n",
       "      <td>3.85</td>\n",
       "      <td>4</td>\n",
       "      <td>0.47</td>\n",
       "      <td>0.06</td>\n",
       "      <td>...</td>\n",
       "      <td>42</td>\n",
       "      <td>NaN</td>\n",
       "      <td>6.7</td>\n",
       "      <td>4 H</td>\n",
       "      <td>4317.5</td>\n",
       "      <td>1180.0</td>\n",
       "      <td>624.0</td>\n",
       "      <td>1712.0</td>\n",
       "      <td>4527.226880</td>\n",
       "      <td>2.743590</td>\n",
       "    </tr>\n",
       "    <tr>\n",
       "      <th>6b23</th>\n",
       "      <td>Staphylococcus aureus pathogenicity island 1 p...</td>\n",
       "      <td>SaPI1 procap</td>\n",
       "      <td>73920</td>\n",
       "      <td>240</td>\n",
       "      <td>240</td>\n",
       "      <td>NaN</td>\n",
       "      <td>3.80</td>\n",
       "      <td>4</td>\n",
       "      <td>6.10</td>\n",
       "      <td>0.70</td>\n",
       "      <td>...</td>\n",
       "      <td>240</td>\n",
       "      <td>60.0</td>\n",
       "      <td>26.4</td>\n",
       "      <td>NaN</td>\n",
       "      <td>6181.0</td>\n",
       "      <td>4343.0</td>\n",
       "      <td>625.0</td>\n",
       "      <td>3639.0</td>\n",
       "      <td>6481.248256</td>\n",
       "      <td>5.822400</td>\n",
       "    </tr>\n",
       "  </tbody>\n",
       "</table>\n",
       "<p>4 rows × 24 columns</p>\n",
       "</div>"
      ],
      "text/plain": [
       "                                                 Capsid  Abbreviation  \\\n",
       "PDB                                                                     \n",
       "7kq5                     Thermatoga maritima encapsulin   T marit enc   \n",
       "2e0z                            Pyrococcus furiosus VLP   P furio enc   \n",
       "6nj8            Quasibacillus thermotolerans encapsulin  Q thermo enc   \n",
       "6b23  Staphylococcus aureus pathogenicity island 1 p...  SaPI1 procap   \n",
       "\n",
       "      Residues  MCPs  CPs Reinforcement  Resolution  T-number  \\\n",
       "PDB                                                             \n",
       "7kq5     15900    60   60           NaN        2.00         1   \n",
       "2e0z     42000   180  180           NaN        3.60         3   \n",
       "6nj8     67740   240  240           NaN        3.85         4   \n",
       "6b23     73920   240  240           NaN        3.80         4   \n",
       "\n",
       "      Spring_constant  Spring_stderr  ...  Clusters  Outliers    CQS  \\\n",
       "PDB                                   ...                              \n",
       "7kq5             2.00           0.30  ...       120       NaN    4.9   \n",
       "2e0z             0.64           0.08  ...        32       NaN  350.0   \n",
       "6nj8             0.47           0.06  ...        42       NaN    6.7   \n",
       "6b23             6.10           0.70  ...       240      60.0   26.4   \n",
       "\n",
       "      Icos_class  Memory  Runtime  pyCap_bench ProDy_bench    Memory_MB  \\\n",
       "PDB                                                                       \n",
       "7kq5         1 H   840.0    120.0        109.0       231.0   880.803840   \n",
       "2e0z         3 H  1880.0    400.0        182.0       904.0  1971.322880   \n",
       "6nj8         4 H  4317.5   1180.0        624.0      1712.0  4527.226880   \n",
       "6b23         NaN  6181.0   4343.0        625.0      3639.0  6481.248256   \n",
       "\n",
       "      Relative_speed  \n",
       "PDB                   \n",
       "7kq5        2.119266  \n",
       "2e0z        4.967033  \n",
       "6nj8        2.743590  \n",
       "6b23        5.822400  \n",
       "\n",
       "[4 rows x 24 columns]"
      ]
     },
     "execution_count": 44,
     "metadata": {},
     "output_type": "execute_result"
    }
   ],
   "source": [
    "df_data_bench"
   ]
  },
  {
   "cell_type": "code",
   "execution_count": 45,
   "id": "066a1427",
   "metadata": {},
   "outputs": [
    {
     "data": {
      "text/html": [
       "<div>\n",
       "<style scoped>\n",
       "    .dataframe tbody tr th:only-of-type {\n",
       "        vertical-align: middle;\n",
       "    }\n",
       "\n",
       "    .dataframe tbody tr th {\n",
       "        vertical-align: top;\n",
       "    }\n",
       "\n",
       "    .dataframe thead th {\n",
       "        text-align: right;\n",
       "    }\n",
       "</style>\n",
       "<table border=\"1\" class=\"dataframe\">\n",
       "  <thead>\n",
       "    <tr style=\"text-align: right;\">\n",
       "      <th></th>\n",
       "      <th>pyCap_bench</th>\n",
       "      <th>ProDy_bench</th>\n",
       "      <th>Relative_speed</th>\n",
       "    </tr>\n",
       "    <tr>\n",
       "      <th>PDB</th>\n",
       "      <th></th>\n",
       "      <th></th>\n",
       "      <th></th>\n",
       "    </tr>\n",
       "  </thead>\n",
       "  <tbody>\n",
       "    <tr>\n",
       "      <th>7kq5</th>\n",
       "      <td>109.0</td>\n",
       "      <td>231.0</td>\n",
       "      <td>2.119266</td>\n",
       "    </tr>\n",
       "    <tr>\n",
       "      <th>2e0z</th>\n",
       "      <td>182.0</td>\n",
       "      <td>904.0</td>\n",
       "      <td>4.967033</td>\n",
       "    </tr>\n",
       "    <tr>\n",
       "      <th>6nj8</th>\n",
       "      <td>624.0</td>\n",
       "      <td>1712.0</td>\n",
       "      <td>2.743590</td>\n",
       "    </tr>\n",
       "    <tr>\n",
       "      <th>6b23</th>\n",
       "      <td>625.0</td>\n",
       "      <td>3639.0</td>\n",
       "      <td>5.822400</td>\n",
       "    </tr>\n",
       "  </tbody>\n",
       "</table>\n",
       "</div>"
      ],
      "text/plain": [
       "      pyCap_bench  ProDy_bench  Relative_speed\n",
       "PDB                                           \n",
       "7kq5        109.0        231.0        2.119266\n",
       "2e0z        182.0        904.0        4.967033\n",
       "6nj8        624.0       1712.0        2.743590\n",
       "6b23        625.0       3639.0        5.822400"
      ]
     },
     "execution_count": 45,
     "metadata": {},
     "output_type": "execute_result"
    }
   ],
   "source": [
    "df_data_bench[['pyCap_bench','ProDy_bench','Relative_speed']]"
   ]
  },
  {
   "cell_type": "code",
   "execution_count": 46,
   "id": "6bca1303",
   "metadata": {},
   "outputs": [
    {
     "data": {
      "text/plain": [
       "<AxesSubplot:xlabel='Residues', ylabel='Relative_speed'>"
      ]
     },
     "execution_count": 46,
     "metadata": {},
     "output_type": "execute_result"
    },
    {
     "data": {
      "image/png": "[encoded data removed]",
      "text/plain": [
       "<Figure size 432x288 with 1 Axes>"
      ]
     },
     "metadata": {
      "needs_background": "light"
     },
     "output_type": "display_data"
    }
   ],
   "source": [
    "# Plot the runtime improvement based on residues\n",
    "sns.scatterplot(data = df_data_bench, x = 'Residues', y = 'Relative_speed')"
   ]
  },
  {
   "cell_type": "code",
   "execution_count": 47,
   "id": "78bf959f",
   "metadata": {},
   "outputs": [
    {
     "data": {
      "text/plain": [
       "<AxesSubplot:xlabel='CPs', ylabel='Relative_speed'>"
      ]
     },
     "execution_count": 47,
     "metadata": {},
     "output_type": "execute_result"
    },
    {
     "data": {
      "image/png": "[encoded data removed]",
      "text/plain": [
       "<Figure size 432x288 with 1 Axes>"
      ]
     },
     "metadata": {
      "needs_background": "light"
     },
     "output_type": "display_data"
    }
   ],
   "source": [
    "# Plot the runtime improvement based on number of proteins\n",
    "sns.scatterplot(data = df_data_bench, x = 'CPs', y = 'Relative_speed')"
   ]
  },
  {
   "cell_type": "code",
   "execution_count": 48,
   "id": "32e0c39e",
   "metadata": {},
   "outputs": [
    {
     "data": {
      "text/plain": [
       "count    4.000000\n",
       "mean     3.913072\n",
       "std      1.764634\n",
       "min      2.119266\n",
       "25%      2.587509\n",
       "50%      3.855311\n",
       "75%      5.180875\n",
       "max      5.822400\n",
       "Name: Relative_speed, dtype: float64"
      ]
     },
     "execution_count": 48,
     "metadata": {},
     "output_type": "execute_result"
    }
   ],
   "source": [
    "# Statistical description of runtime improvement\n",
    "df_data_bench['Relative_speed'].describe()"
   ]
  },
  {
   "cell_type": "markdown",
   "id": "0e39467d",
   "metadata": {},
   "source": [
    "**Assessment:**\n",
    "+ pyCapsid improves approximately from 2 to 6 fold the runtime to generate normal modes for capsids.\n",
    "+ The improvement seems to increase based on the number of residues or number of proteins in the capsid.\n",
    "+ <font color = 'red'> **Question: What is going on capsid 6nj8? That one seems off, why?**</font>"
   ]
  },
  {
   "cell_type": "code",
   "execution_count": null,
   "id": "2287321c",
   "metadata": {},
   "outputs": [],
   "source": []
  }
 ],
 "metadata": {
  "kernelspec": {
   "display_name": "Python 3 (ipykernel)",
   "language": "python",
   "name": "python3"
  },
  "language_info": {
   "codemirror_mode": {
    "name": "ipython",
    "version": 3
   },
   "file_extension": ".py",
   "mimetype": "text/x-python",
   "name": "python",
   "nbconvert_exporter": "python",
   "pygments_lexer": "ipython3",
   "version": "3.9.7"
  }
 },
 "nbformat": 4,
 "nbformat_minor": 5
}
