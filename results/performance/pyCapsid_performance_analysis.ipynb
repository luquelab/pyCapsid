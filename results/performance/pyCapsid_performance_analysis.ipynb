{
 "cells": [
  {
   "cell_type": "markdown",
   "id": "88c50513",
   "metadata": {},
   "source": [
    "# Notebook description\n",
    "This Jupyter notebook analyses the performance of pyCapsid for a range of protein shells"
   ]
  },
  {
   "cell_type": "code",
   "execution_count": 1,
   "id": "5094dd2b",
   "metadata": {},
   "outputs": [],
   "source": [
    "# Libraries\n",
    "import pandas as pd\n",
    "import matplotlib.pyplot as plt\n",
    "import seaborn as sns\n",
    "import numpy as np\n",
    "from scipy import stats"
   ]
  },
  {
   "cell_type": "code",
   "execution_count": 2,
   "id": "31c6e125",
   "metadata": {},
   "outputs": [],
   "source": [
    "# Set defaults\n",
    "#sns.set_theme(style = 'darkgrid')\n",
    "plt.style.use('ggplot')\n",
    "%matplotlib inline"
   ]
  },
  {
   "cell_type": "code",
   "execution_count": 3,
   "id": "77c09297",
   "metadata": {},
   "outputs": [],
   "source": [
    "# Load data\n",
    "df_data = pd.read_csv('pyCapsid_performance_data.csv')"
   ]
  },
  {
   "cell_type": "code",
   "execution_count": 4,
   "id": "90e717ce",
   "metadata": {},
   "outputs": [],
   "source": [
    "# Add Memory usage in Megabtyes\n",
    "conversion = 1.048576 # 1 Mebibyte is 2^20 / 10^6 Megabytes \n",
    "df_data['Memory_MB'] = df_data['Memory'].apply(lambda x:x*conversion)"
   ]
  },
  {
   "cell_type": "code",
   "execution_count": 5,
   "id": "8652b777",
   "metadata": {},
   "outputs": [
    {
     "data": {
      "text/html": [
       "<div>\n",
       "<style scoped>\n",
       "    .dataframe tbody tr th:only-of-type {\n",
       "        vertical-align: middle;\n",
       "    }\n",
       "\n",
       "    .dataframe tbody tr th {\n",
       "        vertical-align: top;\n",
       "    }\n",
       "\n",
       "    .dataframe thead th {\n",
       "        text-align: right;\n",
       "    }\n",
       "</style>\n",
       "<table border=\"1\" class=\"dataframe\">\n",
       "  <thead>\n",
       "    <tr style=\"text-align: right;\">\n",
       "      <th></th>\n",
       "      <th>PDB</th>\n",
       "      <th>Capsid</th>\n",
       "      <th>Abbreviation</th>\n",
       "      <th>Residues</th>\n",
       "      <th>MCPs</th>\n",
       "      <th>CPs</th>\n",
       "      <th>Reinforcement</th>\n",
       "      <th>Resolution</th>\n",
       "      <th>T-number</th>\n",
       "      <th>Spring_constant</th>\n",
       "      <th>...</th>\n",
       "      <th>Outliers</th>\n",
       "      <th>CQS</th>\n",
       "      <th>Icos_class</th>\n",
       "      <th>Memory</th>\n",
       "      <th>Runtime</th>\n",
       "      <th>pyCap_runtime</th>\n",
       "      <th>ProDy_runtime</th>\n",
       "      <th>pyCap_memory</th>\n",
       "      <th>ProDy_memory</th>\n",
       "      <th>Memory_MB</th>\n",
       "    </tr>\n",
       "  </thead>\n",
       "  <tbody>\n",
       "    <tr>\n",
       "      <th>0</th>\n",
       "      <td>2e0z</td>\n",
       "      <td>Pyrococcus furiosus VLP</td>\n",
       "      <td>P furio enc</td>\n",
       "      <td>42000</td>\n",
       "      <td>180</td>\n",
       "      <td>180</td>\n",
       "      <td>NaN</td>\n",
       "      <td>3.6</td>\n",
       "      <td>3</td>\n",
       "      <td>0.64</td>\n",
       "      <td>...</td>\n",
       "      <td>NaN</td>\n",
       "      <td>350.0</td>\n",
       "      <td>3 H</td>\n",
       "      <td>1880.0</td>\n",
       "      <td>400.0</td>\n",
       "      <td>182.0</td>\n",
       "      <td>904.0</td>\n",
       "      <td>1340.0</td>\n",
       "      <td>640.0</td>\n",
       "      <td>1971.322880</td>\n",
       "    </tr>\n",
       "    <tr>\n",
       "      <th>1</th>\n",
       "      <td>2ft1</td>\n",
       "      <td>Escherichia coli bacteriophage Hong Kong 97 he...</td>\n",
       "      <td>Phage HK97 Head II</td>\n",
       "      <td>115140</td>\n",
       "      <td>420</td>\n",
       "      <td>420</td>\n",
       "      <td>NaN</td>\n",
       "      <td>3.9</td>\n",
       "      <td>7</td>\n",
       "      <td>0.65</td>\n",
       "      <td>...</td>\n",
       "      <td>60.0</td>\n",
       "      <td>4.2</td>\n",
       "      <td>NaN</td>\n",
       "      <td>7700.0</td>\n",
       "      <td>11884.0</td>\n",
       "      <td>NaN</td>\n",
       "      <td>NaN</td>\n",
       "      <td>NaN</td>\n",
       "      <td>NaN</td>\n",
       "      <td>8074.035200</td>\n",
       "    </tr>\n",
       "    <tr>\n",
       "      <th>2</th>\n",
       "      <td>3j40</td>\n",
       "      <td>Salmonella anatum bacteriophage epsilon15</td>\n",
       "      <td>Phage epsilon15</td>\n",
       "      <td>187320</td>\n",
       "      <td>420</td>\n",
       "      <td>840</td>\n",
       "      <td>2-fold Axis</td>\n",
       "      <td>4.5</td>\n",
       "      <td>7</td>\n",
       "      <td>17.70</td>\n",
       "      <td>...</td>\n",
       "      <td>NaN</td>\n",
       "      <td>5.9</td>\n",
       "      <td>Rh*</td>\n",
       "      <td>16300.0</td>\n",
       "      <td>24032.0</td>\n",
       "      <td>3940.0</td>\n",
       "      <td>8920.0</td>\n",
       "      <td>1300.0</td>\n",
       "      <td>740.0</td>\n",
       "      <td>17091.788800</td>\n",
       "    </tr>\n",
       "    <tr>\n",
       "      <th>3</th>\n",
       "      <td>3j4u</td>\n",
       "      <td>Bordetella baceriophage BPP-1</td>\n",
       "      <td>Phage BPP-1</td>\n",
       "      <td>195240</td>\n",
       "      <td>420</td>\n",
       "      <td>840</td>\n",
       "      <td>2-fold Axis</td>\n",
       "      <td>3.5</td>\n",
       "      <td>7</td>\n",
       "      <td>8.80</td>\n",
       "      <td>...</td>\n",
       "      <td>NaN</td>\n",
       "      <td>8.6</td>\n",
       "      <td>9.33 TD</td>\n",
       "      <td>25620.0</td>\n",
       "      <td>19485.0</td>\n",
       "      <td>NaN</td>\n",
       "      <td>NaN</td>\n",
       "      <td>NaN</td>\n",
       "      <td>NaN</td>\n",
       "      <td>26864.517120</td>\n",
       "    </tr>\n",
       "    <tr>\n",
       "      <th>4</th>\n",
       "      <td>3j7v</td>\n",
       "      <td>Escherichia coli bacteriophage T7 procapsid</td>\n",
       "      <td>Phage T7 procap</td>\n",
       "      <td>126720</td>\n",
       "      <td>420</td>\n",
       "      <td>420</td>\n",
       "      <td>NaN</td>\n",
       "      <td>4.6</td>\n",
       "      <td>7</td>\n",
       "      <td>5.70</td>\n",
       "      <td>...</td>\n",
       "      <td>60.0</td>\n",
       "      <td>14.5</td>\n",
       "      <td>NaN</td>\n",
       "      <td>12304.0</td>\n",
       "      <td>13302.0</td>\n",
       "      <td>NaN</td>\n",
       "      <td>NaN</td>\n",
       "      <td>NaN</td>\n",
       "      <td>NaN</td>\n",
       "      <td>12901.679104</td>\n",
       "    </tr>\n",
       "  </tbody>\n",
       "</table>\n",
       "<p>5 rows × 26 columns</p>\n",
       "</div>"
      ],
      "text/plain": [
       "    PDB                                             Capsid  \\\n",
       "0  2e0z                            Pyrococcus furiosus VLP   \n",
       "1  2ft1  Escherichia coli bacteriophage Hong Kong 97 he...   \n",
       "2  3j40          Salmonella anatum bacteriophage epsilon15   \n",
       "3  3j4u                      Bordetella baceriophage BPP-1   \n",
       "4  3j7v        Escherichia coli bacteriophage T7 procapsid   \n",
       "\n",
       "         Abbreviation  Residues  MCPs  CPs Reinforcement  Resolution  \\\n",
       "0         P furio enc     42000   180  180           NaN         3.6   \n",
       "1  Phage HK97 Head II    115140   420  420           NaN         3.9   \n",
       "2     Phage epsilon15    187320   420  840   2-fold Axis         4.5   \n",
       "3         Phage BPP-1    195240   420  840   2-fold Axis         3.5   \n",
       "4     Phage T7 procap    126720   420  420           NaN         4.6   \n",
       "\n",
       "   T-number  Spring_constant  ...  Outliers    CQS  Icos_class   Memory  \\\n",
       "0         3             0.64  ...       NaN  350.0         3 H   1880.0   \n",
       "1         7             0.65  ...      60.0    4.2         NaN   7700.0   \n",
       "2         7            17.70  ...       NaN    5.9         Rh*  16300.0   \n",
       "3         7             8.80  ...       NaN    8.6     9.33 TD  25620.0   \n",
       "4         7             5.70  ...      60.0   14.5         NaN  12304.0   \n",
       "\n",
       "   Runtime  pyCap_runtime  ProDy_runtime  pyCap_memory ProDy_memory  \\\n",
       "0    400.0          182.0          904.0        1340.0        640.0   \n",
       "1  11884.0            NaN            NaN           NaN          NaN   \n",
       "2  24032.0         3940.0         8920.0        1300.0        740.0   \n",
       "3  19485.0            NaN            NaN           NaN          NaN   \n",
       "4  13302.0            NaN            NaN           NaN          NaN   \n",
       "\n",
       "      Memory_MB  \n",
       "0   1971.322880  \n",
       "1   8074.035200  \n",
       "2  17091.788800  \n",
       "3  26864.517120  \n",
       "4  12901.679104  \n",
       "\n",
       "[5 rows x 26 columns]"
      ]
     },
     "execution_count": 5,
     "metadata": {},
     "output_type": "execute_result"
    }
   ],
   "source": [
    "# Data inspection\n",
    "df_data.head()"
   ]
  },
  {
   "cell_type": "code",
   "execution_count": 6,
   "id": "77722063",
   "metadata": {},
   "outputs": [
    {
     "name": "stdout",
     "output_type": "stream",
     "text": [
      "<class 'pandas.core.frame.DataFrame'>\n",
      "RangeIndex: 26 entries, 0 to 25\n",
      "Data columns (total 26 columns):\n",
      " #   Column           Non-Null Count  Dtype  \n",
      "---  ------           --------------  -----  \n",
      " 0   PDB              26 non-null     object \n",
      " 1   Capsid           26 non-null     object \n",
      " 2   Abbreviation     26 non-null     object \n",
      " 3   Residues         26 non-null     int64  \n",
      " 4   MCPs             26 non-null     int64  \n",
      " 5   CPs              26 non-null     int64  \n",
      " 6   Reinforcement    12 non-null     object \n",
      " 7   Resolution       26 non-null     float64\n",
      " 8   T-number         26 non-null     int64  \n",
      " 9   Spring_constant  25 non-null     float64\n",
      " 10  Spring_stderr    25 non-null     float64\n",
      " 11  Spring_R^2       6 non-null      float64\n",
      " 12  CC_uENM          26 non-null     float64\n",
      " 13  CC_bGNM          5 non-null      float64\n",
      " 14  CC_ANM           12 non-null     float64\n",
      " 15  Clusters         26 non-null     int64  \n",
      " 16  Outliers         3 non-null      float64\n",
      " 17  CQS              26 non-null     float64\n",
      " 18  Icos_class       16 non-null     object \n",
      " 19  Memory           25 non-null     float64\n",
      " 20  Runtime          25 non-null     float64\n",
      " 21  pyCap_runtime    10 non-null     float64\n",
      " 22  ProDy_runtime    10 non-null     float64\n",
      " 23  pyCap_memory     6 non-null      float64\n",
      " 24  ProDy_memory     6 non-null      float64\n",
      " 25  Memory_MB        25 non-null     float64\n",
      "dtypes: float64(16), int64(5), object(5)\n",
      "memory usage: 5.4+ KB\n"
     ]
    }
   ],
   "source": [
    "df_data.info()"
   ]
  },
  {
   "cell_type": "code",
   "execution_count": 7,
   "id": "42970979",
   "metadata": {},
   "outputs": [],
   "source": [
    "# Set the id column (PDB) column as the data frame's index\n",
    "df_data.set_index('PDB', inplace=True)\n",
    "#df_data"
   ]
  },
  {
   "cell_type": "code",
   "execution_count": 8,
   "id": "886bc7b0",
   "metadata": {},
   "outputs": [
    {
     "data": {
      "text/html": [
       "<div>\n",
       "<style scoped>\n",
       "    .dataframe tbody tr th:only-of-type {\n",
       "        vertical-align: middle;\n",
       "    }\n",
       "\n",
       "    .dataframe tbody tr th {\n",
       "        vertical-align: top;\n",
       "    }\n",
       "\n",
       "    .dataframe thead th {\n",
       "        text-align: right;\n",
       "    }\n",
       "</style>\n",
       "<table border=\"1\" class=\"dataframe\">\n",
       "  <thead>\n",
       "    <tr style=\"text-align: right;\">\n",
       "      <th></th>\n",
       "      <th>Residues</th>\n",
       "      <th>MCPs</th>\n",
       "      <th>CPs</th>\n",
       "      <th>Resolution</th>\n",
       "      <th>T-number</th>\n",
       "      <th>Spring_constant</th>\n",
       "      <th>Spring_stderr</th>\n",
       "      <th>Spring_R^2</th>\n",
       "      <th>CC_uENM</th>\n",
       "      <th>CC_bGNM</th>\n",
       "      <th>...</th>\n",
       "      <th>Clusters</th>\n",
       "      <th>Outliers</th>\n",
       "      <th>CQS</th>\n",
       "      <th>Memory</th>\n",
       "      <th>Runtime</th>\n",
       "      <th>pyCap_runtime</th>\n",
       "      <th>ProDy_runtime</th>\n",
       "      <th>pyCap_memory</th>\n",
       "      <th>ProDy_memory</th>\n",
       "      <th>Memory_MB</th>\n",
       "    </tr>\n",
       "  </thead>\n",
       "  <tbody>\n",
       "    <tr>\n",
       "      <th>count</th>\n",
       "      <td>2.600000e+01</td>\n",
       "      <td>26.000000</td>\n",
       "      <td>26.000000</td>\n",
       "      <td>26.000000</td>\n",
       "      <td>26.000000</td>\n",
       "      <td>25.000000</td>\n",
       "      <td>25.000000</td>\n",
       "      <td>6.000000</td>\n",
       "      <td>26.000000</td>\n",
       "      <td>5.000000</td>\n",
       "      <td>...</td>\n",
       "      <td>26.000000</td>\n",
       "      <td>3.0</td>\n",
       "      <td>26.000000</td>\n",
       "      <td>25.000000</td>\n",
       "      <td>25.000000</td>\n",
       "      <td>10.000000</td>\n",
       "      <td>10.000000</td>\n",
       "      <td>6.000000</td>\n",
       "      <td>6.000000</td>\n",
       "      <td>25.000000</td>\n",
       "    </tr>\n",
       "    <tr>\n",
       "      <th>mean</th>\n",
       "      <td>2.262185e+05</td>\n",
       "      <td>415.384615</td>\n",
       "      <td>683.076923</td>\n",
       "      <td>3.470000</td>\n",
       "      <td>6.923077</td>\n",
       "      <td>5.729600</td>\n",
       "      <td>0.221760</td>\n",
       "      <td>0.968167</td>\n",
       "      <td>0.517000</td>\n",
       "      <td>0.641200</td>\n",
       "      <td>...</td>\n",
       "      <td>205.230769</td>\n",
       "      <td>60.0</td>\n",
       "      <td>20.553846</td>\n",
       "      <td>22866.260000</td>\n",
       "      <td>26553.880000</td>\n",
       "      <td>1346.500000</td>\n",
       "      <td>3362.200000</td>\n",
       "      <td>4933.333333</td>\n",
       "      <td>2306.666667</td>\n",
       "      <td>23977.011446</td>\n",
       "    </tr>\n",
       "    <tr>\n",
       "      <th>std</th>\n",
       "      <td>3.134523e+05</td>\n",
       "      <td>206.402147</td>\n",
       "      <td>496.828093</td>\n",
       "      <td>0.657565</td>\n",
       "      <td>3.440036</td>\n",
       "      <td>5.918578</td>\n",
       "      <td>0.193539</td>\n",
       "      <td>0.010108</td>\n",
       "      <td>0.211278</td>\n",
       "      <td>0.103282</td>\n",
       "      <td>...</td>\n",
       "      <td>158.563630</td>\n",
       "      <td>0.0</td>\n",
       "      <td>67.366135</td>\n",
       "      <td>20343.841162</td>\n",
       "      <td>29674.202517</td>\n",
       "      <td>1460.864451</td>\n",
       "      <td>3159.471151</td>\n",
       "      <td>4479.346679</td>\n",
       "      <td>1972.832144</td>\n",
       "      <td>21332.063590</td>\n",
       "    </tr>\n",
       "    <tr>\n",
       "      <th>min</th>\n",
       "      <td>1.590000e+04</td>\n",
       "      <td>60.000000</td>\n",
       "      <td>60.000000</td>\n",
       "      <td>2.000000</td>\n",
       "      <td>1.000000</td>\n",
       "      <td>0.110000</td>\n",
       "      <td>0.004000</td>\n",
       "      <td>0.954000</td>\n",
       "      <td>0.100000</td>\n",
       "      <td>0.540000</td>\n",
       "      <td>...</td>\n",
       "      <td>12.000000</td>\n",
       "      <td>60.0</td>\n",
       "      <td>3.300000</td>\n",
       "      <td>760.000000</td>\n",
       "      <td>120.000000</td>\n",
       "      <td>106.000000</td>\n",
       "      <td>206.000000</td>\n",
       "      <td>1300.000000</td>\n",
       "      <td>640.000000</td>\n",
       "      <td>796.917760</td>\n",
       "    </tr>\n",
       "    <tr>\n",
       "      <th>25%</th>\n",
       "      <td>1.073550e+05</td>\n",
       "      <td>285.000000</td>\n",
       "      <td>285.000000</td>\n",
       "      <td>3.215000</td>\n",
       "      <td>4.750000</td>\n",
       "      <td>0.650000</td>\n",
       "      <td>0.060000</td>\n",
       "      <td>0.961250</td>\n",
       "      <td>0.360000</td>\n",
       "      <td>0.560000</td>\n",
       "      <td>...</td>\n",
       "      <td>72.000000</td>\n",
       "      <td>60.0</td>\n",
       "      <td>4.500000</td>\n",
       "      <td>7700.000000</td>\n",
       "      <td>4343.000000</td>\n",
       "      <td>289.000000</td>\n",
       "      <td>985.500000</td>\n",
       "      <td>1612.500000</td>\n",
       "      <td>872.500000</td>\n",
       "      <td>8074.035200</td>\n",
       "    </tr>\n",
       "    <tr>\n",
       "      <th>50%</th>\n",
       "      <td>1.839600e+05</td>\n",
       "      <td>420.000000</td>\n",
       "      <td>480.000000</td>\n",
       "      <td>3.400000</td>\n",
       "      <td>7.000000</td>\n",
       "      <td>4.150000</td>\n",
       "      <td>0.170000</td>\n",
       "      <td>0.970000</td>\n",
       "      <td>0.468000</td>\n",
       "      <td>0.640000</td>\n",
       "      <td>...</td>\n",
       "      <td>175.000000</td>\n",
       "      <td>60.0</td>\n",
       "      <td>6.100000</td>\n",
       "      <td>19626.000000</td>\n",
       "      <td>20304.000000</td>\n",
       "      <td>624.500000</td>\n",
       "      <td>2464.000000</td>\n",
       "      <td>4015.000000</td>\n",
       "      <td>1735.000000</td>\n",
       "      <td>20579.352576</td>\n",
       "    </tr>\n",
       "    <tr>\n",
       "      <th>75%</th>\n",
       "      <td>2.278500e+05</td>\n",
       "      <td>420.000000</td>\n",
       "      <td>840.000000</td>\n",
       "      <td>3.785000</td>\n",
       "      <td>7.000000</td>\n",
       "      <td>7.400000</td>\n",
       "      <td>0.300000</td>\n",
       "      <td>0.975000</td>\n",
       "      <td>0.673000</td>\n",
       "      <td>0.666000</td>\n",
       "      <td>...</td>\n",
       "      <td>272.000000</td>\n",
       "      <td>60.0</td>\n",
       "      <td>8.350000</td>\n",
       "      <td>38300.000000</td>\n",
       "      <td>32662.000000</td>\n",
       "      <td>1922.250000</td>\n",
       "      <td>5177.250000</td>\n",
       "      <td>5772.500000</td>\n",
       "      <td>2920.000000</td>\n",
       "      <td>40160.460800</td>\n",
       "    </tr>\n",
       "    <tr>\n",
       "      <th>max</th>\n",
       "      <td>1.687980e+06</td>\n",
       "      <td>960.000000</td>\n",
       "      <td>1920.000000</td>\n",
       "      <td>5.200000</td>\n",
       "      <td>16.000000</td>\n",
       "      <td>19.700000</td>\n",
       "      <td>0.700000</td>\n",
       "      <td>0.980000</td>\n",
       "      <td>0.875000</td>\n",
       "      <td>0.800000</td>\n",
       "      <td>...</td>\n",
       "      <td>540.000000</td>\n",
       "      <td>60.0</td>\n",
       "      <td>350.000000</td>\n",
       "      <td>84000.000000</td>\n",
       "      <td>128000.000000</td>\n",
       "      <td>3940.000000</td>\n",
       "      <td>8920.000000</td>\n",
       "      <td>13100.000000</td>\n",
       "      <td>5830.000000</td>\n",
       "      <td>88080.384000</td>\n",
       "    </tr>\n",
       "  </tbody>\n",
       "</table>\n",
       "<p>8 rows × 21 columns</p>\n",
       "</div>"
      ],
      "text/plain": [
       "           Residues        MCPs          CPs  Resolution   T-number  \\\n",
       "count  2.600000e+01   26.000000    26.000000   26.000000  26.000000   \n",
       "mean   2.262185e+05  415.384615   683.076923    3.470000   6.923077   \n",
       "std    3.134523e+05  206.402147   496.828093    0.657565   3.440036   \n",
       "min    1.590000e+04   60.000000    60.000000    2.000000   1.000000   \n",
       "25%    1.073550e+05  285.000000   285.000000    3.215000   4.750000   \n",
       "50%    1.839600e+05  420.000000   480.000000    3.400000   7.000000   \n",
       "75%    2.278500e+05  420.000000   840.000000    3.785000   7.000000   \n",
       "max    1.687980e+06  960.000000  1920.000000    5.200000  16.000000   \n",
       "\n",
       "       Spring_constant  Spring_stderr  Spring_R^2    CC_uENM   CC_bGNM  ...  \\\n",
       "count        25.000000      25.000000    6.000000  26.000000  5.000000  ...   \n",
       "mean          5.729600       0.221760    0.968167   0.517000  0.641200  ...   \n",
       "std           5.918578       0.193539    0.010108   0.211278  0.103282  ...   \n",
       "min           0.110000       0.004000    0.954000   0.100000  0.540000  ...   \n",
       "25%           0.650000       0.060000    0.961250   0.360000  0.560000  ...   \n",
       "50%           4.150000       0.170000    0.970000   0.468000  0.640000  ...   \n",
       "75%           7.400000       0.300000    0.975000   0.673000  0.666000  ...   \n",
       "max          19.700000       0.700000    0.980000   0.875000  0.800000  ...   \n",
       "\n",
       "         Clusters  Outliers         CQS        Memory        Runtime  \\\n",
       "count   26.000000       3.0   26.000000     25.000000      25.000000   \n",
       "mean   205.230769      60.0   20.553846  22866.260000   26553.880000   \n",
       "std    158.563630       0.0   67.366135  20343.841162   29674.202517   \n",
       "min     12.000000      60.0    3.300000    760.000000     120.000000   \n",
       "25%     72.000000      60.0    4.500000   7700.000000    4343.000000   \n",
       "50%    175.000000      60.0    6.100000  19626.000000   20304.000000   \n",
       "75%    272.000000      60.0    8.350000  38300.000000   32662.000000   \n",
       "max    540.000000      60.0  350.000000  84000.000000  128000.000000   \n",
       "\n",
       "       pyCap_runtime  ProDy_runtime  pyCap_memory  ProDy_memory     Memory_MB  \n",
       "count      10.000000      10.000000      6.000000      6.000000     25.000000  \n",
       "mean     1346.500000    3362.200000   4933.333333   2306.666667  23977.011446  \n",
       "std      1460.864451    3159.471151   4479.346679   1972.832144  21332.063590  \n",
       "min       106.000000     206.000000   1300.000000    640.000000    796.917760  \n",
       "25%       289.000000     985.500000   1612.500000    872.500000   8074.035200  \n",
       "50%       624.500000    2464.000000   4015.000000   1735.000000  20579.352576  \n",
       "75%      1922.250000    5177.250000   5772.500000   2920.000000  40160.460800  \n",
       "max      3940.000000    8920.000000  13100.000000   5830.000000  88080.384000  \n",
       "\n",
       "[8 rows x 21 columns]"
      ]
     },
     "execution_count": 8,
     "metadata": {},
     "output_type": "execute_result"
    }
   ],
   "source": [
    "# Overall statistical description\n",
    "df_data.describe()"
   ]
  },
  {
   "cell_type": "markdown",
   "id": "45a4c77a",
   "metadata": {},
   "source": [
    "## Range of capsids analyzed"
   ]
  },
  {
   "cell_type": "code",
   "execution_count": 9,
   "id": "05b5093c",
   "metadata": {},
   "outputs": [
    {
     "data": {
      "text/plain": [
       "Text(0, 0.5, 'Number of residues')"
      ]
     },
     "execution_count": 9,
     "metadata": {},
     "output_type": "execute_result"
    },
    {
     "data": {
      "image/png": "[encoded data removed]",
      "text/plain": [
       "<Figure size 432x288 with 1 Axes>"
      ]
     },
     "metadata": {
      "needs_background": "light"
     },
     "output_type": "display_data"
    }
   ],
   "source": [
    "# Plot number of residues for each capsid\n",
    "data = df_data\n",
    "sns.barplot(data = df_data, x = 'Abbreviation', y = 'Residues', order = df_data.sort_values('Residues').Abbreviation)\n",
    "plt.yscale('log')\n",
    "plt.ylim(1E4,5E6)\n",
    "plt.xticks(rotation = 45, fontsize = 7.5, ha = 'right')\n",
    "plt.title('Size of analyzed capsids')\n",
    "plt.xlabel('Capsid name')\n",
    "plt.ylabel('Number of residues')"
   ]
  },
  {
   "cell_type": "code",
   "execution_count": 10,
   "id": "d590601a",
   "metadata": {},
   "outputs": [
    {
     "data": {
      "text/plain": [
       "count    2.600000e+01\n",
       "mean     2.262185e+05\n",
       "std      3.134523e+05\n",
       "min      1.590000e+04\n",
       "25%      1.073550e+05\n",
       "50%      1.839600e+05\n",
       "75%      2.278500e+05\n",
       "max      1.687980e+06\n",
       "Name: Residues, dtype: float64"
      ]
     },
     "execution_count": 10,
     "metadata": {},
     "output_type": "execute_result"
    }
   ],
   "source": [
    "## Descriptive statistics for the number of residues in the capsids\n",
    "df_data['Residues'].describe()"
   ]
  },
  {
   "cell_type": "code",
   "execution_count": 11,
   "id": "cb9def5b",
   "metadata": {},
   "outputs": [],
   "source": [
    "# Pair plot\n",
    "#sns.pairplot(df_data)"
   ]
  },
  {
   "cell_type": "markdown",
   "id": "462db3c0",
   "metadata": {},
   "source": [
    "## Memory usage versus protein shell size\n",
    "The screening of the memory usage as a function of the protein shell size indicated a power law relationship (linear trend when plotting variables in a log-log plot).\n",
    "\n",
    "Below we first calculate the linear regression model in the log-log space and then plot the data and the model."
   ]
  },
  {
   "cell_type": "code",
   "execution_count": 12,
   "id": "86aa7893",
   "metadata": {},
   "outputs": [
    {
     "name": "stdout",
     "output_type": "stream",
     "text": [
      "Index(['2e0z', '2ft1', '3j40', '3j4u', '3j7v', '3j7w', '5l35', '5uu5', '5vf3',\n",
      "       '6b23', '6c21', '6i9e', '6iat', '6j3q', '6nj8', '6xgq', '7dn2', '7eel',\n",
      "       '7f2p', '7f38', '7kmx', '7kq5', '7s20', '7s21', 'EMD-21123'],\n",
      "      dtype='object', name='PDB')\n",
      "            Residues     Memory_MB\n",
      "count      25.000000     25.000000\n",
      "mean   167748.000000  23977.011446\n",
      "std     98761.409467  21332.063590\n",
      "min     15900.000000    796.917760\n",
      "25%    104760.000000   8074.035200\n",
      "50%    180600.000000  20579.352576\n",
      "75%    212100.000000  40160.460800\n",
      "max    406860.000000  88080.384000\n"
     ]
    }
   ],
   "source": [
    "# Describe the number of residues and memory usage for the capsids were memory usage was obtained:\n",
    "print(df_data[df_data['Memory_MB'].notna()].index)\n",
    "print(df_data.loc[df_data[df_data['Memory_MB'].notna()].index,['Residues','Memory_MB']].describe())"
   ]
  },
  {
   "cell_type": "code",
   "execution_count": 13,
   "id": "db1232dd",
   "metadata": {},
   "outputs": [],
   "source": [
    "# Exploratory plots"
   ]
  },
  {
   "cell_type": "code",
   "execution_count": 14,
   "id": "cc8e8600",
   "metadata": {},
   "outputs": [
    {
     "data": {
      "text/plain": [
       "Text(0, 0.5, 'Memory usage (MB)')"
      ]
     },
     "execution_count": 14,
     "metadata": {},
     "output_type": "execute_result"
    },
    {
     "data": {
      "image/png": "[encoded data removed]",
      "text/plain": [
       "<Figure size 432x288 with 1 Axes>"
      ]
     },
     "metadata": {
      "needs_background": "light"
     },
     "output_type": "display_data"
    }
   ],
   "source": [
    "## Scatter in normal space\n",
    "sns.scatterplot(data = df_data, x = 'Residues', y = 'Memory_MB')\n",
    "plt.title('Memory performance')\n",
    "plt.xlabel('Number of residues')\n",
    "plt.ylabel('Memory usage (MB)')"
   ]
  },
  {
   "cell_type": "code",
   "execution_count": 15,
   "id": "a3f9e2d8",
   "metadata": {},
   "outputs": [
    {
     "data": {
      "image/png": "[encoded data removed]",
      "text/plain": [
       "<Figure size 432x288 with 1 Axes>"
      ]
     },
     "metadata": {
      "needs_background": "light"
     },
     "output_type": "display_data"
    }
   ],
   "source": [
    "## Scatter plot in log-y space\n",
    "sns.scatterplot(data = df_data, x = 'Residues', y = 'Memory_MB')\n",
    "plt.title('Memory performance')\n",
    "plt.xlabel('Number of residues')\n",
    "plt.ylabel('Memory usage (MB)')\n",
    "plt.yscale('log')"
   ]
  },
  {
   "cell_type": "code",
   "execution_count": 16,
   "id": "c3130528",
   "metadata": {},
   "outputs": [
    {
     "data": {
      "image/png": "[encoded data removed]",
      "text/plain": [
       "<Figure size 432x288 with 1 Axes>"
      ]
     },
     "metadata": {
      "needs_background": "light"
     },
     "output_type": "display_data"
    }
   ],
   "source": [
    "## Scatter plot in log-log space\n",
    "sns.scatterplot(data = df_data, x = 'Residues', y = 'Memory_MB')\n",
    "plt.title('Memory performance')\n",
    "plt.xlabel('Number of residues')\n",
    "plt.ylabel('Memory usage (MB)')\n",
    "plt.yscale('log')\n",
    "plt.xscale('log')"
   ]
  },
  {
   "cell_type": "code",
   "execution_count": 17,
   "id": "09c47ea2",
   "metadata": {},
   "outputs": [],
   "source": [
    "# Statistical model for Memory versus residues"
   ]
  },
  {
   "cell_type": "code",
   "execution_count": 18,
   "id": "7e423891",
   "metadata": {},
   "outputs": [
    {
     "name": "stdout",
     "output_type": "stream",
     "text": [
      "Index(['5zap'], dtype='object', name='PDB')\n"
     ]
    }
   ],
   "source": [
    "## Check if the Memory value is missing for any of the entries\n",
    "ID_no_memory = df_data[df_data['Memory_MB'].isnull()].index\n",
    "print(ID_no_memory)"
   ]
  },
  {
   "cell_type": "code",
   "execution_count": 19,
   "id": "7f403252",
   "metadata": {},
   "outputs": [
    {
     "data": {
      "text/plain": [
       "25"
      ]
     },
     "execution_count": 19,
     "metadata": {},
     "output_type": "execute_result"
    }
   ],
   "source": [
    "## Generate data frame excluding rows missing Memory estimate\n",
    "df_data_memory_curated = df_data.drop(ID_no_memory)\n",
    "len(df_data_memory_curated) # Number of valid data points"
   ]
  },
  {
   "cell_type": "code",
   "execution_count": 20,
   "id": "08e91123",
   "metadata": {},
   "outputs": [
    {
     "name": "stdout",
     "output_type": "stream",
     "text": [
      "LinregressResult(slope=1.458408919713472, intercept=-3.3126284496332934, rvalue=0.983089144257847, pvalue=1.8471543694987473e-18, stderr=0.056646933424839084, intercept_stderr=0.29049321453557075)\n"
     ]
    }
   ],
   "source": [
    "## Analyze regression \n",
    "data = df_data_memory_curated\n",
    "xcol = 'Residues'\n",
    "ycol = 'Memory_MB'\n",
    "x = np.log10(data[xcol])\n",
    "y = np.log10(data[ycol])\n",
    "#slope, intercept, r_value, p_value, std_err = stats.linregress(x,y)\n",
    "model = stats.linregress(x,y)\n",
    "print(model)"
   ]
  },
  {
   "cell_type": "code",
   "execution_count": 21,
   "id": "7574654f",
   "metadata": {},
   "outputs": [
    {
     "name": "stdout",
     "output_type": "stream",
     "text": [
      "0.9664642655576259\n"
     ]
    }
   ],
   "source": [
    "# R^2 coefficient\n",
    "print(model.rvalue**2)"
   ]
  },
  {
   "cell_type": "code",
   "execution_count": 22,
   "id": "c7747e4d",
   "metadata": {},
   "outputs": [],
   "source": [
    "### Generate points to represent the regression in normal space\n",
    "slope = model.slope\n",
    "intercept = model.intercept\n",
    "x_min = data[xcol].min()\n",
    "x_max = data[xcol].max()\n",
    "logx = np.linspace(np.log10(x_min),np.log10(x_max),10)\n",
    "logy = slope*logx + intercept\n",
    "x_model = 10**logx\n",
    "y_model = 10**logy"
   ]
  },
  {
   "cell_type": "code",
   "execution_count": 23,
   "id": "c8f8d4a8",
   "metadata": {},
   "outputs": [
    {
     "data": {
      "text/plain": [
       "[<matplotlib.lines.Line2D at 0x7fb49465e940>]"
      ]
     },
     "execution_count": 23,
     "metadata": {},
     "output_type": "execute_result"
    },
    {
     "data": {
      "image/png": "[encoded data removed]",
      "text/plain": [
       "<Figure size 432x288 with 1 Axes>"
      ]
     },
     "metadata": {
      "needs_background": "light"
     },
     "output_type": "display_data"
    }
   ],
   "source": [
    "## Plot memory versus number of residues after analysis\n",
    "sns.scatterplot(data = df_data, x = 'Residues', y = 'Memory_MB')\n",
    "plt.title('Memory performance')\n",
    "plt.xlabel('Number of residues')\n",
    "plt.ylabel('Memory usage (MB)')\n",
    "plt.yscale('log')\n",
    "plt.xscale('log')\n",
    "plt.xlim(1E4,1E6)\n",
    "plt.ylim(5E2,2E5)\n",
    "plt.plot(x_model,y_model,'k', alpha =0.5)"
   ]
  },
  {
   "cell_type": "markdown",
   "id": "3debef8f",
   "metadata": {},
   "source": [
    "## Runtime versus number of residues"
   ]
  },
  {
   "cell_type": "markdown",
   "id": "e19413d4",
   "metadata": {},
   "source": [
    "### General check of runtime data"
   ]
  },
  {
   "cell_type": "code",
   "execution_count": 24,
   "id": "da4d22d4",
   "metadata": {},
   "outputs": [
    {
     "name": "stdout",
     "output_type": "stream",
     "text": [
      "Index(['5zap'], dtype='object', name='PDB')\n"
     ]
    }
   ],
   "source": [
    "# Missing values\n",
    "ID_no_memory = df_data[df_data['Runtime'].isnull()].index\n",
    "print(ID_no_memory)"
   ]
  },
  {
   "cell_type": "code",
   "execution_count": 25,
   "id": "28510662",
   "metadata": {},
   "outputs": [],
   "source": [
    "# Remove missing values\n",
    "df_data_curated = df_data.drop(ID_no_memory)"
   ]
  },
  {
   "cell_type": "code",
   "execution_count": 26,
   "id": "cc857beb",
   "metadata": {},
   "outputs": [
    {
     "data": {
      "text/plain": [
       "count        25.000000\n",
       "mean      26553.880000\n",
       "std       29674.202517\n",
       "min         120.000000\n",
       "25%        4343.000000\n",
       "50%       20304.000000\n",
       "75%       32662.000000\n",
       "max      128000.000000\n",
       "Name: Runtime, dtype: float64"
      ]
     },
     "execution_count": 26,
     "metadata": {},
     "output_type": "execute_result"
    }
   ],
   "source": [
    "# Description of Runtime\n",
    "df_data_curated['Runtime'].describe()"
   ]
  },
  {
   "cell_type": "code",
   "execution_count": 27,
   "id": "d890e868",
   "metadata": {},
   "outputs": [
    {
     "data": {
      "text/plain": [
       "count    25.000000\n",
       "mean      7.376078\n",
       "std       8.242834\n",
       "min       0.033333\n",
       "25%       1.206389\n",
       "50%       5.640000\n",
       "75%       9.072778\n",
       "max      35.555556\n",
       "Name: Runtime, dtype: float64"
      ]
     },
     "execution_count": 27,
     "metadata": {},
     "output_type": "execute_result"
    }
   ],
   "source": [
    "# Description in hours\n",
    "df_data_curated['Runtime'].apply(lambda x:x/(60*60)).describe()"
   ]
  },
  {
   "cell_type": "markdown",
   "id": "71699f92",
   "metadata": {},
   "source": [
    "### Exploratory plots"
   ]
  },
  {
   "cell_type": "code",
   "execution_count": 28,
   "id": "de5ccbfc",
   "metadata": {},
   "outputs": [
    {
     "data": {
      "text/plain": [
       "Text(0, 0.5, 'Runtime (sec)')"
      ]
     },
     "execution_count": 28,
     "metadata": {},
     "output_type": "execute_result"
    },
    {
     "data": {
      "image/png": "[encoded data removed]",
      "text/plain": [
       "<Figure size 432x288 with 1 Axes>"
      ]
     },
     "metadata": {
      "needs_background": "light"
     },
     "output_type": "display_data"
    }
   ],
   "source": [
    "# Scatter plot\n",
    "sns.scatterplot(data = df_data_curated, x = 'Residues', y = 'Runtime')\n",
    "plt.title('Computational time')\n",
    "plt.xlabel('Number of residues')\n",
    "plt.ylabel('Runtime (sec)')"
   ]
  },
  {
   "cell_type": "markdown",
   "id": "66ddec37",
   "metadata": {},
   "source": [
    "**Assessment**\n",
    "+ Runtime seems to increase with a power law or exponential.\n",
    "+ A scaling analyis is most likely to lead to a power law.\n",
    "+ However, let's check first the exponential case by plotting the data in the log-y versus x space."
   ]
  },
  {
   "cell_type": "code",
   "execution_count": 29,
   "id": "363ca3bf",
   "metadata": {},
   "outputs": [
    {
     "data": {
      "image/png": "[encoded data removed]",
      "text/plain": [
       "<Figure size 432x288 with 1 Axes>"
      ]
     },
     "metadata": {
      "needs_background": "light"
     },
     "output_type": "display_data"
    }
   ],
   "source": [
    "# Scatter plot (log-y versus x)\n",
    "sns.scatterplot(data = df_data_curated, x = 'Residues', y = 'Runtime')\n",
    "plt.title('Computational time')\n",
    "plt.xlabel('Number of residues')\n",
    "plt.ylabel('Runtime (sec)')\n",
    "plt.yscale('log')"
   ]
  },
  {
   "cell_type": "markdown",
   "id": "c4edec84",
   "metadata": {},
   "source": [
    "** Assessment:**\n",
    "+ The data tends to flatten. This indicates a non-exponential trend in the original data."
   ]
  },
  {
   "cell_type": "code",
   "execution_count": 30,
   "id": "ef0d99af",
   "metadata": {},
   "outputs": [
    {
     "data": {
      "image/png": "[encoded data removed]",
      "text/plain": [
       "<Figure size 432x288 with 1 Axes>"
      ]
     },
     "metadata": {
      "needs_background": "light"
     },
     "output_type": "display_data"
    }
   ],
   "source": [
    "# Scatter plot (log-y versus log-x)\n",
    "sns.scatterplot(data = df_data_curated, x = 'Residues', y = 'Runtime')\n",
    "plt.title('Computational time')\n",
    "plt.xlabel('Number of residues')\n",
    "plt.ylabel('Runtime (sec)')\n",
    "plt.yscale('log')\n",
    "plt.xscale('log')"
   ]
  },
  {
   "cell_type": "markdown",
   "id": "aa5ea4f6",
   "metadata": {},
   "source": [
    "**Assessment:**\n",
    "+ The data displays an approximated linear trend in the log-log space.\n",
    "+ This implies that the runtime follows a **power law**, which increases as the number of residues is larger.\n",
    "+ A linear regerssion in the log-log space will yield the parameters."
   ]
  },
  {
   "cell_type": "markdown",
   "id": "c23fdabd",
   "metadata": {},
   "source": [
    "### Statistical analysis"
   ]
  },
  {
   "cell_type": "code",
   "execution_count": 31,
   "id": "b3c6c21a",
   "metadata": {},
   "outputs": [
    {
     "name": "stdout",
     "output_type": "stream",
     "text": [
      "LinregressResult(slope=2.196376620323567, intercept=-7.223094573131158, rvalue=0.9764397000337123, pvalue=8.102281685746777e-17, stderr=0.10121145253708014, intercept_stderr=0.5190261575998856)\n"
     ]
    }
   ],
   "source": [
    "# Linear regression \n",
    "data = df_data_curated\n",
    "xcol = 'Residues'\n",
    "ycol = 'Runtime'\n",
    "x = np.log10(data[xcol])\n",
    "y = np.log10(data[ycol])\n",
    "model = stats.linregress(x,y)\n",
    "print(model)"
   ]
  },
  {
   "cell_type": "code",
   "execution_count": 32,
   "id": "12ad9596",
   "metadata": {},
   "outputs": [
    {
     "data": {
      "text/plain": [
       "0.953434487801926"
      ]
     },
     "execution_count": 32,
     "metadata": {},
     "output_type": "execute_result"
    }
   ],
   "source": [
    "# R^2\n",
    "(model.rvalue)**2"
   ]
  },
  {
   "cell_type": "code",
   "execution_count": 33,
   "id": "8ac8a524",
   "metadata": {},
   "outputs": [],
   "source": [
    "# Generate points to represent the regression in normal space\n",
    "slope = model.slope\n",
    "intercept = model.intercept\n",
    "x_min = data[xcol].min()\n",
    "x_max = data[xcol].max()\n",
    "logx = np.linspace(np.log10(x_min),np.log10(x_max),10)\n",
    "logy = slope*logx + intercept\n",
    "x_model = 10**logx\n",
    "y_model = 10**logy"
   ]
  },
  {
   "cell_type": "code",
   "execution_count": 34,
   "id": "8a376472",
   "metadata": {},
   "outputs": [
    {
     "data": {
      "text/plain": [
       "[<matplotlib.lines.Line2D at 0x7fb495005490>]"
      ]
     },
     "execution_count": 34,
     "metadata": {},
     "output_type": "execute_result"
    },
    {
     "data": {
      "image/png": "[encoded data removed]",
      "text/plain": [
       "<Figure size 432x288 with 1 Axes>"
      ]
     },
     "metadata": {
      "needs_background": "light"
     },
     "output_type": "display_data"
    }
   ],
   "source": [
    "# Log-log scatter plot including the linear regression\n",
    "sns.scatterplot(data = df_data_curated, x = 'Residues', y = 'Runtime')\n",
    "plt.title('Computational time')\n",
    "plt.xlabel('Number of residues')\n",
    "plt.ylabel('Runtime (sec)')\n",
    "plt.yscale('log')\n",
    "plt.xscale('log')\n",
    "plt.plot(x_model,y_model,'k', alpha =0.5)"
   ]
  },
  {
   "cell_type": "markdown",
   "id": "d57f8430",
   "metadata": {},
   "source": [
    "## Accuracy analysis\n",
    "Each generated coarse-grained model simulation was compared with the experimental model. More specifically, the thermal fluctuations (captured by the B-factors) were compared using the correlation coefficient as a metric. Here we analyze how the correlation coefficient changed as a function of the protein shell size and the resolution of the experimental data. We focus on the results from the unified elastic network model (uENM), which is the default in pyCapsid."
   ]
  },
  {
   "cell_type": "code",
   "execution_count": 35,
   "id": "6b36c675",
   "metadata": {},
   "outputs": [
    {
     "data": {
      "text/plain": [
       "count    26.000000\n",
       "mean      0.517000\n",
       "std       0.211278\n",
       "min       0.100000\n",
       "25%       0.360000\n",
       "50%       0.468000\n",
       "75%       0.673000\n",
       "max       0.875000\n",
       "Name: CC_uENM, dtype: float64"
      ]
     },
     "execution_count": 35,
     "metadata": {},
     "output_type": "execute_result"
    }
   ],
   "source": [
    "# Correlation coefficient (CC) overall description\n",
    "df_data['CC_uENM'].describe()"
   ]
  },
  {
   "cell_type": "markdown",
   "id": "f2a066a7",
   "metadata": {},
   "source": [
    "### Impact of capsid size"
   ]
  },
  {
   "cell_type": "code",
   "execution_count": 36,
   "id": "7d2ddb4d",
   "metadata": {},
   "outputs": [
    {
     "data": {
      "text/plain": [
       "(0.0, 1.0)"
      ]
     },
     "execution_count": 36,
     "metadata": {},
     "output_type": "execute_result"
    },
    {
     "data": {
      "image/png": "[encoded data removed]",
      "text/plain": [
       "<Figure size 432x288 with 1 Axes>"
      ]
     },
     "metadata": {
      "needs_background": "light"
     },
     "output_type": "display_data"
    }
   ],
   "source": [
    "# Plot CC versus number of residues\n",
    "sns.scatterplot(data = df_data, x = 'Residues', y = 'CC_uENM')\n",
    "plt.title('Impact of capsid size on accuracy')\n",
    "plt.xlabel('Number of residues')\n",
    "plt.ylabel('Correlation coefficient, CC')\n",
    "plt.xscale('log')\n",
    "plt.xlim(1E4,5E6)\n",
    "plt.ylim(0,1)"
   ]
  },
  {
   "cell_type": "markdown",
   "id": "bde5c79f",
   "metadata": {},
   "source": [
    "**Evaluation:**\n",
    "+ The correlation coefficients seem to be quite scattered across number of residues.\n",
    "+ If any correlation, it looks like it might be slightly negative, that is, lower CC values for larger capsids.\n",
    "+ We will analyze the correlation between CC and number of residues to quantify if they are not correlated."
   ]
  },
  {
   "cell_type": "code",
   "execution_count": 37,
   "id": "c2341ff2",
   "metadata": {},
   "outputs": [
    {
     "name": "stdout",
     "output_type": "stream",
     "text": [
      "SpearmanrResult(correlation=-0.08982037111235272, pvalue=0.6625792351169228)\n"
     ]
    }
   ],
   "source": [
    "# Spearman's correlation\n",
    "arr1 = np.array(df_data['Residues'])\n",
    "arr2 = np.array(df_data['CC_uENM'])\n",
    "result = stats.spearmanr(arr1,arr2)\n",
    "print(result)"
   ]
  },
  {
   "cell_type": "code",
   "execution_count": 38,
   "id": "ed4a8ea4",
   "metadata": {},
   "outputs": [
    {
     "name": "stdout",
     "output_type": "stream",
     "text": [
      "(-0.08377179853316177, 0.6841089196641801)\n"
     ]
    }
   ],
   "source": [
    "# Pearson's correlation\n",
    "result = stats.pearsonr(arr1,arr2)\n",
    "print(result)"
   ]
  },
  {
   "cell_type": "code",
   "execution_count": 39,
   "id": "02f38a0d",
   "metadata": {},
   "outputs": [
    {
     "name": "stdout",
     "output_type": "stream",
     "text": [
      "(-0.2591829388586489, 0.20105063233221238)\n"
     ]
    }
   ],
   "source": [
    "# Pearson's correlation using log-x (logarithm of the number of residues)\n",
    "result = stats.pearsonr(np.log10(arr1),arr2)\n",
    "print(result)"
   ]
  },
  {
   "cell_type": "markdown",
   "id": "5f93e887",
   "metadata": {},
   "source": [
    "**Evaluation:**\n",
    "+ The three tests performed indicate that there is no statistical correlation between CC and the number of residues.\n",
    "+ Thus, **capsid size does not impact the accuracy of pyCapsid**."
   ]
  },
  {
   "cell_type": "markdown",
   "id": "f0ae5abe",
   "metadata": {},
   "source": [
    "### Impact of the empirical resolution of the capsid reconstruction"
   ]
  },
  {
   "cell_type": "code",
   "execution_count": 40,
   "id": "b0499d67",
   "metadata": {},
   "outputs": [
    {
     "data": {
      "text/plain": [
       "count    26.000000\n",
       "mean      3.470000\n",
       "std       0.657565\n",
       "min       2.000000\n",
       "25%       3.215000\n",
       "50%       3.400000\n",
       "75%       3.785000\n",
       "max       5.200000\n",
       "Name: Resolution, dtype: float64"
      ]
     },
     "execution_count": 40,
     "metadata": {},
     "output_type": "execute_result"
    }
   ],
   "source": [
    "# Overal description of the capsid resolutions\n",
    "df_data['Resolution'].describe()"
   ]
  },
  {
   "cell_type": "code",
   "execution_count": 41,
   "id": "cad38c4b",
   "metadata": {},
   "outputs": [
    {
     "data": {
      "text/plain": [
       "(0.0, 1.0)"
      ]
     },
     "execution_count": 41,
     "metadata": {},
     "output_type": "execute_result"
    },
    {
     "data": {
      "image/png": "[encoded data removed]",
      "text/plain": [
       "<Figure size 432x288 with 1 Axes>"
      ]
     },
     "metadata": {
      "needs_background": "light"
     },
     "output_type": "display_data"
    }
   ],
   "source": [
    "# Plot CC versus capsid resolution\n",
    "fig = sns.scatterplot(data = df_data, x = 'Resolution', y = 'CC_uENM')\n",
    "plt.title('Impact of capsid resolution on accuracy')\n",
    "plt.xlabel('Resolution (Å)')\n",
    "plt.ylabel('Correlation coefficient, CC')\n",
    "plt.xlim(1,6)\n",
    "plt.ylim(0,1)"
   ]
  },
  {
   "cell_type": "markdown",
   "id": "d8d1a6ce",
   "metadata": {},
   "source": [
    "**Evaluation:**\n",
    "+ There seems to be a pronounced trend where CC decreases as the resolution worsens (larger values).\n",
    "+ Let's quantify it with a linear regression analysis."
   ]
  },
  {
   "cell_type": "code",
   "execution_count": 42,
   "id": "3f8e73f5",
   "metadata": {},
   "outputs": [
    {
     "name": "stdout",
     "output_type": "stream",
     "text": [
      "LinregressResult(slope=-0.2041610390571519, intercept=1.225438805528317, rvalue=-0.6354160214639316, pvalue=0.00048675913104730313, stderr=0.05064330025534407, intercept_stderr=0.17874044367810663)\n"
     ]
    }
   ],
   "source": [
    "# Linear regression\n",
    "x = df_data['Resolution']\n",
    "y = df_data['CC_uENM']\n",
    "model = stats.linregress(x,y)\n",
    "print(model)"
   ]
  },
  {
   "cell_type": "code",
   "execution_count": 43,
   "id": "8b7a5d02",
   "metadata": {},
   "outputs": [
    {
     "name": "stdout",
     "output_type": "stream",
     "text": [
      "0.4037535203330516\n"
     ]
    }
   ],
   "source": [
    "# Coefficient of determination (R^2)\n",
    "R2 = model.rvalue**2\n",
    "print(R2)"
   ]
  },
  {
   "cell_type": "code",
   "execution_count": 44,
   "id": "938a82d5",
   "metadata": {},
   "outputs": [
    {
     "data": {
      "text/plain": [
       "(0.0, 1.0)"
      ]
     },
     "execution_count": 44,
     "metadata": {},
     "output_type": "execute_result"
    },
    {
     "data": {
      "image/png": "[encoded data removed]",
      "text/plain": [
       "<Figure size 432x288 with 1 Axes>"
      ]
     },
     "metadata": {
      "needs_background": "light"
     },
     "output_type": "display_data"
    }
   ],
   "source": [
    "# Plot data including linear regression\n",
    "sns.regplot(data = df_data, x = x, y = y)\n",
    "plt.title('Impact of capsid resolution on accuracy')\n",
    "plt.xlabel('Resolution (Å)')\n",
    "plt.ylabel('Correlation coefficient, CC')\n",
    "plt.xlim(1,6)\n",
    "plt.ylim(0,1)"
   ]
  },
  {
   "cell_type": "markdown",
   "id": "be9c572f",
   "metadata": {},
   "source": [
    "**Evaluation:**\n",
    "+ There is a **strong negative correlation between the correlation coefficients as the resolution worsens**.\n",
    "+ The slope is -0.20±0.05 1/Å (p-value = 0.0005 and R^2 = 0.40).\n",
    "+ The intercept is 1.22±0.18, that is, **at perfect resolution (0 Å), one would expect pyCapsid to give B-factors perfectly consistent with the empirical results**."
   ]
  },
  {
   "cell_type": "markdown",
   "id": "477bda60",
   "metadata": {},
   "source": [
    "## Benchmark with ProDy"
   ]
  },
  {
   "cell_type": "markdown",
   "id": "72dc28c3",
   "metadata": {},
   "source": [
    "+ To assees the improvement in the analysis of protein shells, we compared the runtime of pyCapsid with the gold standard in the field, ProDy.\n",
    "+ Given the limitations of ProDy in handling protei shells with multiple chains, the results focus on relatively small capsids."
   ]
  },
  {
   "cell_type": "markdown",
   "id": "255cb77d",
   "metadata": {},
   "source": [
    "### Runtime comparison"
   ]
  },
  {
   "cell_type": "code",
   "execution_count": 45,
   "id": "b5cfbdab",
   "metadata": {},
   "outputs": [
    {
     "name": "stdout",
     "output_type": "stream",
     "text": [
      "Index(['2e0z', '3j40', '3j7w', '5uu5', '6b23', '6iat', '6nj8', '7kq5', '7s20',\n",
      "       '7s21'],\n",
      "      dtype='object', name='PDB')\n",
      "10\n"
     ]
    }
   ],
   "source": [
    "# Capsids used in the runtime benchmarking\n",
    "df_data_bench_run = df_data[df_data['pyCap_runtime'].notna()]\n",
    "#df_data_bench_run\n",
    "print(df_data_bench_run.index)\n",
    "print(len(df_data_bench_run))"
   ]
  },
  {
   "cell_type": "code",
   "execution_count": 46,
   "id": "cff08843",
   "metadata": {},
   "outputs": [
    {
     "data": {
      "image/png": "[encoded data removed]",
      "text/plain": [
       "<Figure size 432x288 with 1 Axes>"
      ]
     },
     "metadata": {
      "needs_background": "light"
     },
     "output_type": "display_data"
    }
   ],
   "source": [
    "# Plot benchmarking as a function of the number of residues\n",
    "sns.scatterplot(data = df_data_bench_run, x = 'Residues', y ='pyCap_runtime')\n",
    "plt.scatter(x = df_data_bench_run['Residues'], y = df_data_bench_run['ProDy_runtime'])\n",
    "plt.title('Benchmarking for runtime')\n",
    "plt.xlabel('Number of residues')\n",
    "plt.ylabel('Runtime (sec)')\n",
    "plt.legend(['pyCapsid','ProDy'])\n",
    "plt.yscale('log')\n",
    "plt.xscale('log')\n",
    "#plt.xlim(10000,80000)\n",
    "#plt.ylim(-100,4000)"
   ]
  },
  {
   "cell_type": "markdown",
   "id": "231f63ae",
   "metadata": {},
   "source": [
    "**Assessment:**\n",
    "+ The ProDy's runtime is systematically larger (slower) than pyCapsid's runtime.\n",
    "+ The runtime increases similarly for both as a function of the number of residues.\n",
    "+ Analyze below the the ratio of runtime improvement for pyCapsid."
   ]
  },
  {
   "cell_type": "code",
   "execution_count": 47,
   "id": "ad1f771a",
   "metadata": {},
   "outputs": [
    {
     "name": "stderr",
     "output_type": "stream",
     "text": [
      "/var/folders/zj/kj2j_txx7lg33sf1jkzpp97c0000gs/T/ipykernel_1807/193277864.py:3: SettingWithCopyWarning: \n",
      "A value is trying to be set on a copy of a slice from a DataFrame.\n",
      "Try using .loc[row_indexer,col_indexer] = value instead\n",
      "\n",
      "See the caveats in the documentation: https://pandas.pydata.org/pandas-docs/stable/user_guide/indexing.html#returning-a-view-versus-a-copy\n",
      "  df_data_bench_run['Runtime_improvement'] = df_data_bench_run.apply(lambda row: row['ProDy_runtime']/row['pyCap_runtime'], axis = 1)\n"
     ]
    }
   ],
   "source": [
    "# Obtain runtime improvement\n",
    "# Defined as runtime_Prody/runtime_pyCapsid = how much slower is ProDy = how much faster is pyCapsid\n",
    "df_data_bench_run['Runtime_improvement'] = df_data_bench_run.apply(lambda row: row['ProDy_runtime']/row['pyCap_runtime'], axis = 1)"
   ]
  },
  {
   "cell_type": "code",
   "execution_count": 48,
   "id": "e29d58f9",
   "metadata": {},
   "outputs": [],
   "source": [
    "#df_data_bench_run"
   ]
  },
  {
   "cell_type": "code",
   "execution_count": 49,
   "id": "066a1427",
   "metadata": {},
   "outputs": [
    {
     "data": {
      "text/html": [
       "<div>\n",
       "<style scoped>\n",
       "    .dataframe tbody tr th:only-of-type {\n",
       "        vertical-align: middle;\n",
       "    }\n",
       "\n",
       "    .dataframe tbody tr th {\n",
       "        vertical-align: top;\n",
       "    }\n",
       "\n",
       "    .dataframe thead th {\n",
       "        text-align: right;\n",
       "    }\n",
       "</style>\n",
       "<table border=\"1\" class=\"dataframe\">\n",
       "  <thead>\n",
       "    <tr style=\"text-align: right;\">\n",
       "      <th></th>\n",
       "      <th>pyCap_runtime</th>\n",
       "      <th>ProDy_runtime</th>\n",
       "      <th>Runtime_improvement</th>\n",
       "    </tr>\n",
       "    <tr>\n",
       "      <th>PDB</th>\n",
       "      <th></th>\n",
       "      <th></th>\n",
       "      <th></th>\n",
       "    </tr>\n",
       "  </thead>\n",
       "  <tbody>\n",
       "    <tr>\n",
       "      <th>2e0z</th>\n",
       "      <td>182.0</td>\n",
       "      <td>904.0</td>\n",
       "      <td>4.967033</td>\n",
       "    </tr>\n",
       "    <tr>\n",
       "      <th>3j40</th>\n",
       "      <td>3940.0</td>\n",
       "      <td>8920.0</td>\n",
       "      <td>2.263959</td>\n",
       "    </tr>\n",
       "    <tr>\n",
       "      <th>3j7w</th>\n",
       "      <td>1395.0</td>\n",
       "      <td>5690.0</td>\n",
       "      <td>4.078853</td>\n",
       "    </tr>\n",
       "    <tr>\n",
       "      <th>5uu5</th>\n",
       "      <td>3776.0</td>\n",
       "      <td>7874.0</td>\n",
       "      <td>2.085275</td>\n",
       "    </tr>\n",
       "    <tr>\n",
       "      <th>6b23</th>\n",
       "      <td>625.0</td>\n",
       "      <td>3639.0</td>\n",
       "      <td>5.822400</td>\n",
       "    </tr>\n",
       "    <tr>\n",
       "      <th>6iat</th>\n",
       "      <td>2098.0</td>\n",
       "      <td>3216.0</td>\n",
       "      <td>1.532888</td>\n",
       "    </tr>\n",
       "    <tr>\n",
       "      <th>6nj8</th>\n",
       "      <td>624.0</td>\n",
       "      <td>1712.0</td>\n",
       "      <td>2.743590</td>\n",
       "    </tr>\n",
       "    <tr>\n",
       "      <th>7kq5</th>\n",
       "      <td>109.0</td>\n",
       "      <td>231.0</td>\n",
       "      <td>2.119266</td>\n",
       "    </tr>\n",
       "    <tr>\n",
       "      <th>7s20</th>\n",
       "      <td>610.0</td>\n",
       "      <td>1230.0</td>\n",
       "      <td>2.016393</td>\n",
       "    </tr>\n",
       "    <tr>\n",
       "      <th>7s21</th>\n",
       "      <td>106.0</td>\n",
       "      <td>206.0</td>\n",
       "      <td>1.943396</td>\n",
       "    </tr>\n",
       "  </tbody>\n",
       "</table>\n",
       "</div>"
      ],
      "text/plain": [
       "      pyCap_runtime  ProDy_runtime  Runtime_improvement\n",
       "PDB                                                    \n",
       "2e0z          182.0          904.0             4.967033\n",
       "3j40         3940.0         8920.0             2.263959\n",
       "3j7w         1395.0         5690.0             4.078853\n",
       "5uu5         3776.0         7874.0             2.085275\n",
       "6b23          625.0         3639.0             5.822400\n",
       "6iat         2098.0         3216.0             1.532888\n",
       "6nj8          624.0         1712.0             2.743590\n",
       "7kq5          109.0          231.0             2.119266\n",
       "7s20          610.0         1230.0             2.016393\n",
       "7s21          106.0          206.0             1.943396"
      ]
     },
     "execution_count": 49,
     "metadata": {},
     "output_type": "execute_result"
    }
   ],
   "source": [
    "df_data_bench_run[['pyCap_runtime','ProDy_runtime','Runtime_improvement']]"
   ]
  },
  {
   "cell_type": "code",
   "execution_count": 50,
   "id": "6bca1303",
   "metadata": {},
   "outputs": [
    {
     "data": {
      "text/plain": [
       "<AxesSubplot:xlabel='Residues', ylabel='Runtime_improvement'>"
      ]
     },
     "execution_count": 50,
     "metadata": {},
     "output_type": "execute_result"
    },
    {
     "data": {
      "image/png": "[encoded data removed]",
      "text/plain": [
       "<Figure size 432x288 with 1 Axes>"
      ]
     },
     "metadata": {
      "needs_background": "light"
     },
     "output_type": "display_data"
    }
   ],
   "source": [
    "# Plot the runtime improvement based on residues\n",
    "sns.scatterplot(data = df_data_bench_run, x = 'Residues', y = 'Runtime_improvement')"
   ]
  },
  {
   "cell_type": "code",
   "execution_count": 51,
   "id": "2ab7134f",
   "metadata": {},
   "outputs": [
    {
     "name": "stdout",
     "output_type": "stream",
     "text": [
      "SpearmanrResult(correlation=0.10942299786241164, pvalue=0.7634826463741492)\n"
     ]
    }
   ],
   "source": [
    "# Estimate correlation (Spearman's coefficient)\n",
    "arr1 = np.array(df_data_bench_run['Residues'])\n",
    "arr2 = np.array(df_data_bench_run['Runtime_improvement'])\n",
    "result = stats.spearmanr(arr1,arr2)\n",
    "print(result)"
   ]
  },
  {
   "cell_type": "code",
   "execution_count": 52,
   "id": "54a1c3d2",
   "metadata": {},
   "outputs": [
    {
     "data": {
      "text/html": [
       "<div>\n",
       "<style scoped>\n",
       "    .dataframe tbody tr th:only-of-type {\n",
       "        vertical-align: middle;\n",
       "    }\n",
       "\n",
       "    .dataframe tbody tr th {\n",
       "        vertical-align: top;\n",
       "    }\n",
       "\n",
       "    .dataframe thead th {\n",
       "        text-align: right;\n",
       "    }\n",
       "</style>\n",
       "<table border=\"1\" class=\"dataframe\">\n",
       "  <thead>\n",
       "    <tr style=\"text-align: right;\">\n",
       "      <th></th>\n",
       "      <th>Residues</th>\n",
       "      <th>Runtime_improvement</th>\n",
       "    </tr>\n",
       "  </thead>\n",
       "  <tbody>\n",
       "    <tr>\n",
       "      <th>count</th>\n",
       "      <td>10.000000</td>\n",
       "      <td>10.000000</td>\n",
       "    </tr>\n",
       "    <tr>\n",
       "      <th>mean</th>\n",
       "      <td>88206.000000</td>\n",
       "      <td>2.957305</td>\n",
       "    </tr>\n",
       "    <tr>\n",
       "      <th>std</th>\n",
       "      <td>63629.668866</td>\n",
       "      <td>1.469584</td>\n",
       "    </tr>\n",
       "    <tr>\n",
       "      <th>min</th>\n",
       "      <td>15900.000000</td>\n",
       "      <td>1.532888</td>\n",
       "    </tr>\n",
       "    <tr>\n",
       "      <th>25%</th>\n",
       "      <td>43965.000000</td>\n",
       "      <td>2.033614</td>\n",
       "    </tr>\n",
       "    <tr>\n",
       "      <th>50%</th>\n",
       "      <td>70830.000000</td>\n",
       "      <td>2.191613</td>\n",
       "    </tr>\n",
       "    <tr>\n",
       "      <th>75%</th>\n",
       "      <td>134235.000000</td>\n",
       "      <td>3.745037</td>\n",
       "    </tr>\n",
       "    <tr>\n",
       "      <th>max</th>\n",
       "      <td>187320.000000</td>\n",
       "      <td>5.822400</td>\n",
       "    </tr>\n",
       "  </tbody>\n",
       "</table>\n",
       "</div>"
      ],
      "text/plain": [
       "            Residues  Runtime_improvement\n",
       "count      10.000000            10.000000\n",
       "mean    88206.000000             2.957305\n",
       "std     63629.668866             1.469584\n",
       "min     15900.000000             1.532888\n",
       "25%     43965.000000             2.033614\n",
       "50%     70830.000000             2.191613\n",
       "75%    134235.000000             3.745037\n",
       "max    187320.000000             5.822400"
      ]
     },
     "execution_count": 52,
     "metadata": {},
     "output_type": "execute_result"
    }
   ],
   "source": [
    "# Obtain statistical description for the runtime improvement\n",
    "df_data_bench_run[['Residues','Runtime_improvement']].describe()"
   ]
  },
  {
   "cell_type": "markdown",
   "id": "3836c12a",
   "metadata": {},
   "source": [
    "**Assessment:**\n",
    "+ The runtime improvement of pyCapsid compared to ProDy is independent of the capsid size (Spearman's correlation r = 0.11 with p-value = 0.76)\n",
    "+ The average runtime improvement is 3.0±1.5(std)\n",
    "+ 10 capsids were used for benchmarking runtime ranging from 16,000 residues to 190,000 residues."
   ]
  },
  {
   "cell_type": "markdown",
   "id": "07f12d7e",
   "metadata": {},
   "source": [
    "### Memory usage comparison"
   ]
  },
  {
   "cell_type": "code",
   "execution_count": 53,
   "id": "fa12c302",
   "metadata": {},
   "outputs": [
    {
     "name": "stdout",
     "output_type": "stream",
     "text": [
      "Index(['2e0z', '3j40', '3j7w', '5uu5', '6b23', '6iat'], dtype='object', name='PDB')\n",
      "6\n"
     ]
    }
   ],
   "source": [
    "# Capsids used in the runtime benchmarking\n",
    "df_data_bench_mem = df_data[df_data['pyCap_memory'].notna()]\n",
    "#df_data_bench_run\n",
    "print(df_data_bench_mem.index)\n",
    "print(len(df_data_bench_mem))"
   ]
  },
  {
   "cell_type": "code",
   "execution_count": 54,
   "id": "dc91849d",
   "metadata": {},
   "outputs": [
    {
     "data": {
      "image/png": "[encoded data removed]",
      "text/plain": [
       "<Figure size 432x288 with 1 Axes>"
      ]
     },
     "metadata": {
      "needs_background": "light"
     },
     "output_type": "display_data"
    }
   ],
   "source": [
    "# Plot benchmarking as a function of the number of residues\n",
    "sns.scatterplot(data = df_data_bench_mem, x = 'Residues', y ='pyCap_memory')\n",
    "plt.scatter(x = df_data_bench_mem['Residues'], y = df_data_bench_mem['ProDy_memory'])\n",
    "plt.title('Benchmarking for memory')\n",
    "plt.xlabel('Number of residues')\n",
    "plt.ylabel('Memory (MiB)')\n",
    "plt.legend(['pyCapsid','ProDy'])\n",
    "plt.yscale('log')\n",
    "plt.xscale('log')\n",
    "#plt.xlim(10000,80000)\n",
    "#plt.ylim(-100,4000)"
   ]
  },
  {
   "cell_type": "markdown",
   "id": "0575a31a",
   "metadata": {},
   "source": [
    "**Assessment:**\n",
    "+ ProDy seems to use systematically less memory than PyCapsid.\n",
    "+ However, the memory usage does not seem to be correlated with the capsid size."
   ]
  },
  {
   "cell_type": "code",
   "execution_count": 55,
   "id": "d5582d36",
   "metadata": {},
   "outputs": [
    {
     "name": "stderr",
     "output_type": "stream",
     "text": [
      "/var/folders/zj/kj2j_txx7lg33sf1jkzpp97c0000gs/T/ipykernel_1807/2324845906.py:3: SettingWithCopyWarning: \n",
      "A value is trying to be set on a copy of a slice from a DataFrame.\n",
      "Try using .loc[row_indexer,col_indexer] = value instead\n",
      "\n",
      "See the caveats in the documentation: https://pandas.pydata.org/pandas-docs/stable/user_guide/indexing.html#returning-a-view-versus-a-copy\n",
      "  df_data_bench_mem['Memory_ratio'] = df_data_bench_mem.apply(lambda row: row['ProDy_memory']/row['pyCap_memory'], axis = 1)\n"
     ]
    }
   ],
   "source": [
    "# Display memory usage ratio\n",
    "# Memory_Prody/Memory_pyCapsid\n",
    "df_data_bench_mem['Memory_ratio'] = df_data_bench_mem.apply(lambda row: row['ProDy_memory']/row['pyCap_memory'], axis = 1)"
   ]
  },
  {
   "cell_type": "code",
   "execution_count": 56,
   "id": "4c394637",
   "metadata": {},
   "outputs": [
    {
     "data": {
      "text/html": [
       "<div>\n",
       "<style scoped>\n",
       "    .dataframe tbody tr th:only-of-type {\n",
       "        vertical-align: middle;\n",
       "    }\n",
       "\n",
       "    .dataframe tbody tr th {\n",
       "        vertical-align: top;\n",
       "    }\n",
       "\n",
       "    .dataframe thead th {\n",
       "        text-align: right;\n",
       "    }\n",
       "</style>\n",
       "<table border=\"1\" class=\"dataframe\">\n",
       "  <thead>\n",
       "    <tr style=\"text-align: right;\">\n",
       "      <th></th>\n",
       "      <th>pyCap_memory</th>\n",
       "      <th>ProDy_memory</th>\n",
       "      <th>Memory_ratio</th>\n",
       "    </tr>\n",
       "    <tr>\n",
       "      <th>PDB</th>\n",
       "      <th></th>\n",
       "      <th></th>\n",
       "      <th></th>\n",
       "    </tr>\n",
       "  </thead>\n",
       "  <tbody>\n",
       "    <tr>\n",
       "      <th>2e0z</th>\n",
       "      <td>1340.0</td>\n",
       "      <td>640.0</td>\n",
       "      <td>0.477612</td>\n",
       "    </tr>\n",
       "    <tr>\n",
       "      <th>3j40</th>\n",
       "      <td>1300.0</td>\n",
       "      <td>740.0</td>\n",
       "      <td>0.569231</td>\n",
       "    </tr>\n",
       "    <tr>\n",
       "      <th>3j7w</th>\n",
       "      <td>2430.0</td>\n",
       "      <td>1270.0</td>\n",
       "      <td>0.522634</td>\n",
       "    </tr>\n",
       "    <tr>\n",
       "      <th>5uu5</th>\n",
       "      <td>5600.0</td>\n",
       "      <td>2200.0</td>\n",
       "      <td>0.392857</td>\n",
       "    </tr>\n",
       "    <tr>\n",
       "      <th>6b23</th>\n",
       "      <td>5830.0</td>\n",
       "      <td>5830.0</td>\n",
       "      <td>1.000000</td>\n",
       "    </tr>\n",
       "    <tr>\n",
       "      <th>6iat</th>\n",
       "      <td>13100.0</td>\n",
       "      <td>3160.0</td>\n",
       "      <td>0.241221</td>\n",
       "    </tr>\n",
       "  </tbody>\n",
       "</table>\n",
       "</div>"
      ],
      "text/plain": [
       "      pyCap_memory  ProDy_memory  Memory_ratio\n",
       "PDB                                           \n",
       "2e0z        1340.0         640.0      0.477612\n",
       "3j40        1300.0         740.0      0.569231\n",
       "3j7w        2430.0        1270.0      0.522634\n",
       "5uu5        5600.0        2200.0      0.392857\n",
       "6b23        5830.0        5830.0      1.000000\n",
       "6iat       13100.0        3160.0      0.241221"
      ]
     },
     "execution_count": 56,
     "metadata": {},
     "output_type": "execute_result"
    }
   ],
   "source": [
    "df_data_bench_mem[['pyCap_memory','ProDy_memory','Memory_ratio']]"
   ]
  },
  {
   "cell_type": "code",
   "execution_count": 57,
   "id": "e4881ecd",
   "metadata": {},
   "outputs": [
    {
     "data": {
      "text/plain": [
       "<AxesSubplot:xlabel='Residues', ylabel='Memory_ratio'>"
      ]
     },
     "execution_count": 57,
     "metadata": {},
     "output_type": "execute_result"
    },
    {
     "data": {
      "image/png": "[encoded data removed]",
      "text/plain": [
       "<Figure size 432x288 with 1 Axes>"
      ]
     },
     "metadata": {
      "needs_background": "light"
     },
     "output_type": "display_data"
    }
   ],
   "source": [
    "# Plot the memory improvement based on residues\n",
    "sns.scatterplot(data = df_data_bench_mem, x = 'Residues', y = 'Memory_ratio')"
   ]
  },
  {
   "cell_type": "code",
   "execution_count": 58,
   "id": "36213685",
   "metadata": {},
   "outputs": [
    {
     "name": "stdout",
     "output_type": "stream",
     "text": [
      "SpearmanrResult(correlation=0.028571428571428574, pvalue=0.9571545189504373)\n"
     ]
    }
   ],
   "source": [
    "# Estimate correlation (Spearman's coefficient)\n",
    "arr1 = np.array(df_data_bench_mem['Residues'])\n",
    "arr2 = np.array(df_data_bench_mem['Memory_ratio'])\n",
    "result = stats.spearmanr(arr1,arr2)\n",
    "print(result)"
   ]
  },
  {
   "cell_type": "code",
   "execution_count": 59,
   "id": "602f321f",
   "metadata": {},
   "outputs": [
    {
     "data": {
      "text/html": [
       "<div>\n",
       "<style scoped>\n",
       "    .dataframe tbody tr th:only-of-type {\n",
       "        vertical-align: middle;\n",
       "    }\n",
       "\n",
       "    .dataframe tbody tr th {\n",
       "        vertical-align: top;\n",
       "    }\n",
       "\n",
       "    .dataframe thead th {\n",
       "        text-align: right;\n",
       "    }\n",
       "</style>\n",
       "<table border=\"1\" class=\"dataframe\">\n",
       "  <thead>\n",
       "    <tr style=\"text-align: right;\">\n",
       "      <th></th>\n",
       "      <th>Residues</th>\n",
       "      <th>Memory_ratio</th>\n",
       "    </tr>\n",
       "  </thead>\n",
       "  <tbody>\n",
       "    <tr>\n",
       "      <th>count</th>\n",
       "      <td>6.000000</td>\n",
       "      <td>6.000000</td>\n",
       "    </tr>\n",
       "    <tr>\n",
       "      <th>mean</th>\n",
       "      <td>122110.000000</td>\n",
       "      <td>0.533926</td>\n",
       "    </tr>\n",
       "    <tr>\n",
       "      <th>std</th>\n",
       "      <td>58644.927146</td>\n",
       "      <td>0.255870</td>\n",
       "    </tr>\n",
       "    <tr>\n",
       "      <th>min</th>\n",
       "      <td>42000.000000</td>\n",
       "      <td>0.241221</td>\n",
       "    </tr>\n",
       "    <tr>\n",
       "      <th>25%</th>\n",
       "      <td>81630.000000</td>\n",
       "      <td>0.414046</td>\n",
       "    </tr>\n",
       "    <tr>\n",
       "      <th>50%</th>\n",
       "      <td>124410.000000</td>\n",
       "      <td>0.500123</td>\n",
       "    </tr>\n",
       "    <tr>\n",
       "      <th>75%</th>\n",
       "      <td>171465.000000</td>\n",
       "      <td>0.557582</td>\n",
       "    </tr>\n",
       "    <tr>\n",
       "      <th>max</th>\n",
       "      <td>187320.000000</td>\n",
       "      <td>1.000000</td>\n",
       "    </tr>\n",
       "  </tbody>\n",
       "</table>\n",
       "</div>"
      ],
      "text/plain": [
       "            Residues  Memory_ratio\n",
       "count       6.000000      6.000000\n",
       "mean   122110.000000      0.533926\n",
       "std     58644.927146      0.255870\n",
       "min     42000.000000      0.241221\n",
       "25%     81630.000000      0.414046\n",
       "50%    124410.000000      0.500123\n",
       "75%    171465.000000      0.557582\n",
       "max    187320.000000      1.000000"
      ]
     },
     "execution_count": 59,
     "metadata": {},
     "output_type": "execute_result"
    }
   ],
   "source": [
    "# Obtain statistical description for the Memory improvement\n",
    "df_data_bench_mem[['Residues','Memory_ratio']].describe()"
   ]
  },
  {
   "cell_type": "markdown",
   "id": "0e39467d",
   "metadata": {},
   "source": [
    "**Assessment:** \n",
    "+ pyCapsid uses more Memory than ProDy. ProDy memory peak is on average 50±30% smaller (about half).\n",
    "+ The memory ratio is independent on the capsid size (Spearman's correlation = 0.029 and p-value = 0.96)"
   ]
  },
  {
   "cell_type": "code",
   "execution_count": null,
   "id": "2287321c",
   "metadata": {},
   "outputs": [],
   "source": []
  }
 ],
 "metadata": {
  "kernelspec": {
   "display_name": "Python 3 (ipykernel)",
   "language": "python",
   "name": "python3"
  },
  "language_info": {
   "codemirror_mode": {
    "name": "ipython",
    "version": 3
   },
   "file_extension": ".py",
   "mimetype": "text/x-python",
   "name": "python",
   "nbconvert_exporter": "python",
   "pygments_lexer": "ipython3",
   "version": "3.9.7"
  }
 },
 "nbformat": 4,
 "nbformat_minor": 5
}
